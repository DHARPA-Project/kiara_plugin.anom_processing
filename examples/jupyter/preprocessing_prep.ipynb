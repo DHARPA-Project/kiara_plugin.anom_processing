{
 "cells": [
  {
   "cell_type": "code",
   "execution_count": 5,
   "metadata": {},
   "outputs": [],
   "source": [
    "from kiara import KiaraAPI, Kiara\n",
    "import networkx\n",
    "from networkx.readwrite import json_graph"
   ]
  },
  {
   "cell_type": "markdown",
   "metadata": {},
   "source": [
    "Process based on kiara version 0.4.21"
   ]
  },
  {
   "cell_type": "code",
   "execution_count": 6,
   "metadata": {},
   "outputs": [],
   "source": [
    "kiara = Kiara.instance()\n",
    "api = KiaraAPI(kiara=kiara)"
   ]
  },
  {
   "cell_type": "code",
   "execution_count": 7,
   "metadata": {},
   "outputs": [],
   "source": [
    "# convert kiara table to pandas for previewing\n",
    "def kiara_to_pandas(table_value):\n",
    "    table_obj = table_value.data\n",
    "    arrow_table = table_obj.arrow_table\n",
    "    df = arrow_table.to_pandas()\n",
    "    return df"
   ]
  },
  {
   "cell_type": "code",
   "execution_count": 8,
   "metadata": {},
   "outputs": [],
   "source": [
    "# save a value id in data registry with alias\n",
    "def store_data(value_id,alias):\n",
    "    try:\n",
    "        kiara.data_registry.store_value(value_id)\n",
    "        kiara.alias_registry.register_aliases(value_id, alias)\n",
    "        return f\"onboarding successful for {alias}\"\n",
    "    except Exception as e:\n",
    "        print(e)\n",
    "        return \"onboarding failed\""
   ]
  },
  {
   "cell_type": "markdown",
   "metadata": {},
   "source": [
    "### 1. CSV file onboarding"
   ]
  },
  {
   "cell_type": "code",
   "execution_count": 9,
   "metadata": {},
   "outputs": [
    {
     "name": "stdout",
     "output_type": "stream",
     "text": [
      "\n",
      "╭─ Operation: \u001b[1;3mimport.table.from.csv_file\u001b[0m ──────────────────────────────────────╮\n",
      "│                                                                              │\n",
      "│  \u001b[3m \u001b[0m\u001b[3mDocumentation\u001b[0m\u001b[3m \u001b[0m  Import a table from a csv file.                            │\n",
      "│                                                                              │\n",
      "│  \u001b[3m \u001b[0m\u001b[3mInputs       \u001b[0m\u001b[3m \u001b[0m                                                             │\n",
      "│  \u001b[3m               \u001b[0m   \u001b[1m \u001b[0m\u001b[1mfield    \u001b[0m\u001b[1m \u001b[0m \u001b[1m        \u001b[0m \u001b[1m          \u001b[0m \u001b[1m          \u001b[0m \u001b[1m           \u001b[0m    │\n",
      "│  \u001b[3m               \u001b[0m   \u001b[1m \u001b[0m\u001b[1mname     \u001b[0m\u001b[1m \u001b[0m \u001b[1m \u001b[0m\u001b[1mtype  \u001b[0m\u001b[1m \u001b[0m \u001b[1m \u001b[0m\u001b[1mdescrip…\u001b[0m\u001b[1m \u001b[0m \u001b[1m \u001b[0m\u001b[1mRequired\u001b[0m\u001b[1m \u001b[0m \u001b[1m \u001b[0m\u001b[1mDefault  \u001b[0m\u001b[1m \u001b[0m    │\n",
      "│  \u001b[3m               \u001b[0m   ──────────────────────────────────────────────────────    │\n",
      "│  \u001b[3m               \u001b[0m   \u001b[3m \u001b[0m\u001b[3mpath     \u001b[0m\u001b[3m \u001b[0m  string   The        \u001b[1myes\u001b[0m        -- no         │\n",
      "│  \u001b[3m               \u001b[0m   \u001b[3m           \u001b[0m           local                 default       │\n",
      "│  \u001b[3m               \u001b[0m   \u001b[3m           \u001b[0m           path to               --            │\n",
      "│  \u001b[3m               \u001b[0m   \u001b[3m           \u001b[0m           the                                 │\n",
      "│  \u001b[3m               \u001b[0m   \u001b[3m           \u001b[0m           file.                               │\n",
      "│  \u001b[3m               \u001b[0m                                                             │\n",
      "│                                                                              │\n",
      "│  \u001b[3m \u001b[0m\u001b[3mOutputs      \u001b[0m\u001b[3m \u001b[0m                                                             │\n",
      "│  \u001b[3m               \u001b[0m   \u001b[1m \u001b[0m\u001b[1mfield name   \u001b[0m\u001b[1m \u001b[0m \u001b[1m \u001b[0m\u001b[1mtype \u001b[0m\u001b[1m \u001b[0m \u001b[1m \u001b[0m\u001b[1mdescription                 \u001b[0m\u001b[1m \u001b[0m    │\n",
      "│  \u001b[3m               \u001b[0m   ──────────────────────────────────────────────────────    │\n",
      "│  \u001b[3m               \u001b[0m   \u001b[3m \u001b[0m\u001b[3mimported_file\u001b[0m\u001b[3m \u001b[0m  file    The loaded files.                │\n",
      "│  \u001b[3m               \u001b[0m   \u001b[3m \u001b[0m\u001b[3mtable        \u001b[0m\u001b[3m \u001b[0m  table   The result value.                │\n",
      "│  \u001b[3m               \u001b[0m                                                             │\n",
      "│                                                                              │\n",
      "╰──────────────────────────────────────────────────────────────────────────────╯\n"
     ]
    }
   ],
   "source": [
    "! kiara operation explain import.table.from.csv_file"
   ]
  },
  {
   "cell_type": "code",
   "execution_count": 10,
   "metadata": {},
   "outputs": [],
   "source": [
    "file_path = '/Users/mariella.decrouychan/Desktop/personnel.csv'\n",
    "\n",
    "# alternate path\n",
    "# file_path = '/Users/stakats/Development/data/medicalagents.csv'"
   ]
  },
  {
   "cell_type": "code",
   "execution_count": 11,
   "metadata": {},
   "outputs": [],
   "source": [
    "onboarding_result = api.run_job(operation=\"import.table.from.csv_file\", inputs={'path':file_path})"
   ]
  },
  {
   "cell_type": "code",
   "execution_count": 12,
   "metadata": {},
   "outputs": [],
   "source": [
    "# preview data\n",
    "table_value = kiara.data_registry.get_value(onboarding_result['table'].value_id)\n",
    "df = kiara_to_pandas(table_value)"
   ]
  },
  {
   "cell_type": "code",
   "execution_count": 13,
   "metadata": {},
   "outputs": [
    {
     "data": {
      "text/html": [
       "<div>\n",
       "<style scoped>\n",
       "    .dataframe tbody tr th:only-of-type {\n",
       "        vertical-align: middle;\n",
       "    }\n",
       "\n",
       "    .dataframe tbody tr th {\n",
       "        vertical-align: top;\n",
       "    }\n",
       "\n",
       "    .dataframe thead th {\n",
       "        text-align: right;\n",
       "    }\n",
       "</style>\n",
       "<table border=\"1\" class=\"dataframe\">\n",
       "  <thead>\n",
       "    <tr style=\"text-align: right;\">\n",
       "      <th></th>\n",
       "      <th>archref</th>\n",
       "      <th>name</th>\n",
       "      <th>placesdisplay</th>\n",
       "      <th>placesnormalized</th>\n",
       "      <th>corp</th>\n",
       "      <th>startdate</th>\n",
       "      <th>enddate</th>\n",
       "      <th>daterange</th>\n",
       "      <th>alldates</th>\n",
       "      <th>fullLink</th>\n",
       "      <th>fullRecord</th>\n",
       "    </tr>\n",
       "  </thead>\n",
       "  <tbody>\n",
       "    <tr>\n",
       "      <th>0</th>\n",
       "      <td>&lt;a class=\"archref\" href=\"/ark:/61561/up424lfky...</td>\n",
       "      <td>Abadie</td>\n",
       "      <td>['Sainte-Lucie']</td>\n",
       "      <td>['Sainte-Lucie, Île (Antilles)']</td>\n",
       "      <td></td>\n",
       "      <td>1787.0</td>\n",
       "      <td>1787.0</td>\n",
       "      <td>1787-1787</td>\n",
       "      <td>1787</td>\n",
       "      <td>/ark:/61561/up424lfky</td>\n",
       "      <td>Abadie, huissier à Sainte-Lucie 1787</td>\n",
       "    </tr>\n",
       "    <tr>\n",
       "      <th>1</th>\n",
       "      <td>&lt;a class=\"archref\" href=\"/ark:/61561/up424tntx...</td>\n",
       "      <td>Abbadie, d'</td>\n",
       "      <td>['Canada']</td>\n",
       "      <td>['Canada, Colonie française']</td>\n",
       "      <td>Régiment de Carignan-Salières</td>\n",
       "      <td>1665.0</td>\n",
       "      <td>1708.0</td>\n",
       "      <td>1665-1708</td>\n",
       "      <td>1665, 1708</td>\n",
       "      <td>/ark:/61561/up424tntx</td>\n",
       "      <td>Abbadie, d', enseigne dans le régiment de Cari...</td>\n",
       "    </tr>\n",
       "    <tr>\n",
       "      <th>2</th>\n",
       "      <td>&lt;a class=\"archref\" href=\"/ark:/61561/up424icjr...</td>\n",
       "      <td>Abeille, Jean</td>\n",
       "      <td>['Port-au-Prince']</td>\n",
       "      <td>['Port-au-Prince (Saint-Domingue, Île de)']</td>\n",
       "      <td></td>\n",
       "      <td>1788.0</td>\n",
       "      <td>1789.0</td>\n",
       "      <td>1788-1789</td>\n",
       "      <td>1788, 1789</td>\n",
       "      <td>/ark:/61561/up424icjr</td>\n",
       "      <td>Abeille, Jean, lieutenant de milices du batail...</td>\n",
       "    </tr>\n",
       "    <tr>\n",
       "      <th>3</th>\n",
       "      <td>&lt;a class=\"archref\" href=\"/ark:/61561/up424tnvz...</td>\n",
       "      <td>Abeille, Jean Joseph</td>\n",
       "      <td>['Pondichéry']</td>\n",
       "      <td>['Pondichéry (Inde)']</td>\n",
       "      <td>Conseil supérieur (Pondichéry ; Inde)</td>\n",
       "      <td>1769.0</td>\n",
       "      <td>1772.0</td>\n",
       "      <td>1769-1772</td>\n",
       "      <td>1769, 1772</td>\n",
       "      <td>/ark:/61561/up424tnvz</td>\n",
       "      <td>Abeille, Jean Joseph, conseiller au Conseil su...</td>\n",
       "    </tr>\n",
       "    <tr>\n",
       "      <th>4</th>\n",
       "      <td>&lt;a class=\"archref\" href=\"/ark:/61561/up424ezxy...</td>\n",
       "      <td>Abeille, Pierre</td>\n",
       "      <td>['Port-au-Prince']</td>\n",
       "      <td>['Port-au-Prince (Saint-Domingue, Île de)']</td>\n",
       "      <td></td>\n",
       "      <td>1774.0</td>\n",
       "      <td>1787.0</td>\n",
       "      <td>1774-1787</td>\n",
       "      <td>1774, 1787</td>\n",
       "      <td>/ark:/61561/up424ezxy</td>\n",
       "      <td>Abeille, Pierre, négociant à Port-au-Prince à ...</td>\n",
       "    </tr>\n",
       "  </tbody>\n",
       "</table>\n",
       "</div>"
      ],
      "text/plain": [
       "                                             archref                  name  \\\n",
       "0  <a class=\"archref\" href=\"/ark:/61561/up424lfky...                Abadie   \n",
       "1  <a class=\"archref\" href=\"/ark:/61561/up424tntx...           Abbadie, d'   \n",
       "2  <a class=\"archref\" href=\"/ark:/61561/up424icjr...         Abeille, Jean   \n",
       "3  <a class=\"archref\" href=\"/ark:/61561/up424tnvz...  Abeille, Jean Joseph   \n",
       "4  <a class=\"archref\" href=\"/ark:/61561/up424ezxy...       Abeille, Pierre   \n",
       "\n",
       "        placesdisplay                             placesnormalized  \\\n",
       "0    ['Sainte-Lucie']             ['Sainte-Lucie, Île (Antilles)']   \n",
       "1          ['Canada']                ['Canada, Colonie française']   \n",
       "2  ['Port-au-Prince']  ['Port-au-Prince (Saint-Domingue, Île de)']   \n",
       "3      ['Pondichéry']                        ['Pondichéry (Inde)']   \n",
       "4  ['Port-au-Prince']  ['Port-au-Prince (Saint-Domingue, Île de)']   \n",
       "\n",
       "                                    corp  startdate  enddate  daterange  \\\n",
       "0                                            1787.0   1787.0  1787-1787   \n",
       "1          Régiment de Carignan-Salières     1665.0   1708.0  1665-1708   \n",
       "2                                            1788.0   1789.0  1788-1789   \n",
       "3  Conseil supérieur (Pondichéry ; Inde)     1769.0   1772.0  1769-1772   \n",
       "4                                            1774.0   1787.0  1774-1787   \n",
       "\n",
       "     alldates               fullLink  \\\n",
       "0        1787  /ark:/61561/up424lfky   \n",
       "1  1665, 1708  /ark:/61561/up424tntx   \n",
       "2  1788, 1789  /ark:/61561/up424icjr   \n",
       "3  1769, 1772  /ark:/61561/up424tnvz   \n",
       "4  1774, 1787  /ark:/61561/up424ezxy   \n",
       "\n",
       "                                          fullRecord  \n",
       "0               Abadie, huissier à Sainte-Lucie 1787  \n",
       "1  Abbadie, d', enseigne dans le régiment de Cari...  \n",
       "2  Abeille, Jean, lieutenant de milices du batail...  \n",
       "3  Abeille, Jean Joseph, conseiller au Conseil su...  \n",
       "4  Abeille, Pierre, négociant à Port-au-Prince à ...  "
      ]
     },
     "execution_count": 13,
     "metadata": {},
     "output_type": "execute_result"
    }
   ],
   "source": [
    "df.head()"
   ]
  },
  {
   "cell_type": "code",
   "execution_count": 14,
   "metadata": {},
   "outputs": [
    {
     "data": {
      "text/html": [
       "<div>\n",
       "<style scoped>\n",
       "    .dataframe tbody tr th:only-of-type {\n",
       "        vertical-align: middle;\n",
       "    }\n",
       "\n",
       "    .dataframe tbody tr th {\n",
       "        vertical-align: top;\n",
       "    }\n",
       "\n",
       "    .dataframe thead th {\n",
       "        text-align: right;\n",
       "    }\n",
       "</style>\n",
       "<table border=\"1\" class=\"dataframe\">\n",
       "  <thead>\n",
       "    <tr style=\"text-align: right;\">\n",
       "      <th></th>\n",
       "      <th>archref</th>\n",
       "      <th>name</th>\n",
       "      <th>placesdisplay</th>\n",
       "      <th>placesnormalized</th>\n",
       "      <th>corp</th>\n",
       "      <th>startdate</th>\n",
       "      <th>enddate</th>\n",
       "      <th>daterange</th>\n",
       "      <th>alldates</th>\n",
       "      <th>fullLink</th>\n",
       "      <th>fullRecord</th>\n",
       "    </tr>\n",
       "  </thead>\n",
       "  <tbody>\n",
       "    <tr>\n",
       "      <th>19333</th>\n",
       "      <td>&lt;a class=\"archref\" href=\"/ark:/61561/up424tnvp...</td>\n",
       "      <td>Zemard, Ambroise</td>\n",
       "      <td>['île Royale']</td>\n",
       "      <td>['Royale, Île (Canada)']</td>\n",
       "      <td></td>\n",
       "      <td>1741.0</td>\n",
       "      <td>1741.0</td>\n",
       "      <td>1741-1741</td>\n",
       "      <td>1741</td>\n",
       "      <td>/ark:/61561/up424tnvpsny</td>\n",
       "      <td>Zemard, Ambroise, habitant de l'île Royale, co...</td>\n",
       "    </tr>\n",
       "    <tr>\n",
       "      <th>19334</th>\n",
       "      <td>&lt;a class=\"archref\" href=\"/ark:/61561/up424nhpj...</td>\n",
       "      <td>Zévallos, de</td>\n",
       "      <td>['Sainte-Anne']</td>\n",
       "      <td>['Sainte-Anne (Guadeloupe, Île de la)']</td>\n",
       "      <td></td>\n",
       "      <td>1770.0</td>\n",
       "      <td>1770.0</td>\n",
       "      <td>1770-1770</td>\n",
       "      <td>1770</td>\n",
       "      <td>/ark:/61561/up424nhpjmip</td>\n",
       "      <td>Zévallos, de, commandant des milices du quarti...</td>\n",
       "    </tr>\n",
       "    <tr>\n",
       "      <th>19335</th>\n",
       "      <td>&lt;a class=\"archref\" href=\"/ark:/61561/up424tnvp...</td>\n",
       "      <td>Zévallos, Edouard de</td>\n",
       "      <td></td>\n",
       "      <td></td>\n",
       "      <td>Régiment de la Guadeloupe</td>\n",
       "      <td>1786.0</td>\n",
       "      <td>1791.0</td>\n",
       "      <td>1786-1791</td>\n",
       "      <td>1786, 1790, 1791</td>\n",
       "      <td>/ark:/61561/up424tnvpspa</td>\n",
       "      <td>Zévallos, Edouard de, sous-lieutenant au régim...</td>\n",
       "    </tr>\n",
       "    <tr>\n",
       "      <th>19336</th>\n",
       "      <td>&lt;a class=\"archref\" href=\"/ark:/61561/up424wqys...</td>\n",
       "      <td>Zunbergen</td>\n",
       "      <td>['Guyane']</td>\n",
       "      <td>['Guyane française']</td>\n",
       "      <td></td>\n",
       "      <td>1784.0</td>\n",
       "      <td>1784.0</td>\n",
       "      <td>1784-1784</td>\n",
       "      <td>1784</td>\n",
       "      <td>/ark:/61561/up424wqysvtt</td>\n",
       "      <td>Zunbergen, accusé de malversations en Guyane 1784</td>\n",
       "    </tr>\n",
       "    <tr>\n",
       "      <th>19337</th>\n",
       "      <td>&lt;a class=\"archref\" href=\"/ark:/61561/up424vpxr...</td>\n",
       "      <td>Zweerts, Constantin Christian</td>\n",
       "      <td>['Tabago']</td>\n",
       "      <td>['Tabago, Île (Antilles)']</td>\n",
       "      <td></td>\n",
       "      <td>1782.0</td>\n",
       "      <td>1787.0</td>\n",
       "      <td>1782-1787</td>\n",
       "      <td>1782, 1787</td>\n",
       "      <td>/ark:/61561/up424vpxruto</td>\n",
       "      <td>Zweerts, Constantin Christian, interprète de l...</td>\n",
       "    </tr>\n",
       "  </tbody>\n",
       "</table>\n",
       "</div>"
      ],
      "text/plain": [
       "                                                 archref  \\\n",
       "19333  <a class=\"archref\" href=\"/ark:/61561/up424tnvp...   \n",
       "19334  <a class=\"archref\" href=\"/ark:/61561/up424nhpj...   \n",
       "19335  <a class=\"archref\" href=\"/ark:/61561/up424tnvp...   \n",
       "19336  <a class=\"archref\" href=\"/ark:/61561/up424wqys...   \n",
       "19337  <a class=\"archref\" href=\"/ark:/61561/up424vpxr...   \n",
       "\n",
       "                                name    placesdisplay  \\\n",
       "19333               Zemard, Ambroise   ['île Royale']   \n",
       "19334                   Zévallos, de  ['Sainte-Anne']   \n",
       "19335           Zévallos, Edouard de                    \n",
       "19336                      Zunbergen       ['Guyane']   \n",
       "19337  Zweerts, Constantin Christian       ['Tabago']   \n",
       "\n",
       "                              placesnormalized                       corp  \\\n",
       "19333                 ['Royale, Île (Canada)']                              \n",
       "19334  ['Sainte-Anne (Guadeloupe, Île de la)']                              \n",
       "19335                                           Régiment de la Guadeloupe   \n",
       "19336                     ['Guyane française']                              \n",
       "19337               ['Tabago, Île (Antilles)']                              \n",
       "\n",
       "       startdate  enddate  daterange          alldates  \\\n",
       "19333     1741.0   1741.0  1741-1741              1741   \n",
       "19334     1770.0   1770.0  1770-1770              1770   \n",
       "19335     1786.0   1791.0  1786-1791  1786, 1790, 1791   \n",
       "19336     1784.0   1784.0  1784-1784              1784   \n",
       "19337     1782.0   1787.0  1782-1787        1782, 1787   \n",
       "\n",
       "                       fullLink  \\\n",
       "19333  /ark:/61561/up424tnvpsny   \n",
       "19334  /ark:/61561/up424nhpjmip   \n",
       "19335  /ark:/61561/up424tnvpspa   \n",
       "19336  /ark:/61561/up424wqysvtt   \n",
       "19337  /ark:/61561/up424vpxruto   \n",
       "\n",
       "                                              fullRecord  \n",
       "19333  Zemard, Ambroise, habitant de l'île Royale, co...  \n",
       "19334  Zévallos, de, commandant des milices du quarti...  \n",
       "19335  Zévallos, Edouard de, sous-lieutenant au régim...  \n",
       "19336  Zunbergen, accusé de malversations en Guyane 1784  \n",
       "19337  Zweerts, Constantin Christian, interprète de l...  "
      ]
     },
     "execution_count": 14,
     "metadata": {},
     "output_type": "execute_result"
    }
   ],
   "source": [
    "df.tail()"
   ]
  },
  {
   "cell_type": "code",
   "execution_count": 15,
   "metadata": {},
   "outputs": [
    {
     "name": "stdout",
     "output_type": "stream",
     "text": [
      "<class 'pandas.core.frame.DataFrame'>\n",
      "RangeIndex: 19338 entries, 0 to 19337\n",
      "Data columns (total 11 columns):\n",
      " #   Column            Non-Null Count  Dtype  \n",
      "---  ------            --------------  -----  \n",
      " 0   archref           19338 non-null  object \n",
      " 1   name              19338 non-null  object \n",
      " 2   placesdisplay     19338 non-null  object \n",
      " 3   placesnormalized  19338 non-null  object \n",
      " 4   corp              19338 non-null  object \n",
      " 5   startdate         19251 non-null  float64\n",
      " 6   enddate           19251 non-null  float64\n",
      " 7   daterange         19338 non-null  object \n",
      " 8   alldates          19338 non-null  object \n",
      " 9   fullLink          19338 non-null  object \n",
      " 10  fullRecord        19338 non-null  object \n",
      "dtypes: float64(2), object(9)\n",
      "memory usage: 1.6+ MB\n"
     ]
    }
   ],
   "source": [
    "# checking if missing values\n",
    "df.info()"
   ]
  },
  {
   "cell_type": "markdown",
   "metadata": {},
   "source": [
    "### 2. Columns rename"
   ]
  },
  {
   "cell_type": "code",
   "execution_count": 16,
   "metadata": {},
   "outputs": [
    {
     "name": "stdout",
     "output_type": "stream",
     "text": [
      "\n",
      "╭─ Operation: \u001b[1;3manom_processing.column_names_replace\u001b[0m ────────────────────────────╮\n",
      "│                                                                              │\n",
      "│  \u001b[3m \u001b[0m\u001b[3mDocumentation\u001b[0m\u001b[3m \u001b[0m  Replace columns names.                                     │\n",
      "│                                                                              │\n",
      "│  \u001b[3m \u001b[0m\u001b[3mInputs       \u001b[0m\u001b[3m \u001b[0m                                                             │\n",
      "│  \u001b[3m               \u001b[0m   \u001b[1m \u001b[0m\u001b[1mfield    \u001b[0m\u001b[1m \u001b[0m \u001b[1m       \u001b[0m \u001b[1m           \u001b[0m \u001b[1m          \u001b[0m \u001b[1m           \u001b[0m    │\n",
      "│  \u001b[3m               \u001b[0m   \u001b[1m \u001b[0m\u001b[1mname     \u001b[0m\u001b[1m \u001b[0m \u001b[1m \u001b[0m\u001b[1mtype \u001b[0m\u001b[1m \u001b[0m \u001b[1m \u001b[0m\u001b[1mdescript…\u001b[0m\u001b[1m \u001b[0m \u001b[1m \u001b[0m\u001b[1mRequired\u001b[0m\u001b[1m \u001b[0m \u001b[1m \u001b[0m\u001b[1mDefault  \u001b[0m\u001b[1m \u001b[0m    │\n",
      "│  \u001b[3m               \u001b[0m   ──────────────────────────────────────────────────────    │\n",
      "│  \u001b[3m               \u001b[0m   \u001b[3m \u001b[0m\u001b[3mtable    \u001b[0m\u001b[3m \u001b[0m  table   The table   \u001b[1myes\u001b[0m        -- no         │\n",
      "│  \u001b[3m               \u001b[0m   \u001b[3m           \u001b[0m          for which              default       │\n",
      "│  \u001b[3m               \u001b[0m   \u001b[3m           \u001b[0m          one or                 --            │\n",
      "│  \u001b[3m               \u001b[0m   \u001b[3m           \u001b[0m          more                                 │\n",
      "│  \u001b[3m               \u001b[0m   \u001b[3m           \u001b[0m          column                               │\n",
      "│  \u001b[3m               \u001b[0m   \u001b[3m           \u001b[0m          names                                │\n",
      "│  \u001b[3m               \u001b[0m   \u001b[3m           \u001b[0m          need to                              │\n",
      "│  \u001b[3m               \u001b[0m   \u001b[3m           \u001b[0m          be                                   │\n",
      "│  \u001b[3m               \u001b[0m   \u001b[3m           \u001b[0m          replaced.                            │\n",
      "│  \u001b[3m               \u001b[0m   \u001b[3m \u001b[0m\u001b[3mcolumns_m\u001b[0m\u001b[3m \u001b[0m  dict    A dict      \u001b[1myes\u001b[0m        -- no         │\n",
      "│  \u001b[3m               \u001b[0m   \u001b[3m \u001b[0m\u001b[3map       \u001b[0m\u001b[3m \u001b[0m          mapping                default       │\n",
      "│  \u001b[3m               \u001b[0m   \u001b[3m           \u001b[0m          old cols               --            │\n",
      "│  \u001b[3m               \u001b[0m   \u001b[3m           \u001b[0m          (left)                               │\n",
      "│  \u001b[3m               \u001b[0m   \u001b[3m           \u001b[0m          with new                             │\n",
      "│  \u001b[3m               \u001b[0m   \u001b[3m           \u001b[0m          cols                                 │\n",
      "│  \u001b[3m               \u001b[0m   \u001b[3m           \u001b[0m          (right).                             │\n",
      "│  \u001b[3m               \u001b[0m                                                             │\n",
      "│                                                                              │\n",
      "│  \u001b[3m \u001b[0m\u001b[3mOutputs      \u001b[0m\u001b[3m \u001b[0m                                                             │\n",
      "│  \u001b[3m               \u001b[0m   \u001b[1m \u001b[0m\u001b[1mfield name\u001b[0m\u001b[1m \u001b[0m \u001b[1m \u001b[0m\u001b[1mtype \u001b[0m\u001b[1m \u001b[0m \u001b[1m \u001b[0m\u001b[1mdescription                    \u001b[0m\u001b[1m \u001b[0m    │\n",
      "│  \u001b[3m               \u001b[0m   ──────────────────────────────────────────────────────    │\n",
      "│  \u001b[3m               \u001b[0m   \u001b[3m \u001b[0m\u001b[3mtable     \u001b[0m\u001b[3m \u001b[0m  table   The table with standardised         │\n",
      "│  \u001b[3m               \u001b[0m   \u001b[3m            \u001b[0m          column names.                       │\n",
      "│  \u001b[3m               \u001b[0m                                                             │\n",
      "│                                                                              │\n",
      "╰──────────────────────────────────────────────────────────────────────────────╯\n"
     ]
    }
   ],
   "source": [
    "! kiara operation explain anom_processing.column_names_replace"
   ]
  },
  {
   "cell_type": "code",
   "execution_count": 17,
   "metadata": {},
   "outputs": [],
   "source": [
    "col_map = column_map = {\n",
    "    \"name\": \"foaf:name\",\n",
    "    \"placesdisplay\": \"gn:name\",\n",
    "    \"daterange\": \"dc:date\",\n",
    "    \"fullLink\": \"dc:identifier\"\n",
    "}"
   ]
  },
  {
   "cell_type": "code",
   "execution_count": 18,
   "metadata": {},
   "outputs": [],
   "source": [
    "rename_columns_result = api.run_job(operation=\"anom_processing.column_names_replace\", inputs={'table':table_value, 'columns_map':col_map})"
   ]
  },
  {
   "cell_type": "code",
   "execution_count": 19,
   "metadata": {},
   "outputs": [
    {
     "data": {
      "text/html": [
       "<pre style=\"white-space:pre;overflow-x:auto;line-height:normal;font-family:Menlo,'DejaVu Sans Mono',consolas,'Courier New',monospace\">╭──────────────────────────────────────────────────────────────────────────────────────────────────────────────────────────────────────────╮\n",
       "│                                                                                                                                          │\n",
       "│  <span style=\"font-weight: bold\"> field </span> <span style=\"font-weight: bold\"> value                                                                                                                        </span>  │\n",
       "│  ──────────────────────────────────────────────────────────────────────────────────────────────────────────────────────────────────────  │\n",
       "│  <span style=\"font-weight: bold\"> table </span> <span style=\"font-style: italic\">                                                                                                                              </span>  │\n",
       "│  <span style=\"font-weight: bold\">       </span> <span style=\"font-style: italic\">  </span><span style=\"font-weight: bold; font-style: italic\"> archref  </span><span style=\"font-style: italic\"> </span><span style=\"font-weight: bold; font-style: italic\"> foaf:nam </span><span style=\"font-style: italic\"> </span><span style=\"font-weight: bold; font-style: italic\"> gn:name  </span><span style=\"font-style: italic\"> </span><span style=\"font-weight: bold; font-style: italic\"> placesno </span><span style=\"font-style: italic\"> </span><span style=\"font-weight: bold; font-style: italic\"> corp      </span><span style=\"font-style: italic\"> </span><span style=\"font-weight: bold; font-style: italic\"> startdat </span><span style=\"font-style: italic\"> </span><span style=\"font-weight: bold; font-style: italic\"> enddate </span><span style=\"font-style: italic\"> </span><span style=\"font-weight: bold; font-style: italic\"> dc:date   </span><span style=\"font-style: italic\"> </span><span style=\"font-weight: bold; font-style: italic\"> alldates </span><span style=\"font-style: italic\"> </span><span style=\"font-weight: bold; font-style: italic\"> dc:identi </span><span style=\"font-style: italic\"> </span><span style=\"font-weight: bold; font-style: italic\"> fullReco </span><span style=\"font-style: italic\">  </span>  │\n",
       "│  <span style=\"font-weight: bold\">       </span> <span style=\"font-style: italic\">  ──────────────────────────────────────────────────────────────────────────────────────────────────────────────────────────  </span>  │\n",
       "│  <span style=\"font-weight: bold\">       </span> <span style=\"font-style: italic\">   &lt;a class   Abadie     ['Sainte   ['Sainte               1787.0     1787.0    1787-1787   1787       /ark:/615   Abadie,    </span>  │\n",
       "│  <span style=\"font-weight: bold\">       </span> <span style=\"font-style: italic\">   &lt;a class   Abbadie,   ['Canada   ['Canada   Régiment    1665.0     1708.0    1665-1708   1665, 17   /ark:/615   Abbadie,   </span>  │\n",
       "│  <span style=\"font-weight: bold\">       </span> <span style=\"font-style: italic\">   &lt;a class   Abeille,   ['Port-a   ['Port-a               1788.0     1789.0    1788-1789   1788, 17   /ark:/615   Abeille,   </span>  │\n",
       "│  <span style=\"font-weight: bold\">       </span> <span style=\"font-style: italic\">   &lt;a class   Abeille,   ['Pondic   ['Pondic   Conseil s   1769.0     1772.0    1769-1772   1769, 17   /ark:/615   Abeille,   </span>  │\n",
       "│  <span style=\"font-weight: bold\">       </span> <span style=\"font-style: italic\">   &lt;a class   Abeille,   ['Port-a   ['Port-a               1774.0     1787.0    1774-1787   1774, 17   /ark:/615   Abeille,   </span>  │\n",
       "│  <span style=\"font-weight: bold\">       </span> <span style=\"font-style: italic\">   &lt;a class   Abel, Je   ['Guadel   ['Guadel               1784.0     1784.0    1784-1784   1784       /ark:/615   Abel, Je   </span>  │\n",
       "│  <span style=\"font-weight: bold\">       </span> <span style=\"font-style: italic\">   &lt;a class   Abel, Ol   ['Canada   ['Canada               1732.0     1749.0    1732-1749   1732, 17   /ark:/615   Abel, Ol   </span>  │\n",
       "│  <span style=\"font-weight: bold\">       </span> <span style=\"font-style: italic\">   &lt;a class   Ablé, Pi                                     1777.0     1777.0    1777-1777   1777       /ark:/615   Ablé, Pi   </span>  │\n",
       "│  <span style=\"font-weight: bold\">       </span> <span style=\"font-style: italic\">   &lt;a class   Abon, Ja                         Régiment    1773.0     1779.0    1773-1779   1773, 17   /ark:/615   Abon, Ja   </span>  │\n",
       "│  <span style=\"font-weight: bold\">       </span> <span style=\"font-style: italic\">   &lt;a class   Accaron,                                     1735.0     1766.0    1735-1766   1735, 17   /ark:/615   Accaron,   </span>  │\n",
       "│  <span style=\"font-weight: bold\">       </span> <span style=\"font-style: italic\">   &lt;a class   Accolans   ['Saint-   ['Saint-               1767.0     1770.0    1767-1770   1767, 17   /ark:/615   Accolans   </span>  │\n",
       "│  <span style=\"font-weight: bold\">       </span> <span style=\"font-style: italic\">   &lt;a class   Achard,    ['Pointe   ['Pointe               1787.0     1787.0    1787-1787   1787       /ark:/615   Achard,    </span>  │\n",
       "│  <span style=\"font-weight: bold\">       </span> <span style=\"font-style: italic\">   &lt;a class   Achard,    ['Basse-   ['Basse-               1787.0     1787.0    1787-1787   1787       /ark:/615   Achard,    </span>  │\n",
       "│  <span style=\"font-weight: bold\">       </span> <span style=\"font-style: italic\">   &lt;a class   Achard d   ['Cap']    ['Le Cap   Conseil s   1769.0     1776.0    1769-1776   1769, 17   /ark:/615   Achard d   </span>  │\n",
       "│  <span style=\"font-weight: bold\">       </span> <span style=\"font-style: italic\">   &lt;a class   Achard d   [\"Saint-   [\"Saint-               1734.0     1779.0    1734-1779   1734, 17   /ark:/615   Achard d   </span>  │\n",
       "│  <span style=\"font-weight: bold\">       </span> <span style=\"font-style: italic\">   &lt;a class   Aché       ['Embrun   ['Embrun   Régiment    1788.0     1788.0    1788-1788   1788       /ark:/615   Aché, co   </span>  │\n",
       "│  <span style=\"font-weight: bold\">       </span> <span style=\"font-style: italic\">   ...        ...        ...        ...        ...         ...        ...       ...         ...        ...         ...        </span>  │\n",
       "│  <span style=\"font-weight: bold\">       </span> <span style=\"font-style: italic\">   ...        ...        ...        ...        ...         ...        ...       ...         ...        ...         ...        </span>  │\n",
       "│  <span style=\"font-weight: bold\">       </span> <span style=\"font-style: italic\">   &lt;a class   Yvon, Gi   ['Saint-   ['Saint-   Régiment    1775.0     1784.0    1775-1784   1775, 17   /ark:/615   Yvon, Gi   </span>  │\n",
       "│  <span style=\"font-weight: bold\">       </span> <span style=\"font-style: italic\">   &lt;a class   Yvon, Jo   ['Sainte   ['Sainte               1763.0     1763.0    1763-1763   1763       /ark:/615   Yvon, Jo   </span>  │\n",
       "│  <span style=\"font-weight: bold\">       </span> <span style=\"font-style: italic\">   &lt;a class   Yvon, Lo   ['île de   ['France               1771.0     1790.0    1771-1790   1771, 17   /ark:/615   Yvon, Lo   </span>  │\n",
       "│  <span style=\"font-weight: bold\">       </span> <span style=\"font-style: italic\">   &lt;a class   Yvon       ['île de   ['France               1785.0     1785.0    1785-1785   1785       /ark:/615   Yvon, es   </span>  │\n",
       "│  <span style=\"font-weight: bold\">       </span> <span style=\"font-style: italic\">   &lt;a class   Yvonnet,   ['Caen',   ['Caen (               1787.0     1792.0    1787-1792   1787, 17   /ark:/615   Yvonnet,   </span>  │\n",
       "│  <span style=\"font-weight: bold\">       </span> <span style=\"font-style: italic\">   &lt;a class   Yzact, P   ['Pondic   ['Pondic   Conseil s   1769.0     1769.0    1769-1769   1769       /ark:/615   Yzact, P   </span>  │\n",
       "│  <span style=\"font-weight: bold\">       </span> <span style=\"font-style: italic\">   &lt;a class   Zacharie   ['Martin   ['Martin   Capucins    1783.0     1783.0    1783-1783   1783       /ark:/615   Zacharie   </span>  │\n",
       "│  <span style=\"font-weight: bold\">       </span> <span style=\"font-style: italic\">   &lt;a class   Zamor, A                         Régiment    1784.0     1784.0    1784-1784   1784, 17   /ark:/615   Zamor, A   </span>  │\n",
       "│  <span style=\"font-weight: bold\">       </span> <span style=\"font-style: italic\">   &lt;a class   Zanico,    ['Milan'   ['Milan                1781.0     1781.0    1781-1781   1781       /ark:/615   Zanico,    </span>  │\n",
       "│  <span style=\"font-weight: bold\">       </span> <span style=\"font-style: italic\">   &lt;a class   Zanthier   ['Indes'   ['Inde f               1781.0     1781.0    1781-1781   1781       /ark:/615   Zanthier   </span>  │\n",
       "│  <span style=\"font-weight: bold\">       </span> <span style=\"font-style: italic\">   &lt;a class   Zelman,                          Régiment    1784.0     1784.0    1784-1784   1784, 17   /ark:/615   Zelman,    </span>  │\n",
       "│  <span style=\"font-weight: bold\">       </span> <span style=\"font-style: italic\">   &lt;a class   Zemard,    ['île Ro   ['Royale               1741.0     1741.0    1741-1741   1741       /ark:/615   Zemard,    </span>  │\n",
       "│  <span style=\"font-weight: bold\">       </span> <span style=\"font-style: italic\">   &lt;a class   Zévallos   ['Sainte   ['Sainte               1770.0     1770.0    1770-1770   1770       /ark:/615   Zévallos   </span>  │\n",
       "│  <span style=\"font-weight: bold\">       </span> <span style=\"font-style: italic\">   &lt;a class   Zévallos                         Régiment    1786.0     1791.0    1786-1791   1786, 17   /ark:/615   Zévallos   </span>  │\n",
       "│  <span style=\"font-weight: bold\">       </span> <span style=\"font-style: italic\">   &lt;a class   Zunberge   ['Guyane   ['Guyane               1784.0     1784.0    1784-1784   1784       /ark:/615   Zunberge   </span>  │\n",
       "│  <span style=\"font-weight: bold\">       </span> <span style=\"font-style: italic\">   &lt;a class   Zweerts,   ['Tabago   ['Tabago               1782.0     1787.0    1782-1787   1782, 17   /ark:/615   Zweerts,   </span>  │\n",
       "│  <span style=\"font-weight: bold\">       </span> <span style=\"font-style: italic\">                                                                                                                              </span>  │\n",
       "│                                                                                                                                          │\n",
       "╰──────────────────────────────────────────────────────────────────────────────────────────────────────────────────────────────────────────╯\n",
       "</pre>\n"
      ],
      "text/plain": [
       "╭──────────────────────────────────────────────────────────────────────────────────────────────────────────────────────────────────────────╮\n",
       "│                                                                                                                                          │\n",
       "│  \u001b[1m \u001b[0m\u001b[1mfield\u001b[0m\u001b[1m \u001b[0m \u001b[1m \u001b[0m\u001b[1mvalue                                                                                                                       \u001b[0m\u001b[1m \u001b[0m  │\n",
       "│  ──────────────────────────────────────────────────────────────────────────────────────────────────────────────────────────────────────  │\n",
       "│  \u001b[1m \u001b[0m\u001b[1mtable\u001b[0m\u001b[1m \u001b[0m \u001b[3m \u001b[0m\u001b[3m                                                                                                                            \u001b[0m\u001b[3m \u001b[0m  │\n",
       "│  \u001b[1m       \u001b[0m \u001b[3m \u001b[0m\u001b[3m \u001b[0m\u001b[1;3m \u001b[0m\u001b[1;3marchref\u001b[0m\u001b[1;3m \u001b[0m\u001b[1;3m \u001b[0m\u001b[3m \u001b[0m\u001b[1;3m \u001b[0m\u001b[1;3mfoaf:nam\u001b[0m\u001b[1;3m \u001b[0m\u001b[3m \u001b[0m\u001b[1;3m \u001b[0m\u001b[1;3mgn:name\u001b[0m\u001b[1;3m \u001b[0m\u001b[1;3m \u001b[0m\u001b[3m \u001b[0m\u001b[1;3m \u001b[0m\u001b[1;3mplacesno\u001b[0m\u001b[1;3m \u001b[0m\u001b[3m \u001b[0m\u001b[1;3m \u001b[0m\u001b[1;3mcorp\u001b[0m\u001b[1;3m     \u001b[0m\u001b[1;3m \u001b[0m\u001b[3m \u001b[0m\u001b[1;3m \u001b[0m\u001b[1;3mstartdat\u001b[0m\u001b[1;3m \u001b[0m\u001b[3m \u001b[0m\u001b[1;3m \u001b[0m\u001b[1;3menddate\u001b[0m\u001b[1;3m \u001b[0m\u001b[3m \u001b[0m\u001b[1;3m \u001b[0m\u001b[1;3mdc:date\u001b[0m\u001b[1;3m  \u001b[0m\u001b[1;3m \u001b[0m\u001b[3m \u001b[0m\u001b[1;3m \u001b[0m\u001b[1;3malldates\u001b[0m\u001b[1;3m \u001b[0m\u001b[3m \u001b[0m\u001b[1;3m \u001b[0m\u001b[1;3mdc:identi\u001b[0m\u001b[1;3m \u001b[0m\u001b[3m \u001b[0m\u001b[1;3m \u001b[0m\u001b[1;3mfullReco\u001b[0m\u001b[1;3m \u001b[0m\u001b[3m \u001b[0m\u001b[3m \u001b[0m  │\n",
       "│  \u001b[1m       \u001b[0m \u001b[3m \u001b[0m\u001b[3m ────────────────────────────────────────────────────────────────────────────────────────────────────────────────────────── \u001b[0m\u001b[3m \u001b[0m  │\n",
       "│  \u001b[1m       \u001b[0m \u001b[3m \u001b[0m\u001b[3m \u001b[0m\u001b[3m \u001b[0m\u001b[3m<a class\u001b[0m\u001b[3m \u001b[0m\u001b[3m \u001b[0m\u001b[3m \u001b[0m\u001b[3mAbadie\u001b[0m\u001b[3m  \u001b[0m\u001b[3m \u001b[0m\u001b[3m \u001b[0m\u001b[3m \u001b[0m\u001b[3m['Sainte\u001b[0m\u001b[3m \u001b[0m\u001b[3m \u001b[0m\u001b[3m \u001b[0m\u001b[3m['Sainte\u001b[0m\u001b[3m \u001b[0m\u001b[3m \u001b[0m\u001b[3m \u001b[0m\u001b[3m         \u001b[0m\u001b[3m \u001b[0m\u001b[3m \u001b[0m\u001b[3m \u001b[0m\u001b[3m1787.0\u001b[0m\u001b[3m  \u001b[0m\u001b[3m \u001b[0m\u001b[3m \u001b[0m\u001b[3m \u001b[0m\u001b[3m1787.0\u001b[0m\u001b[3m \u001b[0m\u001b[3m \u001b[0m\u001b[3m \u001b[0m\u001b[3m \u001b[0m\u001b[3m1787-1787\u001b[0m\u001b[3m \u001b[0m\u001b[3m \u001b[0m\u001b[3m \u001b[0m\u001b[3m1787\u001b[0m\u001b[3m    \u001b[0m\u001b[3m \u001b[0m\u001b[3m \u001b[0m\u001b[3m \u001b[0m\u001b[3m/ark:/615\u001b[0m\u001b[3m \u001b[0m\u001b[3m \u001b[0m\u001b[3m \u001b[0m\u001b[3mAbadie, \u001b[0m\u001b[3m \u001b[0m\u001b[3m \u001b[0m\u001b[3m \u001b[0m  │\n",
       "│  \u001b[1m       \u001b[0m \u001b[3m \u001b[0m\u001b[3m \u001b[0m\u001b[3m \u001b[0m\u001b[3m<a class\u001b[0m\u001b[3m \u001b[0m\u001b[3m \u001b[0m\u001b[3m \u001b[0m\u001b[3mAbbadie,\u001b[0m\u001b[3m \u001b[0m\u001b[3m \u001b[0m\u001b[3m \u001b[0m\u001b[3m['Canada\u001b[0m\u001b[3m \u001b[0m\u001b[3m \u001b[0m\u001b[3m \u001b[0m\u001b[3m['Canada\u001b[0m\u001b[3m \u001b[0m\u001b[3m \u001b[0m\u001b[3m \u001b[0m\u001b[3mRégiment \u001b[0m\u001b[3m \u001b[0m\u001b[3m \u001b[0m\u001b[3m \u001b[0m\u001b[3m1665.0\u001b[0m\u001b[3m  \u001b[0m\u001b[3m \u001b[0m\u001b[3m \u001b[0m\u001b[3m \u001b[0m\u001b[3m1708.0\u001b[0m\u001b[3m \u001b[0m\u001b[3m \u001b[0m\u001b[3m \u001b[0m\u001b[3m \u001b[0m\u001b[3m1665-1708\u001b[0m\u001b[3m \u001b[0m\u001b[3m \u001b[0m\u001b[3m \u001b[0m\u001b[3m1665, 17\u001b[0m\u001b[3m \u001b[0m\u001b[3m \u001b[0m\u001b[3m \u001b[0m\u001b[3m/ark:/615\u001b[0m\u001b[3m \u001b[0m\u001b[3m \u001b[0m\u001b[3m \u001b[0m\u001b[3mAbbadie,\u001b[0m\u001b[3m \u001b[0m\u001b[3m \u001b[0m\u001b[3m \u001b[0m  │\n",
       "│  \u001b[1m       \u001b[0m \u001b[3m \u001b[0m\u001b[3m \u001b[0m\u001b[3m \u001b[0m\u001b[3m<a class\u001b[0m\u001b[3m \u001b[0m\u001b[3m \u001b[0m\u001b[3m \u001b[0m\u001b[3mAbeille,\u001b[0m\u001b[3m \u001b[0m\u001b[3m \u001b[0m\u001b[3m \u001b[0m\u001b[3m['Port-a\u001b[0m\u001b[3m \u001b[0m\u001b[3m \u001b[0m\u001b[3m \u001b[0m\u001b[3m['Port-a\u001b[0m\u001b[3m \u001b[0m\u001b[3m \u001b[0m\u001b[3m \u001b[0m\u001b[3m         \u001b[0m\u001b[3m \u001b[0m\u001b[3m \u001b[0m\u001b[3m \u001b[0m\u001b[3m1788.0\u001b[0m\u001b[3m  \u001b[0m\u001b[3m \u001b[0m\u001b[3m \u001b[0m\u001b[3m \u001b[0m\u001b[3m1789.0\u001b[0m\u001b[3m \u001b[0m\u001b[3m \u001b[0m\u001b[3m \u001b[0m\u001b[3m \u001b[0m\u001b[3m1788-1789\u001b[0m\u001b[3m \u001b[0m\u001b[3m \u001b[0m\u001b[3m \u001b[0m\u001b[3m1788, 17\u001b[0m\u001b[3m \u001b[0m\u001b[3m \u001b[0m\u001b[3m \u001b[0m\u001b[3m/ark:/615\u001b[0m\u001b[3m \u001b[0m\u001b[3m \u001b[0m\u001b[3m \u001b[0m\u001b[3mAbeille,\u001b[0m\u001b[3m \u001b[0m\u001b[3m \u001b[0m\u001b[3m \u001b[0m  │\n",
       "│  \u001b[1m       \u001b[0m \u001b[3m \u001b[0m\u001b[3m \u001b[0m\u001b[3m \u001b[0m\u001b[3m<a class\u001b[0m\u001b[3m \u001b[0m\u001b[3m \u001b[0m\u001b[3m \u001b[0m\u001b[3mAbeille,\u001b[0m\u001b[3m \u001b[0m\u001b[3m \u001b[0m\u001b[3m \u001b[0m\u001b[3m['Pondic\u001b[0m\u001b[3m \u001b[0m\u001b[3m \u001b[0m\u001b[3m \u001b[0m\u001b[3m['Pondic\u001b[0m\u001b[3m \u001b[0m\u001b[3m \u001b[0m\u001b[3m \u001b[0m\u001b[3mConseil s\u001b[0m\u001b[3m \u001b[0m\u001b[3m \u001b[0m\u001b[3m \u001b[0m\u001b[3m1769.0\u001b[0m\u001b[3m  \u001b[0m\u001b[3m \u001b[0m\u001b[3m \u001b[0m\u001b[3m \u001b[0m\u001b[3m1772.0\u001b[0m\u001b[3m \u001b[0m\u001b[3m \u001b[0m\u001b[3m \u001b[0m\u001b[3m \u001b[0m\u001b[3m1769-1772\u001b[0m\u001b[3m \u001b[0m\u001b[3m \u001b[0m\u001b[3m \u001b[0m\u001b[3m1769, 17\u001b[0m\u001b[3m \u001b[0m\u001b[3m \u001b[0m\u001b[3m \u001b[0m\u001b[3m/ark:/615\u001b[0m\u001b[3m \u001b[0m\u001b[3m \u001b[0m\u001b[3m \u001b[0m\u001b[3mAbeille,\u001b[0m\u001b[3m \u001b[0m\u001b[3m \u001b[0m\u001b[3m \u001b[0m  │\n",
       "│  \u001b[1m       \u001b[0m \u001b[3m \u001b[0m\u001b[3m \u001b[0m\u001b[3m \u001b[0m\u001b[3m<a class\u001b[0m\u001b[3m \u001b[0m\u001b[3m \u001b[0m\u001b[3m \u001b[0m\u001b[3mAbeille,\u001b[0m\u001b[3m \u001b[0m\u001b[3m \u001b[0m\u001b[3m \u001b[0m\u001b[3m['Port-a\u001b[0m\u001b[3m \u001b[0m\u001b[3m \u001b[0m\u001b[3m \u001b[0m\u001b[3m['Port-a\u001b[0m\u001b[3m \u001b[0m\u001b[3m \u001b[0m\u001b[3m \u001b[0m\u001b[3m         \u001b[0m\u001b[3m \u001b[0m\u001b[3m \u001b[0m\u001b[3m \u001b[0m\u001b[3m1774.0\u001b[0m\u001b[3m  \u001b[0m\u001b[3m \u001b[0m\u001b[3m \u001b[0m\u001b[3m \u001b[0m\u001b[3m1787.0\u001b[0m\u001b[3m \u001b[0m\u001b[3m \u001b[0m\u001b[3m \u001b[0m\u001b[3m \u001b[0m\u001b[3m1774-1787\u001b[0m\u001b[3m \u001b[0m\u001b[3m \u001b[0m\u001b[3m \u001b[0m\u001b[3m1774, 17\u001b[0m\u001b[3m \u001b[0m\u001b[3m \u001b[0m\u001b[3m \u001b[0m\u001b[3m/ark:/615\u001b[0m\u001b[3m \u001b[0m\u001b[3m \u001b[0m\u001b[3m \u001b[0m\u001b[3mAbeille,\u001b[0m\u001b[3m \u001b[0m\u001b[3m \u001b[0m\u001b[3m \u001b[0m  │\n",
       "│  \u001b[1m       \u001b[0m \u001b[3m \u001b[0m\u001b[3m \u001b[0m\u001b[3m \u001b[0m\u001b[3m<a class\u001b[0m\u001b[3m \u001b[0m\u001b[3m \u001b[0m\u001b[3m \u001b[0m\u001b[3mAbel, Je\u001b[0m\u001b[3m \u001b[0m\u001b[3m \u001b[0m\u001b[3m \u001b[0m\u001b[3m['Guadel\u001b[0m\u001b[3m \u001b[0m\u001b[3m \u001b[0m\u001b[3m \u001b[0m\u001b[3m['Guadel\u001b[0m\u001b[3m \u001b[0m\u001b[3m \u001b[0m\u001b[3m \u001b[0m\u001b[3m         \u001b[0m\u001b[3m \u001b[0m\u001b[3m \u001b[0m\u001b[3m \u001b[0m\u001b[3m1784.0\u001b[0m\u001b[3m  \u001b[0m\u001b[3m \u001b[0m\u001b[3m \u001b[0m\u001b[3m \u001b[0m\u001b[3m1784.0\u001b[0m\u001b[3m \u001b[0m\u001b[3m \u001b[0m\u001b[3m \u001b[0m\u001b[3m \u001b[0m\u001b[3m1784-1784\u001b[0m\u001b[3m \u001b[0m\u001b[3m \u001b[0m\u001b[3m \u001b[0m\u001b[3m1784\u001b[0m\u001b[3m    \u001b[0m\u001b[3m \u001b[0m\u001b[3m \u001b[0m\u001b[3m \u001b[0m\u001b[3m/ark:/615\u001b[0m\u001b[3m \u001b[0m\u001b[3m \u001b[0m\u001b[3m \u001b[0m\u001b[3mAbel, Je\u001b[0m\u001b[3m \u001b[0m\u001b[3m \u001b[0m\u001b[3m \u001b[0m  │\n",
       "│  \u001b[1m       \u001b[0m \u001b[3m \u001b[0m\u001b[3m \u001b[0m\u001b[3m \u001b[0m\u001b[3m<a class\u001b[0m\u001b[3m \u001b[0m\u001b[3m \u001b[0m\u001b[3m \u001b[0m\u001b[3mAbel, Ol\u001b[0m\u001b[3m \u001b[0m\u001b[3m \u001b[0m\u001b[3m \u001b[0m\u001b[3m['Canada\u001b[0m\u001b[3m \u001b[0m\u001b[3m \u001b[0m\u001b[3m \u001b[0m\u001b[3m['Canada\u001b[0m\u001b[3m \u001b[0m\u001b[3m \u001b[0m\u001b[3m \u001b[0m\u001b[3m         \u001b[0m\u001b[3m \u001b[0m\u001b[3m \u001b[0m\u001b[3m \u001b[0m\u001b[3m1732.0\u001b[0m\u001b[3m  \u001b[0m\u001b[3m \u001b[0m\u001b[3m \u001b[0m\u001b[3m \u001b[0m\u001b[3m1749.0\u001b[0m\u001b[3m \u001b[0m\u001b[3m \u001b[0m\u001b[3m \u001b[0m\u001b[3m \u001b[0m\u001b[3m1732-1749\u001b[0m\u001b[3m \u001b[0m\u001b[3m \u001b[0m\u001b[3m \u001b[0m\u001b[3m1732, 17\u001b[0m\u001b[3m \u001b[0m\u001b[3m \u001b[0m\u001b[3m \u001b[0m\u001b[3m/ark:/615\u001b[0m\u001b[3m \u001b[0m\u001b[3m \u001b[0m\u001b[3m \u001b[0m\u001b[3mAbel, Ol\u001b[0m\u001b[3m \u001b[0m\u001b[3m \u001b[0m\u001b[3m \u001b[0m  │\n",
       "│  \u001b[1m       \u001b[0m \u001b[3m \u001b[0m\u001b[3m \u001b[0m\u001b[3m \u001b[0m\u001b[3m<a class\u001b[0m\u001b[3m \u001b[0m\u001b[3m \u001b[0m\u001b[3m \u001b[0m\u001b[3mAblé, Pi\u001b[0m\u001b[3m \u001b[0m\u001b[3m \u001b[0m\u001b[3m \u001b[0m\u001b[3m        \u001b[0m\u001b[3m \u001b[0m\u001b[3m \u001b[0m\u001b[3m \u001b[0m\u001b[3m        \u001b[0m\u001b[3m \u001b[0m\u001b[3m \u001b[0m\u001b[3m \u001b[0m\u001b[3m         \u001b[0m\u001b[3m \u001b[0m\u001b[3m \u001b[0m\u001b[3m \u001b[0m\u001b[3m1777.0\u001b[0m\u001b[3m  \u001b[0m\u001b[3m \u001b[0m\u001b[3m \u001b[0m\u001b[3m \u001b[0m\u001b[3m1777.0\u001b[0m\u001b[3m \u001b[0m\u001b[3m \u001b[0m\u001b[3m \u001b[0m\u001b[3m \u001b[0m\u001b[3m1777-1777\u001b[0m\u001b[3m \u001b[0m\u001b[3m \u001b[0m\u001b[3m \u001b[0m\u001b[3m1777\u001b[0m\u001b[3m    \u001b[0m\u001b[3m \u001b[0m\u001b[3m \u001b[0m\u001b[3m \u001b[0m\u001b[3m/ark:/615\u001b[0m\u001b[3m \u001b[0m\u001b[3m \u001b[0m\u001b[3m \u001b[0m\u001b[3mAblé, Pi\u001b[0m\u001b[3m \u001b[0m\u001b[3m \u001b[0m\u001b[3m \u001b[0m  │\n",
       "│  \u001b[1m       \u001b[0m \u001b[3m \u001b[0m\u001b[3m \u001b[0m\u001b[3m \u001b[0m\u001b[3m<a class\u001b[0m\u001b[3m \u001b[0m\u001b[3m \u001b[0m\u001b[3m \u001b[0m\u001b[3mAbon, Ja\u001b[0m\u001b[3m \u001b[0m\u001b[3m \u001b[0m\u001b[3m \u001b[0m\u001b[3m        \u001b[0m\u001b[3m \u001b[0m\u001b[3m \u001b[0m\u001b[3m \u001b[0m\u001b[3m        \u001b[0m\u001b[3m \u001b[0m\u001b[3m \u001b[0m\u001b[3m \u001b[0m\u001b[3mRégiment \u001b[0m\u001b[3m \u001b[0m\u001b[3m \u001b[0m\u001b[3m \u001b[0m\u001b[3m1773.0\u001b[0m\u001b[3m  \u001b[0m\u001b[3m \u001b[0m\u001b[3m \u001b[0m\u001b[3m \u001b[0m\u001b[3m1779.0\u001b[0m\u001b[3m \u001b[0m\u001b[3m \u001b[0m\u001b[3m \u001b[0m\u001b[3m \u001b[0m\u001b[3m1773-1779\u001b[0m\u001b[3m \u001b[0m\u001b[3m \u001b[0m\u001b[3m \u001b[0m\u001b[3m1773, 17\u001b[0m\u001b[3m \u001b[0m\u001b[3m \u001b[0m\u001b[3m \u001b[0m\u001b[3m/ark:/615\u001b[0m\u001b[3m \u001b[0m\u001b[3m \u001b[0m\u001b[3m \u001b[0m\u001b[3mAbon, Ja\u001b[0m\u001b[3m \u001b[0m\u001b[3m \u001b[0m\u001b[3m \u001b[0m  │\n",
       "│  \u001b[1m       \u001b[0m \u001b[3m \u001b[0m\u001b[3m \u001b[0m\u001b[3m \u001b[0m\u001b[3m<a class\u001b[0m\u001b[3m \u001b[0m\u001b[3m \u001b[0m\u001b[3m \u001b[0m\u001b[3mAccaron,\u001b[0m\u001b[3m \u001b[0m\u001b[3m \u001b[0m\u001b[3m \u001b[0m\u001b[3m        \u001b[0m\u001b[3m \u001b[0m\u001b[3m \u001b[0m\u001b[3m \u001b[0m\u001b[3m        \u001b[0m\u001b[3m \u001b[0m\u001b[3m \u001b[0m\u001b[3m \u001b[0m\u001b[3m         \u001b[0m\u001b[3m \u001b[0m\u001b[3m \u001b[0m\u001b[3m \u001b[0m\u001b[3m1735.0\u001b[0m\u001b[3m  \u001b[0m\u001b[3m \u001b[0m\u001b[3m \u001b[0m\u001b[3m \u001b[0m\u001b[3m1766.0\u001b[0m\u001b[3m \u001b[0m\u001b[3m \u001b[0m\u001b[3m \u001b[0m\u001b[3m \u001b[0m\u001b[3m1735-1766\u001b[0m\u001b[3m \u001b[0m\u001b[3m \u001b[0m\u001b[3m \u001b[0m\u001b[3m1735, 17\u001b[0m\u001b[3m \u001b[0m\u001b[3m \u001b[0m\u001b[3m \u001b[0m\u001b[3m/ark:/615\u001b[0m\u001b[3m \u001b[0m\u001b[3m \u001b[0m\u001b[3m \u001b[0m\u001b[3mAccaron,\u001b[0m\u001b[3m \u001b[0m\u001b[3m \u001b[0m\u001b[3m \u001b[0m  │\n",
       "│  \u001b[1m       \u001b[0m \u001b[3m \u001b[0m\u001b[3m \u001b[0m\u001b[3m \u001b[0m\u001b[3m<a class\u001b[0m\u001b[3m \u001b[0m\u001b[3m \u001b[0m\u001b[3m \u001b[0m\u001b[3mAccolans\u001b[0m\u001b[3m \u001b[0m\u001b[3m \u001b[0m\u001b[3m \u001b[0m\u001b[3m['Saint-\u001b[0m\u001b[3m \u001b[0m\u001b[3m \u001b[0m\u001b[3m \u001b[0m\u001b[3m['Saint-\u001b[0m\u001b[3m \u001b[0m\u001b[3m \u001b[0m\u001b[3m \u001b[0m\u001b[3m         \u001b[0m\u001b[3m \u001b[0m\u001b[3m \u001b[0m\u001b[3m \u001b[0m\u001b[3m1767.0\u001b[0m\u001b[3m  \u001b[0m\u001b[3m \u001b[0m\u001b[3m \u001b[0m\u001b[3m \u001b[0m\u001b[3m1770.0\u001b[0m\u001b[3m \u001b[0m\u001b[3m \u001b[0m\u001b[3m \u001b[0m\u001b[3m \u001b[0m\u001b[3m1767-1770\u001b[0m\u001b[3m \u001b[0m\u001b[3m \u001b[0m\u001b[3m \u001b[0m\u001b[3m1767, 17\u001b[0m\u001b[3m \u001b[0m\u001b[3m \u001b[0m\u001b[3m \u001b[0m\u001b[3m/ark:/615\u001b[0m\u001b[3m \u001b[0m\u001b[3m \u001b[0m\u001b[3m \u001b[0m\u001b[3mAccolans\u001b[0m\u001b[3m \u001b[0m\u001b[3m \u001b[0m\u001b[3m \u001b[0m  │\n",
       "│  \u001b[1m       \u001b[0m \u001b[3m \u001b[0m\u001b[3m \u001b[0m\u001b[3m \u001b[0m\u001b[3m<a class\u001b[0m\u001b[3m \u001b[0m\u001b[3m \u001b[0m\u001b[3m \u001b[0m\u001b[3mAchard, \u001b[0m\u001b[3m \u001b[0m\u001b[3m \u001b[0m\u001b[3m \u001b[0m\u001b[3m['Pointe\u001b[0m\u001b[3m \u001b[0m\u001b[3m \u001b[0m\u001b[3m \u001b[0m\u001b[3m['Pointe\u001b[0m\u001b[3m \u001b[0m\u001b[3m \u001b[0m\u001b[3m \u001b[0m\u001b[3m         \u001b[0m\u001b[3m \u001b[0m\u001b[3m \u001b[0m\u001b[3m \u001b[0m\u001b[3m1787.0\u001b[0m\u001b[3m  \u001b[0m\u001b[3m \u001b[0m\u001b[3m \u001b[0m\u001b[3m \u001b[0m\u001b[3m1787.0\u001b[0m\u001b[3m \u001b[0m\u001b[3m \u001b[0m\u001b[3m \u001b[0m\u001b[3m \u001b[0m\u001b[3m1787-1787\u001b[0m\u001b[3m \u001b[0m\u001b[3m \u001b[0m\u001b[3m \u001b[0m\u001b[3m1787\u001b[0m\u001b[3m    \u001b[0m\u001b[3m \u001b[0m\u001b[3m \u001b[0m\u001b[3m \u001b[0m\u001b[3m/ark:/615\u001b[0m\u001b[3m \u001b[0m\u001b[3m \u001b[0m\u001b[3m \u001b[0m\u001b[3mAchard, \u001b[0m\u001b[3m \u001b[0m\u001b[3m \u001b[0m\u001b[3m \u001b[0m  │\n",
       "│  \u001b[1m       \u001b[0m \u001b[3m \u001b[0m\u001b[3m \u001b[0m\u001b[3m \u001b[0m\u001b[3m<a class\u001b[0m\u001b[3m \u001b[0m\u001b[3m \u001b[0m\u001b[3m \u001b[0m\u001b[3mAchard, \u001b[0m\u001b[3m \u001b[0m\u001b[3m \u001b[0m\u001b[3m \u001b[0m\u001b[3m['Basse-\u001b[0m\u001b[3m \u001b[0m\u001b[3m \u001b[0m\u001b[3m \u001b[0m\u001b[3m['Basse-\u001b[0m\u001b[3m \u001b[0m\u001b[3m \u001b[0m\u001b[3m \u001b[0m\u001b[3m         \u001b[0m\u001b[3m \u001b[0m\u001b[3m \u001b[0m\u001b[3m \u001b[0m\u001b[3m1787.0\u001b[0m\u001b[3m  \u001b[0m\u001b[3m \u001b[0m\u001b[3m \u001b[0m\u001b[3m \u001b[0m\u001b[3m1787.0\u001b[0m\u001b[3m \u001b[0m\u001b[3m \u001b[0m\u001b[3m \u001b[0m\u001b[3m \u001b[0m\u001b[3m1787-1787\u001b[0m\u001b[3m \u001b[0m\u001b[3m \u001b[0m\u001b[3m \u001b[0m\u001b[3m1787\u001b[0m\u001b[3m    \u001b[0m\u001b[3m \u001b[0m\u001b[3m \u001b[0m\u001b[3m \u001b[0m\u001b[3m/ark:/615\u001b[0m\u001b[3m \u001b[0m\u001b[3m \u001b[0m\u001b[3m \u001b[0m\u001b[3mAchard, \u001b[0m\u001b[3m \u001b[0m\u001b[3m \u001b[0m\u001b[3m \u001b[0m  │\n",
       "│  \u001b[1m       \u001b[0m \u001b[3m \u001b[0m\u001b[3m \u001b[0m\u001b[3m \u001b[0m\u001b[3m<a class\u001b[0m\u001b[3m \u001b[0m\u001b[3m \u001b[0m\u001b[3m \u001b[0m\u001b[3mAchard d\u001b[0m\u001b[3m \u001b[0m\u001b[3m \u001b[0m\u001b[3m \u001b[0m\u001b[3m['Cap']\u001b[0m\u001b[3m \u001b[0m\u001b[3m \u001b[0m\u001b[3m \u001b[0m\u001b[3m \u001b[0m\u001b[3m['Le Cap\u001b[0m\u001b[3m \u001b[0m\u001b[3m \u001b[0m\u001b[3m \u001b[0m\u001b[3mConseil s\u001b[0m\u001b[3m \u001b[0m\u001b[3m \u001b[0m\u001b[3m \u001b[0m\u001b[3m1769.0\u001b[0m\u001b[3m  \u001b[0m\u001b[3m \u001b[0m\u001b[3m \u001b[0m\u001b[3m \u001b[0m\u001b[3m1776.0\u001b[0m\u001b[3m \u001b[0m\u001b[3m \u001b[0m\u001b[3m \u001b[0m\u001b[3m \u001b[0m\u001b[3m1769-1776\u001b[0m\u001b[3m \u001b[0m\u001b[3m \u001b[0m\u001b[3m \u001b[0m\u001b[3m1769, 17\u001b[0m\u001b[3m \u001b[0m\u001b[3m \u001b[0m\u001b[3m \u001b[0m\u001b[3m/ark:/615\u001b[0m\u001b[3m \u001b[0m\u001b[3m \u001b[0m\u001b[3m \u001b[0m\u001b[3mAchard d\u001b[0m\u001b[3m \u001b[0m\u001b[3m \u001b[0m\u001b[3m \u001b[0m  │\n",
       "│  \u001b[1m       \u001b[0m \u001b[3m \u001b[0m\u001b[3m \u001b[0m\u001b[3m \u001b[0m\u001b[3m<a class\u001b[0m\u001b[3m \u001b[0m\u001b[3m \u001b[0m\u001b[3m \u001b[0m\u001b[3mAchard d\u001b[0m\u001b[3m \u001b[0m\u001b[3m \u001b[0m\u001b[3m \u001b[0m\u001b[3m[\"Saint-\u001b[0m\u001b[3m \u001b[0m\u001b[3m \u001b[0m\u001b[3m \u001b[0m\u001b[3m[\"Saint-\u001b[0m\u001b[3m \u001b[0m\u001b[3m \u001b[0m\u001b[3m \u001b[0m\u001b[3m         \u001b[0m\u001b[3m \u001b[0m\u001b[3m \u001b[0m\u001b[3m \u001b[0m\u001b[3m1734.0\u001b[0m\u001b[3m  \u001b[0m\u001b[3m \u001b[0m\u001b[3m \u001b[0m\u001b[3m \u001b[0m\u001b[3m1779.0\u001b[0m\u001b[3m \u001b[0m\u001b[3m \u001b[0m\u001b[3m \u001b[0m\u001b[3m \u001b[0m\u001b[3m1734-1779\u001b[0m\u001b[3m \u001b[0m\u001b[3m \u001b[0m\u001b[3m \u001b[0m\u001b[3m1734, 17\u001b[0m\u001b[3m \u001b[0m\u001b[3m \u001b[0m\u001b[3m \u001b[0m\u001b[3m/ark:/615\u001b[0m\u001b[3m \u001b[0m\u001b[3m \u001b[0m\u001b[3m \u001b[0m\u001b[3mAchard d\u001b[0m\u001b[3m \u001b[0m\u001b[3m \u001b[0m\u001b[3m \u001b[0m  │\n",
       "│  \u001b[1m       \u001b[0m \u001b[3m \u001b[0m\u001b[3m \u001b[0m\u001b[3m \u001b[0m\u001b[3m<a class\u001b[0m\u001b[3m \u001b[0m\u001b[3m \u001b[0m\u001b[3m \u001b[0m\u001b[3mAché\u001b[0m\u001b[3m    \u001b[0m\u001b[3m \u001b[0m\u001b[3m \u001b[0m\u001b[3m \u001b[0m\u001b[3m['Embrun\u001b[0m\u001b[3m \u001b[0m\u001b[3m \u001b[0m\u001b[3m \u001b[0m\u001b[3m['Embrun\u001b[0m\u001b[3m \u001b[0m\u001b[3m \u001b[0m\u001b[3m \u001b[0m\u001b[3mRégiment \u001b[0m\u001b[3m \u001b[0m\u001b[3m \u001b[0m\u001b[3m \u001b[0m\u001b[3m1788.0\u001b[0m\u001b[3m  \u001b[0m\u001b[3m \u001b[0m\u001b[3m \u001b[0m\u001b[3m \u001b[0m\u001b[3m1788.0\u001b[0m\u001b[3m \u001b[0m\u001b[3m \u001b[0m\u001b[3m \u001b[0m\u001b[3m \u001b[0m\u001b[3m1788-1788\u001b[0m\u001b[3m \u001b[0m\u001b[3m \u001b[0m\u001b[3m \u001b[0m\u001b[3m1788\u001b[0m\u001b[3m    \u001b[0m\u001b[3m \u001b[0m\u001b[3m \u001b[0m\u001b[3m \u001b[0m\u001b[3m/ark:/615\u001b[0m\u001b[3m \u001b[0m\u001b[3m \u001b[0m\u001b[3m \u001b[0m\u001b[3mAché, co\u001b[0m\u001b[3m \u001b[0m\u001b[3m \u001b[0m\u001b[3m \u001b[0m  │\n",
       "│  \u001b[1m       \u001b[0m \u001b[3m \u001b[0m\u001b[3m \u001b[0m\u001b[3m \u001b[0m\u001b[3m...\u001b[0m\u001b[3m     \u001b[0m\u001b[3m \u001b[0m\u001b[3m \u001b[0m\u001b[3m \u001b[0m\u001b[3m...\u001b[0m\u001b[3m     \u001b[0m\u001b[3m \u001b[0m\u001b[3m \u001b[0m\u001b[3m \u001b[0m\u001b[3m...\u001b[0m\u001b[3m     \u001b[0m\u001b[3m \u001b[0m\u001b[3m \u001b[0m\u001b[3m \u001b[0m\u001b[3m...\u001b[0m\u001b[3m     \u001b[0m\u001b[3m \u001b[0m\u001b[3m \u001b[0m\u001b[3m \u001b[0m\u001b[3m...\u001b[0m\u001b[3m      \u001b[0m\u001b[3m \u001b[0m\u001b[3m \u001b[0m\u001b[3m \u001b[0m\u001b[3m...\u001b[0m\u001b[3m     \u001b[0m\u001b[3m \u001b[0m\u001b[3m \u001b[0m\u001b[3m \u001b[0m\u001b[3m...\u001b[0m\u001b[3m    \u001b[0m\u001b[3m \u001b[0m\u001b[3m \u001b[0m\u001b[3m \u001b[0m\u001b[3m...\u001b[0m\u001b[3m      \u001b[0m\u001b[3m \u001b[0m\u001b[3m \u001b[0m\u001b[3m \u001b[0m\u001b[3m...\u001b[0m\u001b[3m     \u001b[0m\u001b[3m \u001b[0m\u001b[3m \u001b[0m\u001b[3m \u001b[0m\u001b[3m...\u001b[0m\u001b[3m      \u001b[0m\u001b[3m \u001b[0m\u001b[3m \u001b[0m\u001b[3m \u001b[0m\u001b[3m...\u001b[0m\u001b[3m     \u001b[0m\u001b[3m \u001b[0m\u001b[3m \u001b[0m\u001b[3m \u001b[0m  │\n",
       "│  \u001b[1m       \u001b[0m \u001b[3m \u001b[0m\u001b[3m \u001b[0m\u001b[3m \u001b[0m\u001b[3m...\u001b[0m\u001b[3m     \u001b[0m\u001b[3m \u001b[0m\u001b[3m \u001b[0m\u001b[3m \u001b[0m\u001b[3m...\u001b[0m\u001b[3m     \u001b[0m\u001b[3m \u001b[0m\u001b[3m \u001b[0m\u001b[3m \u001b[0m\u001b[3m...\u001b[0m\u001b[3m     \u001b[0m\u001b[3m \u001b[0m\u001b[3m \u001b[0m\u001b[3m \u001b[0m\u001b[3m...\u001b[0m\u001b[3m     \u001b[0m\u001b[3m \u001b[0m\u001b[3m \u001b[0m\u001b[3m \u001b[0m\u001b[3m...\u001b[0m\u001b[3m      \u001b[0m\u001b[3m \u001b[0m\u001b[3m \u001b[0m\u001b[3m \u001b[0m\u001b[3m...\u001b[0m\u001b[3m     \u001b[0m\u001b[3m \u001b[0m\u001b[3m \u001b[0m\u001b[3m \u001b[0m\u001b[3m...\u001b[0m\u001b[3m    \u001b[0m\u001b[3m \u001b[0m\u001b[3m \u001b[0m\u001b[3m \u001b[0m\u001b[3m...\u001b[0m\u001b[3m      \u001b[0m\u001b[3m \u001b[0m\u001b[3m \u001b[0m\u001b[3m \u001b[0m\u001b[3m...\u001b[0m\u001b[3m     \u001b[0m\u001b[3m \u001b[0m\u001b[3m \u001b[0m\u001b[3m \u001b[0m\u001b[3m...\u001b[0m\u001b[3m      \u001b[0m\u001b[3m \u001b[0m\u001b[3m \u001b[0m\u001b[3m \u001b[0m\u001b[3m...\u001b[0m\u001b[3m     \u001b[0m\u001b[3m \u001b[0m\u001b[3m \u001b[0m\u001b[3m \u001b[0m  │\n",
       "│  \u001b[1m       \u001b[0m \u001b[3m \u001b[0m\u001b[3m \u001b[0m\u001b[3m \u001b[0m\u001b[3m<a class\u001b[0m\u001b[3m \u001b[0m\u001b[3m \u001b[0m\u001b[3m \u001b[0m\u001b[3mYvon, Gi\u001b[0m\u001b[3m \u001b[0m\u001b[3m \u001b[0m\u001b[3m \u001b[0m\u001b[3m['Saint-\u001b[0m\u001b[3m \u001b[0m\u001b[3m \u001b[0m\u001b[3m \u001b[0m\u001b[3m['Saint-\u001b[0m\u001b[3m \u001b[0m\u001b[3m \u001b[0m\u001b[3m \u001b[0m\u001b[3mRégiment \u001b[0m\u001b[3m \u001b[0m\u001b[3m \u001b[0m\u001b[3m \u001b[0m\u001b[3m1775.0\u001b[0m\u001b[3m  \u001b[0m\u001b[3m \u001b[0m\u001b[3m \u001b[0m\u001b[3m \u001b[0m\u001b[3m1784.0\u001b[0m\u001b[3m \u001b[0m\u001b[3m \u001b[0m\u001b[3m \u001b[0m\u001b[3m \u001b[0m\u001b[3m1775-1784\u001b[0m\u001b[3m \u001b[0m\u001b[3m \u001b[0m\u001b[3m \u001b[0m\u001b[3m1775, 17\u001b[0m\u001b[3m \u001b[0m\u001b[3m \u001b[0m\u001b[3m \u001b[0m\u001b[3m/ark:/615\u001b[0m\u001b[3m \u001b[0m\u001b[3m \u001b[0m\u001b[3m \u001b[0m\u001b[3mYvon, Gi\u001b[0m\u001b[3m \u001b[0m\u001b[3m \u001b[0m\u001b[3m \u001b[0m  │\n",
       "│  \u001b[1m       \u001b[0m \u001b[3m \u001b[0m\u001b[3m \u001b[0m\u001b[3m \u001b[0m\u001b[3m<a class\u001b[0m\u001b[3m \u001b[0m\u001b[3m \u001b[0m\u001b[3m \u001b[0m\u001b[3mYvon, Jo\u001b[0m\u001b[3m \u001b[0m\u001b[3m \u001b[0m\u001b[3m \u001b[0m\u001b[3m['Sainte\u001b[0m\u001b[3m \u001b[0m\u001b[3m \u001b[0m\u001b[3m \u001b[0m\u001b[3m['Sainte\u001b[0m\u001b[3m \u001b[0m\u001b[3m \u001b[0m\u001b[3m \u001b[0m\u001b[3m         \u001b[0m\u001b[3m \u001b[0m\u001b[3m \u001b[0m\u001b[3m \u001b[0m\u001b[3m1763.0\u001b[0m\u001b[3m  \u001b[0m\u001b[3m \u001b[0m\u001b[3m \u001b[0m\u001b[3m \u001b[0m\u001b[3m1763.0\u001b[0m\u001b[3m \u001b[0m\u001b[3m \u001b[0m\u001b[3m \u001b[0m\u001b[3m \u001b[0m\u001b[3m1763-1763\u001b[0m\u001b[3m \u001b[0m\u001b[3m \u001b[0m\u001b[3m \u001b[0m\u001b[3m1763\u001b[0m\u001b[3m    \u001b[0m\u001b[3m \u001b[0m\u001b[3m \u001b[0m\u001b[3m \u001b[0m\u001b[3m/ark:/615\u001b[0m\u001b[3m \u001b[0m\u001b[3m \u001b[0m\u001b[3m \u001b[0m\u001b[3mYvon, Jo\u001b[0m\u001b[3m \u001b[0m\u001b[3m \u001b[0m\u001b[3m \u001b[0m  │\n",
       "│  \u001b[1m       \u001b[0m \u001b[3m \u001b[0m\u001b[3m \u001b[0m\u001b[3m \u001b[0m\u001b[3m<a class\u001b[0m\u001b[3m \u001b[0m\u001b[3m \u001b[0m\u001b[3m \u001b[0m\u001b[3mYvon, Lo\u001b[0m\u001b[3m \u001b[0m\u001b[3m \u001b[0m\u001b[3m \u001b[0m\u001b[3m['île de\u001b[0m\u001b[3m \u001b[0m\u001b[3m \u001b[0m\u001b[3m \u001b[0m\u001b[3m['France\u001b[0m\u001b[3m \u001b[0m\u001b[3m \u001b[0m\u001b[3m \u001b[0m\u001b[3m         \u001b[0m\u001b[3m \u001b[0m\u001b[3m \u001b[0m\u001b[3m \u001b[0m\u001b[3m1771.0\u001b[0m\u001b[3m  \u001b[0m\u001b[3m \u001b[0m\u001b[3m \u001b[0m\u001b[3m \u001b[0m\u001b[3m1790.0\u001b[0m\u001b[3m \u001b[0m\u001b[3m \u001b[0m\u001b[3m \u001b[0m\u001b[3m \u001b[0m\u001b[3m1771-1790\u001b[0m\u001b[3m \u001b[0m\u001b[3m \u001b[0m\u001b[3m \u001b[0m\u001b[3m1771, 17\u001b[0m\u001b[3m \u001b[0m\u001b[3m \u001b[0m\u001b[3m \u001b[0m\u001b[3m/ark:/615\u001b[0m\u001b[3m \u001b[0m\u001b[3m \u001b[0m\u001b[3m \u001b[0m\u001b[3mYvon, Lo\u001b[0m\u001b[3m \u001b[0m\u001b[3m \u001b[0m\u001b[3m \u001b[0m  │\n",
       "│  \u001b[1m       \u001b[0m \u001b[3m \u001b[0m\u001b[3m \u001b[0m\u001b[3m \u001b[0m\u001b[3m<a class\u001b[0m\u001b[3m \u001b[0m\u001b[3m \u001b[0m\u001b[3m \u001b[0m\u001b[3mYvon\u001b[0m\u001b[3m    \u001b[0m\u001b[3m \u001b[0m\u001b[3m \u001b[0m\u001b[3m \u001b[0m\u001b[3m['île de\u001b[0m\u001b[3m \u001b[0m\u001b[3m \u001b[0m\u001b[3m \u001b[0m\u001b[3m['France\u001b[0m\u001b[3m \u001b[0m\u001b[3m \u001b[0m\u001b[3m \u001b[0m\u001b[3m         \u001b[0m\u001b[3m \u001b[0m\u001b[3m \u001b[0m\u001b[3m \u001b[0m\u001b[3m1785.0\u001b[0m\u001b[3m  \u001b[0m\u001b[3m \u001b[0m\u001b[3m \u001b[0m\u001b[3m \u001b[0m\u001b[3m1785.0\u001b[0m\u001b[3m \u001b[0m\u001b[3m \u001b[0m\u001b[3m \u001b[0m\u001b[3m \u001b[0m\u001b[3m1785-1785\u001b[0m\u001b[3m \u001b[0m\u001b[3m \u001b[0m\u001b[3m \u001b[0m\u001b[3m1785\u001b[0m\u001b[3m    \u001b[0m\u001b[3m \u001b[0m\u001b[3m \u001b[0m\u001b[3m \u001b[0m\u001b[3m/ark:/615\u001b[0m\u001b[3m \u001b[0m\u001b[3m \u001b[0m\u001b[3m \u001b[0m\u001b[3mYvon, es\u001b[0m\u001b[3m \u001b[0m\u001b[3m \u001b[0m\u001b[3m \u001b[0m  │\n",
       "│  \u001b[1m       \u001b[0m \u001b[3m \u001b[0m\u001b[3m \u001b[0m\u001b[3m \u001b[0m\u001b[3m<a class\u001b[0m\u001b[3m \u001b[0m\u001b[3m \u001b[0m\u001b[3m \u001b[0m\u001b[3mYvonnet,\u001b[0m\u001b[3m \u001b[0m\u001b[3m \u001b[0m\u001b[3m \u001b[0m\u001b[3m['Caen',\u001b[0m\u001b[3m \u001b[0m\u001b[3m \u001b[0m\u001b[3m \u001b[0m\u001b[3m['Caen (\u001b[0m\u001b[3m \u001b[0m\u001b[3m \u001b[0m\u001b[3m \u001b[0m\u001b[3m         \u001b[0m\u001b[3m \u001b[0m\u001b[3m \u001b[0m\u001b[3m \u001b[0m\u001b[3m1787.0\u001b[0m\u001b[3m  \u001b[0m\u001b[3m \u001b[0m\u001b[3m \u001b[0m\u001b[3m \u001b[0m\u001b[3m1792.0\u001b[0m\u001b[3m \u001b[0m\u001b[3m \u001b[0m\u001b[3m \u001b[0m\u001b[3m \u001b[0m\u001b[3m1787-1792\u001b[0m\u001b[3m \u001b[0m\u001b[3m \u001b[0m\u001b[3m \u001b[0m\u001b[3m1787, 17\u001b[0m\u001b[3m \u001b[0m\u001b[3m \u001b[0m\u001b[3m \u001b[0m\u001b[3m/ark:/615\u001b[0m\u001b[3m \u001b[0m\u001b[3m \u001b[0m\u001b[3m \u001b[0m\u001b[3mYvonnet,\u001b[0m\u001b[3m \u001b[0m\u001b[3m \u001b[0m\u001b[3m \u001b[0m  │\n",
       "│  \u001b[1m       \u001b[0m \u001b[3m \u001b[0m\u001b[3m \u001b[0m\u001b[3m \u001b[0m\u001b[3m<a class\u001b[0m\u001b[3m \u001b[0m\u001b[3m \u001b[0m\u001b[3m \u001b[0m\u001b[3mYzact, P\u001b[0m\u001b[3m \u001b[0m\u001b[3m \u001b[0m\u001b[3m \u001b[0m\u001b[3m['Pondic\u001b[0m\u001b[3m \u001b[0m\u001b[3m \u001b[0m\u001b[3m \u001b[0m\u001b[3m['Pondic\u001b[0m\u001b[3m \u001b[0m\u001b[3m \u001b[0m\u001b[3m \u001b[0m\u001b[3mConseil s\u001b[0m\u001b[3m \u001b[0m\u001b[3m \u001b[0m\u001b[3m \u001b[0m\u001b[3m1769.0\u001b[0m\u001b[3m  \u001b[0m\u001b[3m \u001b[0m\u001b[3m \u001b[0m\u001b[3m \u001b[0m\u001b[3m1769.0\u001b[0m\u001b[3m \u001b[0m\u001b[3m \u001b[0m\u001b[3m \u001b[0m\u001b[3m \u001b[0m\u001b[3m1769-1769\u001b[0m\u001b[3m \u001b[0m\u001b[3m \u001b[0m\u001b[3m \u001b[0m\u001b[3m1769\u001b[0m\u001b[3m    \u001b[0m\u001b[3m \u001b[0m\u001b[3m \u001b[0m\u001b[3m \u001b[0m\u001b[3m/ark:/615\u001b[0m\u001b[3m \u001b[0m\u001b[3m \u001b[0m\u001b[3m \u001b[0m\u001b[3mYzact, P\u001b[0m\u001b[3m \u001b[0m\u001b[3m \u001b[0m\u001b[3m \u001b[0m  │\n",
       "│  \u001b[1m       \u001b[0m \u001b[3m \u001b[0m\u001b[3m \u001b[0m\u001b[3m \u001b[0m\u001b[3m<a class\u001b[0m\u001b[3m \u001b[0m\u001b[3m \u001b[0m\u001b[3m \u001b[0m\u001b[3mZacharie\u001b[0m\u001b[3m \u001b[0m\u001b[3m \u001b[0m\u001b[3m \u001b[0m\u001b[3m['Martin\u001b[0m\u001b[3m \u001b[0m\u001b[3m \u001b[0m\u001b[3m \u001b[0m\u001b[3m['Martin\u001b[0m\u001b[3m \u001b[0m\u001b[3m \u001b[0m\u001b[3m \u001b[0m\u001b[3mCapucins\u001b[0m\u001b[3m \u001b[0m\u001b[3m \u001b[0m\u001b[3m \u001b[0m\u001b[3m \u001b[0m\u001b[3m1783.0\u001b[0m\u001b[3m  \u001b[0m\u001b[3m \u001b[0m\u001b[3m \u001b[0m\u001b[3m \u001b[0m\u001b[3m1783.0\u001b[0m\u001b[3m \u001b[0m\u001b[3m \u001b[0m\u001b[3m \u001b[0m\u001b[3m \u001b[0m\u001b[3m1783-1783\u001b[0m\u001b[3m \u001b[0m\u001b[3m \u001b[0m\u001b[3m \u001b[0m\u001b[3m1783\u001b[0m\u001b[3m    \u001b[0m\u001b[3m \u001b[0m\u001b[3m \u001b[0m\u001b[3m \u001b[0m\u001b[3m/ark:/615\u001b[0m\u001b[3m \u001b[0m\u001b[3m \u001b[0m\u001b[3m \u001b[0m\u001b[3mZacharie\u001b[0m\u001b[3m \u001b[0m\u001b[3m \u001b[0m\u001b[3m \u001b[0m  │\n",
       "│  \u001b[1m       \u001b[0m \u001b[3m \u001b[0m\u001b[3m \u001b[0m\u001b[3m \u001b[0m\u001b[3m<a class\u001b[0m\u001b[3m \u001b[0m\u001b[3m \u001b[0m\u001b[3m \u001b[0m\u001b[3mZamor, A\u001b[0m\u001b[3m \u001b[0m\u001b[3m \u001b[0m\u001b[3m \u001b[0m\u001b[3m        \u001b[0m\u001b[3m \u001b[0m\u001b[3m \u001b[0m\u001b[3m \u001b[0m\u001b[3m        \u001b[0m\u001b[3m \u001b[0m\u001b[3m \u001b[0m\u001b[3m \u001b[0m\u001b[3mRégiment \u001b[0m\u001b[3m \u001b[0m\u001b[3m \u001b[0m\u001b[3m \u001b[0m\u001b[3m1784.0\u001b[0m\u001b[3m  \u001b[0m\u001b[3m \u001b[0m\u001b[3m \u001b[0m\u001b[3m \u001b[0m\u001b[3m1784.0\u001b[0m\u001b[3m \u001b[0m\u001b[3m \u001b[0m\u001b[3m \u001b[0m\u001b[3m \u001b[0m\u001b[3m1784-1784\u001b[0m\u001b[3m \u001b[0m\u001b[3m \u001b[0m\u001b[3m \u001b[0m\u001b[3m1784, 17\u001b[0m\u001b[3m \u001b[0m\u001b[3m \u001b[0m\u001b[3m \u001b[0m\u001b[3m/ark:/615\u001b[0m\u001b[3m \u001b[0m\u001b[3m \u001b[0m\u001b[3m \u001b[0m\u001b[3mZamor, A\u001b[0m\u001b[3m \u001b[0m\u001b[3m \u001b[0m\u001b[3m \u001b[0m  │\n",
       "│  \u001b[1m       \u001b[0m \u001b[3m \u001b[0m\u001b[3m \u001b[0m\u001b[3m \u001b[0m\u001b[3m<a class\u001b[0m\u001b[3m \u001b[0m\u001b[3m \u001b[0m\u001b[3m \u001b[0m\u001b[3mZanico, \u001b[0m\u001b[3m \u001b[0m\u001b[3m \u001b[0m\u001b[3m \u001b[0m\u001b[3m['Milan'\u001b[0m\u001b[3m \u001b[0m\u001b[3m \u001b[0m\u001b[3m \u001b[0m\u001b[3m['Milan \u001b[0m\u001b[3m \u001b[0m\u001b[3m \u001b[0m\u001b[3m \u001b[0m\u001b[3m         \u001b[0m\u001b[3m \u001b[0m\u001b[3m \u001b[0m\u001b[3m \u001b[0m\u001b[3m1781.0\u001b[0m\u001b[3m  \u001b[0m\u001b[3m \u001b[0m\u001b[3m \u001b[0m\u001b[3m \u001b[0m\u001b[3m1781.0\u001b[0m\u001b[3m \u001b[0m\u001b[3m \u001b[0m\u001b[3m \u001b[0m\u001b[3m \u001b[0m\u001b[3m1781-1781\u001b[0m\u001b[3m \u001b[0m\u001b[3m \u001b[0m\u001b[3m \u001b[0m\u001b[3m1781\u001b[0m\u001b[3m    \u001b[0m\u001b[3m \u001b[0m\u001b[3m \u001b[0m\u001b[3m \u001b[0m\u001b[3m/ark:/615\u001b[0m\u001b[3m \u001b[0m\u001b[3m \u001b[0m\u001b[3m \u001b[0m\u001b[3mZanico, \u001b[0m\u001b[3m \u001b[0m\u001b[3m \u001b[0m\u001b[3m \u001b[0m  │\n",
       "│  \u001b[1m       \u001b[0m \u001b[3m \u001b[0m\u001b[3m \u001b[0m\u001b[3m \u001b[0m\u001b[3m<a class\u001b[0m\u001b[3m \u001b[0m\u001b[3m \u001b[0m\u001b[3m \u001b[0m\u001b[3mZanthier\u001b[0m\u001b[3m \u001b[0m\u001b[3m \u001b[0m\u001b[3m \u001b[0m\u001b[3m['Indes'\u001b[0m\u001b[3m \u001b[0m\u001b[3m \u001b[0m\u001b[3m \u001b[0m\u001b[3m['Inde f\u001b[0m\u001b[3m \u001b[0m\u001b[3m \u001b[0m\u001b[3m \u001b[0m\u001b[3m         \u001b[0m\u001b[3m \u001b[0m\u001b[3m \u001b[0m\u001b[3m \u001b[0m\u001b[3m1781.0\u001b[0m\u001b[3m  \u001b[0m\u001b[3m \u001b[0m\u001b[3m \u001b[0m\u001b[3m \u001b[0m\u001b[3m1781.0\u001b[0m\u001b[3m \u001b[0m\u001b[3m \u001b[0m\u001b[3m \u001b[0m\u001b[3m \u001b[0m\u001b[3m1781-1781\u001b[0m\u001b[3m \u001b[0m\u001b[3m \u001b[0m\u001b[3m \u001b[0m\u001b[3m1781\u001b[0m\u001b[3m    \u001b[0m\u001b[3m \u001b[0m\u001b[3m \u001b[0m\u001b[3m \u001b[0m\u001b[3m/ark:/615\u001b[0m\u001b[3m \u001b[0m\u001b[3m \u001b[0m\u001b[3m \u001b[0m\u001b[3mZanthier\u001b[0m\u001b[3m \u001b[0m\u001b[3m \u001b[0m\u001b[3m \u001b[0m  │\n",
       "│  \u001b[1m       \u001b[0m \u001b[3m \u001b[0m\u001b[3m \u001b[0m\u001b[3m \u001b[0m\u001b[3m<a class\u001b[0m\u001b[3m \u001b[0m\u001b[3m \u001b[0m\u001b[3m \u001b[0m\u001b[3mZelman, \u001b[0m\u001b[3m \u001b[0m\u001b[3m \u001b[0m\u001b[3m \u001b[0m\u001b[3m        \u001b[0m\u001b[3m \u001b[0m\u001b[3m \u001b[0m\u001b[3m \u001b[0m\u001b[3m        \u001b[0m\u001b[3m \u001b[0m\u001b[3m \u001b[0m\u001b[3m \u001b[0m\u001b[3mRégiment \u001b[0m\u001b[3m \u001b[0m\u001b[3m \u001b[0m\u001b[3m \u001b[0m\u001b[3m1784.0\u001b[0m\u001b[3m  \u001b[0m\u001b[3m \u001b[0m\u001b[3m \u001b[0m\u001b[3m \u001b[0m\u001b[3m1784.0\u001b[0m\u001b[3m \u001b[0m\u001b[3m \u001b[0m\u001b[3m \u001b[0m\u001b[3m \u001b[0m\u001b[3m1784-1784\u001b[0m\u001b[3m \u001b[0m\u001b[3m \u001b[0m\u001b[3m \u001b[0m\u001b[3m1784, 17\u001b[0m\u001b[3m \u001b[0m\u001b[3m \u001b[0m\u001b[3m \u001b[0m\u001b[3m/ark:/615\u001b[0m\u001b[3m \u001b[0m\u001b[3m \u001b[0m\u001b[3m \u001b[0m\u001b[3mZelman, \u001b[0m\u001b[3m \u001b[0m\u001b[3m \u001b[0m\u001b[3m \u001b[0m  │\n",
       "│  \u001b[1m       \u001b[0m \u001b[3m \u001b[0m\u001b[3m \u001b[0m\u001b[3m \u001b[0m\u001b[3m<a class\u001b[0m\u001b[3m \u001b[0m\u001b[3m \u001b[0m\u001b[3m \u001b[0m\u001b[3mZemard, \u001b[0m\u001b[3m \u001b[0m\u001b[3m \u001b[0m\u001b[3m \u001b[0m\u001b[3m['île Ro\u001b[0m\u001b[3m \u001b[0m\u001b[3m \u001b[0m\u001b[3m \u001b[0m\u001b[3m['Royale\u001b[0m\u001b[3m \u001b[0m\u001b[3m \u001b[0m\u001b[3m \u001b[0m\u001b[3m         \u001b[0m\u001b[3m \u001b[0m\u001b[3m \u001b[0m\u001b[3m \u001b[0m\u001b[3m1741.0\u001b[0m\u001b[3m  \u001b[0m\u001b[3m \u001b[0m\u001b[3m \u001b[0m\u001b[3m \u001b[0m\u001b[3m1741.0\u001b[0m\u001b[3m \u001b[0m\u001b[3m \u001b[0m\u001b[3m \u001b[0m\u001b[3m \u001b[0m\u001b[3m1741-1741\u001b[0m\u001b[3m \u001b[0m\u001b[3m \u001b[0m\u001b[3m \u001b[0m\u001b[3m1741\u001b[0m\u001b[3m    \u001b[0m\u001b[3m \u001b[0m\u001b[3m \u001b[0m\u001b[3m \u001b[0m\u001b[3m/ark:/615\u001b[0m\u001b[3m \u001b[0m\u001b[3m \u001b[0m\u001b[3m \u001b[0m\u001b[3mZemard, \u001b[0m\u001b[3m \u001b[0m\u001b[3m \u001b[0m\u001b[3m \u001b[0m  │\n",
       "│  \u001b[1m       \u001b[0m \u001b[3m \u001b[0m\u001b[3m \u001b[0m\u001b[3m \u001b[0m\u001b[3m<a class\u001b[0m\u001b[3m \u001b[0m\u001b[3m \u001b[0m\u001b[3m \u001b[0m\u001b[3mZévallos\u001b[0m\u001b[3m \u001b[0m\u001b[3m \u001b[0m\u001b[3m \u001b[0m\u001b[3m['Sainte\u001b[0m\u001b[3m \u001b[0m\u001b[3m \u001b[0m\u001b[3m \u001b[0m\u001b[3m['Sainte\u001b[0m\u001b[3m \u001b[0m\u001b[3m \u001b[0m\u001b[3m \u001b[0m\u001b[3m         \u001b[0m\u001b[3m \u001b[0m\u001b[3m \u001b[0m\u001b[3m \u001b[0m\u001b[3m1770.0\u001b[0m\u001b[3m  \u001b[0m\u001b[3m \u001b[0m\u001b[3m \u001b[0m\u001b[3m \u001b[0m\u001b[3m1770.0\u001b[0m\u001b[3m \u001b[0m\u001b[3m \u001b[0m\u001b[3m \u001b[0m\u001b[3m \u001b[0m\u001b[3m1770-1770\u001b[0m\u001b[3m \u001b[0m\u001b[3m \u001b[0m\u001b[3m \u001b[0m\u001b[3m1770\u001b[0m\u001b[3m    \u001b[0m\u001b[3m \u001b[0m\u001b[3m \u001b[0m\u001b[3m \u001b[0m\u001b[3m/ark:/615\u001b[0m\u001b[3m \u001b[0m\u001b[3m \u001b[0m\u001b[3m \u001b[0m\u001b[3mZévallos\u001b[0m\u001b[3m \u001b[0m\u001b[3m \u001b[0m\u001b[3m \u001b[0m  │\n",
       "│  \u001b[1m       \u001b[0m \u001b[3m \u001b[0m\u001b[3m \u001b[0m\u001b[3m \u001b[0m\u001b[3m<a class\u001b[0m\u001b[3m \u001b[0m\u001b[3m \u001b[0m\u001b[3m \u001b[0m\u001b[3mZévallos\u001b[0m\u001b[3m \u001b[0m\u001b[3m \u001b[0m\u001b[3m \u001b[0m\u001b[3m        \u001b[0m\u001b[3m \u001b[0m\u001b[3m \u001b[0m\u001b[3m \u001b[0m\u001b[3m        \u001b[0m\u001b[3m \u001b[0m\u001b[3m \u001b[0m\u001b[3m \u001b[0m\u001b[3mRégiment \u001b[0m\u001b[3m \u001b[0m\u001b[3m \u001b[0m\u001b[3m \u001b[0m\u001b[3m1786.0\u001b[0m\u001b[3m  \u001b[0m\u001b[3m \u001b[0m\u001b[3m \u001b[0m\u001b[3m \u001b[0m\u001b[3m1791.0\u001b[0m\u001b[3m \u001b[0m\u001b[3m \u001b[0m\u001b[3m \u001b[0m\u001b[3m \u001b[0m\u001b[3m1786-1791\u001b[0m\u001b[3m \u001b[0m\u001b[3m \u001b[0m\u001b[3m \u001b[0m\u001b[3m1786, 17\u001b[0m\u001b[3m \u001b[0m\u001b[3m \u001b[0m\u001b[3m \u001b[0m\u001b[3m/ark:/615\u001b[0m\u001b[3m \u001b[0m\u001b[3m \u001b[0m\u001b[3m \u001b[0m\u001b[3mZévallos\u001b[0m\u001b[3m \u001b[0m\u001b[3m \u001b[0m\u001b[3m \u001b[0m  │\n",
       "│  \u001b[1m       \u001b[0m \u001b[3m \u001b[0m\u001b[3m \u001b[0m\u001b[3m \u001b[0m\u001b[3m<a class\u001b[0m\u001b[3m \u001b[0m\u001b[3m \u001b[0m\u001b[3m \u001b[0m\u001b[3mZunberge\u001b[0m\u001b[3m \u001b[0m\u001b[3m \u001b[0m\u001b[3m \u001b[0m\u001b[3m['Guyane\u001b[0m\u001b[3m \u001b[0m\u001b[3m \u001b[0m\u001b[3m \u001b[0m\u001b[3m['Guyane\u001b[0m\u001b[3m \u001b[0m\u001b[3m \u001b[0m\u001b[3m \u001b[0m\u001b[3m         \u001b[0m\u001b[3m \u001b[0m\u001b[3m \u001b[0m\u001b[3m \u001b[0m\u001b[3m1784.0\u001b[0m\u001b[3m  \u001b[0m\u001b[3m \u001b[0m\u001b[3m \u001b[0m\u001b[3m \u001b[0m\u001b[3m1784.0\u001b[0m\u001b[3m \u001b[0m\u001b[3m \u001b[0m\u001b[3m \u001b[0m\u001b[3m \u001b[0m\u001b[3m1784-1784\u001b[0m\u001b[3m \u001b[0m\u001b[3m \u001b[0m\u001b[3m \u001b[0m\u001b[3m1784\u001b[0m\u001b[3m    \u001b[0m\u001b[3m \u001b[0m\u001b[3m \u001b[0m\u001b[3m \u001b[0m\u001b[3m/ark:/615\u001b[0m\u001b[3m \u001b[0m\u001b[3m \u001b[0m\u001b[3m \u001b[0m\u001b[3mZunberge\u001b[0m\u001b[3m \u001b[0m\u001b[3m \u001b[0m\u001b[3m \u001b[0m  │\n",
       "│  \u001b[1m       \u001b[0m \u001b[3m \u001b[0m\u001b[3m \u001b[0m\u001b[3m \u001b[0m\u001b[3m<a class\u001b[0m\u001b[3m \u001b[0m\u001b[3m \u001b[0m\u001b[3m \u001b[0m\u001b[3mZweerts,\u001b[0m\u001b[3m \u001b[0m\u001b[3m \u001b[0m\u001b[3m \u001b[0m\u001b[3m['Tabago\u001b[0m\u001b[3m \u001b[0m\u001b[3m \u001b[0m\u001b[3m \u001b[0m\u001b[3m['Tabago\u001b[0m\u001b[3m \u001b[0m\u001b[3m \u001b[0m\u001b[3m \u001b[0m\u001b[3m         \u001b[0m\u001b[3m \u001b[0m\u001b[3m \u001b[0m\u001b[3m \u001b[0m\u001b[3m1782.0\u001b[0m\u001b[3m  \u001b[0m\u001b[3m \u001b[0m\u001b[3m \u001b[0m\u001b[3m \u001b[0m\u001b[3m1787.0\u001b[0m\u001b[3m \u001b[0m\u001b[3m \u001b[0m\u001b[3m \u001b[0m\u001b[3m \u001b[0m\u001b[3m1782-1787\u001b[0m\u001b[3m \u001b[0m\u001b[3m \u001b[0m\u001b[3m \u001b[0m\u001b[3m1782, 17\u001b[0m\u001b[3m \u001b[0m\u001b[3m \u001b[0m\u001b[3m \u001b[0m\u001b[3m/ark:/615\u001b[0m\u001b[3m \u001b[0m\u001b[3m \u001b[0m\u001b[3m \u001b[0m\u001b[3mZweerts,\u001b[0m\u001b[3m \u001b[0m\u001b[3m \u001b[0m\u001b[3m \u001b[0m  │\n",
       "│  \u001b[1m       \u001b[0m \u001b[3m \u001b[0m\u001b[3m                                                                                                                            \u001b[0m\u001b[3m \u001b[0m  │\n",
       "│                                                                                                                                          │\n",
       "╰──────────────────────────────────────────────────────────────────────────────────────────────────────────────────────────────────────────╯\n"
      ]
     },
     "execution_count": 19,
     "metadata": {},
     "output_type": "execute_result"
    }
   ],
   "source": [
    "rename_columns_result"
   ]
  },
  {
   "cell_type": "code",
   "execution_count": 20,
   "metadata": {},
   "outputs": [],
   "source": [
    "rename_columns_value = kiara.data_registry.get_value(rename_columns_result['table'].value_id)"
   ]
  },
  {
   "cell_type": "markdown",
   "metadata": {},
   "source": [
    "### 3. Check if all location data available in dataset and all coordinates present in coordinates data"
   ]
  },
  {
   "cell_type": "markdown",
   "metadata": {},
   "source": [
    "If the objective is to be able to display the dataset on a map, all rows must contain a normalized location name, and\n",
    "each location name needs to have a latitude and a longitude"
   ]
  },
  {
   "cell_type": "markdown",
   "metadata": {},
   "source": [
    "#### 3.1 Remove rows that contain nans in location place"
   ]
  },
  {
   "cell_type": "code",
   "execution_count": 21,
   "metadata": {},
   "outputs": [],
   "source": [
    "with_loc_result = api.run_job(operation=\"anom_processing.remove_nans\", inputs={'table':rename_columns_value, 'column':'placesnormalized'})"
   ]
  },
  {
   "cell_type": "markdown",
   "metadata": {},
   "source": [
    "At the moment the module doesn't output the list of rows containing nans in normalized location name col"
   ]
  },
  {
   "cell_type": "code",
   "execution_count": 22,
   "metadata": {},
   "outputs": [],
   "source": [
    "with_loc_value = kiara.data_registry.get_value(with_loc_result['table'].value_id)"
   ]
  },
  {
   "cell_type": "markdown",
   "metadata": {},
   "source": [
    "#### 3.1 Access coordinates CSV"
   ]
  },
  {
   "cell_type": "code",
   "execution_count": 23,
   "metadata": {},
   "outputs": [],
   "source": [
    "coords_file_path = '/Users/mariella.decrouychan/Downloads/anommedicalgeocoded-edited.csv'"
   ]
  },
  {
   "cell_type": "code",
   "execution_count": 24,
   "metadata": {},
   "outputs": [],
   "source": [
    "coords_onboarding_result = api.run_job(operation=\"import.table.from.csv_file\", inputs={'path':coords_file_path})"
   ]
  },
  {
   "cell_type": "code",
   "execution_count": 25,
   "metadata": {},
   "outputs": [],
   "source": [
    "coords_table_value = kiara.data_registry.get_value(coords_onboarding_result['table'].value_id)"
   ]
  },
  {
   "cell_type": "markdown",
   "metadata": {},
   "source": [
    "#### 3.2 Rename latitude and longitude"
   ]
  },
  {
   "cell_type": "markdown",
   "metadata": {},
   "source": [
    "I'm temporary leaving this step out for now since there are 2 place names, I'm wondering if we shouldn't keep the standardised one for the normalized place name col as it is common accross tables."
   ]
  },
  {
   "cell_type": "markdown",
   "metadata": {},
   "source": [
    "#### 3.2 Check if all coordinates present"
   ]
  },
  {
   "cell_type": "code",
   "execution_count": 26,
   "metadata": {},
   "outputs": [
    {
     "name": "stdout",
     "output_type": "stream",
     "text": [
      "\n",
      "╭─ Operation: \u001b[1;3manom_processing.coords_check\u001b[0m ────────────────────────────────────╮\n",
      "│                                                                              │\n",
      "│  \u001b[3m \u001b[0m\u001b[3mDocumentation\u001b[0m\u001b[3m \u001b[0m  This module aims at comparing two tables: one table that   │\n",
      "│  \u001b[3m               \u001b[0m  provides observations with a place name, and one table     │\n",
      "│  \u001b[3m               \u001b[0m  that                                                       │\n",
      "│  \u001b[3m               \u001b[0m                                                             │\n",
      "│  \u001b[3m               \u001b[0m  includes latitudes, longitudes and place names.            │\n",
      "│  \u001b[3m               \u001b[0m  A verification is performed to see if all place names of   │\n",
      "│  \u001b[3m               \u001b[0m  the first dataset are included in the second dataset.      │\n",
      "│  \u001b[3m               \u001b[0m  In this specific example, the first table includes         │\n",
      "│  \u001b[3m               \u001b[0m  several place names per row.                               │\n",
      "│  \u001b[3m               \u001b[0m  At the moment the module only covers the case of the       │\n",
      "│  \u001b[3m               \u001b[0m  specific example dataset (several locations per row),      │\n",
      "│  \u001b[3m               \u001b[0m  this should be improved in the future.                     │\n",
      "│                                                                              │\n",
      "│  \u001b[3m \u001b[0m\u001b[3mInputs       \u001b[0m\u001b[3m \u001b[0m                                                             │\n",
      "│  \u001b[3m               \u001b[0m   \u001b[1m \u001b[0m\u001b[1mfield   \u001b[0m\u001b[1m \u001b[0m \u001b[1m         \u001b[0m \u001b[1m          \u001b[0m \u001b[1m          \u001b[0m \u001b[1m           \u001b[0m    │\n",
      "│  \u001b[3m               \u001b[0m   \u001b[1m \u001b[0m\u001b[1mname    \u001b[0m\u001b[1m \u001b[0m \u001b[1m \u001b[0m\u001b[1mtype   \u001b[0m\u001b[1m \u001b[0m \u001b[1m \u001b[0m\u001b[1mdescrip…\u001b[0m\u001b[1m \u001b[0m \u001b[1m \u001b[0m\u001b[1mRequired\u001b[0m\u001b[1m \u001b[0m \u001b[1m \u001b[0m\u001b[1mDefault  \u001b[0m\u001b[1m \u001b[0m    │\n",
      "│  \u001b[3m               \u001b[0m   ──────────────────────────────────────────────────────    │\n",
      "│  \u001b[3m               \u001b[0m   \u001b[3m \u001b[0m\u001b[3mtable1  \u001b[0m\u001b[3m \u001b[0m  table     The        \u001b[1myes\u001b[0m        -- no         │\n",
      "│  \u001b[3m               \u001b[0m   \u001b[3m          \u001b[0m            table                 default       │\n",
      "│  \u001b[3m               \u001b[0m   \u001b[3m          \u001b[0m            that                  --            │\n",
      "│  \u001b[3m               \u001b[0m   \u001b[3m          \u001b[0m            contains                            │\n",
      "│  \u001b[3m               \u001b[0m   \u001b[3m          \u001b[0m            the                                 │\n",
      "│  \u001b[3m               \u001b[0m   \u001b[3m          \u001b[0m            observa…                            │\n",
      "│  \u001b[3m               \u001b[0m   \u001b[3m \u001b[0m\u001b[3mtable2  \u001b[0m\u001b[3m \u001b[0m  table     The        \u001b[1myes\u001b[0m        -- no         │\n",
      "│  \u001b[3m               \u001b[0m   \u001b[3m          \u001b[0m            table                 default       │\n",
      "│  \u001b[3m               \u001b[0m   \u001b[3m          \u001b[0m            that                  --            │\n",
      "│  \u001b[3m               \u001b[0m   \u001b[3m          \u001b[0m            contains                            │\n",
      "│  \u001b[3m               \u001b[0m   \u001b[3m          \u001b[0m            latitude                            │\n",
      "│  \u001b[3m               \u001b[0m   \u001b[3m          \u001b[0m            and                                 │\n",
      "│  \u001b[3m               \u001b[0m   \u001b[3m          \u001b[0m            longitu…                            │\n",
      "│  \u001b[3m               \u001b[0m   \u001b[3m          \u001b[0m            informa…                            │\n",
      "│  \u001b[3m               \u001b[0m   \u001b[3m \u001b[0m\u001b[3mcolumn1 \u001b[0m\u001b[3m \u001b[0m  string    The        \u001b[1myes\u001b[0m        -- no         │\n",
      "│  \u001b[3m               \u001b[0m   \u001b[3m          \u001b[0m            column                default       │\n",
      "│  \u001b[3m               \u001b[0m   \u001b[3m          \u001b[0m            that                  --            │\n",
      "│  \u001b[3m               \u001b[0m   \u001b[3m          \u001b[0m            contains                            │\n",
      "│  \u001b[3m               \u001b[0m   \u001b[3m          \u001b[0m            the                                 │\n",
      "│  \u001b[3m               \u001b[0m   \u001b[3m          \u001b[0m            place                               │\n",
      "│  \u001b[3m               \u001b[0m   \u001b[3m          \u001b[0m            names in                            │\n",
      "│  \u001b[3m               \u001b[0m   \u001b[3m          \u001b[0m            table 1.                            │\n",
      "│  \u001b[3m               \u001b[0m   \u001b[3m \u001b[0m\u001b[3mcolumn2 \u001b[0m\u001b[3m \u001b[0m  string    The        \u001b[1myes\u001b[0m        -- no         │\n",
      "│  \u001b[3m               \u001b[0m   \u001b[3m          \u001b[0m            column                default       │\n",
      "│  \u001b[3m               \u001b[0m   \u001b[3m          \u001b[0m            that                  --            │\n",
      "│  \u001b[3m               \u001b[0m   \u001b[3m          \u001b[0m            contains                            │\n",
      "│  \u001b[3m               \u001b[0m   \u001b[3m          \u001b[0m            the                                 │\n",
      "│  \u001b[3m               \u001b[0m   \u001b[3m          \u001b[0m            place                               │\n",
      "│  \u001b[3m               \u001b[0m   \u001b[3m          \u001b[0m            names in                            │\n",
      "│  \u001b[3m               \u001b[0m   \u001b[3m          \u001b[0m            table 2.                            │\n",
      "│  \u001b[3m               \u001b[0m   \u001b[3m \u001b[0m\u001b[3msample_n\u001b[0m\u001b[3m \u001b[0m  integer   Number     no         -- no         │\n",
      "│  \u001b[3m               \u001b[0m   \u001b[3m \u001b[0m\u001b[3mr       \u001b[0m\u001b[3m \u001b[0m            of                    default       │\n",
      "│  \u001b[3m               \u001b[0m   \u001b[3m          \u001b[0m            observa…              --            │\n",
      "│  \u001b[3m               \u001b[0m   \u001b[3m          \u001b[0m            to                                  │\n",
      "│  \u001b[3m               \u001b[0m   \u001b[3m          \u001b[0m            include                             │\n",
      "│  \u001b[3m               \u001b[0m   \u001b[3m          \u001b[0m            in case                             │\n",
      "│  \u001b[3m               \u001b[0m   \u001b[3m          \u001b[0m            it is                               │\n",
      "│  \u001b[3m               \u001b[0m   \u001b[3m          \u001b[0m            perform…                            │\n",
      "│  \u001b[3m               \u001b[0m   \u001b[3m          \u001b[0m            on a                                │\n",
      "│  \u001b[3m               \u001b[0m   \u001b[3m          \u001b[0m            sample.                             │\n",
      "│  \u001b[3m               \u001b[0m                                                             │\n",
      "│                                                                              │\n",
      "│  \u001b[3m \u001b[0m\u001b[3mOutputs      \u001b[0m\u001b[3m \u001b[0m                                                             │\n",
      "│  \u001b[3m               \u001b[0m   \u001b[1m \u001b[0m\u001b[1mfield name \u001b[0m\u001b[1m \u001b[0m \u001b[1m \u001b[0m\u001b[1mtype  \u001b[0m\u001b[1m \u001b[0m \u001b[1m \u001b[0m\u001b[1mdescription                  \u001b[0m\u001b[1m \u001b[0m    │\n",
      "│  \u001b[3m               \u001b[0m   ──────────────────────────────────────────────────────    │\n",
      "│  \u001b[3m               \u001b[0m   \u001b[3m \u001b[0m\u001b[3mresult     \u001b[0m\u001b[3m \u001b[0m  string   Information about the result      │\n",
      "│  \u001b[3m               \u001b[0m   \u001b[3m             \u001b[0m           (all coords present or            │\n",
      "│  \u001b[3m               \u001b[0m   \u001b[3m             \u001b[0m           missing coords).                  │\n",
      "│  \u001b[3m               \u001b[0m   \u001b[3m \u001b[0m\u001b[3mplaces_list\u001b[0m\u001b[3m \u001b[0m  list     List of the place names that      │\n",
      "│  \u001b[3m               \u001b[0m   \u001b[3m             \u001b[0m           are not included.                 │\n",
      "│  \u001b[3m               \u001b[0m                                                             │\n",
      "│                                                                              │\n",
      "╰──────────────────────────────────────────────────────────────────────────────╯\n"
     ]
    }
   ],
   "source": [
    "! kiara operation explain anom_processing.coords_check"
   ]
  },
  {
   "cell_type": "code",
   "execution_count": 27,
   "metadata": {},
   "outputs": [],
   "source": [
    "coords_check_result = api.run_job(operation=\"anom_processing.coords_check\", inputs={'table1':with_loc_value, 'table2':coords_table_value, \"column1\":'placesnormalized',\"column2\":'normalized'})"
   ]
  },
  {
   "cell_type": "code",
   "execution_count": 28,
   "metadata": {},
   "outputs": [
    {
     "data": {
      "text/plain": [
       "'Missing coordinates.'"
      ]
     },
     "execution_count": 28,
     "metadata": {},
     "output_type": "execute_result"
    }
   ],
   "source": [
    "coords_check_result['result'].data"
   ]
  },
  {
   "cell_type": "code",
   "execution_count": 29,
   "metadata": {},
   "outputs": [],
   "source": [
    "# uncomment to see locations that are not present in the geocoded places file\n",
    "# coords_check_result['places_list'].data"
   ]
  },
  {
   "cell_type": "markdown",
   "metadata": {},
   "source": [
    "### 3. Filter out some columns"
   ]
  },
  {
   "cell_type": "code",
   "execution_count": 30,
   "metadata": {},
   "outputs": [
    {
     "name": "stdout",
     "output_type": "stream",
     "text": [
      "\n",
      "╭─ Operation: \u001b[1;3mtable_filter.select_columns\u001b[0m ─────────────────────────────────────╮\n",
      "│                                                                              │\n",
      "│  \u001b[3m \u001b[0m\u001b[3mDocumentation\u001b[0m\u001b[3m \u001b[0m  -- n/a --                                                  │\n",
      "│                                                                              │\n",
      "│  \u001b[3m \u001b[0m\u001b[3mInputs       \u001b[0m\u001b[3m \u001b[0m                                                             │\n",
      "│  \u001b[3m               \u001b[0m   \u001b[1m \u001b[0m\u001b[1mfield   \u001b[0m\u001b[1m \u001b[0m \u001b[1m         \u001b[0m \u001b[1m          \u001b[0m \u001b[1m          \u001b[0m \u001b[1m           \u001b[0m    │\n",
      "│  \u001b[3m               \u001b[0m   \u001b[1m \u001b[0m\u001b[1mname    \u001b[0m\u001b[1m \u001b[0m \u001b[1m \u001b[0m\u001b[1mtype   \u001b[0m\u001b[1m \u001b[0m \u001b[1m \u001b[0m\u001b[1mdescrip…\u001b[0m\u001b[1m \u001b[0m \u001b[1m \u001b[0m\u001b[1mRequired\u001b[0m\u001b[1m \u001b[0m \u001b[1m \u001b[0m\u001b[1mDefault  \u001b[0m\u001b[1m \u001b[0m    │\n",
      "│  \u001b[3m               \u001b[0m   ──────────────────────────────────────────────────────    │\n",
      "│  \u001b[3m               \u001b[0m   \u001b[3m \u001b[0m\u001b[3mvalue   \u001b[0m\u001b[3m \u001b[0m  table     A value    \u001b[1myes\u001b[0m        -- no         │\n",
      "│  \u001b[3m               \u001b[0m   \u001b[3m          \u001b[0m            of type               default       │\n",
      "│  \u001b[3m               \u001b[0m   \u001b[3m          \u001b[0m            'table'.              --            │\n",
      "│  \u001b[3m               \u001b[0m   \u001b[3m \u001b[0m\u001b[3mcolumns \u001b[0m\u001b[3m \u001b[0m  list      The name   no         -- no         │\n",
      "│  \u001b[3m               \u001b[0m   \u001b[3m          \u001b[0m            of the                default       │\n",
      "│  \u001b[3m               \u001b[0m   \u001b[3m          \u001b[0m            columns               --            │\n",
      "│  \u001b[3m               \u001b[0m   \u001b[3m          \u001b[0m            to                                  │\n",
      "│  \u001b[3m               \u001b[0m   \u001b[3m          \u001b[0m            include.                            │\n",
      "│  \u001b[3m               \u001b[0m   \u001b[3m \u001b[0m\u001b[3mignore_i\u001b[0m\u001b[3m \u001b[0m  boolean   Whether    no         True          │\n",
      "│  \u001b[3m               \u001b[0m   \u001b[3m \u001b[0m\u001b[3mnvalid_c\u001b[0m\u001b[3m \u001b[0m            to                                  │\n",
      "│  \u001b[3m               \u001b[0m   \u001b[3m \u001b[0m\u001b[3molumn_na\u001b[0m\u001b[3m \u001b[0m            ignore                              │\n",
      "│  \u001b[3m               \u001b[0m   \u001b[3m \u001b[0m\u001b[3mmes     \u001b[0m\u001b[3m \u001b[0m            invalid                             │\n",
      "│  \u001b[3m               \u001b[0m   \u001b[3m          \u001b[0m            column                              │\n",
      "│  \u001b[3m               \u001b[0m   \u001b[3m          \u001b[0m            names.                              │\n",
      "│  \u001b[3m               \u001b[0m                                                             │\n",
      "│                                                                              │\n",
      "│  \u001b[3m \u001b[0m\u001b[3mOutputs      \u001b[0m\u001b[3m \u001b[0m                                                             │\n",
      "│  \u001b[3m               \u001b[0m   \u001b[1m \u001b[0m\u001b[1mfield name\u001b[0m\u001b[1m \u001b[0m \u001b[1m \u001b[0m\u001b[1mtype \u001b[0m\u001b[1m \u001b[0m \u001b[1m \u001b[0m\u001b[1mdescription                    \u001b[0m\u001b[1m \u001b[0m    │\n",
      "│  \u001b[3m               \u001b[0m   ──────────────────────────────────────────────────────    │\n",
      "│  \u001b[3m               \u001b[0m   \u001b[3m \u001b[0m\u001b[3mvalue     \u001b[0m\u001b[3m \u001b[0m  table   The filtered value.                 │\n",
      "│  \u001b[3m               \u001b[0m                                                             │\n",
      "│                                                                              │\n",
      "╰──────────────────────────────────────────────────────────────────────────────╯\n"
     ]
    }
   ],
   "source": [
    "! kiara operation explain table_filter.select_columns"
   ]
  },
  {
   "cell_type": "code",
   "execution_count": 35,
   "metadata": {},
   "outputs": [],
   "source": [
    "to_include = ['foaf:name','dc:date','dc:identifier']"
   ]
  },
  {
   "cell_type": "code",
   "execution_count": 38,
   "metadata": {},
   "outputs": [],
   "source": [
    "filter_columns_result = api.run_job(operation=\"table_filter.select_columns\", inputs={'value':rename_columns_value, 'columns':to_include})"
   ]
  },
  {
   "cell_type": "code",
   "execution_count": 42,
   "metadata": {},
   "outputs": [
    {
     "data": {
      "text/html": [
       "<pre style=\"white-space:pre;overflow-x:auto;line-height:normal;font-family:Menlo,'DejaVu Sans Mono',consolas,'Courier New',monospace\">╭──────────────────────────────────────────────────────────────────────────────────────────────────────────────────────────────────────────╮\n",
       "│                                                                                                                                          │\n",
       "│  <span style=\"font-weight: bold\"> field </span> <span style=\"font-weight: bold\"> value                                                                            </span>                                              │\n",
       "│  ──────────────────────────────────────────────────────────────────────────────────────────                                              │\n",
       "│  <span style=\"font-weight: bold\"> value </span> <span style=\"font-style: italic\">                                                                                  </span>                                              │\n",
       "│  <span style=\"font-weight: bold\">       </span> <span style=\"font-style: italic\">  </span><span style=\"font-weight: bold; font-style: italic\"> foaf:name                             </span><span style=\"font-style: italic\"> </span><span style=\"font-weight: bold; font-style: italic\"> dc:date   </span><span style=\"font-style: italic\"> </span><span style=\"font-weight: bold; font-style: italic\"> dc:identifier            </span><span style=\"font-style: italic\">  </span>                                              │\n",
       "│  <span style=\"font-weight: bold\">       </span> <span style=\"font-style: italic\">  ──────────────────────────────────────────────────────────────────────────────  </span>                                              │\n",
       "│  <span style=\"font-weight: bold\">       </span> <span style=\"font-style: italic\">   Abadie                                  1787-1787   /ark:/61561/up424lfky      </span>                                              │\n",
       "│  <span style=\"font-weight: bold\">       </span> <span style=\"font-style: italic\">   Abbadie, d'                             1665-1708   /ark:/61561/up424tntx      </span>                                              │\n",
       "│  <span style=\"font-weight: bold\">       </span> <span style=\"font-style: italic\">   Abeille, Jean                           1788-1789   /ark:/61561/up424icjr      </span>                                              │\n",
       "│  <span style=\"font-weight: bold\">       </span> <span style=\"font-style: italic\">   Abeille, Jean Joseph                    1769-1772   /ark:/61561/up424tnvz      </span>                                              │\n",
       "│  <span style=\"font-weight: bold\">       </span> <span style=\"font-style: italic\">   Abeille, Pierre                         1774-1787   /ark:/61561/up424ezxy      </span>                                              │\n",
       "│  <span style=\"font-weight: bold\">       </span> <span style=\"font-style: italic\">   Abel, Jean                              1784-1784   /ark:/61561/up424lgfu      </span>                                              │\n",
       "│  <span style=\"font-weight: bold\">       </span> <span style=\"font-style: italic\">   Abel, Ollivier                          1732-1749   /ark:/61561/up424dyyx      </span>                                              │\n",
       "│  <span style=\"font-weight: bold\">       </span> <span style=\"font-style: italic\">   Ablé, Pierre                            1777-1777   /ark:/61561/up424mhiz      </span>                                              │\n",
       "│  <span style=\"font-weight: bold\">       </span> <span style=\"font-style: italic\">   Abon, Jacques Auguste d'                1773-1779   /ark:/61561/up424idfo      </span>                                              │\n",
       "│  <span style=\"font-weight: bold\">       </span> <span style=\"font-style: italic\">   Accaron, Jean Augustin                  1735-1766   /ark:/61561/up424mhkb      </span>                                              │\n",
       "│  <span style=\"font-weight: bold\">       </span> <span style=\"font-style: italic\">   Accolans de Colonge, Jean Baptiste d'   1767-1770   /ark:/61561/up424dy2e      </span>                                              │\n",
       "│  <span style=\"font-weight: bold\">       </span> <span style=\"font-style: italic\">   Achard, Antoine                         1787-1787   /ark:/61561/up424xsxk      </span>                                              │\n",
       "│  <span style=\"font-weight: bold\">       </span> <span style=\"font-style: italic\">   Achard, Antoine                         1787-1787   /ark:/61561/up424jekv      </span>                                              │\n",
       "│  <span style=\"font-weight: bold\">       </span> <span style=\"font-style: italic\">   Achard de Champroger, Louis Charles     1769-1776   /ark:/61561/up424kfmz      </span>                                              │\n",
       "│  <span style=\"font-weight: bold\">       </span> <span style=\"font-style: italic\">   Achard de La Lente, André Thomas        1734-1779   /ark:/61561/up424kgdr      </span>                                              │\n",
       "│  <span style=\"font-weight: bold\">       </span> <span style=\"font-style: italic\">   Aché                                    1788-1788   /ark:/61561/up424qmkk      </span>                                              │\n",
       "│  <span style=\"font-weight: bold\">       </span> <span style=\"font-style: italic\">   ...                                     ...         ...                        </span>                                              │\n",
       "│  <span style=\"font-weight: bold\">       </span> <span style=\"font-style: italic\">   ...                                     ...         ...                        </span>                                              │\n",
       "│  <span style=\"font-weight: bold\">       </span> <span style=\"font-style: italic\">   Yvon, Gilles Joseph                     1775-1784   /ark:/61561/up424mgoikfg   </span>                                              │\n",
       "│  <span style=\"font-weight: bold\">       </span> <span style=\"font-style: italic\">   Yvon, Joseph Emmanuel                   1763-1763   /ark:/61561/up424dx5z1xl   </span>                                              │\n",
       "│  <span style=\"font-weight: bold\">       </span> <span style=\"font-style: italic\">   Yvon, Louis Christophe Henri            1771-1790   /ark:/61561/up424oiqkmju   </span>                                              │\n",
       "│  <span style=\"font-weight: bold\">       </span> <span style=\"font-style: italic\">   Yvon                                    1785-1785   /ark:/61561/up424bv3xzxy   </span>                                              │\n",
       "│  <span style=\"font-weight: bold\">       </span> <span style=\"font-style: italic\">   Yvonnet, Louis                          1787-1792   /ark:/61561/up424bv3xzyz   </span>                                              │\n",
       "│  <span style=\"font-weight: bold\">       </span> <span style=\"font-style: italic\">   Yzact, Pierre                           1769-1769   /ark:/61561/up424xrztvvz   </span>                                              │\n",
       "│  <span style=\"font-weight: bold\">       </span> <span style=\"font-style: italic\">   Zacharie                                1783-1783   /ark:/61561/up424jdlfhiu   </span>                                              │\n",
       "│  <span style=\"font-weight: bold\">       </span> <span style=\"font-style: italic\">   Zamor, André                            1784-1784   /ark:/61561/up424bv3xz1f   </span>                                              │\n",
       "│  <span style=\"font-weight: bold\">       </span> <span style=\"font-style: italic\">   Zanico, Jean Pierre                     1781-1781   /ark:/61561/up424tnvprue   </span>                                              │\n",
       "│  <span style=\"font-weight: bold\">       </span> <span style=\"font-style: italic\">   Zanthier                                1781-1781   /ark:/61561/up424kemgimd   </span>                                              │\n",
       "│  <span style=\"font-weight: bold\">       </span> <span style=\"font-style: italic\">   Zelman, Nicolas                         1784-1784   /ark:/61561/up424uowqtnd   </span>                                              │\n",
       "│  <span style=\"font-weight: bold\">       </span> <span style=\"font-style: italic\">   Zemard, Ambroise                        1741-1741   /ark:/61561/up424tnvpsny   </span>                                              │\n",
       "│  <span style=\"font-weight: bold\">       </span> <span style=\"font-style: italic\">   Zévallos, de                            1770-1770   /ark:/61561/up424nhpjmip   </span>                                              │\n",
       "│  <span style=\"font-weight: bold\">       </span> <span style=\"font-style: italic\">   Zévallos, Edouard de                    1786-1791   /ark:/61561/up424tnvpspa   </span>                                              │\n",
       "│  <span style=\"font-weight: bold\">       </span> <span style=\"font-style: italic\">   Zunbergen                               1784-1784   /ark:/61561/up424wqysvtt   </span>                                              │\n",
       "│  <span style=\"font-weight: bold\">       </span> <span style=\"font-style: italic\">   Zweerts, Constantin Christian           1782-1787   /ark:/61561/up424vpxruto   </span>                                              │\n",
       "│  <span style=\"font-weight: bold\">       </span> <span style=\"font-style: italic\">                                                                                  </span>                                              │\n",
       "│                                                                                                                                          │\n",
       "╰──────────────────────────────────────────────────────────────────────────────────────────────────────────────────────────────────────────╯\n",
       "</pre>\n"
      ],
      "text/plain": [
       "╭──────────────────────────────────────────────────────────────────────────────────────────────────────────────────────────────────────────╮\n",
       "│                                                                                                                                          │\n",
       "│  \u001b[1m \u001b[0m\u001b[1mfield\u001b[0m\u001b[1m \u001b[0m \u001b[1m \u001b[0m\u001b[1mvalue                                                                           \u001b[0m\u001b[1m \u001b[0m                                              │\n",
       "│  ──────────────────────────────────────────────────────────────────────────────────────────                                              │\n",
       "│  \u001b[1m \u001b[0m\u001b[1mvalue\u001b[0m\u001b[1m \u001b[0m \u001b[3m \u001b[0m\u001b[3m                                                                                \u001b[0m\u001b[3m \u001b[0m                                              │\n",
       "│  \u001b[1m       \u001b[0m \u001b[3m \u001b[0m\u001b[3m \u001b[0m\u001b[1;3m \u001b[0m\u001b[1;3mfoaf:name\u001b[0m\u001b[1;3m                            \u001b[0m\u001b[1;3m \u001b[0m\u001b[3m \u001b[0m\u001b[1;3m \u001b[0m\u001b[1;3mdc:date\u001b[0m\u001b[1;3m  \u001b[0m\u001b[1;3m \u001b[0m\u001b[3m \u001b[0m\u001b[1;3m \u001b[0m\u001b[1;3mdc:identifier\u001b[0m\u001b[1;3m           \u001b[0m\u001b[1;3m \u001b[0m\u001b[3m \u001b[0m\u001b[3m \u001b[0m                                              │\n",
       "│  \u001b[1m       \u001b[0m \u001b[3m \u001b[0m\u001b[3m ────────────────────────────────────────────────────────────────────────────── \u001b[0m\u001b[3m \u001b[0m                                              │\n",
       "│  \u001b[1m       \u001b[0m \u001b[3m \u001b[0m\u001b[3m \u001b[0m\u001b[3m \u001b[0m\u001b[3mAbadie\u001b[0m\u001b[3m                               \u001b[0m\u001b[3m \u001b[0m\u001b[3m \u001b[0m\u001b[3m \u001b[0m\u001b[3m1787-1787\u001b[0m\u001b[3m \u001b[0m\u001b[3m \u001b[0m\u001b[3m \u001b[0m\u001b[3m/ark:/61561/up424lfky\u001b[0m\u001b[3m   \u001b[0m\u001b[3m \u001b[0m\u001b[3m \u001b[0m\u001b[3m \u001b[0m                                              │\n",
       "│  \u001b[1m       \u001b[0m \u001b[3m \u001b[0m\u001b[3m \u001b[0m\u001b[3m \u001b[0m\u001b[3mAbbadie, d'\u001b[0m\u001b[3m                          \u001b[0m\u001b[3m \u001b[0m\u001b[3m \u001b[0m\u001b[3m \u001b[0m\u001b[3m1665-1708\u001b[0m\u001b[3m \u001b[0m\u001b[3m \u001b[0m\u001b[3m \u001b[0m\u001b[3m/ark:/61561/up424tntx\u001b[0m\u001b[3m   \u001b[0m\u001b[3m \u001b[0m\u001b[3m \u001b[0m\u001b[3m \u001b[0m                                              │\n",
       "│  \u001b[1m       \u001b[0m \u001b[3m \u001b[0m\u001b[3m \u001b[0m\u001b[3m \u001b[0m\u001b[3mAbeille, Jean\u001b[0m\u001b[3m                        \u001b[0m\u001b[3m \u001b[0m\u001b[3m \u001b[0m\u001b[3m \u001b[0m\u001b[3m1788-1789\u001b[0m\u001b[3m \u001b[0m\u001b[3m \u001b[0m\u001b[3m \u001b[0m\u001b[3m/ark:/61561/up424icjr\u001b[0m\u001b[3m   \u001b[0m\u001b[3m \u001b[0m\u001b[3m \u001b[0m\u001b[3m \u001b[0m                                              │\n",
       "│  \u001b[1m       \u001b[0m \u001b[3m \u001b[0m\u001b[3m \u001b[0m\u001b[3m \u001b[0m\u001b[3mAbeille, Jean Joseph\u001b[0m\u001b[3m                 \u001b[0m\u001b[3m \u001b[0m\u001b[3m \u001b[0m\u001b[3m \u001b[0m\u001b[3m1769-1772\u001b[0m\u001b[3m \u001b[0m\u001b[3m \u001b[0m\u001b[3m \u001b[0m\u001b[3m/ark:/61561/up424tnvz\u001b[0m\u001b[3m   \u001b[0m\u001b[3m \u001b[0m\u001b[3m \u001b[0m\u001b[3m \u001b[0m                                              │\n",
       "│  \u001b[1m       \u001b[0m \u001b[3m \u001b[0m\u001b[3m \u001b[0m\u001b[3m \u001b[0m\u001b[3mAbeille, Pierre\u001b[0m\u001b[3m                      \u001b[0m\u001b[3m \u001b[0m\u001b[3m \u001b[0m\u001b[3m \u001b[0m\u001b[3m1774-1787\u001b[0m\u001b[3m \u001b[0m\u001b[3m \u001b[0m\u001b[3m \u001b[0m\u001b[3m/ark:/61561/up424ezxy\u001b[0m\u001b[3m   \u001b[0m\u001b[3m \u001b[0m\u001b[3m \u001b[0m\u001b[3m \u001b[0m                                              │\n",
       "│  \u001b[1m       \u001b[0m \u001b[3m \u001b[0m\u001b[3m \u001b[0m\u001b[3m \u001b[0m\u001b[3mAbel, Jean\u001b[0m\u001b[3m                           \u001b[0m\u001b[3m \u001b[0m\u001b[3m \u001b[0m\u001b[3m \u001b[0m\u001b[3m1784-1784\u001b[0m\u001b[3m \u001b[0m\u001b[3m \u001b[0m\u001b[3m \u001b[0m\u001b[3m/ark:/61561/up424lgfu\u001b[0m\u001b[3m   \u001b[0m\u001b[3m \u001b[0m\u001b[3m \u001b[0m\u001b[3m \u001b[0m                                              │\n",
       "│  \u001b[1m       \u001b[0m \u001b[3m \u001b[0m\u001b[3m \u001b[0m\u001b[3m \u001b[0m\u001b[3mAbel, Ollivier\u001b[0m\u001b[3m                       \u001b[0m\u001b[3m \u001b[0m\u001b[3m \u001b[0m\u001b[3m \u001b[0m\u001b[3m1732-1749\u001b[0m\u001b[3m \u001b[0m\u001b[3m \u001b[0m\u001b[3m \u001b[0m\u001b[3m/ark:/61561/up424dyyx\u001b[0m\u001b[3m   \u001b[0m\u001b[3m \u001b[0m\u001b[3m \u001b[0m\u001b[3m \u001b[0m                                              │\n",
       "│  \u001b[1m       \u001b[0m \u001b[3m \u001b[0m\u001b[3m \u001b[0m\u001b[3m \u001b[0m\u001b[3mAblé, Pierre\u001b[0m\u001b[3m                         \u001b[0m\u001b[3m \u001b[0m\u001b[3m \u001b[0m\u001b[3m \u001b[0m\u001b[3m1777-1777\u001b[0m\u001b[3m \u001b[0m\u001b[3m \u001b[0m\u001b[3m \u001b[0m\u001b[3m/ark:/61561/up424mhiz\u001b[0m\u001b[3m   \u001b[0m\u001b[3m \u001b[0m\u001b[3m \u001b[0m\u001b[3m \u001b[0m                                              │\n",
       "│  \u001b[1m       \u001b[0m \u001b[3m \u001b[0m\u001b[3m \u001b[0m\u001b[3m \u001b[0m\u001b[3mAbon, Jacques Auguste d'\u001b[0m\u001b[3m             \u001b[0m\u001b[3m \u001b[0m\u001b[3m \u001b[0m\u001b[3m \u001b[0m\u001b[3m1773-1779\u001b[0m\u001b[3m \u001b[0m\u001b[3m \u001b[0m\u001b[3m \u001b[0m\u001b[3m/ark:/61561/up424idfo\u001b[0m\u001b[3m   \u001b[0m\u001b[3m \u001b[0m\u001b[3m \u001b[0m\u001b[3m \u001b[0m                                              │\n",
       "│  \u001b[1m       \u001b[0m \u001b[3m \u001b[0m\u001b[3m \u001b[0m\u001b[3m \u001b[0m\u001b[3mAccaron, Jean Augustin\u001b[0m\u001b[3m               \u001b[0m\u001b[3m \u001b[0m\u001b[3m \u001b[0m\u001b[3m \u001b[0m\u001b[3m1735-1766\u001b[0m\u001b[3m \u001b[0m\u001b[3m \u001b[0m\u001b[3m \u001b[0m\u001b[3m/ark:/61561/up424mhkb\u001b[0m\u001b[3m   \u001b[0m\u001b[3m \u001b[0m\u001b[3m \u001b[0m\u001b[3m \u001b[0m                                              │\n",
       "│  \u001b[1m       \u001b[0m \u001b[3m \u001b[0m\u001b[3m \u001b[0m\u001b[3m \u001b[0m\u001b[3mAccolans de Colonge, Jean Baptiste d'\u001b[0m\u001b[3m \u001b[0m\u001b[3m \u001b[0m\u001b[3m \u001b[0m\u001b[3m1767-1770\u001b[0m\u001b[3m \u001b[0m\u001b[3m \u001b[0m\u001b[3m \u001b[0m\u001b[3m/ark:/61561/up424dy2e\u001b[0m\u001b[3m   \u001b[0m\u001b[3m \u001b[0m\u001b[3m \u001b[0m\u001b[3m \u001b[0m                                              │\n",
       "│  \u001b[1m       \u001b[0m \u001b[3m \u001b[0m\u001b[3m \u001b[0m\u001b[3m \u001b[0m\u001b[3mAchard, Antoine\u001b[0m\u001b[3m                      \u001b[0m\u001b[3m \u001b[0m\u001b[3m \u001b[0m\u001b[3m \u001b[0m\u001b[3m1787-1787\u001b[0m\u001b[3m \u001b[0m\u001b[3m \u001b[0m\u001b[3m \u001b[0m\u001b[3m/ark:/61561/up424xsxk\u001b[0m\u001b[3m   \u001b[0m\u001b[3m \u001b[0m\u001b[3m \u001b[0m\u001b[3m \u001b[0m                                              │\n",
       "│  \u001b[1m       \u001b[0m \u001b[3m \u001b[0m\u001b[3m \u001b[0m\u001b[3m \u001b[0m\u001b[3mAchard, Antoine\u001b[0m\u001b[3m                      \u001b[0m\u001b[3m \u001b[0m\u001b[3m \u001b[0m\u001b[3m \u001b[0m\u001b[3m1787-1787\u001b[0m\u001b[3m \u001b[0m\u001b[3m \u001b[0m\u001b[3m \u001b[0m\u001b[3m/ark:/61561/up424jekv\u001b[0m\u001b[3m   \u001b[0m\u001b[3m \u001b[0m\u001b[3m \u001b[0m\u001b[3m \u001b[0m                                              │\n",
       "│  \u001b[1m       \u001b[0m \u001b[3m \u001b[0m\u001b[3m \u001b[0m\u001b[3m \u001b[0m\u001b[3mAchard de Champroger, Louis Charles\u001b[0m\u001b[3m  \u001b[0m\u001b[3m \u001b[0m\u001b[3m \u001b[0m\u001b[3m \u001b[0m\u001b[3m1769-1776\u001b[0m\u001b[3m \u001b[0m\u001b[3m \u001b[0m\u001b[3m \u001b[0m\u001b[3m/ark:/61561/up424kfmz\u001b[0m\u001b[3m   \u001b[0m\u001b[3m \u001b[0m\u001b[3m \u001b[0m\u001b[3m \u001b[0m                                              │\n",
       "│  \u001b[1m       \u001b[0m \u001b[3m \u001b[0m\u001b[3m \u001b[0m\u001b[3m \u001b[0m\u001b[3mAchard de La Lente, André Thomas\u001b[0m\u001b[3m     \u001b[0m\u001b[3m \u001b[0m\u001b[3m \u001b[0m\u001b[3m \u001b[0m\u001b[3m1734-1779\u001b[0m\u001b[3m \u001b[0m\u001b[3m \u001b[0m\u001b[3m \u001b[0m\u001b[3m/ark:/61561/up424kgdr\u001b[0m\u001b[3m   \u001b[0m\u001b[3m \u001b[0m\u001b[3m \u001b[0m\u001b[3m \u001b[0m                                              │\n",
       "│  \u001b[1m       \u001b[0m \u001b[3m \u001b[0m\u001b[3m \u001b[0m\u001b[3m \u001b[0m\u001b[3mAché\u001b[0m\u001b[3m                                 \u001b[0m\u001b[3m \u001b[0m\u001b[3m \u001b[0m\u001b[3m \u001b[0m\u001b[3m1788-1788\u001b[0m\u001b[3m \u001b[0m\u001b[3m \u001b[0m\u001b[3m \u001b[0m\u001b[3m/ark:/61561/up424qmkk\u001b[0m\u001b[3m   \u001b[0m\u001b[3m \u001b[0m\u001b[3m \u001b[0m\u001b[3m \u001b[0m                                              │\n",
       "│  \u001b[1m       \u001b[0m \u001b[3m \u001b[0m\u001b[3m \u001b[0m\u001b[3m \u001b[0m\u001b[3m...\u001b[0m\u001b[3m                                  \u001b[0m\u001b[3m \u001b[0m\u001b[3m \u001b[0m\u001b[3m \u001b[0m\u001b[3m...\u001b[0m\u001b[3m      \u001b[0m\u001b[3m \u001b[0m\u001b[3m \u001b[0m\u001b[3m \u001b[0m\u001b[3m...\u001b[0m\u001b[3m                     \u001b[0m\u001b[3m \u001b[0m\u001b[3m \u001b[0m\u001b[3m \u001b[0m                                              │\n",
       "│  \u001b[1m       \u001b[0m \u001b[3m \u001b[0m\u001b[3m \u001b[0m\u001b[3m \u001b[0m\u001b[3m...\u001b[0m\u001b[3m                                  \u001b[0m\u001b[3m \u001b[0m\u001b[3m \u001b[0m\u001b[3m \u001b[0m\u001b[3m...\u001b[0m\u001b[3m      \u001b[0m\u001b[3m \u001b[0m\u001b[3m \u001b[0m\u001b[3m \u001b[0m\u001b[3m...\u001b[0m\u001b[3m                     \u001b[0m\u001b[3m \u001b[0m\u001b[3m \u001b[0m\u001b[3m \u001b[0m                                              │\n",
       "│  \u001b[1m       \u001b[0m \u001b[3m \u001b[0m\u001b[3m \u001b[0m\u001b[3m \u001b[0m\u001b[3mYvon, Gilles Joseph\u001b[0m\u001b[3m                  \u001b[0m\u001b[3m \u001b[0m\u001b[3m \u001b[0m\u001b[3m \u001b[0m\u001b[3m1775-1784\u001b[0m\u001b[3m \u001b[0m\u001b[3m \u001b[0m\u001b[3m \u001b[0m\u001b[3m/ark:/61561/up424mgoikfg\u001b[0m\u001b[3m \u001b[0m\u001b[3m \u001b[0m\u001b[3m \u001b[0m                                              │\n",
       "│  \u001b[1m       \u001b[0m \u001b[3m \u001b[0m\u001b[3m \u001b[0m\u001b[3m \u001b[0m\u001b[3mYvon, Joseph Emmanuel\u001b[0m\u001b[3m                \u001b[0m\u001b[3m \u001b[0m\u001b[3m \u001b[0m\u001b[3m \u001b[0m\u001b[3m1763-1763\u001b[0m\u001b[3m \u001b[0m\u001b[3m \u001b[0m\u001b[3m \u001b[0m\u001b[3m/ark:/61561/up424dx5z1xl\u001b[0m\u001b[3m \u001b[0m\u001b[3m \u001b[0m\u001b[3m \u001b[0m                                              │\n",
       "│  \u001b[1m       \u001b[0m \u001b[3m \u001b[0m\u001b[3m \u001b[0m\u001b[3m \u001b[0m\u001b[3mYvon, Louis Christophe Henri\u001b[0m\u001b[3m         \u001b[0m\u001b[3m \u001b[0m\u001b[3m \u001b[0m\u001b[3m \u001b[0m\u001b[3m1771-1790\u001b[0m\u001b[3m \u001b[0m\u001b[3m \u001b[0m\u001b[3m \u001b[0m\u001b[3m/ark:/61561/up424oiqkmju\u001b[0m\u001b[3m \u001b[0m\u001b[3m \u001b[0m\u001b[3m \u001b[0m                                              │\n",
       "│  \u001b[1m       \u001b[0m \u001b[3m \u001b[0m\u001b[3m \u001b[0m\u001b[3m \u001b[0m\u001b[3mYvon\u001b[0m\u001b[3m                                 \u001b[0m\u001b[3m \u001b[0m\u001b[3m \u001b[0m\u001b[3m \u001b[0m\u001b[3m1785-1785\u001b[0m\u001b[3m \u001b[0m\u001b[3m \u001b[0m\u001b[3m \u001b[0m\u001b[3m/ark:/61561/up424bv3xzxy\u001b[0m\u001b[3m \u001b[0m\u001b[3m \u001b[0m\u001b[3m \u001b[0m                                              │\n",
       "│  \u001b[1m       \u001b[0m \u001b[3m \u001b[0m\u001b[3m \u001b[0m\u001b[3m \u001b[0m\u001b[3mYvonnet, Louis\u001b[0m\u001b[3m                       \u001b[0m\u001b[3m \u001b[0m\u001b[3m \u001b[0m\u001b[3m \u001b[0m\u001b[3m1787-1792\u001b[0m\u001b[3m \u001b[0m\u001b[3m \u001b[0m\u001b[3m \u001b[0m\u001b[3m/ark:/61561/up424bv3xzyz\u001b[0m\u001b[3m \u001b[0m\u001b[3m \u001b[0m\u001b[3m \u001b[0m                                              │\n",
       "│  \u001b[1m       \u001b[0m \u001b[3m \u001b[0m\u001b[3m \u001b[0m\u001b[3m \u001b[0m\u001b[3mYzact, Pierre\u001b[0m\u001b[3m                        \u001b[0m\u001b[3m \u001b[0m\u001b[3m \u001b[0m\u001b[3m \u001b[0m\u001b[3m1769-1769\u001b[0m\u001b[3m \u001b[0m\u001b[3m \u001b[0m\u001b[3m \u001b[0m\u001b[3m/ark:/61561/up424xrztvvz\u001b[0m\u001b[3m \u001b[0m\u001b[3m \u001b[0m\u001b[3m \u001b[0m                                              │\n",
       "│  \u001b[1m       \u001b[0m \u001b[3m \u001b[0m\u001b[3m \u001b[0m\u001b[3m \u001b[0m\u001b[3mZacharie\u001b[0m\u001b[3m                             \u001b[0m\u001b[3m \u001b[0m\u001b[3m \u001b[0m\u001b[3m \u001b[0m\u001b[3m1783-1783\u001b[0m\u001b[3m \u001b[0m\u001b[3m \u001b[0m\u001b[3m \u001b[0m\u001b[3m/ark:/61561/up424jdlfhiu\u001b[0m\u001b[3m \u001b[0m\u001b[3m \u001b[0m\u001b[3m \u001b[0m                                              │\n",
       "│  \u001b[1m       \u001b[0m \u001b[3m \u001b[0m\u001b[3m \u001b[0m\u001b[3m \u001b[0m\u001b[3mZamor, André\u001b[0m\u001b[3m                         \u001b[0m\u001b[3m \u001b[0m\u001b[3m \u001b[0m\u001b[3m \u001b[0m\u001b[3m1784-1784\u001b[0m\u001b[3m \u001b[0m\u001b[3m \u001b[0m\u001b[3m \u001b[0m\u001b[3m/ark:/61561/up424bv3xz1f\u001b[0m\u001b[3m \u001b[0m\u001b[3m \u001b[0m\u001b[3m \u001b[0m                                              │\n",
       "│  \u001b[1m       \u001b[0m \u001b[3m \u001b[0m\u001b[3m \u001b[0m\u001b[3m \u001b[0m\u001b[3mZanico, Jean Pierre\u001b[0m\u001b[3m                  \u001b[0m\u001b[3m \u001b[0m\u001b[3m \u001b[0m\u001b[3m \u001b[0m\u001b[3m1781-1781\u001b[0m\u001b[3m \u001b[0m\u001b[3m \u001b[0m\u001b[3m \u001b[0m\u001b[3m/ark:/61561/up424tnvprue\u001b[0m\u001b[3m \u001b[0m\u001b[3m \u001b[0m\u001b[3m \u001b[0m                                              │\n",
       "│  \u001b[1m       \u001b[0m \u001b[3m \u001b[0m\u001b[3m \u001b[0m\u001b[3m \u001b[0m\u001b[3mZanthier\u001b[0m\u001b[3m                             \u001b[0m\u001b[3m \u001b[0m\u001b[3m \u001b[0m\u001b[3m \u001b[0m\u001b[3m1781-1781\u001b[0m\u001b[3m \u001b[0m\u001b[3m \u001b[0m\u001b[3m \u001b[0m\u001b[3m/ark:/61561/up424kemgimd\u001b[0m\u001b[3m \u001b[0m\u001b[3m \u001b[0m\u001b[3m \u001b[0m                                              │\n",
       "│  \u001b[1m       \u001b[0m \u001b[3m \u001b[0m\u001b[3m \u001b[0m\u001b[3m \u001b[0m\u001b[3mZelman, Nicolas\u001b[0m\u001b[3m                      \u001b[0m\u001b[3m \u001b[0m\u001b[3m \u001b[0m\u001b[3m \u001b[0m\u001b[3m1784-1784\u001b[0m\u001b[3m \u001b[0m\u001b[3m \u001b[0m\u001b[3m \u001b[0m\u001b[3m/ark:/61561/up424uowqtnd\u001b[0m\u001b[3m \u001b[0m\u001b[3m \u001b[0m\u001b[3m \u001b[0m                                              │\n",
       "│  \u001b[1m       \u001b[0m \u001b[3m \u001b[0m\u001b[3m \u001b[0m\u001b[3m \u001b[0m\u001b[3mZemard, Ambroise\u001b[0m\u001b[3m                     \u001b[0m\u001b[3m \u001b[0m\u001b[3m \u001b[0m\u001b[3m \u001b[0m\u001b[3m1741-1741\u001b[0m\u001b[3m \u001b[0m\u001b[3m \u001b[0m\u001b[3m \u001b[0m\u001b[3m/ark:/61561/up424tnvpsny\u001b[0m\u001b[3m \u001b[0m\u001b[3m \u001b[0m\u001b[3m \u001b[0m                                              │\n",
       "│  \u001b[1m       \u001b[0m \u001b[3m \u001b[0m\u001b[3m \u001b[0m\u001b[3m \u001b[0m\u001b[3mZévallos, de\u001b[0m\u001b[3m                         \u001b[0m\u001b[3m \u001b[0m\u001b[3m \u001b[0m\u001b[3m \u001b[0m\u001b[3m1770-1770\u001b[0m\u001b[3m \u001b[0m\u001b[3m \u001b[0m\u001b[3m \u001b[0m\u001b[3m/ark:/61561/up424nhpjmip\u001b[0m\u001b[3m \u001b[0m\u001b[3m \u001b[0m\u001b[3m \u001b[0m                                              │\n",
       "│  \u001b[1m       \u001b[0m \u001b[3m \u001b[0m\u001b[3m \u001b[0m\u001b[3m \u001b[0m\u001b[3mZévallos, Edouard de\u001b[0m\u001b[3m                 \u001b[0m\u001b[3m \u001b[0m\u001b[3m \u001b[0m\u001b[3m \u001b[0m\u001b[3m1786-1791\u001b[0m\u001b[3m \u001b[0m\u001b[3m \u001b[0m\u001b[3m \u001b[0m\u001b[3m/ark:/61561/up424tnvpspa\u001b[0m\u001b[3m \u001b[0m\u001b[3m \u001b[0m\u001b[3m \u001b[0m                                              │\n",
       "│  \u001b[1m       \u001b[0m \u001b[3m \u001b[0m\u001b[3m \u001b[0m\u001b[3m \u001b[0m\u001b[3mZunbergen\u001b[0m\u001b[3m                            \u001b[0m\u001b[3m \u001b[0m\u001b[3m \u001b[0m\u001b[3m \u001b[0m\u001b[3m1784-1784\u001b[0m\u001b[3m \u001b[0m\u001b[3m \u001b[0m\u001b[3m \u001b[0m\u001b[3m/ark:/61561/up424wqysvtt\u001b[0m\u001b[3m \u001b[0m\u001b[3m \u001b[0m\u001b[3m \u001b[0m                                              │\n",
       "│  \u001b[1m       \u001b[0m \u001b[3m \u001b[0m\u001b[3m \u001b[0m\u001b[3m \u001b[0m\u001b[3mZweerts, Constantin Christian\u001b[0m\u001b[3m        \u001b[0m\u001b[3m \u001b[0m\u001b[3m \u001b[0m\u001b[3m \u001b[0m\u001b[3m1782-1787\u001b[0m\u001b[3m \u001b[0m\u001b[3m \u001b[0m\u001b[3m \u001b[0m\u001b[3m/ark:/61561/up424vpxruto\u001b[0m\u001b[3m \u001b[0m\u001b[3m \u001b[0m\u001b[3m \u001b[0m                                              │\n",
       "│  \u001b[1m       \u001b[0m \u001b[3m \u001b[0m\u001b[3m                                                                                \u001b[0m\u001b[3m \u001b[0m                                              │\n",
       "│                                                                                                                                          │\n",
       "╰──────────────────────────────────────────────────────────────────────────────────────────────────────────────────────────────────────────╯\n"
      ]
     },
     "execution_count": 42,
     "metadata": {},
     "output_type": "execute_result"
    }
   ],
   "source": [
    "filter_columns_result"
   ]
  },
  {
   "cell_type": "code",
   "execution_count": 43,
   "metadata": {},
   "outputs": [],
   "source": [
    "# preview data\n",
    "table_value = kiara.data_registry.get_value(filter_columns_result['value'].value_id)\n",
    "df = kiara_to_pandas(table_value)"
   ]
  },
  {
   "cell_type": "code",
   "execution_count": 44,
   "metadata": {},
   "outputs": [
    {
     "data": {
      "text/html": [
       "<div>\n",
       "<style scoped>\n",
       "    .dataframe tbody tr th:only-of-type {\n",
       "        vertical-align: middle;\n",
       "    }\n",
       "\n",
       "    .dataframe tbody tr th {\n",
       "        vertical-align: top;\n",
       "    }\n",
       "\n",
       "    .dataframe thead th {\n",
       "        text-align: right;\n",
       "    }\n",
       "</style>\n",
       "<table border=\"1\" class=\"dataframe\">\n",
       "  <thead>\n",
       "    <tr style=\"text-align: right;\">\n",
       "      <th></th>\n",
       "      <th>foaf:name</th>\n",
       "      <th>dc:date</th>\n",
       "      <th>dc:identifier</th>\n",
       "    </tr>\n",
       "  </thead>\n",
       "  <tbody>\n",
       "    <tr>\n",
       "      <th>0</th>\n",
       "      <td>Abadie</td>\n",
       "      <td>1787-1787</td>\n",
       "      <td>/ark:/61561/up424lfky</td>\n",
       "    </tr>\n",
       "    <tr>\n",
       "      <th>1</th>\n",
       "      <td>Abbadie, d'</td>\n",
       "      <td>1665-1708</td>\n",
       "      <td>/ark:/61561/up424tntx</td>\n",
       "    </tr>\n",
       "    <tr>\n",
       "      <th>2</th>\n",
       "      <td>Abeille, Jean</td>\n",
       "      <td>1788-1789</td>\n",
       "      <td>/ark:/61561/up424icjr</td>\n",
       "    </tr>\n",
       "    <tr>\n",
       "      <th>3</th>\n",
       "      <td>Abeille, Jean Joseph</td>\n",
       "      <td>1769-1772</td>\n",
       "      <td>/ark:/61561/up424tnvz</td>\n",
       "    </tr>\n",
       "    <tr>\n",
       "      <th>4</th>\n",
       "      <td>Abeille, Pierre</td>\n",
       "      <td>1774-1787</td>\n",
       "      <td>/ark:/61561/up424ezxy</td>\n",
       "    </tr>\n",
       "  </tbody>\n",
       "</table>\n",
       "</div>"
      ],
      "text/plain": [
       "              foaf:name    dc:date          dc:identifier\n",
       "0                Abadie  1787-1787  /ark:/61561/up424lfky\n",
       "1           Abbadie, d'  1665-1708  /ark:/61561/up424tntx\n",
       "2         Abeille, Jean  1788-1789  /ark:/61561/up424icjr\n",
       "3  Abeille, Jean Joseph  1769-1772  /ark:/61561/up424tnvz\n",
       "4       Abeille, Pierre  1774-1787  /ark:/61561/up424ezxy"
      ]
     },
     "execution_count": 44,
     "metadata": {},
     "output_type": "execute_result"
    }
   ],
   "source": [
    "df.head()"
   ]
  },
  {
   "cell_type": "markdown",
   "metadata": {},
   "source": [
    "#### 4. Save table in data registry"
   ]
  },
  {
   "cell_type": "code",
   "execution_count": 45,
   "metadata": {},
   "outputs": [],
   "source": [
    "table_alias = \"20221103_test\""
   ]
  },
  {
   "cell_type": "code",
   "execution_count": 46,
   "metadata": {},
   "outputs": [
    {
     "name": "stdout",
     "output_type": "stream",
     "text": [
      "badly formed hexadecimal UUID string\n"
     ]
    },
    {
     "data": {
      "text/plain": [
       "'onboarding failed'"
      ]
     },
     "execution_count": 46,
     "metadata": {},
     "output_type": "execute_result"
    }
   ],
   "source": [
    "# this may cause problems in data registry, so it is commented out at the moment\n",
    "# store_data(table_value,table_alias)"
   ]
  },
  {
   "cell_type": "code",
   "execution_count": 106,
   "metadata": {},
   "outputs": [
    {
     "name": "stdout",
     "output_type": "stream",
     "text": [
      "Traceback (most recent call last):\n",
      "  File \"/opt/miniconda3/envs/anom_processing/lib/python3.9/site-packages/kiara/registries/data/__init__.py\", line 464, in find_values\n",
      "    _matches = store.find_values(matcher=matcher)\n",
      "  File \"/opt/miniconda3/envs/anom_processing/lib/python3.9/site-packages/kiara/registries/data/data_store/__init__.py\", line 154, in find_values\n",
      "    raise NotImplementedError()\n",
      "NotImplementedError\n",
      "\n",
      "During handling of the above exception, another exception occurred:\n",
      "\n",
      "Traceback (most recent call last):\n",
      "  File \"/opt/miniconda3/envs/anom_processing/bin/kiara\", line 10, in <module>\n",
      "    sys.exit(cli())\n",
      "  File \"/opt/miniconda3/envs/anom_processing/lib/python3.9/site-packages/click/core.py\", line 1130, in __call__\n",
      "    return self.main(*args, **kwargs)\n",
      "  File \"/opt/miniconda3/envs/anom_processing/lib/python3.9/site-packages/rich_click/rich_group.py\", line 21, in main\n",
      "    rv = super().main(*args, standalone_mode=False, **kwargs)\n",
      "  File \"/opt/miniconda3/envs/anom_processing/lib/python3.9/site-packages/click/core.py\", line 1055, in main\n",
      "    rv = self.invoke(ctx)\n",
      "  File \"/opt/miniconda3/envs/anom_processing/lib/python3.9/site-packages/click/core.py\", line 1657, in invoke\n",
      "    return _process_result(sub_ctx.command.invoke(sub_ctx))\n",
      "  File \"/opt/miniconda3/envs/anom_processing/lib/python3.9/site-packages/click/core.py\", line 1657, in invoke\n",
      "    return _process_result(sub_ctx.command.invoke(sub_ctx))\n",
      "  File \"/opt/miniconda3/envs/anom_processing/lib/python3.9/site-packages/click/core.py\", line 1404, in invoke\n",
      "    return ctx.invoke(self.callback, **ctx.params)\n",
      "  File \"/opt/miniconda3/envs/anom_processing/lib/python3.9/site-packages/click/core.py\", line 760, in invoke\n",
      "    return __callback(*args, **kwargs)\n",
      "  File \"/opt/miniconda3/envs/anom_processing/lib/python3.9/site-packages/click/decorators.py\", line 26, in new_func\n",
      "    return f(get_current_context(), *args, **kwargs)\n",
      "  File \"/opt/miniconda3/envs/anom_processing/lib/python3.9/site-packages/kiara/interfaces/cli/data/commands.py\", line 140, in list_values\n",
      "    values = kiara_api.list_values(\n",
      "  File \"/opt/miniconda3/envs/anom_processing/lib/python3.9/site-packages/kiara/interfaces/python_api/__init__.py\", line 360, in list_values\n",
      "    values = self._kiara.data_registry.find_values(matcher=matcher)\n",
      "  File \"/opt/miniconda3/envs/anom_processing/lib/python3.9/site-packages/kiara/registries/data/__init__.py\", line 489, in find_values\n",
      "    match = matcher.is_match(value, kiara=self._kiara)\n",
      "  File \"/opt/miniconda3/envs/anom_processing/lib/python3.9/site-packages/kiara/models/values/matchers.py\", line 67, in is_match\n",
      "    aliases = kiara.alias_registry.find_aliases_for_value_id(\n",
      "  File \"/opt/miniconda3/envs/anom_processing/lib/python3.9/site-packages/kiara/registries/aliases/__init__.py\", line 232, in find_aliases_for_value_id\n",
      "    aliases = set([a.full_alias for a in self.aliases_by_id.get(value_id, [])])\n",
      "  File \"/opt/miniconda3/envs/anom_processing/lib/python3.9/site-packages/kiara/registries/aliases/__init__.py\", line 163, in aliases_by_id\n",
      "    self.aliases  # noqa\n",
      "  File \"/opt/miniconda3/envs/anom_processing/lib/python3.9/site-packages/kiara/registries/aliases/__init__.py\", line 178, in aliases\n",
      "    alias_map = archive.retrieve_all_aliases()\n",
      "  File \"/opt/miniconda3/envs/anom_processing/lib/python3.9/site-packages/kiara/registries/aliases/archives.py\", line 104, in retrieve_all_aliases\n",
      "    value_id = self._find_value_id_for_alias_path(alias_path=alias_path)\n",
      "  File \"/opt/miniconda3/envs/anom_processing/lib/python3.9/site-packages/kiara/registries/aliases/archives.py\", line 122, in _find_value_id_for_alias_path\n",
      "    value_id = self._translate_value_path(value_path=resolved)\n",
      "  File \"/opt/miniconda3/envs/anom_processing/lib/python3.9/site-packages/kiara/registries/aliases/archives.py\", line 96, in _translate_value_path\n",
      "    return uuid.UUID(value_id_str)\n",
      "  File \"/opt/miniconda3/envs/anom_processing/lib/python3.9/uuid.py\", line 177, in __init__\n",
      "    raise ValueError('badly formed hexadecimal UUID string')\n",
      "ValueError: badly formed hexadecimal UUID string\n"
     ]
    }
   ],
   "source": [
    "# chack data registry\n",
    "! kiara data list"
   ]
  },
  {
   "cell_type": "code",
   "execution_count": null,
   "metadata": {},
   "outputs": [],
   "source": []
  }
 ],
 "metadata": {
  "kernelspec": {
   "display_name": "Python 3.9.13 ('anom_processing')",
   "language": "python",
   "name": "python3"
  },
  "language_info": {
   "codemirror_mode": {
    "name": "ipython",
    "version": 3
   },
   "file_extension": ".py",
   "mimetype": "text/x-python",
   "name": "python",
   "nbconvert_exporter": "python",
   "pygments_lexer": "ipython3",
   "version": "3.9.13"
  },
  "vscode": {
   "interpreter": {
    "hash": "5d1691f1b6eb6e7b8ca3227085d497c4e2f0122f06e519f331b48c862c0d0a3c"
   }
  }
 },
 "nbformat": 4,
 "nbformat_minor": 2
}

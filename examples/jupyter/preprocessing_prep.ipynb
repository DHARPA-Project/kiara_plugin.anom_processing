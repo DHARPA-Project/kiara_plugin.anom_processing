{
 "cells": [
  {
   "cell_type": "markdown",
   "metadata": {},
   "source": [
    "This notebook is a preparatory step to assess which modules to use or to create, and how to assemble them, in the context of data processing for a specific dataset for a map.\n",
    "<b>This won't be the notebook used ultimately</b> but it was useful to get started to prep the different foreseen steps."
   ]
  },
  {
   "cell_type": "code",
   "execution_count": 1,
   "metadata": {},
   "outputs": [],
   "source": [
    "from kiara import KiaraAPI, Kiara\n",
    "import networkx\n",
    "from networkx.readwrite import json_graph"
   ]
  },
  {
   "cell_type": "markdown",
   "metadata": {},
   "source": [
    "Process based on kiara version 0.4.21"
   ]
  },
  {
   "cell_type": "code",
   "execution_count": 2,
   "metadata": {},
   "outputs": [],
   "source": [
    "kiara = Kiara.instance()\n",
    "api = KiaraAPI(kiara=kiara)"
   ]
  },
  {
   "cell_type": "markdown",
   "metadata": {},
   "source": [
    "#### I. Test foreseen steps"
   ]
  },
  {
   "cell_type": "code",
   "execution_count": 3,
   "metadata": {},
   "outputs": [],
   "source": [
    "# optional, choose alias for process, that will be added as a prefix to data saved in data registry\n",
    "process_alias = 'map_20221020'"
   ]
  },
  {
   "cell_type": "code",
   "execution_count": 4,
   "metadata": {},
   "outputs": [],
   "source": [
    "def kiara_to_pandas(table_value):\n",
    "    table_obj = table_value.data\n",
    "    arrow_table = table_obj.arrow_table\n",
    "    df = arrow_table.to_pandas()\n",
    "    return df"
   ]
  },
  {
   "cell_type": "markdown",
   "metadata": {},
   "source": [
    "### 1. CSV file onboarding"
   ]
  },
  {
   "cell_type": "code",
   "execution_count": 5,
   "metadata": {},
   "outputs": [
    {
     "name": "stdout",
     "output_type": "stream",
     "text": [
      "\n",
      "╭─ Operation: \u001b[1;3mimport.table.from.csv_file\u001b[0m ──────────────────────────────────────╮\n",
      "│                                                                              │\n",
      "│  \u001b[3m \u001b[0m\u001b[3mDocumentation\u001b[0m\u001b[3m \u001b[0m  Import a table from a csv file.                            │\n",
      "│                                                                              │\n",
      "│  \u001b[3m \u001b[0m\u001b[3mInputs       \u001b[0m\u001b[3m \u001b[0m                                                             │\n",
      "│  \u001b[3m               \u001b[0m   \u001b[1m \u001b[0m\u001b[1mfield    \u001b[0m\u001b[1m \u001b[0m \u001b[1m        \u001b[0m \u001b[1m          \u001b[0m \u001b[1m          \u001b[0m \u001b[1m           \u001b[0m    │\n",
      "│  \u001b[3m               \u001b[0m   \u001b[1m \u001b[0m\u001b[1mname     \u001b[0m\u001b[1m \u001b[0m \u001b[1m \u001b[0m\u001b[1mtype  \u001b[0m\u001b[1m \u001b[0m \u001b[1m \u001b[0m\u001b[1mdescrip…\u001b[0m\u001b[1m \u001b[0m \u001b[1m \u001b[0m\u001b[1mRequired\u001b[0m\u001b[1m \u001b[0m \u001b[1m \u001b[0m\u001b[1mDefault  \u001b[0m\u001b[1m \u001b[0m    │\n",
      "│  \u001b[3m               \u001b[0m   ────────────────────���─────────────────────────────────    │\n",
      "│  \u001b[3m               \u001b[0m   \u001b[3m \u001b[0m\u001b[3mpath     \u001b[0m\u001b[3m \u001b[0m  string   The        \u001b[1myes\u001b[0m        -- no         │\n",
      "│  \u001b[3m               \u001b[0m   \u001b[3m           \u001b[0m           local                 default       │\n",
      "│  \u001b[3m               \u001b[0m   \u001b[3m           \u001b[0m           path to               --            │\n",
      "│  \u001b[3m               \u001b[0m   \u001b[3m           \u001b[0m           the                                 │\n",
      "│  \u001b[3m               \u001b[0m   \u001b[3m           \u001b[0m           file.                               │\n",
      "│  \u001b[3m               \u001b[0m                                                             │\n",
      "│                                                                              │\n",
      "│  \u001b[3m \u001b[0m\u001b[3mOutputs      \u001b[0m\u001b[3m \u001b[0m                                                             │\n",
      "│  \u001b[3m               \u001b[0m   \u001b[1m \u001b[0m\u001b[1mfield name   \u001b[0m\u001b[1m \u001b[0m \u001b[1m \u001b[0m\u001b[1mtype \u001b[0m\u001b[1m \u001b[0m \u001b[1m \u001b[0m\u001b[1mdescription                 \u001b[0m\u001b[1m \u001b[0m    │\n",
      "│  \u001b[3m               \u001b[0m   ──────────────────────────────────────────────────────    │\n",
      "│  \u001b[3m               \u001b[0m   \u001b[3m \u001b[0m\u001b[3mimported_file\u001b[0m\u001b[3m \u001b[0m  file    The loaded files.                │\n",
      "│  \u001b[3m               \u001b[0m   \u001b[3m \u001b[0m\u001b[3mtable        \u001b[0m\u001b[3m \u001b[0m  table   The result value.                │\n",
      "│  \u001b[3m               \u001b[0m                                                             │\n",
      "│                                                                              │\n",
      "╰──────────────────────────────────────────────────────────────────────────────╯\n"
     ]
    }
   ],
   "source": [
    "! kiara operation explain import.table.from.csv_file"
   ]
  },
  {
   "cell_type": "code",
   "execution_count": 6,
   "metadata": {},
   "outputs": [],
   "source": [
    "file_path = '/Users/mariella.decrouychan/Desktop/personnel.csv'\n",
    "\n",
    "# alternate path\n",
    "# file_path = '/Users/stakats/Development/data/medicalagents.csv'"
   ]
  },
  {
   "cell_type": "code",
   "execution_count": 7,
   "metadata": {},
   "outputs": [],
   "source": [
    "onboarding_result = api.run_job(operation=\"import.table.from.csv_file\", inputs={'path':file_path})"
   ]
  },
  {
   "cell_type": "code",
   "execution_count": 8,
   "metadata": {},
   "outputs": [],
   "source": [
    "# preview data\n",
    "table_value = kiara.data_registry.get_value(onboarding_result['table'].value_id)\n",
    "df = kiara_to_pandas(table_value)"
   ]
  },
  {
   "cell_type": "code",
   "execution_count": 9,
   "metadata": {},
   "outputs": [
    {
     "data": {
      "text/html": [
       "<div>\n",
       "<style scoped>\n",
       "    .dataframe tbody tr th:only-of-type {\n",
       "        vertical-align: middle;\n",
       "    }\n",
       "\n",
       "    .dataframe tbody tr th {\n",
       "        vertical-align: top;\n",
       "    }\n",
       "\n",
       "    .dataframe thead th {\n",
       "        text-align: right;\n",
       "    }\n",
       "</style>\n",
       "<table border=\"1\" class=\"dataframe\">\n",
       "  <thead>\n",
       "    <tr style=\"text-align: right;\">\n",
       "      <th></th>\n",
       "      <th>archref</th>\n",
       "      <th>name</th>\n",
       "      <th>placesdisplay</th>\n",
       "      <th>placesnormalized</th>\n",
       "      <th>corp</th>\n",
       "      <th>startdate</th>\n",
       "      <th>enddate</th>\n",
       "      <th>daterange</th>\n",
       "      <th>alldates</th>\n",
       "      <th>fullLink</th>\n",
       "      <th>fullRecord</th>\n",
       "    </tr>\n",
       "  </thead>\n",
       "  <tbody>\n",
       "    <tr>\n",
       "      <th>0</th>\n",
       "      <td>&lt;a class=\"archref\" href=\"/ark:/61561/up424lfky...</td>\n",
       "      <td>Abadie</td>\n",
       "      <td>['Sainte-Lucie']</td>\n",
       "      <td>['Sainte-Lucie, Île (Antilles)']</td>\n",
       "      <td></td>\n",
       "      <td>1787.0</td>\n",
       "      <td>1787.0</td>\n",
       "      <td>1787-1787</td>\n",
       "      <td>1787</td>\n",
       "      <td>/ark:/61561/up424lfky</td>\n",
       "      <td>Abadie, huissier à Sainte-Lucie 1787</td>\n",
       "    </tr>\n",
       "    <tr>\n",
       "      <th>1</th>\n",
       "      <td>&lt;a class=\"archref\" href=\"/ark:/61561/up424tntx...</td>\n",
       "      <td>Abbadie, d'</td>\n",
       "      <td>['Canada']</td>\n",
       "      <td>['Canada, Colonie française']</td>\n",
       "      <td>Régiment de Carignan-Salières</td>\n",
       "      <td>1665.0</td>\n",
       "      <td>1708.0</td>\n",
       "      <td>1665-1708</td>\n",
       "      <td>1665, 1708</td>\n",
       "      <td>/ark:/61561/up424tntx</td>\n",
       "      <td>Abbadie, d', enseigne dans le régiment de Cari...</td>\n",
       "    </tr>\n",
       "    <tr>\n",
       "      <th>2</th>\n",
       "      <td>&lt;a class=\"archref\" href=\"/ark:/61561/up424icjr...</td>\n",
       "      <td>Abeille, Jean</td>\n",
       "      <td>['Port-au-Prince']</td>\n",
       "      <td>['Port-au-Prince (Saint-Domingue, Île de)']</td>\n",
       "      <td></td>\n",
       "      <td>1788.0</td>\n",
       "      <td>1789.0</td>\n",
       "      <td>1788-1789</td>\n",
       "      <td>1788, 1789</td>\n",
       "      <td>/ark:/61561/up424icjr</td>\n",
       "      <td>Abeille, Jean, lieutenant de milices du batail...</td>\n",
       "    </tr>\n",
       "    <tr>\n",
       "      <th>3</th>\n",
       "      <td>&lt;a class=\"archref\" href=\"/ark:/61561/up424tnvz...</td>\n",
       "      <td>Abeille, Jean Joseph</td>\n",
       "      <td>['Pondichéry']</td>\n",
       "      <td>['Pondichéry (Inde)']</td>\n",
       "      <td>Conseil supérieur (Pondichéry ; Inde)</td>\n",
       "      <td>1769.0</td>\n",
       "      <td>1772.0</td>\n",
       "      <td>1769-1772</td>\n",
       "      <td>1769, 1772</td>\n",
       "      <td>/ark:/61561/up424tnvz</td>\n",
       "      <td>Abeille, Jean Joseph, conseiller au Conseil su...</td>\n",
       "    </tr>\n",
       "    <tr>\n",
       "      <th>4</th>\n",
       "      <td>&lt;a class=\"archref\" href=\"/ark:/61561/up424ezxy...</td>\n",
       "      <td>Abeille, Pierre</td>\n",
       "      <td>['Port-au-Prince']</td>\n",
       "      <td>['Port-au-Prince (Saint-Domingue, Île de)']</td>\n",
       "      <td></td>\n",
       "      <td>1774.0</td>\n",
       "      <td>1787.0</td>\n",
       "      <td>1774-1787</td>\n",
       "      <td>1774, 1787</td>\n",
       "      <td>/ark:/61561/up424ezxy</td>\n",
       "      <td>Abeille, Pierre, négociant à Port-au-Prince à ...</td>\n",
       "    </tr>\n",
       "  </tbody>\n",
       "</table>\n",
       "</div>"
      ],
      "text/plain": [
       "                                             archref                  name  \\\n",
       "0  <a class=\"archref\" href=\"/ark:/61561/up424lfky...                Abadie   \n",
       "1  <a class=\"archref\" href=\"/ark:/61561/up424tntx...           Abbadie, d'   \n",
       "2  <a class=\"archref\" href=\"/ark:/61561/up424icjr...         Abeille, Jean   \n",
       "3  <a class=\"archref\" href=\"/ark:/61561/up424tnvz...  Abeille, Jean Joseph   \n",
       "4  <a class=\"archref\" href=\"/ark:/61561/up424ezxy...       Abeille, Pierre   \n",
       "\n",
       "        placesdisplay                             placesnormalized  \\\n",
       "0    ['Sainte-Lucie']             ['Sainte-Lucie, Île (Antilles)']   \n",
       "1          ['Canada']                ['Canada, Colonie française']   \n",
       "2  ['Port-au-Prince']  ['Port-au-Prince (Saint-Domingue, Île de)']   \n",
       "3      ['Pondichéry']                        ['Pondichéry (Inde)']   \n",
       "4  ['Port-au-Prince']  ['Port-au-Prince (Saint-Domingue, Île de)']   \n",
       "\n",
       "                                    corp  startdate  enddate  daterange  \\\n",
       "0                                            1787.0   1787.0  1787-1787   \n",
       "1          Régiment de Carignan-Salières     1665.0   1708.0  1665-1708   \n",
       "2                                            1788.0   1789.0  1788-1789   \n",
       "3  Conseil supérieur (Pondichéry ; Inde)     1769.0   1772.0  1769-1772   \n",
       "4                                            1774.0   1787.0  1774-1787   \n",
       "\n",
       "     alldates               fullLink  \\\n",
       "0        1787  /ark:/61561/up424lfky   \n",
       "1  1665, 1708  /ark:/61561/up424tntx   \n",
       "2  1788, 1789  /ark:/61561/up424icjr   \n",
       "3  1769, 1772  /ark:/61561/up424tnvz   \n",
       "4  1774, 1787  /ark:/61561/up424ezxy   \n",
       "\n",
       "                                          fullRecord  \n",
       "0               Abadie, huissier à Sainte-Lucie 1787  \n",
       "1  Abbadie, d', enseigne dans le régiment de Cari...  \n",
       "2  Abeille, Jean, lieutenant de milices du batail...  \n",
       "3  Abeille, Jean Joseph, conseiller au Conseil su...  \n",
       "4  Abeille, Pierre, négociant à Port-au-Prince à ...  "
      ]
     },
     "execution_count": 9,
     "metadata": {},
     "output_type": "execute_result"
    }
   ],
   "source": [
    "df.head()"
   ]
  },
  {
   "cell_type": "code",
   "execution_count": 10,
   "metadata": {},
   "outputs": [
    {
     "data": {
      "text/html": [
       "<div>\n",
       "<style scoped>\n",
       "    .dataframe tbody tr th:only-of-type {\n",
       "        vertical-align: middle;\n",
       "    }\n",
       "\n",
       "    .dataframe tbody tr th {\n",
       "        vertical-align: top;\n",
       "    }\n",
       "\n",
       "    .dataframe thead th {\n",
       "        text-align: right;\n",
       "    }\n",
       "</style>\n",
       "<table border=\"1\" class=\"dataframe\">\n",
       "  <thead>\n",
       "    <tr style=\"text-align: right;\">\n",
       "      <th></th>\n",
       "      <th>archref</th>\n",
       "      <th>name</th>\n",
       "      <th>placesdisplay</th>\n",
       "      <th>placesnormalized</th>\n",
       "      <th>corp</th>\n",
       "      <th>startdate</th>\n",
       "      <th>enddate</th>\n",
       "      <th>daterange</th>\n",
       "      <th>alldates</th>\n",
       "      <th>fullLink</th>\n",
       "      <th>fullRecord</th>\n",
       "    </tr>\n",
       "  </thead>\n",
       "  <tbody>\n",
       "    <tr>\n",
       "      <th>19333</th>\n",
       "      <td>&lt;a class=\"archref\" href=\"/ark:/61561/up424tnvp...</td>\n",
       "      <td>Zemard, Ambroise</td>\n",
       "      <td>['île Royale']</td>\n",
       "      <td>['Royale, Île (Canada)']</td>\n",
       "      <td></td>\n",
       "      <td>1741.0</td>\n",
       "      <td>1741.0</td>\n",
       "      <td>1741-1741</td>\n",
       "      <td>1741</td>\n",
       "      <td>/ark:/61561/up424tnvpsny</td>\n",
       "      <td>Zemard, Ambroise, habitant de l'île Royale, co...</td>\n",
       "    </tr>\n",
       "    <tr>\n",
       "      <th>19334</th>\n",
       "      <td>&lt;a class=\"archref\" href=\"/ark:/61561/up424nhpj...</td>\n",
       "      <td>Zévallos, de</td>\n",
       "      <td>['Sainte-Anne']</td>\n",
       "      <td>['Sainte-Anne (Guadeloupe, Île de la)']</td>\n",
       "      <td></td>\n",
       "      <td>1770.0</td>\n",
       "      <td>1770.0</td>\n",
       "      <td>1770-1770</td>\n",
       "      <td>1770</td>\n",
       "      <td>/ark:/61561/up424nhpjmip</td>\n",
       "      <td>Zévallos, de, commandant des milices du quarti...</td>\n",
       "    </tr>\n",
       "    <tr>\n",
       "      <th>19335</th>\n",
       "      <td>&lt;a class=\"archref\" href=\"/ark:/61561/up424tnvp...</td>\n",
       "      <td>Zévallos, Edouard de</td>\n",
       "      <td></td>\n",
       "      <td></td>\n",
       "      <td>Régiment de la Guadeloupe</td>\n",
       "      <td>1786.0</td>\n",
       "      <td>1791.0</td>\n",
       "      <td>1786-1791</td>\n",
       "      <td>1786, 1790, 1791</td>\n",
       "      <td>/ark:/61561/up424tnvpspa</td>\n",
       "      <td>Zévallos, Edouard de, sous-lieutenant au régim...</td>\n",
       "    </tr>\n",
       "    <tr>\n",
       "      <th>19336</th>\n",
       "      <td>&lt;a class=\"archref\" href=\"/ark:/61561/up424wqys...</td>\n",
       "      <td>Zunbergen</td>\n",
       "      <td>['Guyane']</td>\n",
       "      <td>['Guyane française']</td>\n",
       "      <td></td>\n",
       "      <td>1784.0</td>\n",
       "      <td>1784.0</td>\n",
       "      <td>1784-1784</td>\n",
       "      <td>1784</td>\n",
       "      <td>/ark:/61561/up424wqysvtt</td>\n",
       "      <td>Zunbergen, accusé de malversations en Guyane 1784</td>\n",
       "    </tr>\n",
       "    <tr>\n",
       "      <th>19337</th>\n",
       "      <td>&lt;a class=\"archref\" href=\"/ark:/61561/up424vpxr...</td>\n",
       "      <td>Zweerts, Constantin Christian</td>\n",
       "      <td>['Tabago']</td>\n",
       "      <td>['Tabago, Île (Antilles)']</td>\n",
       "      <td></td>\n",
       "      <td>1782.0</td>\n",
       "      <td>1787.0</td>\n",
       "      <td>1782-1787</td>\n",
       "      <td>1782, 1787</td>\n",
       "      <td>/ark:/61561/up424vpxruto</td>\n",
       "      <td>Zweerts, Constantin Christian, interprète de l...</td>\n",
       "    </tr>\n",
       "  </tbody>\n",
       "</table>\n",
       "</div>"
      ],
      "text/plain": [
       "                                                 archref  \\\n",
       "19333  <a class=\"archref\" href=\"/ark:/61561/up424tnvp...   \n",
       "19334  <a class=\"archref\" href=\"/ark:/61561/up424nhpj...   \n",
       "19335  <a class=\"archref\" href=\"/ark:/61561/up424tnvp...   \n",
       "19336  <a class=\"archref\" href=\"/ark:/61561/up424wqys...   \n",
       "19337  <a class=\"archref\" href=\"/ark:/61561/up424vpxr...   \n",
       "\n",
       "                                name    placesdisplay  \\\n",
       "19333               Zemard, Ambroise   ['île Royale']   \n",
       "19334                   Zévallos, de  ['Sainte-Anne']   \n",
       "19335           Zévallos, Edouard de                    \n",
       "19336                      Zunbergen       ['Guyane']   \n",
       "19337  Zweerts, Constantin Christian       ['Tabago']   \n",
       "\n",
       "                              placesnormalized                       corp  \\\n",
       "19333                 ['Royale, Île (Canada)']                              \n",
       "19334  ['Sainte-Anne (Guadeloupe, Île de la)']                              \n",
       "19335                                           Régiment de la Guadeloupe   \n",
       "19336                     ['Guyane française']                              \n",
       "19337               ['Tabago, Île (Antilles)']                              \n",
       "\n",
       "       startdate  enddate  daterange          alldates  \\\n",
       "19333     1741.0   1741.0  1741-1741              1741   \n",
       "19334     1770.0   1770.0  1770-1770              1770   \n",
       "19335     1786.0   1791.0  1786-1791  1786, 1790, 1791   \n",
       "19336     1784.0   1784.0  1784-1784              1784   \n",
       "19337     1782.0   1787.0  1782-1787        1782, 1787   \n",
       "\n",
       "                       fullLink  \\\n",
       "19333  /ark:/61561/up424tnvpsny   \n",
       "19334  /ark:/61561/up424nhpjmip   \n",
       "19335  /ark:/61561/up424tnvpspa   \n",
       "19336  /ark:/61561/up424wqysvtt   \n",
       "19337  /ark:/61561/up424vpxruto   \n",
       "\n",
       "                                              fullRecord  \n",
       "19333  Zemard, Ambroise, habitant de l'île Royale, co...  \n",
       "19334  Zévallos, de, commandant des milices du quarti...  \n",
       "19335  Zévallos, Edouard de, sous-lieutenant au régim...  \n",
       "19336  Zunbergen, accusé de malversations en Guyane 1784  \n",
       "19337  Zweerts, Constantin Christian, interprète de l...  "
      ]
     },
     "execution_count": 10,
     "metadata": {},
     "output_type": "execute_result"
    }
   ],
   "source": [
    "df.tail()"
   ]
  },
  {
   "cell_type": "code",
   "execution_count": 11,
   "metadata": {},
   "outputs": [
    {
     "name": "stdout",
     "output_type": "stream",
     "text": [
      "<class 'pandas.core.frame.DataFrame'>\n",
      "RangeIndex: 19338 entries, 0 to 19337\n",
      "Data columns (total 11 columns):\n",
      " #   Column            Non-Null Count  Dtype  \n",
      "---  ------            --------------  -----  \n",
      " 0   archref           19338 non-null  object \n",
      " 1   name              19338 non-null  object \n",
      " 2   placesdisplay     19338 non-null  object \n",
      " 3   placesnormalized  19338 non-null  object \n",
      " 4   corp              19338 non-null  object \n",
      " 5   startdate         19251 non-null  float64\n",
      " 6   enddate           19251 non-null  float64\n",
      " 7   daterange         19338 non-null  object \n",
      " 8   alldates          19338 non-null  object \n",
      " 9   fullLink          19338 non-null  object \n",
      " 10  fullRecord        19338 non-null  object \n",
      "dtypes: float64(2), object(9)\n",
      "memory usage: 1.6+ MB\n"
     ]
    }
   ],
   "source": [
    "# checking if missing values\n",
    "df.info()"
   ]
  },
  {
   "cell_type": "markdown",
   "metadata": {},
   "source": [
    "### 2. Columns rename"
   ]
  },
  {
   "cell_type": "code",
   "execution_count": 12,
   "metadata": {},
   "outputs": [
    {
     "name": "stdout",
     "output_type": "stream",
     "text": [
      "\n",
      "╭─ Operation: \u001b[1;3manom_processing.column_names_replace\u001b[0m ────────────────────────────╮\n",
      "│                                                                              │\n",
      "│  \u001b[3m \u001b[0m\u001b[3mDocumentation\u001b[0m\u001b[3m \u001b[0m  Replace columns names.                                     │\n",
      "│                                                                              │\n",
      "│  \u001b[3m \u001b[0m\u001b[3mInputs       \u001b[0m\u001b[3m \u001b[0m                                                             │\n",
      "│  \u001b[3m               \u001b[0m   \u001b[1m \u001b[0m\u001b[1mfield    \u001b[0m\u001b[1m \u001b[0m \u001b[1m       \u001b[0m \u001b[1m           \u001b[0m \u001b[1m          \u001b[0m \u001b[1m           \u001b[0m    │\n",
      "│  \u001b[3m               \u001b[0m   \u001b[1m \u001b[0m\u001b[1mname     \u001b[0m\u001b[1m \u001b[0m \u001b[1m \u001b[0m\u001b[1mtype \u001b[0m\u001b[1m \u001b[0m \u001b[1m \u001b[0m\u001b[1mdescript…\u001b[0m\u001b[1m \u001b[0m \u001b[1m \u001b[0m\u001b[1mRequired\u001b[0m\u001b[1m \u001b[0m \u001b[1m \u001b[0m\u001b[1mDefault  \u001b[0m\u001b[1m \u001b[0m    │\n",
      "│  \u001b[3m               \u001b[0m   ──────────────────────────────────────────────────────    │\n",
      "│  \u001b[3m               \u001b[0m   \u001b[3m \u001b[0m\u001b[3mtable    \u001b[0m\u001b[3m \u001b[0m  table   The table   \u001b[1myes\u001b[0m        -- no         │\n",
      "│  \u001b[3m               \u001b[0m   \u001b[3m           \u001b[0m          for which              default       │\n",
      "│  \u001b[3m               \u001b[0m   \u001b[3m           \u001b[0m          one or                 --            │\n",
      "│  \u001b[3m               \u001b[0m   \u001b[3m           \u001b[0m          more                                 │\n",
      "│  \u001b[3m               \u001b[0m   \u001b[3m           \u001b[0m          column                               │\n",
      "│  \u001b[3m               \u001b[0m   \u001b[3m           \u001b[0m          names                                │\n",
      "│  \u001b[3m               \u001b[0m   \u001b[3m           \u001b[0m          need to                              │\n",
      "│  \u001b[3m               \u001b[0m   \u001b[3m           \u001b[0m          be                                   │\n",
      "│  \u001b[3m               \u001b[0m   \u001b[3m           \u001b[0m          replaced.                            │\n",
      "│  \u001b[3m               \u001b[0m   \u001b[3m \u001b[0m\u001b[3mcolumns_m\u001b[0m\u001b[3m \u001b[0m  dict    A dict      \u001b[1myes\u001b[0m        -- no         │\n",
      "│  \u001b[3m               \u001b[0m   \u001b[3m \u001b[0m\u001b[3map       \u001b[0m\u001b[3m \u001b[0m          mapping                default       │\n",
      "│  \u001b[3m               \u001b[0m   \u001b[3m           \u001b[0m          old cols               --            │\n",
      "│  \u001b[3m               \u001b[0m   \u001b[3m           \u001b[0m          (left)                               │\n",
      "│  \u001b[3m               \u001b[0m   \u001b[3m           \u001b[0m          with new                             │\n",
      "│  \u001b[3m               \u001b[0m   \u001b[3m           \u001b[0m          cols                                 │\n",
      "│  \u001b[3m               \u001b[0m   \u001b[3m           \u001b[0m          (right).                             │\n",
      "│  \u001b[3m               \u001b[0m                                                             │\n",
      "│                                                                              │\n",
      "│  \u001b[3m \u001b[0m\u001b[3mOutputs      \u001b[0m\u001b[3m \u001b[0m                                                             │\n",
      "│  \u001b[3m               \u001b[0m   \u001b[1m \u001b[0m\u001b[1mfield name\u001b[0m\u001b[1m \u001b[0m \u001b[1m \u001b[0m\u001b[1mtype \u001b[0m\u001b[1m \u001b[0m \u001b[1m \u001b[0m\u001b[1mdescription                    \u001b[0m\u001b[1m \u001b[0m    │\n",
      "│  \u001b[3m               \u001b[0m   ──────────────────────────────────────────────────────    │\n",
      "│  \u001b[3m               \u001b[0m   \u001b[3m \u001b[0m\u001b[3mtable     \u001b[0m\u001b[3m \u001b[0m  table   The table with standardised         │\n",
      "│  \u001b[3m               \u001b[0m   \u001b[3m            \u001b[0m          column names.                       │\n",
      "│  \u001b[3m               \u001b[0m                                                             │\n",
      "│                                                                              │\n",
      "╰──────────────────────────────────────────────────────────────────────────────╯\n"
     ]
    }
   ],
   "source": [
    "! kiara operation explain anom_processing.column_names_replace"
   ]
  },
  {
   "cell_type": "code",
   "execution_count": 13,
   "metadata": {},
   "outputs": [],
   "source": [
    "col_map = column_map = {\n",
    "    \"name\": \"foaf:name\",\n",
    "    \"placesdisplay\": \"gn:name\",\n",
    "    \"daterange\": \"dc:date\",\n",
    "    \"fullLink\": \"dc:identifier\"\n",
    "}"
   ]
  },
  {
   "cell_type": "code",
   "execution_count": 14,
   "metadata": {},
   "outputs": [],
   "source": [
    "rename_columns_result = api.run_job(operation=\"anom_processing.column_names_replace\", inputs={'table':table_value, 'columns_map':col_map})"
   ]
  },
  {
   "cell_type": "code",
   "execution_count": 15,
   "metadata": {},
   "outputs": [
    {
     "data": {
      "text/html": [
       "<pre style=\"white-space:pre;overflow-x:auto;line-height:normal;font-family:Menlo,'DejaVu Sans Mono',consolas,'Courier New',monospace\">╭──────────────────────────────────────────────────────────────────────────────────────────────────────────────────────────────────────────╮\n",
       "│                                                                                                                                          │\n",
       "│  <span style=\"font-weight: bold\"> field </span> <span style=\"font-weight: bold\"> value                                                                                                                        </span>  │\n",
       "│  ──────────────────────────────────────────────────────────────────────────────────────────────────────────────────────────────────────  │\n",
       "│  <span style=\"font-weight: bold\"> table </span> <span style=\"font-style: italic\">                                                                                                                              </span>  │\n",
       "│  <span style=\"font-weight: bold\">       </span> <span style=\"font-style: italic\">  </span><span style=\"font-weight: bold; font-style: italic\"> archref  </span><span style=\"font-style: italic\"> </span><span style=\"font-weight: bold; font-style: italic\"> foaf:nam </span><span style=\"font-style: italic\"> </span><span style=\"font-weight: bold; font-style: italic\"> gn:name  </span><span style=\"font-style: italic\"> </span><span style=\"font-weight: bold; font-style: italic\"> placesno </span><span style=\"font-style: italic\"> </span><span style=\"font-weight: bold; font-style: italic\"> corp      </span><span style=\"font-style: italic\"> </span><span style=\"font-weight: bold; font-style: italic\"> startdat </span><span style=\"font-style: italic\"> </span><span style=\"font-weight: bold; font-style: italic\"> enddate </span><span style=\"font-style: italic\"> </span><span style=\"font-weight: bold; font-style: italic\"> dc:date   </span><span style=\"font-style: italic\"> </span><span style=\"font-weight: bold; font-style: italic\"> alldates </span><span style=\"font-style: italic\"> </span><span style=\"font-weight: bold; font-style: italic\"> dc:identi </span><span style=\"font-style: italic\"> </span><span style=\"font-weight: bold; font-style: italic\"> fullReco </span><span style=\"font-style: italic\">  </span>  │\n",
       "│  <span style=\"font-weight: bold\">       </span> <span style=\"font-style: italic\">  ──────────────────────────────────────────────────────────────────────────────────────────────────────────────────────────  </span>  │\n",
       "│  <span style=\"font-weight: bold\">       </span> <span style=\"font-style: italic\">   &lt;a class   Abadie     ['Sainte   ['Sainte               1787.0     1787.0    1787-1787   1787       /ark:/615   Abadie,    </span>  │\n",
       "│  <span style=\"font-weight: bold\">       </span> <span style=\"font-style: italic\">   &lt;a class   Abbadie,   ['Canada   ['Canada   Régiment    1665.0     1708.0    1665-1708   1665, 17   /ark:/615   Abbadie,   </span>  │\n",
       "│  <span style=\"font-weight: bold\">       </span> <span style=\"font-style: italic\">   &lt;a class   Abeille,   ['Port-a   ['Port-a               1788.0     1789.0    1788-1789   1788, 17   /ark:/615   Abeille,   </span>  │\n",
       "│  <span style=\"font-weight: bold\">       </span> <span style=\"font-style: italic\">   &lt;a class   Abeille,   ['Pondic   ['Pondic   Conseil s   1769.0     1772.0    1769-1772   1769, 17   /ark:/615   Abeille,   </span>  │\n",
       "│  <span style=\"font-weight: bold\">       </span> <span style=\"font-style: italic\">   &lt;a class   Abeille,   ['Port-a   ['Port-a               1774.0     1787.0    1774-1787   1774, 17   /ark:/615   Abeille,   </span>  │\n",
       "│  <span style=\"font-weight: bold\">       </span> <span style=\"font-style: italic\">   &lt;a class   Abel, Je   ['Guadel   ['Guadel               1784.0     1784.0    1784-1784   1784       /ark:/615   Abel, Je   </span>  │\n",
       "│  <span style=\"font-weight: bold\">       </span> <span style=\"font-style: italic\">   &lt;a class   Abel, Ol   ['Canada   ['Canada               1732.0     1749.0    1732-1749   1732, 17   /ark:/615   Abel, Ol   </span>  │\n",
       "│  <span style=\"font-weight: bold\">       </span> <span style=\"font-style: italic\">   &lt;a class   Ablé, Pi                                     1777.0     1777.0    1777-1777   1777       /ark:/615   Ablé, Pi   </span>  │\n",
       "│  <span style=\"font-weight: bold\">       </span> <span style=\"font-style: italic\">   &lt;a class   Abon, Ja                         Régiment    1773.0     1779.0    1773-1779   1773, 17   /ark:/615   Abon, Ja   </span>  │\n",
       "│  <span style=\"font-weight: bold\">       </span> <span style=\"font-style: italic\">   &lt;a class   Accaron,                                     1735.0     1766.0    1735-1766   1735, 17   /ark:/615   Accaron,   </span>  │\n",
       "│  <span style=\"font-weight: bold\">       </span> <span style=\"font-style: italic\">   &lt;a class   Accolans   ['Saint-   ['Saint-               1767.0     1770.0    1767-1770   1767, 17   /ark:/615   Accolans   </span>  │\n",
       "│  <span style=\"font-weight: bold\">       </span> <span style=\"font-style: italic\">   &lt;a class   Achard,    ['Pointe   ['Pointe               1787.0     1787.0    1787-1787   1787       /ark:/615   Achard,    </span>  │\n",
       "│  <span style=\"font-weight: bold\">       </span> <span style=\"font-style: italic\">   &lt;a class   Achard,    ['Basse-   ['Basse-               1787.0     1787.0    1787-1787   1787       /ark:/615   Achard,    </span>  │\n",
       "│  <span style=\"font-weight: bold\">       </span> <span style=\"font-style: italic\">   &lt;a class   Achard d   ['Cap']    ['Le Cap   Conseil s   1769.0     1776.0    1769-1776   1769, 17   /ark:/615   Achard d   </span>  │\n",
       "│  <span style=\"font-weight: bold\">       </span> <span style=\"font-style: italic\">   &lt;a class   Achard d   [\"Saint-   [\"Saint-               1734.0     1779.0    1734-1779   1734, 17   /ark:/615   Achard d   </span>  │\n",
       "│  <span style=\"font-weight: bold\">       </span> <span style=\"font-style: italic\">   &lt;a class   Aché       ['Embrun   ['Embrun   Régiment    1788.0     1788.0    1788-1788   1788       /ark:/615   Aché, co   </span>  │\n",
       "│  <span style=\"font-weight: bold\">       </span> <span style=\"font-style: italic\">   ...        ...        ...        ...        ...         ...        ...       ...         ...        ...         ...        </span>  │\n",
       "│  <span style=\"font-weight: bold\">       </span> <span style=\"font-style: italic\">   ...        ...        ...        ...        ...         ...        ...       ...         ...        ...         ...        </span>  │\n",
       "│  <span style=\"font-weight: bold\">       </span> <span style=\"font-style: italic\">   &lt;a class   Yvon, Gi   ['Saint-   ['Saint-   Régiment    1775.0     1784.0    1775-1784   1775, 17   /ark:/615   Yvon, Gi   </span>  │\n",
       "│  <span style=\"font-weight: bold\">       </span> <span style=\"font-style: italic\">   &lt;a class   Yvon, Jo   ['Sainte   ['Sainte               1763.0     1763.0    1763-1763   1763       /ark:/615   Yvon, Jo   </span>  │\n",
       "│  <span style=\"font-weight: bold\">       </span> <span style=\"font-style: italic\">   &lt;a class   Yvon, Lo   ['île de   ['France               1771.0     1790.0    1771-1790   1771, 17   /ark:/615   Yvon, Lo   </span>  │\n",
       "│  <span style=\"font-weight: bold\">       </span> <span style=\"font-style: italic\">   &lt;a class   Yvon       ['île de   ['France               1785.0     1785.0    1785-1785   1785       /ark:/615   Yvon, es   </span>  │\n",
       "│  <span style=\"font-weight: bold\">       </span> <span style=\"font-style: italic\">   &lt;a class   Yvonnet,   ['Caen',   ['Caen (               1787.0     1792.0    1787-1792   1787, 17   /ark:/615   Yvonnet,   </span>  │\n",
       "│  <span style=\"font-weight: bold\">       </span> <span style=\"font-style: italic\">   &lt;a class   Yzact, P   ['Pondic   ['Pondic   Conseil s   1769.0     1769.0    1769-1769   1769       /ark:/615   Yzact, P   </span>  │\n",
       "│  <span style=\"font-weight: bold\">       </span> <span style=\"font-style: italic\">   &lt;a class   Zacharie   ['Martin   ['Martin   Capucins    1783.0     1783.0    1783-1783   1783       /ark:/615   Zacharie   </span>  │\n",
       "│  <span style=\"font-weight: bold\">       </span> <span style=\"font-style: italic\">   &lt;a class   Zamor, A                         Régiment    1784.0     1784.0    1784-1784   1784, 17   /ark:/615   Zamor, A   </span>  │\n",
       "│  <span style=\"font-weight: bold\">       </span> <span style=\"font-style: italic\">   &lt;a class   Zanico,    ['Milan'   ['Milan                1781.0     1781.0    1781-1781   1781       /ark:/615   Zanico,    </span>  │\n",
       "│  <span style=\"font-weight: bold\">       </span> <span style=\"font-style: italic\">   &lt;a class   Zanthier   ['Indes'   ['Inde f               1781.0     1781.0    1781-1781   1781       /ark:/615   Zanthier   </span>  │\n",
       "│  <span style=\"font-weight: bold\">       </span> <span style=\"font-style: italic\">   &lt;a class   Zelman,                          Régiment    1784.0     1784.0    1784-1784   1784, 17   /ark:/615   Zelman,    </span>  │\n",
       "│  <span style=\"font-weight: bold\">       </span> <span style=\"font-style: italic\">   &lt;a class   Zemard,    ['île Ro   ['Royale               1741.0     1741.0    1741-1741   1741       /ark:/615   Zemard,    </span>  │\n",
       "│  <span style=\"font-weight: bold\">       </span> <span style=\"font-style: italic\">   &lt;a class   Zévallos   ['Sainte   ['Sainte               1770.0     1770.0    1770-1770   1770       /ark:/615   Zévallos   </span>  │\n",
       "│  <span style=\"font-weight: bold\">       </span> <span style=\"font-style: italic\">   &lt;a class   Zévallos                         Régiment    1786.0     1791.0    1786-1791   1786, 17   /ark:/615   Zévallos   </span>  │\n",
       "│  <span style=\"font-weight: bold\">       </span> <span style=\"font-style: italic\">   &lt;a class   Zunberge   ['Guyane   ['Guyane               1784.0     1784.0    1784-1784   1784       /ark:/615   Zunberge   </span>  │\n",
       "│  <span style=\"font-weight: bold\">       </span> <span style=\"font-style: italic\">   &lt;a class   Zweerts,   ['Tabago   ['Tabago               1782.0     1787.0    1782-1787   1782, 17   /ark:/615   Zweerts,   </span>  │\n",
       "│  <span style=\"font-weight: bold\">       </span> <span style=\"font-style: italic\">                                                                                                                              </span>  │\n",
       "│                                                                                                                                          │\n",
       "╰──────────────────────────────────────────────────────────────────────────────────────────────────────────────────────────────────────────╯\n",
       "</pre>\n"
      ],
      "text/plain": [
       "╭──────────────────────────────────────────────────────────────────────────────────────────────────────────────────────────────────────────╮\n",
       "│                                                                                                                                          │\n",
       "│  \u001b[1m \u001b[0m\u001b[1mfield\u001b[0m\u001b[1m \u001b[0m \u001b[1m \u001b[0m\u001b[1mvalue                                                                                                                       \u001b[0m\u001b[1m \u001b[0m  │\n",
       "│  ──────────────────────────────────────────────────────────────────────────────────────────────────────────────────────────────────────  │\n",
       "│  \u001b[1m \u001b[0m\u001b[1mtable\u001b[0m\u001b[1m \u001b[0m \u001b[3m \u001b[0m\u001b[3m                                                                                                                            \u001b[0m\u001b[3m \u001b[0m  │\n",
       "│  \u001b[1m       \u001b[0m \u001b[3m \u001b[0m\u001b[3m \u001b[0m\u001b[1;3m \u001b[0m\u001b[1;3marchref\u001b[0m\u001b[1;3m \u001b[0m\u001b[1;3m \u001b[0m\u001b[3m \u001b[0m\u001b[1;3m \u001b[0m\u001b[1;3mfoaf:nam\u001b[0m\u001b[1;3m \u001b[0m\u001b[3m \u001b[0m\u001b[1;3m \u001b[0m\u001b[1;3mgn:name\u001b[0m\u001b[1;3m \u001b[0m\u001b[1;3m \u001b[0m\u001b[3m \u001b[0m\u001b[1;3m \u001b[0m\u001b[1;3mplacesno\u001b[0m\u001b[1;3m \u001b[0m\u001b[3m \u001b[0m\u001b[1;3m \u001b[0m\u001b[1;3mcorp\u001b[0m\u001b[1;3m     \u001b[0m\u001b[1;3m \u001b[0m\u001b[3m \u001b[0m\u001b[1;3m \u001b[0m\u001b[1;3mstartdat\u001b[0m\u001b[1;3m \u001b[0m\u001b[3m \u001b[0m\u001b[1;3m \u001b[0m\u001b[1;3menddate\u001b[0m\u001b[1;3m \u001b[0m\u001b[3m \u001b[0m\u001b[1;3m \u001b[0m\u001b[1;3mdc:date\u001b[0m\u001b[1;3m  \u001b[0m\u001b[1;3m \u001b[0m\u001b[3m \u001b[0m\u001b[1;3m \u001b[0m\u001b[1;3malldates\u001b[0m\u001b[1;3m \u001b[0m\u001b[3m \u001b[0m\u001b[1;3m \u001b[0m\u001b[1;3mdc:identi\u001b[0m\u001b[1;3m \u001b[0m\u001b[3m \u001b[0m\u001b[1;3m \u001b[0m\u001b[1;3mfullReco\u001b[0m\u001b[1;3m \u001b[0m\u001b[3m \u001b[0m\u001b[3m \u001b[0m  │\n",
       "│  \u001b[1m       \u001b[0m \u001b[3m \u001b[0m\u001b[3m ────────────────────────────────────────────────────────────────────────────────────────────────────────────────────────── \u001b[0m\u001b[3m \u001b[0m  │\n",
       "│  \u001b[1m       \u001b[0m \u001b[3m \u001b[0m\u001b[3m \u001b[0m\u001b[3m \u001b[0m\u001b[3m<a class\u001b[0m\u001b[3m \u001b[0m\u001b[3m \u001b[0m\u001b[3m \u001b[0m\u001b[3mAbadie\u001b[0m\u001b[3m  \u001b[0m\u001b[3m \u001b[0m\u001b[3m \u001b[0m\u001b[3m \u001b[0m\u001b[3m['Sainte\u001b[0m\u001b[3m \u001b[0m\u001b[3m \u001b[0m\u001b[3m \u001b[0m\u001b[3m['Sainte\u001b[0m\u001b[3m \u001b[0m\u001b[3m \u001b[0m\u001b[3m \u001b[0m\u001b[3m         \u001b[0m\u001b[3m \u001b[0m\u001b[3m \u001b[0m\u001b[3m \u001b[0m\u001b[3m1787.0\u001b[0m\u001b[3m  \u001b[0m\u001b[3m \u001b[0m\u001b[3m \u001b[0m\u001b[3m \u001b[0m\u001b[3m1787.0\u001b[0m\u001b[3m \u001b[0m\u001b[3m \u001b[0m\u001b[3m \u001b[0m\u001b[3m \u001b[0m\u001b[3m1787-1787\u001b[0m\u001b[3m \u001b[0m\u001b[3m \u001b[0m\u001b[3m \u001b[0m\u001b[3m1787\u001b[0m\u001b[3m    \u001b[0m\u001b[3m \u001b[0m\u001b[3m \u001b[0m\u001b[3m \u001b[0m\u001b[3m/ark:/615\u001b[0m\u001b[3m \u001b[0m\u001b[3m \u001b[0m\u001b[3m \u001b[0m\u001b[3mAbadie, \u001b[0m\u001b[3m \u001b[0m\u001b[3m \u001b[0m\u001b[3m \u001b[0m  │\n",
       "│  \u001b[1m       \u001b[0m \u001b[3m \u001b[0m\u001b[3m \u001b[0m\u001b[3m \u001b[0m\u001b[3m<a class\u001b[0m\u001b[3m \u001b[0m\u001b[3m \u001b[0m\u001b[3m \u001b[0m\u001b[3mAbbadie,\u001b[0m\u001b[3m \u001b[0m\u001b[3m \u001b[0m\u001b[3m \u001b[0m\u001b[3m['Canada\u001b[0m\u001b[3m \u001b[0m\u001b[3m \u001b[0m\u001b[3m \u001b[0m\u001b[3m['Canada\u001b[0m\u001b[3m \u001b[0m\u001b[3m \u001b[0m\u001b[3m \u001b[0m\u001b[3mRégiment \u001b[0m\u001b[3m \u001b[0m\u001b[3m \u001b[0m\u001b[3m \u001b[0m\u001b[3m1665.0\u001b[0m\u001b[3m  \u001b[0m\u001b[3m \u001b[0m\u001b[3m \u001b[0m\u001b[3m \u001b[0m\u001b[3m1708.0\u001b[0m\u001b[3m \u001b[0m\u001b[3m \u001b[0m\u001b[3m \u001b[0m\u001b[3m \u001b[0m\u001b[3m1665-1708\u001b[0m\u001b[3m \u001b[0m\u001b[3m \u001b[0m\u001b[3m \u001b[0m\u001b[3m1665, 17\u001b[0m\u001b[3m \u001b[0m\u001b[3m \u001b[0m\u001b[3m \u001b[0m\u001b[3m/ark:/615\u001b[0m\u001b[3m \u001b[0m\u001b[3m \u001b[0m\u001b[3m \u001b[0m\u001b[3mAbbadie,\u001b[0m\u001b[3m \u001b[0m\u001b[3m \u001b[0m\u001b[3m \u001b[0m  │\n",
       "│  \u001b[1m       \u001b[0m \u001b[3m \u001b[0m\u001b[3m \u001b[0m\u001b[3m \u001b[0m\u001b[3m<a class\u001b[0m\u001b[3m \u001b[0m\u001b[3m \u001b[0m\u001b[3m \u001b[0m\u001b[3mAbeille,\u001b[0m\u001b[3m \u001b[0m\u001b[3m \u001b[0m\u001b[3m \u001b[0m\u001b[3m['Port-a\u001b[0m\u001b[3m \u001b[0m\u001b[3m \u001b[0m\u001b[3m \u001b[0m\u001b[3m['Port-a\u001b[0m\u001b[3m \u001b[0m\u001b[3m \u001b[0m\u001b[3m \u001b[0m\u001b[3m         \u001b[0m\u001b[3m \u001b[0m\u001b[3m \u001b[0m\u001b[3m \u001b[0m\u001b[3m1788.0\u001b[0m\u001b[3m  \u001b[0m\u001b[3m \u001b[0m\u001b[3m \u001b[0m\u001b[3m \u001b[0m\u001b[3m1789.0\u001b[0m\u001b[3m \u001b[0m\u001b[3m \u001b[0m\u001b[3m \u001b[0m\u001b[3m \u001b[0m\u001b[3m1788-1789\u001b[0m\u001b[3m \u001b[0m\u001b[3m \u001b[0m\u001b[3m \u001b[0m\u001b[3m1788, 17\u001b[0m\u001b[3m \u001b[0m\u001b[3m \u001b[0m\u001b[3m \u001b[0m\u001b[3m/ark:/615\u001b[0m\u001b[3m \u001b[0m\u001b[3m \u001b[0m\u001b[3m \u001b[0m\u001b[3mAbeille,\u001b[0m\u001b[3m \u001b[0m\u001b[3m \u001b[0m\u001b[3m \u001b[0m  │\n",
       "│  \u001b[1m       \u001b[0m \u001b[3m \u001b[0m\u001b[3m \u001b[0m\u001b[3m \u001b[0m\u001b[3m<a class\u001b[0m\u001b[3m \u001b[0m\u001b[3m \u001b[0m\u001b[3m \u001b[0m\u001b[3mAbeille,\u001b[0m\u001b[3m \u001b[0m\u001b[3m \u001b[0m\u001b[3m \u001b[0m\u001b[3m['Pondic\u001b[0m\u001b[3m \u001b[0m\u001b[3m \u001b[0m\u001b[3m \u001b[0m\u001b[3m['Pondic\u001b[0m\u001b[3m \u001b[0m\u001b[3m \u001b[0m\u001b[3m \u001b[0m\u001b[3mConseil s\u001b[0m\u001b[3m \u001b[0m\u001b[3m \u001b[0m\u001b[3m \u001b[0m\u001b[3m1769.0\u001b[0m\u001b[3m  \u001b[0m\u001b[3m \u001b[0m\u001b[3m \u001b[0m\u001b[3m \u001b[0m\u001b[3m1772.0\u001b[0m\u001b[3m \u001b[0m\u001b[3m \u001b[0m\u001b[3m \u001b[0m\u001b[3m \u001b[0m\u001b[3m1769-1772\u001b[0m\u001b[3m \u001b[0m\u001b[3m \u001b[0m\u001b[3m \u001b[0m\u001b[3m1769, 17\u001b[0m\u001b[3m \u001b[0m\u001b[3m \u001b[0m\u001b[3m \u001b[0m\u001b[3m/ark:/615\u001b[0m\u001b[3m \u001b[0m\u001b[3m \u001b[0m\u001b[3m \u001b[0m\u001b[3mAbeille,\u001b[0m\u001b[3m \u001b[0m\u001b[3m \u001b[0m\u001b[3m \u001b[0m  │\n",
       "│  \u001b[1m       \u001b[0m \u001b[3m \u001b[0m\u001b[3m \u001b[0m\u001b[3m \u001b[0m\u001b[3m<a class\u001b[0m\u001b[3m \u001b[0m\u001b[3m \u001b[0m\u001b[3m \u001b[0m\u001b[3mAbeille,\u001b[0m\u001b[3m \u001b[0m\u001b[3m \u001b[0m\u001b[3m \u001b[0m\u001b[3m['Port-a\u001b[0m\u001b[3m \u001b[0m\u001b[3m \u001b[0m\u001b[3m \u001b[0m\u001b[3m['Port-a\u001b[0m\u001b[3m \u001b[0m\u001b[3m \u001b[0m\u001b[3m \u001b[0m\u001b[3m         \u001b[0m\u001b[3m \u001b[0m\u001b[3m \u001b[0m\u001b[3m \u001b[0m\u001b[3m1774.0\u001b[0m\u001b[3m  \u001b[0m\u001b[3m \u001b[0m\u001b[3m \u001b[0m\u001b[3m \u001b[0m\u001b[3m1787.0\u001b[0m\u001b[3m \u001b[0m\u001b[3m \u001b[0m\u001b[3m \u001b[0m\u001b[3m \u001b[0m\u001b[3m1774-1787\u001b[0m\u001b[3m \u001b[0m\u001b[3m \u001b[0m\u001b[3m \u001b[0m\u001b[3m1774, 17\u001b[0m\u001b[3m \u001b[0m\u001b[3m \u001b[0m\u001b[3m \u001b[0m\u001b[3m/ark:/615\u001b[0m\u001b[3m \u001b[0m\u001b[3m \u001b[0m\u001b[3m \u001b[0m\u001b[3mAbeille,\u001b[0m\u001b[3m \u001b[0m\u001b[3m \u001b[0m\u001b[3m \u001b[0m  │\n",
       "│  \u001b[1m       \u001b[0m \u001b[3m \u001b[0m\u001b[3m \u001b[0m\u001b[3m \u001b[0m\u001b[3m<a class\u001b[0m\u001b[3m \u001b[0m\u001b[3m \u001b[0m\u001b[3m \u001b[0m\u001b[3mAbel, Je\u001b[0m\u001b[3m \u001b[0m\u001b[3m \u001b[0m\u001b[3m \u001b[0m\u001b[3m['Guadel\u001b[0m\u001b[3m \u001b[0m\u001b[3m \u001b[0m\u001b[3m \u001b[0m\u001b[3m['Guadel\u001b[0m\u001b[3m \u001b[0m\u001b[3m \u001b[0m\u001b[3m \u001b[0m\u001b[3m         \u001b[0m\u001b[3m \u001b[0m\u001b[3m \u001b[0m\u001b[3m \u001b[0m\u001b[3m1784.0\u001b[0m\u001b[3m  \u001b[0m\u001b[3m \u001b[0m\u001b[3m \u001b[0m\u001b[3m \u001b[0m\u001b[3m1784.0\u001b[0m\u001b[3m \u001b[0m\u001b[3m \u001b[0m\u001b[3m \u001b[0m\u001b[3m \u001b[0m\u001b[3m1784-1784\u001b[0m\u001b[3m \u001b[0m\u001b[3m \u001b[0m\u001b[3m \u001b[0m\u001b[3m1784\u001b[0m\u001b[3m    \u001b[0m\u001b[3m \u001b[0m\u001b[3m \u001b[0m\u001b[3m \u001b[0m\u001b[3m/ark:/615\u001b[0m\u001b[3m \u001b[0m\u001b[3m \u001b[0m\u001b[3m \u001b[0m\u001b[3mAbel, Je\u001b[0m\u001b[3m \u001b[0m\u001b[3m \u001b[0m\u001b[3m \u001b[0m  │\n",
       "│  \u001b[1m       \u001b[0m \u001b[3m \u001b[0m\u001b[3m \u001b[0m\u001b[3m \u001b[0m\u001b[3m<a class\u001b[0m\u001b[3m \u001b[0m\u001b[3m \u001b[0m\u001b[3m \u001b[0m\u001b[3mAbel, Ol\u001b[0m\u001b[3m \u001b[0m\u001b[3m \u001b[0m\u001b[3m \u001b[0m\u001b[3m['Canada\u001b[0m\u001b[3m \u001b[0m\u001b[3m \u001b[0m\u001b[3m \u001b[0m\u001b[3m['Canada\u001b[0m\u001b[3m \u001b[0m\u001b[3m \u001b[0m\u001b[3m \u001b[0m\u001b[3m         \u001b[0m\u001b[3m \u001b[0m\u001b[3m \u001b[0m\u001b[3m \u001b[0m\u001b[3m1732.0\u001b[0m\u001b[3m  \u001b[0m\u001b[3m \u001b[0m\u001b[3m \u001b[0m\u001b[3m \u001b[0m\u001b[3m1749.0\u001b[0m\u001b[3m \u001b[0m\u001b[3m \u001b[0m\u001b[3m \u001b[0m\u001b[3m \u001b[0m\u001b[3m1732-1749\u001b[0m\u001b[3m \u001b[0m\u001b[3m \u001b[0m\u001b[3m \u001b[0m\u001b[3m1732, 17\u001b[0m\u001b[3m \u001b[0m\u001b[3m \u001b[0m\u001b[3m \u001b[0m\u001b[3m/ark:/615\u001b[0m\u001b[3m \u001b[0m\u001b[3m \u001b[0m\u001b[3m \u001b[0m\u001b[3mAbel, Ol\u001b[0m\u001b[3m \u001b[0m\u001b[3m \u001b[0m\u001b[3m \u001b[0m  │\n",
       "│  \u001b[1m       \u001b[0m \u001b[3m \u001b[0m\u001b[3m \u001b[0m\u001b[3m \u001b[0m\u001b[3m<a class\u001b[0m\u001b[3m \u001b[0m\u001b[3m \u001b[0m\u001b[3m \u001b[0m\u001b[3mAblé, Pi\u001b[0m\u001b[3m \u001b[0m\u001b[3m \u001b[0m\u001b[3m \u001b[0m\u001b[3m        \u001b[0m\u001b[3m \u001b[0m\u001b[3m \u001b[0m\u001b[3m \u001b[0m\u001b[3m        \u001b[0m\u001b[3m \u001b[0m\u001b[3m \u001b[0m\u001b[3m \u001b[0m\u001b[3m         \u001b[0m\u001b[3m \u001b[0m\u001b[3m \u001b[0m\u001b[3m \u001b[0m\u001b[3m1777.0\u001b[0m\u001b[3m  \u001b[0m\u001b[3m \u001b[0m\u001b[3m \u001b[0m\u001b[3m \u001b[0m\u001b[3m1777.0\u001b[0m\u001b[3m \u001b[0m\u001b[3m \u001b[0m\u001b[3m \u001b[0m\u001b[3m \u001b[0m\u001b[3m1777-1777\u001b[0m\u001b[3m \u001b[0m\u001b[3m \u001b[0m\u001b[3m \u001b[0m\u001b[3m1777\u001b[0m\u001b[3m    \u001b[0m\u001b[3m \u001b[0m\u001b[3m \u001b[0m\u001b[3m \u001b[0m\u001b[3m/ark:/615\u001b[0m\u001b[3m \u001b[0m\u001b[3m \u001b[0m\u001b[3m \u001b[0m\u001b[3mAblé, Pi\u001b[0m\u001b[3m \u001b[0m\u001b[3m \u001b[0m\u001b[3m \u001b[0m  │\n",
       "│  \u001b[1m       \u001b[0m \u001b[3m \u001b[0m\u001b[3m \u001b[0m\u001b[3m \u001b[0m\u001b[3m<a class\u001b[0m\u001b[3m \u001b[0m\u001b[3m \u001b[0m\u001b[3m \u001b[0m\u001b[3mAbon, Ja\u001b[0m\u001b[3m \u001b[0m\u001b[3m \u001b[0m\u001b[3m \u001b[0m\u001b[3m        \u001b[0m\u001b[3m \u001b[0m\u001b[3m \u001b[0m\u001b[3m \u001b[0m\u001b[3m        \u001b[0m\u001b[3m \u001b[0m\u001b[3m \u001b[0m\u001b[3m \u001b[0m\u001b[3mRégiment \u001b[0m\u001b[3m \u001b[0m\u001b[3m \u001b[0m\u001b[3m \u001b[0m\u001b[3m1773.0\u001b[0m\u001b[3m  \u001b[0m\u001b[3m \u001b[0m\u001b[3m \u001b[0m\u001b[3m \u001b[0m\u001b[3m1779.0\u001b[0m\u001b[3m \u001b[0m\u001b[3m \u001b[0m\u001b[3m \u001b[0m\u001b[3m \u001b[0m\u001b[3m1773-1779\u001b[0m\u001b[3m \u001b[0m\u001b[3m \u001b[0m\u001b[3m \u001b[0m\u001b[3m1773, 17\u001b[0m\u001b[3m \u001b[0m\u001b[3m \u001b[0m\u001b[3m \u001b[0m\u001b[3m/ark:/615\u001b[0m\u001b[3m \u001b[0m\u001b[3m \u001b[0m\u001b[3m \u001b[0m\u001b[3mAbon, Ja\u001b[0m\u001b[3m \u001b[0m\u001b[3m \u001b[0m\u001b[3m \u001b[0m  │\n",
       "│  \u001b[1m       \u001b[0m \u001b[3m \u001b[0m\u001b[3m \u001b[0m\u001b[3m \u001b[0m\u001b[3m<a class\u001b[0m\u001b[3m \u001b[0m\u001b[3m \u001b[0m\u001b[3m \u001b[0m\u001b[3mAccaron,\u001b[0m\u001b[3m \u001b[0m\u001b[3m \u001b[0m\u001b[3m \u001b[0m\u001b[3m        \u001b[0m\u001b[3m \u001b[0m\u001b[3m \u001b[0m\u001b[3m \u001b[0m\u001b[3m        \u001b[0m\u001b[3m \u001b[0m\u001b[3m \u001b[0m\u001b[3m \u001b[0m\u001b[3m         \u001b[0m\u001b[3m \u001b[0m\u001b[3m \u001b[0m\u001b[3m \u001b[0m\u001b[3m1735.0\u001b[0m\u001b[3m  \u001b[0m\u001b[3m \u001b[0m\u001b[3m \u001b[0m\u001b[3m \u001b[0m\u001b[3m1766.0\u001b[0m\u001b[3m \u001b[0m\u001b[3m \u001b[0m\u001b[3m \u001b[0m\u001b[3m \u001b[0m\u001b[3m1735-1766\u001b[0m\u001b[3m \u001b[0m\u001b[3m \u001b[0m\u001b[3m \u001b[0m\u001b[3m1735, 17\u001b[0m\u001b[3m \u001b[0m\u001b[3m \u001b[0m\u001b[3m \u001b[0m\u001b[3m/ark:/615\u001b[0m\u001b[3m \u001b[0m\u001b[3m \u001b[0m\u001b[3m \u001b[0m\u001b[3mAccaron,\u001b[0m\u001b[3m \u001b[0m\u001b[3m \u001b[0m\u001b[3m \u001b[0m  │\n",
       "│  \u001b[1m       \u001b[0m \u001b[3m \u001b[0m\u001b[3m \u001b[0m\u001b[3m \u001b[0m\u001b[3m<a class\u001b[0m\u001b[3m \u001b[0m\u001b[3m \u001b[0m\u001b[3m \u001b[0m\u001b[3mAccolans\u001b[0m\u001b[3m \u001b[0m\u001b[3m \u001b[0m\u001b[3m \u001b[0m\u001b[3m['Saint-\u001b[0m\u001b[3m \u001b[0m\u001b[3m \u001b[0m\u001b[3m \u001b[0m\u001b[3m['Saint-\u001b[0m\u001b[3m \u001b[0m\u001b[3m \u001b[0m\u001b[3m \u001b[0m\u001b[3m         \u001b[0m\u001b[3m \u001b[0m\u001b[3m \u001b[0m\u001b[3m \u001b[0m\u001b[3m1767.0\u001b[0m\u001b[3m  \u001b[0m\u001b[3m \u001b[0m\u001b[3m \u001b[0m\u001b[3m \u001b[0m\u001b[3m1770.0\u001b[0m\u001b[3m \u001b[0m\u001b[3m \u001b[0m\u001b[3m \u001b[0m\u001b[3m \u001b[0m\u001b[3m1767-1770\u001b[0m\u001b[3m \u001b[0m\u001b[3m \u001b[0m\u001b[3m \u001b[0m\u001b[3m1767, 17\u001b[0m\u001b[3m \u001b[0m\u001b[3m \u001b[0m\u001b[3m \u001b[0m\u001b[3m/ark:/615\u001b[0m\u001b[3m \u001b[0m\u001b[3m \u001b[0m\u001b[3m \u001b[0m\u001b[3mAccolans\u001b[0m\u001b[3m \u001b[0m\u001b[3m \u001b[0m\u001b[3m \u001b[0m  │\n",
       "│  \u001b[1m       \u001b[0m \u001b[3m \u001b[0m\u001b[3m \u001b[0m\u001b[3m \u001b[0m\u001b[3m<a class\u001b[0m\u001b[3m \u001b[0m\u001b[3m \u001b[0m\u001b[3m \u001b[0m\u001b[3mAchard, \u001b[0m\u001b[3m \u001b[0m\u001b[3m \u001b[0m\u001b[3m \u001b[0m\u001b[3m['Pointe\u001b[0m\u001b[3m \u001b[0m\u001b[3m \u001b[0m\u001b[3m \u001b[0m\u001b[3m['Pointe\u001b[0m\u001b[3m \u001b[0m\u001b[3m \u001b[0m\u001b[3m \u001b[0m\u001b[3m         \u001b[0m\u001b[3m \u001b[0m\u001b[3m \u001b[0m\u001b[3m \u001b[0m\u001b[3m1787.0\u001b[0m\u001b[3m  \u001b[0m\u001b[3m \u001b[0m\u001b[3m \u001b[0m\u001b[3m \u001b[0m\u001b[3m1787.0\u001b[0m\u001b[3m \u001b[0m\u001b[3m \u001b[0m\u001b[3m \u001b[0m\u001b[3m \u001b[0m\u001b[3m1787-1787\u001b[0m\u001b[3m \u001b[0m\u001b[3m \u001b[0m\u001b[3m \u001b[0m\u001b[3m1787\u001b[0m\u001b[3m    \u001b[0m\u001b[3m \u001b[0m\u001b[3m \u001b[0m\u001b[3m \u001b[0m\u001b[3m/ark:/615\u001b[0m\u001b[3m \u001b[0m\u001b[3m \u001b[0m\u001b[3m \u001b[0m\u001b[3mAchard, \u001b[0m\u001b[3m \u001b[0m\u001b[3m \u001b[0m\u001b[3m \u001b[0m  │\n",
       "│  \u001b[1m       \u001b[0m \u001b[3m \u001b[0m\u001b[3m \u001b[0m\u001b[3m \u001b[0m\u001b[3m<a class\u001b[0m\u001b[3m \u001b[0m\u001b[3m \u001b[0m\u001b[3m \u001b[0m\u001b[3mAchard, \u001b[0m\u001b[3m \u001b[0m\u001b[3m \u001b[0m\u001b[3m \u001b[0m\u001b[3m['Basse-\u001b[0m\u001b[3m \u001b[0m\u001b[3m \u001b[0m\u001b[3m \u001b[0m\u001b[3m['Basse-\u001b[0m\u001b[3m \u001b[0m\u001b[3m \u001b[0m\u001b[3m \u001b[0m\u001b[3m         \u001b[0m\u001b[3m \u001b[0m\u001b[3m \u001b[0m\u001b[3m \u001b[0m\u001b[3m1787.0\u001b[0m\u001b[3m  \u001b[0m\u001b[3m \u001b[0m\u001b[3m \u001b[0m\u001b[3m \u001b[0m\u001b[3m1787.0\u001b[0m\u001b[3m \u001b[0m\u001b[3m \u001b[0m\u001b[3m \u001b[0m\u001b[3m \u001b[0m\u001b[3m1787-1787\u001b[0m\u001b[3m \u001b[0m\u001b[3m \u001b[0m\u001b[3m \u001b[0m\u001b[3m1787\u001b[0m\u001b[3m    \u001b[0m\u001b[3m \u001b[0m\u001b[3m \u001b[0m\u001b[3m \u001b[0m\u001b[3m/ark:/615\u001b[0m\u001b[3m \u001b[0m\u001b[3m \u001b[0m\u001b[3m \u001b[0m\u001b[3mAchard, \u001b[0m\u001b[3m \u001b[0m\u001b[3m \u001b[0m\u001b[3m \u001b[0m  │\n",
       "│  \u001b[1m       \u001b[0m \u001b[3m \u001b[0m\u001b[3m \u001b[0m\u001b[3m \u001b[0m\u001b[3m<a class\u001b[0m\u001b[3m \u001b[0m\u001b[3m \u001b[0m\u001b[3m \u001b[0m\u001b[3mAchard d\u001b[0m\u001b[3m \u001b[0m\u001b[3m \u001b[0m\u001b[3m \u001b[0m\u001b[3m['Cap']\u001b[0m\u001b[3m \u001b[0m\u001b[3m \u001b[0m\u001b[3m \u001b[0m\u001b[3m \u001b[0m\u001b[3m['Le Cap\u001b[0m\u001b[3m \u001b[0m\u001b[3m \u001b[0m\u001b[3m \u001b[0m\u001b[3mConseil s\u001b[0m\u001b[3m \u001b[0m\u001b[3m \u001b[0m\u001b[3m \u001b[0m\u001b[3m1769.0\u001b[0m\u001b[3m  \u001b[0m\u001b[3m \u001b[0m\u001b[3m \u001b[0m\u001b[3m \u001b[0m\u001b[3m1776.0\u001b[0m\u001b[3m \u001b[0m\u001b[3m \u001b[0m\u001b[3m \u001b[0m\u001b[3m \u001b[0m\u001b[3m1769-1776\u001b[0m\u001b[3m \u001b[0m\u001b[3m \u001b[0m\u001b[3m \u001b[0m\u001b[3m1769, 17\u001b[0m\u001b[3m \u001b[0m\u001b[3m \u001b[0m\u001b[3m \u001b[0m\u001b[3m/ark:/615\u001b[0m\u001b[3m \u001b[0m\u001b[3m \u001b[0m\u001b[3m \u001b[0m\u001b[3mAchard d\u001b[0m\u001b[3m \u001b[0m\u001b[3m \u001b[0m\u001b[3m \u001b[0m  │\n",
       "│  \u001b[1m       \u001b[0m \u001b[3m \u001b[0m\u001b[3m \u001b[0m\u001b[3m \u001b[0m\u001b[3m<a class\u001b[0m\u001b[3m \u001b[0m\u001b[3m \u001b[0m\u001b[3m \u001b[0m\u001b[3mAchard d\u001b[0m\u001b[3m \u001b[0m\u001b[3m \u001b[0m\u001b[3m \u001b[0m\u001b[3m[\"Saint-\u001b[0m\u001b[3m \u001b[0m\u001b[3m \u001b[0m\u001b[3m \u001b[0m\u001b[3m[\"Saint-\u001b[0m\u001b[3m \u001b[0m\u001b[3m \u001b[0m\u001b[3m \u001b[0m\u001b[3m         \u001b[0m\u001b[3m \u001b[0m\u001b[3m \u001b[0m\u001b[3m \u001b[0m\u001b[3m1734.0\u001b[0m\u001b[3m  \u001b[0m\u001b[3m \u001b[0m\u001b[3m \u001b[0m\u001b[3m \u001b[0m\u001b[3m1779.0\u001b[0m\u001b[3m \u001b[0m\u001b[3m \u001b[0m\u001b[3m \u001b[0m\u001b[3m \u001b[0m\u001b[3m1734-1779\u001b[0m\u001b[3m \u001b[0m\u001b[3m \u001b[0m\u001b[3m \u001b[0m\u001b[3m1734, 17\u001b[0m\u001b[3m \u001b[0m\u001b[3m \u001b[0m\u001b[3m \u001b[0m\u001b[3m/ark:/615\u001b[0m\u001b[3m \u001b[0m\u001b[3m \u001b[0m\u001b[3m \u001b[0m\u001b[3mAchard d\u001b[0m\u001b[3m \u001b[0m\u001b[3m \u001b[0m\u001b[3m \u001b[0m  │\n",
       "│  \u001b[1m       \u001b[0m \u001b[3m \u001b[0m\u001b[3m \u001b[0m\u001b[3m \u001b[0m\u001b[3m<a class\u001b[0m\u001b[3m \u001b[0m\u001b[3m \u001b[0m\u001b[3m \u001b[0m\u001b[3mAché\u001b[0m\u001b[3m    \u001b[0m\u001b[3m \u001b[0m\u001b[3m \u001b[0m\u001b[3m \u001b[0m\u001b[3m['Embrun\u001b[0m\u001b[3m \u001b[0m\u001b[3m \u001b[0m\u001b[3m \u001b[0m\u001b[3m['Embrun\u001b[0m\u001b[3m \u001b[0m\u001b[3m \u001b[0m\u001b[3m \u001b[0m\u001b[3mRégiment \u001b[0m\u001b[3m \u001b[0m\u001b[3m \u001b[0m\u001b[3m \u001b[0m\u001b[3m1788.0\u001b[0m\u001b[3m  \u001b[0m\u001b[3m \u001b[0m\u001b[3m \u001b[0m\u001b[3m \u001b[0m\u001b[3m1788.0\u001b[0m\u001b[3m \u001b[0m\u001b[3m \u001b[0m\u001b[3m \u001b[0m\u001b[3m \u001b[0m\u001b[3m1788-1788\u001b[0m\u001b[3m \u001b[0m\u001b[3m \u001b[0m\u001b[3m \u001b[0m\u001b[3m1788\u001b[0m\u001b[3m    \u001b[0m\u001b[3m \u001b[0m\u001b[3m \u001b[0m\u001b[3m \u001b[0m\u001b[3m/ark:/615\u001b[0m\u001b[3m \u001b[0m\u001b[3m \u001b[0m\u001b[3m \u001b[0m\u001b[3mAché, co\u001b[0m\u001b[3m \u001b[0m\u001b[3m \u001b[0m\u001b[3m \u001b[0m  │\n",
       "│  \u001b[1m       \u001b[0m \u001b[3m \u001b[0m\u001b[3m \u001b[0m\u001b[3m \u001b[0m\u001b[3m...\u001b[0m\u001b[3m     \u001b[0m\u001b[3m \u001b[0m\u001b[3m \u001b[0m\u001b[3m \u001b[0m\u001b[3m...\u001b[0m\u001b[3m     \u001b[0m\u001b[3m \u001b[0m\u001b[3m \u001b[0m\u001b[3m \u001b[0m\u001b[3m...\u001b[0m\u001b[3m     \u001b[0m\u001b[3m \u001b[0m\u001b[3m \u001b[0m\u001b[3m \u001b[0m\u001b[3m...\u001b[0m\u001b[3m     \u001b[0m\u001b[3m \u001b[0m\u001b[3m \u001b[0m\u001b[3m \u001b[0m\u001b[3m...\u001b[0m\u001b[3m      \u001b[0m\u001b[3m \u001b[0m\u001b[3m \u001b[0m\u001b[3m \u001b[0m\u001b[3m...\u001b[0m\u001b[3m     \u001b[0m\u001b[3m \u001b[0m\u001b[3m \u001b[0m\u001b[3m \u001b[0m\u001b[3m...\u001b[0m\u001b[3m    \u001b[0m\u001b[3m \u001b[0m\u001b[3m \u001b[0m\u001b[3m \u001b[0m\u001b[3m...\u001b[0m\u001b[3m      \u001b[0m\u001b[3m \u001b[0m\u001b[3m \u001b[0m\u001b[3m \u001b[0m\u001b[3m...\u001b[0m\u001b[3m     \u001b[0m\u001b[3m \u001b[0m\u001b[3m \u001b[0m\u001b[3m \u001b[0m\u001b[3m...\u001b[0m\u001b[3m      \u001b[0m\u001b[3m \u001b[0m\u001b[3m \u001b[0m\u001b[3m \u001b[0m\u001b[3m...\u001b[0m\u001b[3m     \u001b[0m\u001b[3m \u001b[0m\u001b[3m \u001b[0m\u001b[3m \u001b[0m  │\n",
       "│  \u001b[1m       \u001b[0m \u001b[3m \u001b[0m\u001b[3m \u001b[0m\u001b[3m \u001b[0m\u001b[3m...\u001b[0m\u001b[3m     \u001b[0m\u001b[3m \u001b[0m\u001b[3m \u001b[0m\u001b[3m \u001b[0m\u001b[3m...\u001b[0m\u001b[3m     \u001b[0m\u001b[3m \u001b[0m\u001b[3m \u001b[0m\u001b[3m \u001b[0m\u001b[3m...\u001b[0m\u001b[3m     \u001b[0m\u001b[3m \u001b[0m\u001b[3m \u001b[0m\u001b[3m \u001b[0m\u001b[3m...\u001b[0m\u001b[3m     \u001b[0m\u001b[3m \u001b[0m\u001b[3m \u001b[0m\u001b[3m \u001b[0m\u001b[3m...\u001b[0m\u001b[3m      \u001b[0m\u001b[3m \u001b[0m\u001b[3m \u001b[0m\u001b[3m \u001b[0m\u001b[3m...\u001b[0m\u001b[3m     \u001b[0m\u001b[3m \u001b[0m\u001b[3m \u001b[0m\u001b[3m \u001b[0m\u001b[3m...\u001b[0m\u001b[3m    \u001b[0m\u001b[3m \u001b[0m\u001b[3m \u001b[0m\u001b[3m \u001b[0m\u001b[3m...\u001b[0m\u001b[3m      \u001b[0m\u001b[3m \u001b[0m\u001b[3m \u001b[0m\u001b[3m \u001b[0m\u001b[3m...\u001b[0m\u001b[3m     \u001b[0m\u001b[3m \u001b[0m\u001b[3m \u001b[0m\u001b[3m \u001b[0m\u001b[3m...\u001b[0m\u001b[3m      \u001b[0m\u001b[3m \u001b[0m\u001b[3m \u001b[0m\u001b[3m \u001b[0m\u001b[3m...\u001b[0m\u001b[3m     \u001b[0m\u001b[3m \u001b[0m\u001b[3m \u001b[0m\u001b[3m \u001b[0m  │\n",
       "│  \u001b[1m       \u001b[0m \u001b[3m \u001b[0m\u001b[3m \u001b[0m\u001b[3m \u001b[0m\u001b[3m<a class\u001b[0m\u001b[3m \u001b[0m\u001b[3m \u001b[0m\u001b[3m \u001b[0m\u001b[3mYvon, Gi\u001b[0m\u001b[3m \u001b[0m\u001b[3m \u001b[0m\u001b[3m \u001b[0m\u001b[3m['Saint-\u001b[0m\u001b[3m \u001b[0m\u001b[3m \u001b[0m\u001b[3m \u001b[0m\u001b[3m['Saint-\u001b[0m\u001b[3m \u001b[0m\u001b[3m \u001b[0m\u001b[3m \u001b[0m\u001b[3mRégiment \u001b[0m\u001b[3m \u001b[0m\u001b[3m \u001b[0m\u001b[3m \u001b[0m\u001b[3m1775.0\u001b[0m\u001b[3m  \u001b[0m\u001b[3m \u001b[0m\u001b[3m \u001b[0m\u001b[3m \u001b[0m\u001b[3m1784.0\u001b[0m\u001b[3m \u001b[0m\u001b[3m \u001b[0m\u001b[3m \u001b[0m\u001b[3m \u001b[0m\u001b[3m1775-1784\u001b[0m\u001b[3m \u001b[0m\u001b[3m \u001b[0m\u001b[3m \u001b[0m\u001b[3m1775, 17\u001b[0m\u001b[3m \u001b[0m\u001b[3m \u001b[0m\u001b[3m \u001b[0m\u001b[3m/ark:/615\u001b[0m\u001b[3m \u001b[0m\u001b[3m \u001b[0m\u001b[3m \u001b[0m\u001b[3mYvon, Gi\u001b[0m\u001b[3m \u001b[0m\u001b[3m \u001b[0m\u001b[3m \u001b[0m  │\n",
       "│  \u001b[1m       \u001b[0m \u001b[3m \u001b[0m\u001b[3m \u001b[0m\u001b[3m \u001b[0m\u001b[3m<a class\u001b[0m\u001b[3m \u001b[0m\u001b[3m \u001b[0m\u001b[3m \u001b[0m\u001b[3mYvon, Jo\u001b[0m\u001b[3m \u001b[0m\u001b[3m \u001b[0m\u001b[3m \u001b[0m\u001b[3m['Sainte\u001b[0m\u001b[3m \u001b[0m\u001b[3m \u001b[0m\u001b[3m \u001b[0m\u001b[3m['Sainte\u001b[0m\u001b[3m \u001b[0m\u001b[3m \u001b[0m\u001b[3m \u001b[0m\u001b[3m         \u001b[0m\u001b[3m \u001b[0m\u001b[3m \u001b[0m\u001b[3m \u001b[0m\u001b[3m1763.0\u001b[0m\u001b[3m  \u001b[0m\u001b[3m \u001b[0m\u001b[3m \u001b[0m\u001b[3m \u001b[0m\u001b[3m1763.0\u001b[0m\u001b[3m \u001b[0m\u001b[3m \u001b[0m\u001b[3m \u001b[0m\u001b[3m \u001b[0m\u001b[3m1763-1763\u001b[0m\u001b[3m \u001b[0m\u001b[3m \u001b[0m\u001b[3m \u001b[0m\u001b[3m1763\u001b[0m\u001b[3m    \u001b[0m\u001b[3m \u001b[0m\u001b[3m \u001b[0m\u001b[3m \u001b[0m\u001b[3m/ark:/615\u001b[0m\u001b[3m \u001b[0m\u001b[3m \u001b[0m\u001b[3m \u001b[0m\u001b[3mYvon, Jo\u001b[0m\u001b[3m \u001b[0m\u001b[3m \u001b[0m\u001b[3m \u001b[0m  │\n",
       "│  \u001b[1m       \u001b[0m \u001b[3m \u001b[0m\u001b[3m \u001b[0m\u001b[3m \u001b[0m\u001b[3m<a class\u001b[0m\u001b[3m \u001b[0m\u001b[3m \u001b[0m\u001b[3m \u001b[0m\u001b[3mYvon, Lo\u001b[0m\u001b[3m \u001b[0m\u001b[3m \u001b[0m\u001b[3m \u001b[0m\u001b[3m['île de\u001b[0m\u001b[3m \u001b[0m\u001b[3m \u001b[0m\u001b[3m \u001b[0m\u001b[3m['France\u001b[0m\u001b[3m \u001b[0m\u001b[3m \u001b[0m\u001b[3m \u001b[0m\u001b[3m         \u001b[0m\u001b[3m \u001b[0m\u001b[3m \u001b[0m\u001b[3m \u001b[0m\u001b[3m1771.0\u001b[0m\u001b[3m  \u001b[0m\u001b[3m \u001b[0m\u001b[3m \u001b[0m\u001b[3m \u001b[0m\u001b[3m1790.0\u001b[0m\u001b[3m \u001b[0m\u001b[3m \u001b[0m\u001b[3m \u001b[0m\u001b[3m \u001b[0m\u001b[3m1771-1790\u001b[0m\u001b[3m \u001b[0m\u001b[3m \u001b[0m\u001b[3m \u001b[0m\u001b[3m1771, 17\u001b[0m\u001b[3m \u001b[0m\u001b[3m \u001b[0m\u001b[3m \u001b[0m\u001b[3m/ark:/615\u001b[0m\u001b[3m \u001b[0m\u001b[3m \u001b[0m\u001b[3m \u001b[0m\u001b[3mYvon, Lo\u001b[0m\u001b[3m \u001b[0m\u001b[3m \u001b[0m\u001b[3m \u001b[0m  │\n",
       "│  \u001b[1m       \u001b[0m \u001b[3m \u001b[0m\u001b[3m \u001b[0m\u001b[3m \u001b[0m\u001b[3m<a class\u001b[0m\u001b[3m \u001b[0m\u001b[3m \u001b[0m\u001b[3m \u001b[0m\u001b[3mYvon\u001b[0m\u001b[3m    \u001b[0m\u001b[3m \u001b[0m\u001b[3m \u001b[0m\u001b[3m \u001b[0m\u001b[3m['île de\u001b[0m\u001b[3m \u001b[0m\u001b[3m \u001b[0m\u001b[3m \u001b[0m\u001b[3m['France\u001b[0m\u001b[3m \u001b[0m\u001b[3m \u001b[0m\u001b[3m \u001b[0m\u001b[3m         \u001b[0m\u001b[3m \u001b[0m\u001b[3m \u001b[0m\u001b[3m \u001b[0m\u001b[3m1785.0\u001b[0m\u001b[3m  \u001b[0m\u001b[3m \u001b[0m\u001b[3m \u001b[0m\u001b[3m \u001b[0m\u001b[3m1785.0\u001b[0m\u001b[3m \u001b[0m\u001b[3m \u001b[0m\u001b[3m \u001b[0m\u001b[3m \u001b[0m\u001b[3m1785-1785\u001b[0m\u001b[3m \u001b[0m\u001b[3m \u001b[0m\u001b[3m \u001b[0m\u001b[3m1785\u001b[0m\u001b[3m    \u001b[0m\u001b[3m \u001b[0m\u001b[3m \u001b[0m\u001b[3m \u001b[0m\u001b[3m/ark:/615\u001b[0m\u001b[3m \u001b[0m\u001b[3m \u001b[0m\u001b[3m \u001b[0m\u001b[3mYvon, es\u001b[0m\u001b[3m \u001b[0m\u001b[3m \u001b[0m\u001b[3m \u001b[0m  │\n",
       "│  \u001b[1m       \u001b[0m \u001b[3m \u001b[0m\u001b[3m \u001b[0m\u001b[3m \u001b[0m\u001b[3m<a class\u001b[0m\u001b[3m \u001b[0m\u001b[3m \u001b[0m\u001b[3m \u001b[0m\u001b[3mYvonnet,\u001b[0m\u001b[3m \u001b[0m\u001b[3m \u001b[0m\u001b[3m \u001b[0m\u001b[3m['Caen',\u001b[0m\u001b[3m \u001b[0m\u001b[3m \u001b[0m\u001b[3m \u001b[0m\u001b[3m['Caen (\u001b[0m\u001b[3m \u001b[0m\u001b[3m \u001b[0m\u001b[3m \u001b[0m\u001b[3m         \u001b[0m\u001b[3m \u001b[0m\u001b[3m \u001b[0m\u001b[3m \u001b[0m\u001b[3m1787.0\u001b[0m\u001b[3m  \u001b[0m\u001b[3m \u001b[0m\u001b[3m \u001b[0m\u001b[3m \u001b[0m\u001b[3m1792.0\u001b[0m\u001b[3m \u001b[0m\u001b[3m \u001b[0m\u001b[3m \u001b[0m\u001b[3m \u001b[0m\u001b[3m1787-1792\u001b[0m\u001b[3m \u001b[0m\u001b[3m \u001b[0m\u001b[3m \u001b[0m\u001b[3m1787, 17\u001b[0m\u001b[3m \u001b[0m\u001b[3m \u001b[0m\u001b[3m \u001b[0m\u001b[3m/ark:/615\u001b[0m\u001b[3m \u001b[0m\u001b[3m \u001b[0m\u001b[3m \u001b[0m\u001b[3mYvonnet,\u001b[0m\u001b[3m \u001b[0m\u001b[3m \u001b[0m\u001b[3m \u001b[0m  │\n",
       "│  \u001b[1m       \u001b[0m \u001b[3m \u001b[0m\u001b[3m \u001b[0m\u001b[3m \u001b[0m\u001b[3m<a class\u001b[0m\u001b[3m \u001b[0m\u001b[3m \u001b[0m\u001b[3m \u001b[0m\u001b[3mYzact, P\u001b[0m\u001b[3m \u001b[0m\u001b[3m \u001b[0m\u001b[3m \u001b[0m\u001b[3m['Pondic\u001b[0m\u001b[3m \u001b[0m\u001b[3m \u001b[0m\u001b[3m \u001b[0m\u001b[3m['Pondic\u001b[0m\u001b[3m \u001b[0m\u001b[3m \u001b[0m\u001b[3m \u001b[0m\u001b[3mConseil s\u001b[0m\u001b[3m \u001b[0m\u001b[3m \u001b[0m\u001b[3m \u001b[0m\u001b[3m1769.0\u001b[0m\u001b[3m  \u001b[0m\u001b[3m \u001b[0m\u001b[3m \u001b[0m\u001b[3m \u001b[0m\u001b[3m1769.0\u001b[0m\u001b[3m \u001b[0m\u001b[3m \u001b[0m\u001b[3m \u001b[0m\u001b[3m \u001b[0m\u001b[3m1769-1769\u001b[0m\u001b[3m \u001b[0m\u001b[3m \u001b[0m\u001b[3m \u001b[0m\u001b[3m1769\u001b[0m\u001b[3m    \u001b[0m\u001b[3m \u001b[0m\u001b[3m \u001b[0m\u001b[3m \u001b[0m\u001b[3m/ark:/615\u001b[0m\u001b[3m \u001b[0m\u001b[3m \u001b[0m\u001b[3m \u001b[0m\u001b[3mYzact, P\u001b[0m\u001b[3m \u001b[0m\u001b[3m \u001b[0m\u001b[3m \u001b[0m  │\n",
       "│  \u001b[1m       \u001b[0m \u001b[3m \u001b[0m\u001b[3m \u001b[0m\u001b[3m \u001b[0m\u001b[3m<a class\u001b[0m\u001b[3m \u001b[0m\u001b[3m \u001b[0m\u001b[3m \u001b[0m\u001b[3mZacharie\u001b[0m\u001b[3m \u001b[0m\u001b[3m \u001b[0m\u001b[3m \u001b[0m\u001b[3m['Martin\u001b[0m\u001b[3m \u001b[0m\u001b[3m \u001b[0m\u001b[3m \u001b[0m\u001b[3m['Martin\u001b[0m\u001b[3m \u001b[0m\u001b[3m \u001b[0m\u001b[3m \u001b[0m\u001b[3mCapucins\u001b[0m\u001b[3m \u001b[0m\u001b[3m \u001b[0m\u001b[3m \u001b[0m\u001b[3m \u001b[0m\u001b[3m1783.0\u001b[0m\u001b[3m  \u001b[0m\u001b[3m \u001b[0m\u001b[3m \u001b[0m\u001b[3m \u001b[0m\u001b[3m1783.0\u001b[0m\u001b[3m \u001b[0m\u001b[3m \u001b[0m\u001b[3m \u001b[0m\u001b[3m \u001b[0m\u001b[3m1783-1783\u001b[0m\u001b[3m \u001b[0m\u001b[3m \u001b[0m\u001b[3m \u001b[0m\u001b[3m1783\u001b[0m\u001b[3m    \u001b[0m\u001b[3m \u001b[0m\u001b[3m \u001b[0m\u001b[3m \u001b[0m\u001b[3m/ark:/615\u001b[0m\u001b[3m \u001b[0m\u001b[3m \u001b[0m\u001b[3m \u001b[0m\u001b[3mZacharie\u001b[0m\u001b[3m \u001b[0m\u001b[3m \u001b[0m\u001b[3m \u001b[0m  │\n",
       "│  \u001b[1m       \u001b[0m \u001b[3m \u001b[0m\u001b[3m \u001b[0m\u001b[3m \u001b[0m\u001b[3m<a class\u001b[0m\u001b[3m \u001b[0m\u001b[3m \u001b[0m\u001b[3m \u001b[0m\u001b[3mZamor, A\u001b[0m\u001b[3m \u001b[0m\u001b[3m \u001b[0m\u001b[3m \u001b[0m\u001b[3m        \u001b[0m\u001b[3m \u001b[0m\u001b[3m \u001b[0m\u001b[3m \u001b[0m\u001b[3m        \u001b[0m\u001b[3m \u001b[0m\u001b[3m \u001b[0m\u001b[3m \u001b[0m\u001b[3mRégiment \u001b[0m\u001b[3m \u001b[0m\u001b[3m \u001b[0m\u001b[3m \u001b[0m\u001b[3m1784.0\u001b[0m\u001b[3m  \u001b[0m\u001b[3m \u001b[0m\u001b[3m \u001b[0m\u001b[3m \u001b[0m\u001b[3m1784.0\u001b[0m\u001b[3m \u001b[0m\u001b[3m \u001b[0m\u001b[3m \u001b[0m\u001b[3m \u001b[0m\u001b[3m1784-1784\u001b[0m\u001b[3m \u001b[0m\u001b[3m \u001b[0m\u001b[3m \u001b[0m\u001b[3m1784, 17\u001b[0m\u001b[3m \u001b[0m\u001b[3m \u001b[0m\u001b[3m \u001b[0m\u001b[3m/ark:/615\u001b[0m\u001b[3m \u001b[0m\u001b[3m \u001b[0m\u001b[3m \u001b[0m\u001b[3mZamor, A\u001b[0m\u001b[3m \u001b[0m\u001b[3m \u001b[0m\u001b[3m \u001b[0m  │\n",
       "│  \u001b[1m       \u001b[0m \u001b[3m \u001b[0m\u001b[3m \u001b[0m\u001b[3m \u001b[0m\u001b[3m<a class\u001b[0m\u001b[3m \u001b[0m\u001b[3m \u001b[0m\u001b[3m \u001b[0m\u001b[3mZanico, \u001b[0m\u001b[3m \u001b[0m\u001b[3m \u001b[0m\u001b[3m \u001b[0m\u001b[3m['Milan'\u001b[0m\u001b[3m \u001b[0m\u001b[3m \u001b[0m\u001b[3m \u001b[0m\u001b[3m['Milan \u001b[0m\u001b[3m \u001b[0m\u001b[3m \u001b[0m\u001b[3m \u001b[0m\u001b[3m         \u001b[0m\u001b[3m \u001b[0m\u001b[3m \u001b[0m\u001b[3m \u001b[0m\u001b[3m1781.0\u001b[0m\u001b[3m  \u001b[0m\u001b[3m \u001b[0m\u001b[3m \u001b[0m\u001b[3m \u001b[0m\u001b[3m1781.0\u001b[0m\u001b[3m \u001b[0m\u001b[3m \u001b[0m\u001b[3m \u001b[0m\u001b[3m \u001b[0m\u001b[3m1781-1781\u001b[0m\u001b[3m \u001b[0m\u001b[3m \u001b[0m\u001b[3m \u001b[0m\u001b[3m1781\u001b[0m\u001b[3m    \u001b[0m\u001b[3m \u001b[0m\u001b[3m \u001b[0m\u001b[3m \u001b[0m\u001b[3m/ark:/615\u001b[0m\u001b[3m \u001b[0m\u001b[3m \u001b[0m\u001b[3m \u001b[0m\u001b[3mZanico, \u001b[0m\u001b[3m \u001b[0m\u001b[3m \u001b[0m\u001b[3m \u001b[0m  │\n",
       "│  \u001b[1m       \u001b[0m \u001b[3m \u001b[0m\u001b[3m \u001b[0m\u001b[3m \u001b[0m\u001b[3m<a class\u001b[0m\u001b[3m \u001b[0m\u001b[3m \u001b[0m\u001b[3m \u001b[0m\u001b[3mZanthier\u001b[0m\u001b[3m \u001b[0m\u001b[3m \u001b[0m\u001b[3m \u001b[0m\u001b[3m['Indes'\u001b[0m\u001b[3m \u001b[0m\u001b[3m \u001b[0m\u001b[3m \u001b[0m\u001b[3m['Inde f\u001b[0m\u001b[3m \u001b[0m\u001b[3m \u001b[0m\u001b[3m \u001b[0m\u001b[3m         \u001b[0m\u001b[3m \u001b[0m\u001b[3m \u001b[0m\u001b[3m \u001b[0m\u001b[3m1781.0\u001b[0m\u001b[3m  \u001b[0m\u001b[3m \u001b[0m\u001b[3m \u001b[0m\u001b[3m \u001b[0m\u001b[3m1781.0\u001b[0m\u001b[3m \u001b[0m\u001b[3m \u001b[0m\u001b[3m \u001b[0m\u001b[3m \u001b[0m\u001b[3m1781-1781\u001b[0m\u001b[3m \u001b[0m\u001b[3m \u001b[0m\u001b[3m \u001b[0m\u001b[3m1781\u001b[0m\u001b[3m    \u001b[0m\u001b[3m \u001b[0m\u001b[3m \u001b[0m\u001b[3m \u001b[0m\u001b[3m/ark:/615\u001b[0m\u001b[3m \u001b[0m\u001b[3m \u001b[0m\u001b[3m \u001b[0m\u001b[3mZanthier\u001b[0m\u001b[3m \u001b[0m\u001b[3m \u001b[0m\u001b[3m \u001b[0m  │\n",
       "│  \u001b[1m       \u001b[0m \u001b[3m \u001b[0m\u001b[3m \u001b[0m\u001b[3m \u001b[0m\u001b[3m<a class\u001b[0m\u001b[3m \u001b[0m\u001b[3m \u001b[0m\u001b[3m \u001b[0m\u001b[3mZelman, \u001b[0m\u001b[3m \u001b[0m\u001b[3m \u001b[0m\u001b[3m \u001b[0m\u001b[3m        \u001b[0m\u001b[3m \u001b[0m\u001b[3m \u001b[0m\u001b[3m \u001b[0m\u001b[3m        \u001b[0m\u001b[3m \u001b[0m\u001b[3m \u001b[0m\u001b[3m \u001b[0m\u001b[3mRégiment \u001b[0m\u001b[3m \u001b[0m\u001b[3m \u001b[0m\u001b[3m \u001b[0m\u001b[3m1784.0\u001b[0m\u001b[3m  \u001b[0m\u001b[3m \u001b[0m\u001b[3m \u001b[0m\u001b[3m \u001b[0m\u001b[3m1784.0\u001b[0m\u001b[3m \u001b[0m\u001b[3m \u001b[0m\u001b[3m \u001b[0m\u001b[3m \u001b[0m\u001b[3m1784-1784\u001b[0m\u001b[3m \u001b[0m\u001b[3m \u001b[0m\u001b[3m \u001b[0m\u001b[3m1784, 17\u001b[0m\u001b[3m \u001b[0m\u001b[3m \u001b[0m\u001b[3m \u001b[0m\u001b[3m/ark:/615\u001b[0m\u001b[3m \u001b[0m\u001b[3m \u001b[0m\u001b[3m \u001b[0m\u001b[3mZelman, \u001b[0m\u001b[3m \u001b[0m\u001b[3m \u001b[0m\u001b[3m \u001b[0m  │\n",
       "│  \u001b[1m       \u001b[0m \u001b[3m \u001b[0m\u001b[3m \u001b[0m\u001b[3m \u001b[0m\u001b[3m<a class\u001b[0m\u001b[3m \u001b[0m\u001b[3m \u001b[0m\u001b[3m \u001b[0m\u001b[3mZemard, \u001b[0m\u001b[3m \u001b[0m\u001b[3m \u001b[0m\u001b[3m \u001b[0m\u001b[3m['île Ro\u001b[0m\u001b[3m \u001b[0m\u001b[3m \u001b[0m\u001b[3m \u001b[0m\u001b[3m['Royale\u001b[0m\u001b[3m \u001b[0m\u001b[3m \u001b[0m\u001b[3m \u001b[0m\u001b[3m         \u001b[0m\u001b[3m \u001b[0m\u001b[3m \u001b[0m\u001b[3m \u001b[0m\u001b[3m1741.0\u001b[0m\u001b[3m  \u001b[0m\u001b[3m \u001b[0m\u001b[3m \u001b[0m\u001b[3m \u001b[0m\u001b[3m1741.0\u001b[0m\u001b[3m \u001b[0m\u001b[3m \u001b[0m\u001b[3m \u001b[0m\u001b[3m \u001b[0m\u001b[3m1741-1741\u001b[0m\u001b[3m \u001b[0m\u001b[3m \u001b[0m\u001b[3m \u001b[0m\u001b[3m1741\u001b[0m\u001b[3m    \u001b[0m\u001b[3m \u001b[0m\u001b[3m \u001b[0m\u001b[3m \u001b[0m\u001b[3m/ark:/615\u001b[0m\u001b[3m \u001b[0m\u001b[3m \u001b[0m\u001b[3m \u001b[0m\u001b[3mZemard, \u001b[0m\u001b[3m \u001b[0m\u001b[3m \u001b[0m\u001b[3m \u001b[0m  │\n",
       "│  \u001b[1m       \u001b[0m \u001b[3m \u001b[0m\u001b[3m \u001b[0m\u001b[3m \u001b[0m\u001b[3m<a class\u001b[0m\u001b[3m \u001b[0m\u001b[3m \u001b[0m\u001b[3m \u001b[0m\u001b[3mZévallos\u001b[0m\u001b[3m \u001b[0m\u001b[3m \u001b[0m\u001b[3m \u001b[0m\u001b[3m['Sainte\u001b[0m\u001b[3m \u001b[0m\u001b[3m \u001b[0m\u001b[3m \u001b[0m\u001b[3m['Sainte\u001b[0m\u001b[3m \u001b[0m\u001b[3m \u001b[0m\u001b[3m \u001b[0m\u001b[3m         \u001b[0m\u001b[3m \u001b[0m\u001b[3m \u001b[0m\u001b[3m \u001b[0m\u001b[3m1770.0\u001b[0m\u001b[3m  \u001b[0m\u001b[3m \u001b[0m\u001b[3m \u001b[0m\u001b[3m \u001b[0m\u001b[3m1770.0\u001b[0m\u001b[3m \u001b[0m\u001b[3m \u001b[0m\u001b[3m \u001b[0m\u001b[3m \u001b[0m\u001b[3m1770-1770\u001b[0m\u001b[3m \u001b[0m\u001b[3m \u001b[0m\u001b[3m \u001b[0m\u001b[3m1770\u001b[0m\u001b[3m    \u001b[0m\u001b[3m \u001b[0m\u001b[3m \u001b[0m\u001b[3m \u001b[0m\u001b[3m/ark:/615\u001b[0m\u001b[3m \u001b[0m\u001b[3m \u001b[0m\u001b[3m \u001b[0m\u001b[3mZévallos\u001b[0m\u001b[3m \u001b[0m\u001b[3m \u001b[0m\u001b[3m \u001b[0m  │\n",
       "│  \u001b[1m       \u001b[0m \u001b[3m \u001b[0m\u001b[3m \u001b[0m\u001b[3m \u001b[0m\u001b[3m<a class\u001b[0m\u001b[3m \u001b[0m\u001b[3m \u001b[0m\u001b[3m \u001b[0m\u001b[3mZévallos\u001b[0m\u001b[3m \u001b[0m\u001b[3m \u001b[0m\u001b[3m \u001b[0m\u001b[3m        \u001b[0m\u001b[3m \u001b[0m\u001b[3m \u001b[0m\u001b[3m \u001b[0m\u001b[3m        \u001b[0m\u001b[3m \u001b[0m\u001b[3m \u001b[0m\u001b[3m \u001b[0m\u001b[3mRégiment \u001b[0m\u001b[3m \u001b[0m\u001b[3m \u001b[0m\u001b[3m \u001b[0m\u001b[3m1786.0\u001b[0m\u001b[3m  \u001b[0m\u001b[3m \u001b[0m\u001b[3m \u001b[0m\u001b[3m \u001b[0m\u001b[3m1791.0\u001b[0m\u001b[3m \u001b[0m\u001b[3m \u001b[0m\u001b[3m \u001b[0m\u001b[3m \u001b[0m\u001b[3m1786-1791\u001b[0m\u001b[3m \u001b[0m\u001b[3m \u001b[0m\u001b[3m \u001b[0m\u001b[3m1786, 17\u001b[0m\u001b[3m \u001b[0m\u001b[3m \u001b[0m\u001b[3m \u001b[0m\u001b[3m/ark:/615\u001b[0m\u001b[3m \u001b[0m\u001b[3m \u001b[0m\u001b[3m \u001b[0m\u001b[3mZévallos\u001b[0m\u001b[3m \u001b[0m\u001b[3m \u001b[0m\u001b[3m \u001b[0m  │\n",
       "│  \u001b[1m       \u001b[0m \u001b[3m \u001b[0m\u001b[3m \u001b[0m\u001b[3m \u001b[0m\u001b[3m<a class\u001b[0m\u001b[3m \u001b[0m\u001b[3m \u001b[0m\u001b[3m \u001b[0m\u001b[3mZunberge\u001b[0m\u001b[3m \u001b[0m\u001b[3m \u001b[0m\u001b[3m \u001b[0m\u001b[3m['Guyane\u001b[0m\u001b[3m \u001b[0m\u001b[3m \u001b[0m\u001b[3m \u001b[0m\u001b[3m['Guyane\u001b[0m\u001b[3m \u001b[0m\u001b[3m \u001b[0m\u001b[3m \u001b[0m\u001b[3m         \u001b[0m\u001b[3m \u001b[0m\u001b[3m \u001b[0m\u001b[3m \u001b[0m\u001b[3m1784.0\u001b[0m\u001b[3m  \u001b[0m\u001b[3m \u001b[0m\u001b[3m \u001b[0m\u001b[3m \u001b[0m\u001b[3m1784.0\u001b[0m\u001b[3m \u001b[0m\u001b[3m \u001b[0m\u001b[3m \u001b[0m\u001b[3m \u001b[0m\u001b[3m1784-1784\u001b[0m\u001b[3m \u001b[0m\u001b[3m \u001b[0m\u001b[3m \u001b[0m\u001b[3m1784\u001b[0m\u001b[3m    \u001b[0m\u001b[3m \u001b[0m\u001b[3m \u001b[0m\u001b[3m \u001b[0m\u001b[3m/ark:/615\u001b[0m\u001b[3m \u001b[0m\u001b[3m \u001b[0m\u001b[3m \u001b[0m\u001b[3mZunberge\u001b[0m\u001b[3m \u001b[0m\u001b[3m \u001b[0m\u001b[3m \u001b[0m  │\n",
       "│  \u001b[1m       \u001b[0m \u001b[3m \u001b[0m\u001b[3m \u001b[0m\u001b[3m \u001b[0m\u001b[3m<a class\u001b[0m\u001b[3m \u001b[0m\u001b[3m \u001b[0m\u001b[3m \u001b[0m\u001b[3mZweerts,\u001b[0m\u001b[3m \u001b[0m\u001b[3m \u001b[0m\u001b[3m \u001b[0m\u001b[3m['Tabago\u001b[0m\u001b[3m \u001b[0m\u001b[3m \u001b[0m\u001b[3m \u001b[0m\u001b[3m['Tabago\u001b[0m\u001b[3m \u001b[0m\u001b[3m \u001b[0m\u001b[3m \u001b[0m\u001b[3m         \u001b[0m\u001b[3m \u001b[0m\u001b[3m \u001b[0m\u001b[3m \u001b[0m\u001b[3m1782.0\u001b[0m\u001b[3m  \u001b[0m\u001b[3m \u001b[0m\u001b[3m \u001b[0m\u001b[3m \u001b[0m\u001b[3m1787.0\u001b[0m\u001b[3m \u001b[0m\u001b[3m \u001b[0m\u001b[3m \u001b[0m\u001b[3m \u001b[0m\u001b[3m1782-1787\u001b[0m\u001b[3m \u001b[0m\u001b[3m \u001b[0m\u001b[3m \u001b[0m\u001b[3m1782, 17\u001b[0m\u001b[3m \u001b[0m\u001b[3m \u001b[0m\u001b[3m \u001b[0m\u001b[3m/ark:/615\u001b[0m\u001b[3m \u001b[0m\u001b[3m \u001b[0m\u001b[3m \u001b[0m\u001b[3mZweerts,\u001b[0m\u001b[3m \u001b[0m\u001b[3m \u001b[0m\u001b[3m \u001b[0m  │\n",
       "│  \u001b[1m       \u001b[0m \u001b[3m \u001b[0m\u001b[3m                                                                                                                            \u001b[0m\u001b[3m \u001b[0m  │\n",
       "│                                                                                                                                          │\n",
       "╰──────────────────────────────────────────────────────────────────────────────────────────────────────────────────────────────────────────╯\n"
      ]
     },
     "execution_count": 15,
     "metadata": {},
     "output_type": "execute_result"
    }
   ],
   "source": [
    "rename_columns_result"
   ]
  },
  {
   "cell_type": "code",
   "execution_count": 16,
   "metadata": {},
   "outputs": [],
   "source": [
    "rename_columns_value = kiara.data_registry.get_value(rename_columns_result['table'].value_id)"
   ]
  },
  {
   "cell_type": "markdown",
   "metadata": {},
   "source": [
    "### 3. Check if all location data available in dataset and all coordinates present in coordinates data"
   ]
  },
  {
   "cell_type": "markdown",
   "metadata": {},
   "source": [
    "If the objective is to be able to display the dataset on a map, all rows must contain a normalized location name, and\n",
    "each location name needs to have a latitude and a longitude"
   ]
  },
  {
   "cell_type": "markdown",
   "metadata": {},
   "source": [
    "#### 3.1 Remove rows that contain nans in location place"
   ]
  },
  {
   "cell_type": "code",
   "execution_count": 17,
   "metadata": {},
   "outputs": [],
   "source": [
    "with_loc_result = api.run_job(operation=\"anom_processing.remove_nans\", inputs={'table':rename_columns_value, 'column':'placesnormalized'})"
   ]
  },
  {
   "cell_type": "markdown",
   "metadata": {},
   "source": [
    "At the moment the module doesn't output the list of rows containing nans in normalized location name col"
   ]
  },
  {
   "cell_type": "code",
   "execution_count": 18,
   "metadata": {},
   "outputs": [],
   "source": [
    "with_loc_value = kiara.data_registry.get_value(with_loc_result['table'].value_id)"
   ]
  },
  {
   "cell_type": "markdown",
   "metadata": {},
   "source": [
    "#### 3.1 Access coordinates CSV"
   ]
  },
  {
   "cell_type": "code",
   "execution_count": 19,
   "metadata": {},
   "outputs": [],
   "source": [
    "coords_file_path = '/Users/mariella.decrouychan/Downloads/anommedicalgeocoded-edited.csv'"
   ]
  },
  {
   "cell_type": "code",
   "execution_count": 20,
   "metadata": {},
   "outputs": [],
   "source": [
    "coords_onboarding_result = api.run_job(operation=\"import.table.from.csv_file\", inputs={'path':coords_file_path})"
   ]
  },
  {
   "cell_type": "code",
   "execution_count": 21,
   "metadata": {},
   "outputs": [],
   "source": [
    "coords_table_value = kiara.data_registry.get_value(coords_onboarding_result['table'].value_id)"
   ]
  },
  {
   "cell_type": "markdown",
   "metadata": {},
   "source": [
    "#### 3.2 Rename latitude and longitude"
   ]
  },
  {
   "cell_type": "markdown",
   "metadata": {},
   "source": [
    "I'm temporary leaving this step out for now since there are 2 place names, I'm wondering if we shouldn't keep the standardised one for the normalized place name col as it is common accross tables."
   ]
  },
  {
   "cell_type": "markdown",
   "metadata": {},
   "source": [
    "#### 3.2 Check if all coordinates present"
   ]
  },
  {
   "cell_type": "code",
   "execution_count": 22,
   "metadata": {},
   "outputs": [
    {
     "name": "stdout",
     "output_type": "stream",
     "text": [
      "\n",
      "╭─ Operation: \u001b[1;3manom_processing.coords_check\u001b[0m ────────────────────────────────────╮\n",
      "│                                                                              │\n",
      "│  \u001b[3m \u001b[0m\u001b[3mDocumentation\u001b[0m\u001b[3m \u001b[0m  This module aims at comparing two tables: one table that   │\n",
      "│  \u001b[3m               \u001b[0m  provides observations with a place name, and one table     │\n",
      "│  \u001b[3m               \u001b[0m  that                                                       │\n",
      "│  \u001b[3m               \u001b[0m                                                             │\n",
      "│  \u001b[3m               \u001b[0m  includes latitudes, longitudes and place names.            │\n",
      "│  \u001b[3m               \u001b[0m  A verification is performed to see if all place names of   │\n",
      "│  \u001b[3m               \u001b[0m  the first dataset are included in the second dataset.      │\n",
      "│  \u001b[3m               \u001b[0m  In this specific example, the first table includes         │\n",
      "│  \u001b[3m               \u001b[0m  several place names per row.                               │\n",
      "│  \u001b[3m               \u001b[0m  At the moment the module only covers the case of the       │\n",
      "│  \u001b[3m               \u001b[0m  specific example dataset (several locations per row),      │\n",
      "│  \u001b[3m               \u001b[0m  this should be improved in the future.                     │\n",
      "│                                                                              │\n",
      "│  \u001b[3m \u001b[0m\u001b[3mInputs       \u001b[0m\u001b[3m \u001b[0m                                                             │\n",
      "│  \u001b[3m               \u001b[0m   \u001b[1m \u001b[0m\u001b[1mfield   \u001b[0m\u001b[1m \u001b[0m \u001b[1m         \u001b[0m \u001b[1m          \u001b[0m \u001b[1m          \u001b[0m \u001b[1m           \u001b[0m    │\n",
      "│  \u001b[3m               \u001b[0m   \u001b[1m \u001b[0m\u001b[1mname    \u001b[0m\u001b[1m \u001b[0m \u001b[1m \u001b[0m\u001b[1mtype   \u001b[0m\u001b[1m \u001b[0m \u001b[1m \u001b[0m\u001b[1mdescrip…\u001b[0m\u001b[1m \u001b[0m \u001b[1m \u001b[0m\u001b[1mRequired\u001b[0m\u001b[1m \u001b[0m \u001b[1m \u001b[0m\u001b[1mDefault  \u001b[0m\u001b[1m \u001b[0m    │\n",
      "│  \u001b[3m               \u001b[0m   ──────────────────────────────────────────────────────    │\n",
      "│  \u001b[3m               \u001b[0m   \u001b[3m \u001b[0m\u001b[3mtable1  \u001b[0m\u001b[3m \u001b[0m  table     The        \u001b[1myes\u001b[0m        -- no         │\n",
      "│  \u001b[3m               \u001b[0m   \u001b[3m          \u001b[0m            table                 default       │\n",
      "│  \u001b[3m               \u001b[0m   \u001b[3m          \u001b[0m            that                  --            │\n",
      "│  \u001b[3m               \u001b[0m   \u001b[3m          \u001b[0m            contains                            │\n",
      "│  \u001b[3m               \u001b[0m   \u001b[3m          \u001b[0m            the                                 │\n",
      "│  \u001b[3m               \u001b[0m   \u001b[3m          \u001b[0m            observa…                            │\n",
      "│  \u001b[3m               \u001b[0m   \u001b[3m \u001b[0m\u001b[3mtable2  \u001b[0m\u001b[3m \u001b[0m  table     The        \u001b[1myes\u001b[0m        -- no         │\n",
      "│  \u001b[3m               \u001b[0m   \u001b[3m          \u001b[0m            table                 default       │\n",
      "│  \u001b[3m               \u001b[0m   \u001b[3m          \u001b[0m            that                  --            │\n",
      "│  \u001b[3m               \u001b[0m   \u001b[3m          \u001b[0m            contains                            │\n",
      "│  \u001b[3m               \u001b[0m   \u001b[3m          \u001b[0m            latitude                            │\n",
      "│  \u001b[3m               \u001b[0m   \u001b[3m          \u001b[0m            and                                 │\n",
      "│  \u001b[3m               \u001b[0m   \u001b[3m          \u001b[0m            longitu…                            │\n",
      "│  \u001b[3m               \u001b[0m   \u001b[3m          \u001b[0m            informa…                            │\n",
      "│  \u001b[3m               \u001b[0m   \u001b[3m \u001b[0m\u001b[3mcolumn1 \u001b[0m\u001b[3m \u001b[0m  string    The        \u001b[1myes\u001b[0m        -- no         │\n",
      "│  \u001b[3m               \u001b[0m   \u001b[3m          \u001b[0m            column                default       │\n",
      "│  \u001b[3m               \u001b[0m   \u001b[3m          \u001b[0m            that                  --            │\n",
      "│  \u001b[3m               \u001b[0m   \u001b[3m          \u001b[0m            contains                            │\n",
      "│  \u001b[3m               \u001b[0m   \u001b[3m          \u001b[0m            the                                 │\n",
      "│  \u001b[3m               \u001b[0m   \u001b[3m          \u001b[0m            place                               │\n",
      "│  \u001b[3m               \u001b[0m   \u001b[3m          \u001b[0m            names in                            │\n",
      "│  \u001b[3m               \u001b[0m   \u001b[3m          \u001b[0m            table 1.                            │\n",
      "│  \u001b[3m               \u001b[0m   \u001b[3m \u001b[0m\u001b[3mcolumn2 \u001b[0m\u001b[3m \u001b[0m  string    The        \u001b[1myes\u001b[0m        -- no         │\n",
      "│  \u001b[3m               \u001b[0m   \u001b[3m          \u001b[0m            column                default       │\n",
      "│  \u001b[3m               \u001b[0m   \u001b[3m          \u001b[0m            that                  --            │\n",
      "│  \u001b[3m               \u001b[0m   \u001b[3m          \u001b[0m            contains                            │\n",
      "│  \u001b[3m               \u001b[0m   \u001b[3m          \u001b[0m            the                                 │\n",
      "│  \u001b[3m               \u001b[0m   \u001b[3m          \u001b[0m            place                               │\n",
      "│  \u001b[3m               \u001b[0m   \u001b[3m          \u001b[0m            names in                            │\n",
      "│  \u001b[3m               \u001b[0m   \u001b[3m          \u001b[0m            table 2.                            │\n",
      "│  \u001b[3m               \u001b[0m   \u001b[3m \u001b[0m\u001b[3msample_n\u001b[0m\u001b[3m \u001b[0m  integer   Number     \u001b[1myes\u001b[0m        -- no         │\n",
      "│  \u001b[3m               \u001b[0m   \u001b[3m \u001b[0m\u001b[3mr       \u001b[0m\u001b[3m \u001b[0m            of                    default       │\n",
      "│  \u001b[3m               \u001b[0m   \u001b[3m          \u001b[0m            observa…              --            │\n",
      "│  \u001b[3m               \u001b[0m   \u001b[3m          \u001b[0m            to                                  │\n",
      "│  \u001b[3m               \u001b[0m   \u001b[3m          \u001b[0m            include.                            │\n",
      "│  \u001b[3m               \u001b[0m   \u001b[3m          \u001b[0m            As this                             │\n",
      "│  \u001b[3m               \u001b[0m   \u001b[3m          \u001b[0m            operati…                            │\n",
      "│  \u001b[3m               \u001b[0m   \u001b[3m          \u001b[0m            is very                             │\n",
      "│  \u001b[3m               \u001b[0m   \u001b[3m          \u001b[0m            intensi…                            │\n",
      "│  \u001b[3m               \u001b[0m   \u001b[3m          \u001b[0m            it is                               │\n",
      "│  \u001b[3m               \u001b[0m   \u001b[3m          \u001b[0m            advised                             │\n",
      "│  \u001b[3m               \u001b[0m   \u001b[3m          \u001b[0m            to use a                            │\n",
      "│  \u001b[3m               \u001b[0m   \u001b[3m          \u001b[0m            sample.                             │\n",
      "│  \u001b[3m               \u001b[0m                                                             │\n",
      "│                                                                              │\n",
      "│  \u001b[3m \u001b[0m\u001b[3mOutputs      \u001b[0m\u001b[3m \u001b[0m                                                             │\n",
      "│  \u001b[3m               \u001b[0m   \u001b[1m \u001b[0m\u001b[1mfield name \u001b[0m\u001b[1m \u001b[0m \u001b[1m \u001b[0m\u001b[1mtype  \u001b[0m\u001b[1m \u001b[0m \u001b[1m \u001b[0m\u001b[1mdescription                  \u001b[0m\u001b[1m \u001b[0m    │\n",
      "│  \u001b[3m               \u001b[0m   ──────────────────────────────────────────────────────    │\n",
      "│  \u001b[3m               \u001b[0m   \u001b[3m \u001b[0m\u001b[3mresult     \u001b[0m\u001b[3m \u001b[0m  string   Information about the result      │\n",
      "│  \u001b[3m               \u001b[0m   \u001b[3m             \u001b[0m           (all coords present or            │\n",
      "│  \u001b[3m               \u001b[0m   \u001b[3m             \u001b[0m           missing coords).                  │\n",
      "│  \u001b[3m               \u001b[0m   \u001b[3m \u001b[0m\u001b[3mplaces_list\u001b[0m\u001b[3m \u001b[0m  list     List of the place names that      │\n",
      "│  \u001b[3m               \u001b[0m   \u001b[3m             \u001b[0m           are not included.                 │\n",
      "│  \u001b[3m               \u001b[0m                                                             │\n",
      "│                                                                              │\n",
      "╰──────────────────────────────────────────────────────────────────────────────╯\n"
     ]
    }
   ],
   "source": [
    "! kiara operation explain anom_processing.coords_check"
   ]
  },
  {
   "cell_type": "code",
   "execution_count": 23,
   "metadata": {},
   "outputs": [
    {
     "name": "stdout",
     "output_type": "stream",
     "text": [
      " not evaluated\n",
      " not evaluated\n",
      " not evaluated\n",
      " not evaluated\n",
      " not evaluated\n",
      " not evaluated\n",
      " not evaluated\n",
      " not evaluated\n",
      " not evaluated\n",
      " not evaluated\n",
      " not evaluated\n",
      " not evaluated\n",
      " not evaluated\n",
      " not evaluated\n",
      " not evaluated\n",
      " not evaluated\n",
      " not evaluated\n",
      " not evaluated\n",
      " not evaluated\n",
      " not evaluated\n",
      " not evaluated\n",
      " not evaluated\n",
      " not evaluated\n",
      " not evaluated\n",
      " not evaluated\n",
      " not evaluated\n",
      " not evaluated\n",
      " not evaluated\n",
      " not evaluated\n",
      " not evaluated\n",
      " not evaluated\n",
      " not evaluated\n",
      " not evaluated\n",
      " not evaluated\n",
      " not evaluated\n",
      " not evaluated\n",
      " not evaluated\n",
      " not evaluated\n",
      " not evaluated\n"
     ]
    }
   ],
   "source": [
    "# better to use a sample by using the \"sample_nr\" input\n",
    "coords_check_result = api.run_job(operation=\"anom_processing.coords_check\", inputs={'table1':with_loc_value, 'table2':coords_table_value, \"column1\":'placesnormalized',\"column2\":'normalized',\"sample_nr\":300})"
   ]
  },
  {
   "cell_type": "code",
   "execution_count": 24,
   "metadata": {},
   "outputs": [
    {
     "data": {
      "text/plain": [
       "'Missing coordinates.'"
      ]
     },
     "execution_count": 24,
     "metadata": {},
     "output_type": "execute_result"
    }
   ],
   "source": [
    "coords_check_result['result'].data"
   ]
  },
  {
   "cell_type": "code",
   "execution_count": 25,
   "metadata": {},
   "outputs": [
    {
     "data": {
      "text/plain": [
       "ListModel(list_data=['Nantes (Loire-Atlantique ; France)', 'Saint-Christophe, Île (Antilles)', 'Le Havre (Seine-Maritime ; France)', 'Navacelles (Gard ; France)', 'Ploemeur (Morbihan ; France)', 'Strasbourg (Bas-Rhin ; France)', 'Cap-Tiburon (Saint-Domingue, Île de)', 'Tonnay-Charente (Charente-Maritime ; France)', 'Ouanaminthe (Saint-Domingue, Île de)', 'Nouvelle-France', 'Beaujolais, Région géographique (France)', 'Grand-Cul-de-Sac (Guadeloupe, Île de la)', 'Sens (Yonne ; France)', 'Lyon (Rhône ; France)', 'Afrique, Côtes occidentales', 'Tulle (Corrèze ; France)', 'Providence (Rhode Island ; États-Unis)', 'Saint-Denis (Seine-Saint-Denis ; France)', 'Saint-Domingue, Colonie espagnole (Saint-Domingue, Île de)', 'Vent, Îles du (Antilles)', 'Saint-Étienne (Loire ; France)', 'Niort (Deux-Sèvres ; France)', 'Flandre, Région géographique (Europe)', 'Nippes (Saint-Domingue, Île de)', 'Lorraine, Région géographique (France)', 'La Flèche (Sarthe ; France)', 'Anjou, Région géographique (France)', 'Amérique, Colonies françaises', 'Antilles', 'Calais (Pas-de-Calais ; France)', 'Cambrai (Nord ; France)', \"L'Arcahaye (Saint-Domingue, Île de)\", 'Lorient (Morbihan ; France)', 'Blois (Loir-et-Cher ; France)', 'Caen (Calvados ; France)', 'Rouen (Seine-Maritime ; France)', 'Antilles françaises', 'Clermont-Ferrand (Puy-de-Dôme ; France)', 'Auxonne (Côte-d’Or ; France)', 'Attigny (Vosges ; France)', 'Miquelon, Île (Saint-Pierre-et-Miquelon, Archipel de)', 'Bretagne, Région géographique (France)', 'Maine, Région géographique (France)', 'Gambie', 'Brie, Région géographique (France)', 'Venise (Italie)'], item_schema={'title': 'list', 'type': 'object'}, python_class=PythonClass(model_id=list, category=instance.wrapped_python_class, fields=[python_class_name, python_module_name, full_name]))"
      ]
     },
     "execution_count": 25,
     "metadata": {},
     "output_type": "execute_result"
    }
   ],
   "source": [
    "coords_check_result['places_list'].data"
   ]
  },
  {
   "cell_type": "markdown",
   "metadata": {},
   "source": [
    "### 3. Filter out some columns"
   ]
  },
  {
   "cell_type": "code",
   "execution_count": 26,
   "metadata": {},
   "outputs": [
    {
     "name": "stdout",
     "output_type": "stream",
     "text": [
      "\n",
      "╭─ Operation: \u001b[1;3mtable_filter.select_columns\u001b[0m ─────────────────────────────────────╮\n",
      "│                                                                              │\n",
      "│  \u001b[3m \u001b[0m\u001b[3mDocumentation\u001b[0m\u001b[3m \u001b[0m  -- n/a --                                                  │\n",
      "│                                                                              │\n",
      "│  \u001b[3m \u001b[0m\u001b[3mInputs       \u001b[0m\u001b[3m \u001b[0m                                                             │\n",
      "│  \u001b[3m               \u001b[0m   \u001b[1m \u001b[0m\u001b[1mfield   \u001b[0m\u001b[1m \u001b[0m \u001b[1m         \u001b[0m \u001b[1m          \u001b[0m \u001b[1m          \u001b[0m \u001b[1m           \u001b[0m    │\n",
      "│  \u001b[3m               \u001b[0m   \u001b[1m \u001b[0m\u001b[1mname    \u001b[0m\u001b[1m \u001b[0m \u001b[1m \u001b[0m\u001b[1mtype   \u001b[0m\u001b[1m \u001b[0m \u001b[1m \u001b[0m\u001b[1mdescrip…\u001b[0m\u001b[1m \u001b[0m \u001b[1m \u001b[0m\u001b[1mRequired\u001b[0m\u001b[1m \u001b[0m \u001b[1m \u001b[0m\u001b[1mDefault  \u001b[0m\u001b[1m \u001b[0m    │\n",
      "│  \u001b[3m               \u001b[0m   ──────────────────────────────────────────────────────    │\n",
      "│  \u001b[3m               \u001b[0m   \u001b[3m \u001b[0m\u001b[3mvalue   \u001b[0m\u001b[3m \u001b[0m  table     A value    \u001b[1myes\u001b[0m        -- no         │\n",
      "│  \u001b[3m               \u001b[0m   \u001b[3m          \u001b[0m            of type               default       │\n",
      "│  \u001b[3m               \u001b[0m   \u001b[3m          \u001b[0m            'table'.              --            │\n",
      "│  \u001b[3m               \u001b[0m   \u001b[3m \u001b[0m\u001b[3mcolumns \u001b[0m\u001b[3m \u001b[0m  list      The name   no         -- no         │\n",
      "│  \u001b[3m               \u001b[0m   \u001b[3m          \u001b[0m            of the                default       │\n",
      "│  \u001b[3m               \u001b[0m   \u001b[3m          \u001b[0m            columns               --            │\n",
      "│  \u001b[3m               \u001b[0m   \u001b[3m          \u001b[0m            to                                  │\n",
      "│  \u001b[3m               \u001b[0m   \u001b[3m          \u001b[0m            include.                            │\n",
      "│  \u001b[3m               \u001b[0m   \u001b[3m \u001b[0m\u001b[3mignore_i\u001b[0m\u001b[3m \u001b[0m  boolean   Whether    no         True          │\n",
      "│  \u001b[3m               \u001b[0m   \u001b[3m \u001b[0m\u001b[3mnvalid_c\u001b[0m\u001b[3m \u001b[0m            to                                  │\n",
      "│  \u001b[3m               \u001b[0m   \u001b[3m \u001b[0m\u001b[3molumn_na\u001b[0m\u001b[3m \u001b[0m            ignore                              │\n",
      "│  \u001b[3m               \u001b[0m   \u001b[3m \u001b[0m\u001b[3mmes     \u001b[0m\u001b[3m \u001b[0m            invalid                             │\n",
      "│  \u001b[3m               \u001b[0m   \u001b[3m          \u001b[0m            column                              │\n",
      "│  \u001b[3m               \u001b[0m   \u001b[3m          \u001b[0m            names.                              │\n",
      "│  \u001b[3m               \u001b[0m                                                             │\n",
      "│                                                                              │\n",
      "│  \u001b[3m \u001b[0m\u001b[3mOutputs      \u001b[0m\u001b[3m \u001b[0m                                                             │\n",
      "│  \u001b[3m               \u001b[0m   \u001b[1m \u001b[0m\u001b[1mfield name\u001b[0m\u001b[1m \u001b[0m \u001b[1m \u001b[0m\u001b[1mtype \u001b[0m\u001b[1m \u001b[0m \u001b[1m \u001b[0m\u001b[1mdescription                    \u001b[0m\u001b[1m \u001b[0m    │\n",
      "│  \u001b[3m               \u001b[0m   ──────────────────────────────────────────────────────    │\n",
      "│  \u001b[3m               \u001b[0m   \u001b[3m \u001b[0m\u001b[3mvalue     \u001b[0m\u001b[3m \u001b[0m  table   The filtered value.                 │\n",
      "│  \u001b[3m               \u001b[0m                                                             │\n",
      "│                                                                              │\n",
      "╰──────────────────────────────────────────────────────────────────────────────╯\n"
     ]
    }
   ],
   "source": [
    "! kiara operation explain table_filter.select_columns"
   ]
  },
  {
   "cell_type": "code",
   "execution_count": 27,
   "metadata": {},
   "outputs": [
    {
     "ename": "IndentationError",
     "evalue": "unexpected indent (1740952404.py, line 2)",
     "output_type": "error",
     "traceback": [
      "\u001b[0;36m  Cell \u001b[0;32mIn [27], line 2\u001b[0;36m\u001b[0m\n\u001b[0;31m    \"name\": \"\",\u001b[0m\n\u001b[0m    ^\u001b[0m\n\u001b[0;31mIndentationError\u001b[0m\u001b[0;31m:\u001b[0m unexpected indent\n"
     ]
    }
   ],
   "source": [
    "# col_map = column_map = {\n",
    "    \"name\": \"\",\n",
    "    \"placesdisplay\": \"gn:name\",\n",
    "    \"daterange\": \"\",\n",
    "    \"fullLink\": \"\"\n",
    "}"
   ]
  },
  {
   "cell_type": "code",
   "execution_count": 26,
   "metadata": {},
   "outputs": [],
   "source": [
    "to_include = ['foaf:name','dc:date','dc:identifier']"
   ]
  },
  {
   "cell_type": "code",
   "execution_count": 27,
   "metadata": {},
   "outputs": [],
   "source": [
    "filter_columns_result = api.run_job(operation=\"table_filter.select_columns\", inputs={'value':table_value, 'columns':to_include})"
   ]
  },
  {
   "cell_type": "code",
   "execution_count": 28,
   "metadata": {},
   "outputs": [],
   "source": [
    "# preview data\n",
    "table_value = kiara.data_registry.get_value(filter_columns_result['value'].value_id)\n",
    "df = kiara_to_pandas(table_value)"
   ]
  },
  {
   "cell_type": "code",
   "execution_count": 29,
   "metadata": {},
   "outputs": [
    {
     "data": {
      "text/html": [
       "<div>\n",
       "<style scoped>\n",
       "    .dataframe tbody tr th:only-of-type {\n",
       "        vertical-align: middle;\n",
       "    }\n",
       "\n",
       "    .dataframe tbody tr th {\n",
       "        vertical-align: top;\n",
       "    }\n",
       "\n",
       "    .dataframe thead th {\n",
       "        text-align: right;\n",
       "    }\n",
       "</style>\n",
       "<table border=\"1\" class=\"dataframe\">\n",
       "  <thead>\n",
       "    <tr style=\"text-align: right;\">\n",
       "      <th></th>\n",
       "      <th>name</th>\n",
       "      <th>placesdisplay</th>\n",
       "      <th>placesnormalized</th>\n",
       "      <th>corp</th>\n",
       "      <th>daterange</th>\n",
       "      <th>fullLink</th>\n",
       "    </tr>\n",
       "  </thead>\n",
       "  <tbody>\n",
       "    <tr>\n",
       "      <th>0</th>\n",
       "      <td>Abadie</td>\n",
       "      <td>['Sainte-Lucie']</td>\n",
       "      <td>['Sainte-Lucie, Île (Antilles)']</td>\n",
       "      <td></td>\n",
       "      <td>1787-1787</td>\n",
       "      <td>/ark:/61561/up424lfky</td>\n",
       "    </tr>\n",
       "    <tr>\n",
       "      <th>1</th>\n",
       "      <td>Abbadie, d'</td>\n",
       "      <td>['Canada']</td>\n",
       "      <td>['Canada, Colonie française']</td>\n",
       "      <td>Régiment de Carignan-Salières</td>\n",
       "      <td>1665-1708</td>\n",
       "      <td>/ark:/61561/up424tntx</td>\n",
       "    </tr>\n",
       "    <tr>\n",
       "      <th>2</th>\n",
       "      <td>Abeille, Jean</td>\n",
       "      <td>['Port-au-Prince']</td>\n",
       "      <td>['Port-au-Prince (Saint-Domingue, Île de)']</td>\n",
       "      <td></td>\n",
       "      <td>1788-1789</td>\n",
       "      <td>/ark:/61561/up424icjr</td>\n",
       "    </tr>\n",
       "    <tr>\n",
       "      <th>3</th>\n",
       "      <td>Abeille, Jean Joseph</td>\n",
       "      <td>['Pondichéry']</td>\n",
       "      <td>['Pondichéry (Inde)']</td>\n",
       "      <td>Conseil supérieur (Pondichéry ; Inde)</td>\n",
       "      <td>1769-1772</td>\n",
       "      <td>/ark:/61561/up424tnvz</td>\n",
       "    </tr>\n",
       "    <tr>\n",
       "      <th>4</th>\n",
       "      <td>Abeille, Pierre</td>\n",
       "      <td>['Port-au-Prince']</td>\n",
       "      <td>['Port-au-Prince (Saint-Domingue, Île de)']</td>\n",
       "      <td></td>\n",
       "      <td>1774-1787</td>\n",
       "      <td>/ark:/61561/up424ezxy</td>\n",
       "    </tr>\n",
       "  </tbody>\n",
       "</table>\n",
       "</div>"
      ],
      "text/plain": [
       "                   name       placesdisplay  \\\n",
       "0                Abadie    ['Sainte-Lucie']   \n",
       "1           Abbadie, d'          ['Canada']   \n",
       "2         Abeille, Jean  ['Port-au-Prince']   \n",
       "3  Abeille, Jean Joseph      ['Pondichéry']   \n",
       "4       Abeille, Pierre  ['Port-au-Prince']   \n",
       "\n",
       "                              placesnormalized  \\\n",
       "0             ['Sainte-Lucie, Île (Antilles)']   \n",
       "1                ['Canada, Colonie française']   \n",
       "2  ['Port-au-Prince (Saint-Domingue, Île de)']   \n",
       "3                        ['Pondichéry (Inde)']   \n",
       "4  ['Port-au-Prince (Saint-Domingue, Île de)']   \n",
       "\n",
       "                                    corp  daterange               fullLink  \n",
       "0                                         1787-1787  /ark:/61561/up424lfky  \n",
       "1          Régiment de Carignan-Salières  1665-1708  /ark:/61561/up424tntx  \n",
       "2                                         1788-1789  /ark:/61561/up424icjr  \n",
       "3  Conseil supérieur (Pondichéry ; Inde)  1769-1772  /ark:/61561/up424tnvz  \n",
       "4                                         1774-1787  /ark:/61561/up424ezxy  "
      ]
     },
     "execution_count": 29,
     "metadata": {},
     "output_type": "execute_result"
    }
   ],
   "source": [
    "df.head()"
   ]
  },
  {
   "cell_type": "markdown",
   "metadata": {},
   "source": [
    "#### II. Test pipeline and modules that are being created"
   ]
  },
  {
   "cell_type": "code",
   "execution_count": 3,
   "metadata": {},
   "outputs": [],
   "source": [
    "from kiara import KiaraAPI, Kiara"
   ]
  },
  {
   "cell_type": "code",
   "execution_count": 4,
   "metadata": {},
   "outputs": [],
   "source": [
    "kiara = Kiara.instance()\n",
    "api = KiaraAPI(kiara=kiara)"
   ]
  },
  {
   "cell_type": "markdown",
   "metadata": {},
   "source": [
    "Pipeline"
   ]
  },
  {
   "cell_type": "code",
   "execution_count": 6,
   "metadata": {},
   "outputs": [],
   "source": [
    "file_path = '/Users/mariella.decrouychan/Desktop/personnel.csv'"
   ]
  },
  {
   "cell_type": "code",
   "execution_count": 4,
   "metadata": {},
   "outputs": [
    {
     "name": "stdout",
     "output_type": "stream",
     "text": [
      "2022-11-02 11:23.13 [error    ] error.queue_job                inputs={'filter_columns__columns': 'b66213d9-1636-4abf-acb6-fd7bc1566e17', 'filter_columns__ignore_invalid_column_names': '7b822142-1e62-4eeb-9e2f-fec0678d5022', 'import_table__path': '610a49cd-6f6a-4e2f-9dca-5c3c98bd2b63', 'preprocess_strings__column_name': '003b6b7c-5d47-4117-bc36-9872d5368661'} job_hash=zdpuApR5WYqP4Hxo9kVYgkMsMSnQyq6vZ5iXiQMQe5acQGL7J job_id=UUID('ae5df087-d4f0-481a-bf0a-0f0d9af8092b') module_config={'constants': {}, 'defaults': {'import_table__path': '/Users/mariella.decrouychan/Desktop/personnel.csv', 'filter_columns__columns': ['name', 'placesdisplay', 'placesnormalized', 'corp', 'daterange', 'fullLink'], 'preprocess_strings__column_name': 'placesdisplay'}, 'pipeline_name': 'anom_preprocessing', 'steps': [{'module_type': 'pipeline', 'module_config': {'constants': {}, 'defaults': {}, 'pipeline_name': 'import.table.from.csv_file', 'steps': [{'module_type': 'import.file', 'module_config': {}, 'is_resolved': False, 'step_id': 'import_file', 'manifest_src': {'module_type': 'import.file', 'module_config': {}, 'is_resolved': False}, 'input_links': {}, 'module_details': {'python_class_name': 'ImportFileModule', 'python_module_name': 'kiara.modules.included_core_modules.filesystem', 'full_name': 'kiara.modules.included_core_modules.filesystem.ImportFileModule', 'module_config': {'constants': {}, 'defaults': {}}, 'inputs_schema': {'path': {'type': 'string', 'type_config': {}, 'default': '__not_set__', 'optional': False, 'is_constant': False, 'doc': {'description': 'The local path to the file.', 'doc': None}}}, 'outputs_schema': {'file': {'type': 'file', 'type_config': {}, 'default': '__not_set__', 'optional': False, 'is_constant': False, 'doc': {'description': 'The loaded files.', 'doc': None}}}}, 'doc': {'description': '-- n/a --', 'doc': None}}, {'module_type': 'create.table', 'module_config': {'constants': {}, 'defaults': {}, 'source_type': 'csv_file', 'target_type': 'table', 'ignore_errors': False}, 'is_resolved': False, 'step_id': 'create_table_from_file', 'manifest_src': {'module_type': 'create.table.from.csv_file', 'module_config': {}, 'is_resolved': False}, 'input_links': {'csv_file': [{'step_id': 'import_file', 'value_name': 'file', 'sub_value': None}]}, 'module_details': {'python_class_name': 'CreateTableModule', 'python_module_name': 'kiara_plugin.tabular.modules.table', 'full_name': 'kiara_plugin.tabular.modules.table.CreateTableModule', 'module_config': {'constants': {}, 'defaults': {}, 'source_type': 'csv_file', 'target_type': 'table', 'ignore_errors': False}, 'inputs_schema': {'csv_file': {'type': 'csv_file', 'type_config': {}, 'default': '__not_set__', 'optional': False, 'is_constant': False, 'doc': {'description': 'The type of the source value.', 'doc': None}}}, 'outputs_schema': {'table': {'type': 'table', 'type_config': {}, 'default': '__not_set__', 'optional': False, 'is_constant': False, 'doc': {'description': 'The result value.', 'doc': None}}}}, 'doc': {'description': '-- n/a --', 'doc': None}}], 'input_aliases': {'import_file.path': 'path'}, 'output_aliases': {'import_file.file': 'imported_file', 'create_table_from_file.table': 'table'}, 'doc': {'description': 'Import a table from a csv file.', 'doc': None}, 'context': {}}, 'is_resolved': False, 'step_id': 'import_table', 'manifest_src': {'module_type': 'import.table.from.csv_file', 'module_config': {}, 'is_resolved': False}, 'input_links': {}, 'module_details': {'python_class_name': 'PipelineModule', 'python_module_name': 'kiara.modules.included_core_modules.pipeline', 'full_name': 'kiara.modules.included_core_modules.pipeline.PipelineModule', 'module_config': {'constants': {}, 'defaults': {}, 'pipeline_name': 'import.table.from.csv_file', 'steps': [{'module_type': 'import.file', 'module_config': {}, 'is_resolved': False, 'step_id': 'import_file', 'manifest_src': {'module_type': 'import.file', 'module_config': {}, 'is_resolved': False}, 'input_links': {}, 'module_details': {'python_class_name': 'ImportFileModule', 'python_module_name': 'kiara.modules.included_core_modules.filesystem', 'full_name': 'kiara.modules.included_core_modules.filesystem.ImportFileModule', 'module_config': {'constants': {}, 'defaults': {}}, 'inputs_schema': {'path': {'type': 'string', 'type_config': {}, 'default': '__not_set__', 'optional': False, 'is_constant': False, 'doc': {'description': 'The local path to the file.', 'doc': None}}}, 'outputs_schema': {'file': {'type': 'file', 'type_config': {}, 'default': '__not_set__', 'optional': False, 'is_constant': False, 'doc': {'description': 'The loaded files.', 'doc': None}}}}, 'doc': {'description': '-- n/a --', 'doc': None}}, {'module_type': 'create.table', 'module_config': {'constants': {}, 'defaults': {}, 'source_type': 'csv_file', 'target_type': 'table', 'ignore_errors': False}, 'is_resolved': False, 'step_id': 'create_table_from_file', 'manifest_src': {'module_type': 'create.table.from.csv_file', 'module_config': {}, 'is_resolved': False}, 'input_links': {'csv_file': [{'step_id': 'import_file', 'value_name': 'file', 'sub_value': None}]}, 'module_details': {'python_class_name': 'CreateTableModule', 'python_module_name': 'kiara_plugin.tabular.modules.table', 'full_name': 'kiara_plugin.tabular.modules.table.CreateTableModule', 'module_config': {'constants': {}, 'defaults': {}, 'source_type': 'csv_file', 'target_type': 'table', 'ignore_errors': False}, 'inputs_schema': {'csv_file': {'type': 'csv_file', 'type_config': {}, 'default': '__not_set__', 'optional': False, 'is_constant': False, 'doc': {'description': 'The type of the source value.', 'doc': None}}}, 'outputs_schema': {'table': {'type': 'table', 'type_config': {}, 'default': '__not_set__', 'optional': False, 'is_constant': False, 'doc': {'description': 'The result value.', 'doc': None}}}}, 'doc': {'description': '-- n/a --', 'doc': None}}], 'input_aliases': {'import_file.path': 'path'}, 'output_aliases': {'import_file.file': 'imported_file', 'create_table_from_file.table': 'table'}, 'doc': {'description': 'Import a table from a csv file.', 'doc': None}, 'context': {}}, 'inputs_schema': {'path': {'type': 'string', 'type_config': {}, 'default': '__not_set__', 'optional': False, 'is_constant': False, 'doc': {'description': 'The local path to the file.', 'doc': None}}}, 'outputs_schema': {'imported_file': {'type': 'file', 'type_config': {}, 'default': '__not_set__', 'optional': False, 'is_constant': False, 'doc': {'description': 'The loaded files.', 'doc': None}}, 'table': {'type': 'table', 'type_config': {}, 'default': '__not_set__', 'optional': False, 'is_constant': False, 'doc': {'description': 'The result value.', 'doc': None}}}}, 'doc': {'description': '-- n/a --', 'doc': None}}, {'module_type': 'table.filters', 'module_config': {'constants': {}, 'defaults': {}, 'filter_name': 'select_columns'}, 'is_resolved': False, 'step_id': 'filter_columns', 'manifest_src': {'module_type': 'table_filter.select_columns', 'module_config': {}, 'is_resolved': False}, 'input_links': {'value': [{'step_id': 'import_table', 'value_name': 'table', 'sub_value': None}]}, 'module_details': {'python_class_name': 'TableFiltersModule', 'python_module_name': 'kiara_plugin.tabular.modules.table.filters', 'full_name': 'kiara_plugin.tabular.modules.table.filters.TableFiltersModule', 'module_config': {'constants': {}, 'defaults': {}, 'filter_name': 'select_columns'}, 'inputs_schema': {'value': {'type': 'table', 'type_config': {}, 'default': '__not_set__', 'optional': False, 'is_constant': False, 'doc': {'description': \"A value of type 'table'.\", 'doc': None}}, 'columns': {'type': 'list', 'type_config': {}, 'default': '__not_set__', 'optional': True, 'is_constant': False, 'doc': {'description': 'The name of the columns to include.', 'doc': None}}, 'ignore_invalid_column_names': {'type': 'boolean', 'type_config': {}, 'default': True, 'optional': True, 'is_constant': False, 'doc': {'description': 'Whether to ignore invalid column names.', 'doc': None}}}, 'outputs_schema': {'value': {'type': 'table', 'type_config': {}, 'default': '__not_set__', 'optional': False, 'is_constant': False, 'doc': {'description': 'The filtered value.', 'doc': None}}}}, 'doc': {'description': '-- n/a --', 'doc': None}}, {'module_type': 'anom_processing.strings_preprocess', 'module_config': {}, 'is_resolved': False, 'step_id': 'preprocess_strings', 'manifest_src': {'module_type': 'anom_processing.strings_preprocess', 'module_config': {}, 'is_resolved': False}, 'input_links': {'table': [{'step_id': 'filter_columns', 'value_name': 'value', 'sub_value': None}]}, 'module_details': {'python_class_name': 'StringsPreprocess', 'python_module_name': 'kiara_plugin.anom_processing.modules.initial_preprocess', 'full_name': 'kiara_plugin.anom_processing.modules.initial_preprocess.StringsPreprocess', 'module_config': {'constants': {}, 'defaults': {}}, 'inputs_schema': {'table': {'type': 'table', 'type_config': {}, 'default': '__not_set__', 'optional': False, 'is_constant': False, 'doc': {'description': 'The table for which a column needs to be pre-processed.', 'doc': None}}, 'column_name': {'type': 'string', 'type_config': {}, 'default': '__not_set__', 'optional': False, 'is_constant': False, 'doc': {'description': 'The name of the column that needs pre-processing.', 'doc': None}}}, 'outputs_schema': {'preprocessed_table': {'type': 'table', 'type_config': {}, 'default': '__not_set__', 'optional': False, 'is_constant': False, 'doc': {'description': 'The table with pre-processed column.', 'doc': None}}}}, 'doc': {'description': '-- n/a --', 'doc': None}}], 'input_aliases': {'import_table.path': 'import_table__path', 'filter_columns.value': 'filter_columns__value', 'filter_columns.columns': 'filter_columns__columns', 'filter_columns.ignore_invalid_column_names': 'filter_columns__ignore_invalid_column_names', 'preprocess_strings.table': 'preprocess_strings__table', 'preprocess_strings.column_name': 'preprocess_strings__column_name'}, 'output_aliases': {'import_table.imported_file': 'import_table__imported_file', 'import_table.table': 'import_table__table', 'filter_columns.value': 'filter_columns__value', 'preprocess_strings.preprocessed_table': 'preprocess_strings__preprocessed_table'}, 'doc': {'description': 'A pipeline to pre-process anom data', 'doc': None}, 'context': {}} module_type=pipeline\n"
     ]
    },
    {
     "ename": "Exception",
     "evalue": "Can't retrieve active job with id 'ae5df087-d4f0-481a-bf0a-0f0d9af8092b', no such job registered.",
     "output_type": "error",
     "traceback": [
      "\u001b[0;31m---------------------------------------------------------------------------\u001b[0m",
      "\u001b[0;31mInvalidValuesException\u001b[0m                    Traceback (most recent call last)",
      "File \u001b[0;32m/opt/miniconda3/envs/anom_processing/lib/python3.9/site-packages/kiara/processing/synchronous.py:39\u001b[0m, in \u001b[0;36mSynchronousProcessor._add_processing_task\u001b[0;34m(self, job_id, module, inputs, outputs, job_log)\u001b[0m\n\u001b[1;32m     38\u001b[0m     \u001b[39m# output_wrap._sync()\u001b[39;00m\n\u001b[0;32m---> 39\u001b[0m     \u001b[39mself\u001b[39;49m\u001b[39m.\u001b[39;49mjob_status_updated(job_id\u001b[39m=\u001b[39;49mjob_id, status\u001b[39m=\u001b[39;49mJobStatus\u001b[39m.\u001b[39;49mSUCCESS)\n\u001b[1;32m     40\u001b[0m \u001b[39mexcept\u001b[39;00m \u001b[39mException\u001b[39;00m \u001b[39mas\u001b[39;00m e:\n",
      "File \u001b[0;32m/opt/miniconda3/envs/anom_processing/lib/python3.9/site-packages/kiara/processing/__init__.py:266\u001b[0m, in \u001b[0;36mModuleProcessor.job_status_updated\u001b[0;34m(self, job_id, status)\u001b[0m\n\u001b[1;32m    265\u001b[0m values \u001b[39m=\u001b[39m \u001b[39mself\u001b[39m\u001b[39m.\u001b[39m_output_refs[job_id]\n\u001b[0;32m--> 266\u001b[0m values\u001b[39m.\u001b[39;49msync_values()\n\u001b[1;32m    267\u001b[0m value_ids \u001b[39m=\u001b[39m values\u001b[39m.\u001b[39mget_all_value_ids()\n",
      "File \u001b[0;32m/opt/miniconda3/envs/anom_processing/lib/python3.9/site-packages/kiara/models/values/value.py:1595\u001b[0m, in \u001b[0;36mValueMapWritable.sync_values\u001b[0;34m(self)\u001b[0m\n\u001b[1;32m   1594\u001b[0m log_exception(e)\n\u001b[0;32m-> 1595\u001b[0m \u001b[39mraise\u001b[39;00m e\n",
      "File \u001b[0;32m/opt/miniconda3/envs/anom_processing/lib/python3.9/site-packages/kiara/models/values/value.py:1591\u001b[0m, in \u001b[0;36mValueMapWritable.sync_values\u001b[0;34m(self)\u001b[0m\n\u001b[1;32m   1590\u001b[0m \u001b[39mtry\u001b[39;00m:\n\u001b[0;32m-> 1591\u001b[0m     \u001b[39mraise\u001b[39;00m e\n\u001b[1;32m   1592\u001b[0m \u001b[39mexcept\u001b[39;00m \u001b[39mException\u001b[39;00m:\n\u001b[1;32m   1593\u001b[0m     \u001b[39m# this is silly, I know\u001b[39;00m\n",
      "\u001b[0;31mInvalidValuesException\u001b[0m: Invalid values: preprocess_strings__preprocessed_table: not set",
      "\nDuring handling of the above exception, another exception occurred:\n",
      "\u001b[0;31mException\u001b[0m                                 Traceback (most recent call last)",
      "Cell \u001b[0;32mIn [4], line 1\u001b[0m\n\u001b[0;32m----> 1\u001b[0m pipeline_result \u001b[39m=\u001b[39m api\u001b[39m.\u001b[39;49mrun_job(operation\u001b[39m=\u001b[39;49m\u001b[39m\"\u001b[39;49m\u001b[39manom_preprocessing\u001b[39;49m\u001b[39m\"\u001b[39;49m, inputs\u001b[39m=\u001b[39;49m{\u001b[39m'\u001b[39;49m\u001b[39mimport_table__path\u001b[39;49m\u001b[39m'\u001b[39;49m:file_path})\n",
      "File \u001b[0;32m/opt/miniconda3/envs/anom_processing/lib/python3.9/site-packages/kiara/interfaces/python_api/__init__.py:811\u001b[0m, in \u001b[0;36mKiaraAPI.run_job\u001b[0;34m(self, operation, inputs, operation_config)\u001b[0m\n\u001b[1;32m    789\u001b[0m \u001b[39mdef\u001b[39;00m \u001b[39mrun_job\u001b[39m(\n\u001b[1;32m    790\u001b[0m     \u001b[39mself\u001b[39m,\n\u001b[1;32m    791\u001b[0m     operation: Union[\u001b[39mstr\u001b[39m, Path, Manifest, OperationInfo],\n\u001b[1;32m    792\u001b[0m     inputs: Mapping[\u001b[39mstr\u001b[39m, Any],\n\u001b[1;32m    793\u001b[0m     operation_config: Union[\u001b[39mNone\u001b[39;00m, Mapping[\u001b[39mstr\u001b[39m, Any]] \u001b[39m=\u001b[39m \u001b[39mNone\u001b[39;00m,\n\u001b[1;32m    794\u001b[0m ) \u001b[39m-\u001b[39m\u001b[39m>\u001b[39m ValueMap:\n\u001b[1;32m    795\u001b[0m     \u001b[39m\"\"\"Run a job from a operation id, module_name (and config), or pipeline file, wait for the job to finish and retrieve the result.\u001b[39;00m\n\u001b[1;32m    796\u001b[0m \n\u001b[1;32m    797\u001b[0m \u001b[39m    This is a convenience method that auto-detects what is meant by the 'operation' string input argument.\u001b[39;00m\n\u001b[0;32m   (...)\u001b[0m\n\u001b[1;32m    809\u001b[0m \n\u001b[1;32m    810\u001b[0m \u001b[39m    \"\"\"\u001b[39;00m\n\u001b[0;32m--> 811\u001b[0m     job_id \u001b[39m=\u001b[39m \u001b[39mself\u001b[39;49m\u001b[39m.\u001b[39;49mqueue_job(\n\u001b[1;32m    812\u001b[0m         operation\u001b[39m=\u001b[39;49moperation, inputs\u001b[39m=\u001b[39;49minputs, operation_config\u001b[39m=\u001b[39;49moperation_config\n\u001b[1;32m    813\u001b[0m     )\n\u001b[1;32m    814\u001b[0m     \u001b[39mreturn\u001b[39;00m \u001b[39mself\u001b[39m\u001b[39m.\u001b[39mcontext\u001b[39m.\u001b[39mjob_registry\u001b[39m.\u001b[39mretrieve_result(job_id\u001b[39m=\u001b[39mjob_id)\n",
      "File \u001b[0;32m/opt/miniconda3/envs/anom_processing/lib/python3.9/site-packages/kiara/interfaces/python_api/__init__.py:786\u001b[0m, in \u001b[0;36mKiaraAPI.queue_job\u001b[0;34m(self, operation, inputs, operation_config)\u001b[0m\n\u001b[1;32m    783\u001b[0m \u001b[39melse\u001b[39;00m:\n\u001b[1;32m    784\u001b[0m     manifest \u001b[39m=\u001b[39m operation\n\u001b[0;32m--> 786\u001b[0m job_id \u001b[39m=\u001b[39m \u001b[39mself\u001b[39;49m\u001b[39m.\u001b[39;49mqueue_manifest(manifest\u001b[39m=\u001b[39;49mmanifest, inputs\u001b[39m=\u001b[39;49minputs)\n\u001b[1;32m    787\u001b[0m \u001b[39mreturn\u001b[39;00m job_id\n",
      "File \u001b[0;32m/opt/miniconda3/envs/anom_processing/lib/python3.9/site-packages/kiara/interfaces/python_api/__init__.py:728\u001b[0m, in \u001b[0;36mKiaraAPI.queue_manifest\u001b[0;34m(self, manifest, inputs)\u001b[0m\n\u001b[1;32m    723\u001b[0m     inputs \u001b[39m=\u001b[39m {}\n\u001b[1;32m    724\u001b[0m job_config \u001b[39m=\u001b[39m \u001b[39mself\u001b[39m\u001b[39m.\u001b[39mcontext\u001b[39m.\u001b[39mjob_registry\u001b[39m.\u001b[39mprepare_job_config(\n\u001b[1;32m    725\u001b[0m     manifest\u001b[39m=\u001b[39mmanifest, inputs\u001b[39m=\u001b[39minputs\n\u001b[1;32m    726\u001b[0m )\n\u001b[0;32m--> 728\u001b[0m job_id \u001b[39m=\u001b[39m \u001b[39mself\u001b[39;49m\u001b[39m.\u001b[39;49mcontext\u001b[39m.\u001b[39;49mjob_registry\u001b[39m.\u001b[39;49mexecute_job(\n\u001b[1;32m    729\u001b[0m     job_config\u001b[39m=\u001b[39;49mjob_config, wait\u001b[39m=\u001b[39;49m\u001b[39mFalse\u001b[39;49;00m\n\u001b[1;32m    730\u001b[0m )\n\u001b[1;32m    731\u001b[0m \u001b[39mreturn\u001b[39;00m job_id\n",
      "File \u001b[0;32m/opt/miniconda3/envs/anom_processing/lib/python3.9/site-packages/kiara/registries/jobs/__init__.py:494\u001b[0m, in \u001b[0;36mJobRegistry.execute_job\u001b[0;34m(self, job_config, wait, job_metadata)\u001b[0m\n\u001b[1;32m    492\u001b[0m \u001b[39mexcept\u001b[39;00m \u001b[39mException\u001b[39;00m \u001b[39mas\u001b[39;00m e:\n\u001b[1;32m    493\u001b[0m     log\u001b[39m.\u001b[39merror(\u001b[39m\"\u001b[39m\u001b[39merror.queue_job\u001b[39m\u001b[39m\"\u001b[39m, job_id\u001b[39m=\u001b[39mjob_id)\n\u001b[0;32m--> 494\u001b[0m     \u001b[39mraise\u001b[39;00m e\n\u001b[1;32m    496\u001b[0m \u001b[39mif\u001b[39;00m wait:\n\u001b[1;32m    497\u001b[0m     \u001b[39mself\u001b[39m\u001b[39m.\u001b[39m_processor\u001b[39m.\u001b[39mwait_for(job_id)\n",
      "File \u001b[0;32m/opt/miniconda3/envs/anom_processing/lib/python3.9/site-packages/kiara/registries/jobs/__init__.py:491\u001b[0m, in \u001b[0;36mJobRegistry.execute_job\u001b[0;34m(self, job_config, wait, job_metadata)\u001b[0m\n\u001b[1;32m    488\u001b[0m \u001b[39mself\u001b[39m\u001b[39m.\u001b[39m_active_jobs[job_config\u001b[39m.\u001b[39mjob_hash] \u001b[39m=\u001b[39m job_id\n\u001b[1;32m    490\u001b[0m \u001b[39mtry\u001b[39;00m:\n\u001b[0;32m--> 491\u001b[0m     \u001b[39mself\u001b[39;49m\u001b[39m.\u001b[39;49m_processor\u001b[39m.\u001b[39;49mqueue_job(job_id\u001b[39m=\u001b[39;49mjob_id)\n\u001b[1;32m    492\u001b[0m \u001b[39mexcept\u001b[39;00m \u001b[39mException\u001b[39;00m \u001b[39mas\u001b[39;00m e:\n\u001b[1;32m    493\u001b[0m     log\u001b[39m.\u001b[39merror(\u001b[39m\"\u001b[39m\u001b[39merror.queue_job\u001b[39m\u001b[39m\"\u001b[39m, job_id\u001b[39m=\u001b[39mjob_id)\n",
      "File \u001b[0;32m/opt/miniconda3/envs/anom_processing/lib/python3.9/site-packages/kiara/processing/__init__.py:246\u001b[0m, in \u001b[0;36mModuleProcessor.queue_job\u001b[0;34m(self, job_id)\u001b[0m\n\u001b[1;32m    244\u001b[0m job\u001b[39m.\u001b[39m_exception \u001b[39m=\u001b[39m kpe\n\u001b[1;32m    245\u001b[0m log_exception(kpe)\n\u001b[0;32m--> 246\u001b[0m \u001b[39mraise\u001b[39;00m e\n",
      "File \u001b[0;32m/opt/miniconda3/envs/anom_processing/lib/python3.9/site-packages/kiara/processing/__init__.py:213\u001b[0m, in \u001b[0;36mModuleProcessor.queue_job\u001b[0;34m(self, job_id)\u001b[0m\n\u001b[1;32m    210\u001b[0m     module\u001b[39m.\u001b[39m_set_job_registry(\u001b[39mself\u001b[39m\u001b[39m.\u001b[39m_kiara\u001b[39m.\u001b[39mjob_registry)  \u001b[39m# type: ignore\u001b[39;00m\n\u001b[1;32m    212\u001b[0m \u001b[39mtry\u001b[39;00m:\n\u001b[0;32m--> 213\u001b[0m     \u001b[39mself\u001b[39;49m\u001b[39m.\u001b[39;49m_add_processing_task(\n\u001b[1;32m    214\u001b[0m         job_id\u001b[39m=\u001b[39;49mjob_id,\n\u001b[1;32m    215\u001b[0m         module\u001b[39m=\u001b[39;49mmodule,\n\u001b[1;32m    216\u001b[0m         inputs\u001b[39m=\u001b[39;49minput_values,\n\u001b[1;32m    217\u001b[0m         outputs\u001b[39m=\u001b[39;49moutputs,\n\u001b[1;32m    218\u001b[0m         job_log\u001b[39m=\u001b[39;49mjob\u001b[39m.\u001b[39;49mjob_log,\n\u001b[1;32m    219\u001b[0m     )\n\u001b[1;32m    220\u001b[0m     \u001b[39mreturn\u001b[39;00m job\n\u001b[1;32m    222\u001b[0m \u001b[39mexcept\u001b[39;00m \u001b[39mException\u001b[39;00m \u001b[39mas\u001b[39;00m e:\n",
      "File \u001b[0;32m/opt/miniconda3/envs/anom_processing/lib/python3.9/site-packages/kiara/processing/synchronous.py:41\u001b[0m, in \u001b[0;36mSynchronousProcessor._add_processing_task\u001b[0;34m(self, job_id, module, inputs, outputs, job_log)\u001b[0m\n\u001b[1;32m     39\u001b[0m     \u001b[39mself\u001b[39m\u001b[39m.\u001b[39mjob_status_updated(job_id\u001b[39m=\u001b[39mjob_id, status\u001b[39m=\u001b[39mJobStatus\u001b[39m.\u001b[39mSUCCESS)\n\u001b[1;32m     40\u001b[0m \u001b[39mexcept\u001b[39;00m \u001b[39mException\u001b[39;00m \u001b[39mas\u001b[39;00m e:\n\u001b[0;32m---> 41\u001b[0m     \u001b[39mself\u001b[39;49m\u001b[39m.\u001b[39;49mjob_status_updated(job_id\u001b[39m=\u001b[39;49mjob_id, status\u001b[39m=\u001b[39;49me)\n",
      "File \u001b[0;32m/opt/miniconda3/envs/anom_processing/lib/python3.9/site-packages/kiara/processing/__init__.py:254\u001b[0m, in \u001b[0;36mModuleProcessor.job_status_updated\u001b[0;34m(self, job_id, status)\u001b[0m\n\u001b[1;32m    252\u001b[0m job \u001b[39m=\u001b[39m \u001b[39mself\u001b[39m\u001b[39m.\u001b[39m_active_jobs\u001b[39m.\u001b[39mget(job_id, \u001b[39mNone\u001b[39;00m)\n\u001b[1;32m    253\u001b[0m \u001b[39mif\u001b[39;00m job \u001b[39mis\u001b[39;00m \u001b[39mNone\u001b[39;00m:\n\u001b[0;32m--> 254\u001b[0m     \u001b[39mraise\u001b[39;00m \u001b[39mException\u001b[39;00m(\n\u001b[1;32m    255\u001b[0m         \u001b[39mf\u001b[39m\u001b[39m\"\u001b[39m\u001b[39mCan\u001b[39m\u001b[39m'\u001b[39m\u001b[39mt retrieve active job with id \u001b[39m\u001b[39m'\u001b[39m\u001b[39m{\u001b[39;00mjob_id\u001b[39m}\u001b[39;00m\u001b[39m'\u001b[39m\u001b[39m, no such job registered.\u001b[39m\u001b[39m\"\u001b[39m\n\u001b[1;32m    256\u001b[0m     )\n\u001b[1;32m    258\u001b[0m old_status \u001b[39m=\u001b[39m job\u001b[39m.\u001b[39mstatus\n\u001b[1;32m    260\u001b[0m \u001b[39mif\u001b[39;00m status \u001b[39m==\u001b[39m JobStatus\u001b[39m.\u001b[39mSUCCESS:\n",
      "\u001b[0;31mException\u001b[0m: Can't retrieve active job with id 'ae5df087-d4f0-481a-bf0a-0f0d9af8092b', no such job registered."
     ]
    }
   ],
   "source": [
    "pipeline_result = api.run_job(operation=\"anom_preprocessing\", inputs={'import_table__path':file_path})"
   ]
  },
  {
   "cell_type": "code",
   "execution_count": 16,
   "metadata": {},
   "outputs": [
    {
     "ename": "KeyError",
     "evalue": "\"Field 'filter_columns__value' not available in value set. Available fields: import_table__imported_file, import_table__table\"",
     "output_type": "error",
     "traceback": [
      "\u001b[0;31m---------------------------------------------------------------------------\u001b[0m",
      "\u001b[0;31mKeyError\u001b[0m                                  Traceback (most recent call last)",
      "Cell \u001b[0;32mIn [16], line 1\u001b[0m\n\u001b[0;32m----> 1\u001b[0m pipeline_result[\u001b[39m'\u001b[39;49m\u001b[39mfilter_columns__value\u001b[39;49m\u001b[39m'\u001b[39;49m]\n",
      "File \u001b[0;32m/opt/miniconda3/envs/anom_processing/lib/python3.9/site-packages/kiara/models/values/value.py:1400\u001b[0m, in \u001b[0;36mValueMap.__getitem__\u001b[0;34m(self, item)\u001b[0m\n\u001b[1;32m   1398\u001b[0m \u001b[39mdef\u001b[39;00m \u001b[39m__getitem__\u001b[39m(\u001b[39mself\u001b[39m, item: \u001b[39mstr\u001b[39m) \u001b[39m-\u001b[39m\u001b[39m>\u001b[39m Value:\n\u001b[0;32m-> 1400\u001b[0m     \u001b[39mreturn\u001b[39;00m \u001b[39mself\u001b[39;49m\u001b[39m.\u001b[39;49mget_value_obj(item)\n",
      "File \u001b[0;32m/opt/miniconda3/envs/anom_processing/lib/python3.9/site-packages/kiara/models/values/value.py:1500\u001b[0m, in \u001b[0;36mValueMapReadOnly.get_value_obj\u001b[0;34m(self, field_name)\u001b[0m\n\u001b[1;32m   1497\u001b[0m \u001b[39mdef\u001b[39;00m \u001b[39mget_value_obj\u001b[39m(\u001b[39mself\u001b[39m, field_name: \u001b[39mstr\u001b[39m) \u001b[39m-\u001b[39m\u001b[39m>\u001b[39m Value:\n\u001b[1;32m   1499\u001b[0m     \u001b[39mif\u001b[39;00m field_name \u001b[39mnot\u001b[39;00m \u001b[39min\u001b[39;00m \u001b[39mself\u001b[39m\u001b[39m.\u001b[39mvalue_items\u001b[39m.\u001b[39mkeys():\n\u001b[0;32m-> 1500\u001b[0m         \u001b[39mraise\u001b[39;00m \u001b[39mKeyError\u001b[39;00m(\n\u001b[1;32m   1501\u001b[0m             \u001b[39mf\u001b[39m\u001b[39m\"\u001b[39m\u001b[39mField \u001b[39m\u001b[39m'\u001b[39m\u001b[39m{\u001b[39;00mfield_name\u001b[39m}\u001b[39;00m\u001b[39m'\u001b[39m\u001b[39m not available in value set. Available fields: \u001b[39m\u001b[39m{\u001b[39;00m\u001b[39m'\u001b[39m\u001b[39m, \u001b[39m\u001b[39m'\u001b[39m\u001b[39m.\u001b[39mjoin(\u001b[39mself\u001b[39m\u001b[39m.\u001b[39mfield_names)\u001b[39m}\u001b[39;00m\u001b[39m\"\u001b[39m\n\u001b[1;32m   1502\u001b[0m         )\n\u001b[1;32m   1503\u001b[0m     \u001b[39mreturn\u001b[39;00m \u001b[39mself\u001b[39m\u001b[39m.\u001b[39mvalue_items[field_name]\n",
      "\u001b[0;31mKeyError\u001b[0m: \"Field 'filter_columns__value' not available in value set. Available fields: import_table__imported_file, import_table__table\""
     ]
    }
   ],
   "source": [
    "pipeline_result['filter_columns__value']"
   ]
  },
  {
   "cell_type": "markdown",
   "metadata": {},
   "source": [
    "bug in module anom_processing.strings_preprocess"
   ]
  },
  {
   "cell_type": "code",
   "execution_count": 3,
   "metadata": {},
   "outputs": [],
   "source": [
    "from kiara import KiaraAPI, Kiara\n",
    "kiara = Kiara.instance()\n",
    "api = KiaraAPI(kiara=kiara)"
   ]
  },
  {
   "cell_type": "code",
   "execution_count": 4,
   "metadata": {},
   "outputs": [],
   "source": [
    "file_path = '/Users/mariella.decrouychan/Desktop/personnel.csv'"
   ]
  },
  {
   "cell_type": "code",
   "execution_count": 5,
   "metadata": {},
   "outputs": [],
   "source": [
    "onboarding_result = api.run_job(operation=\"import.table.from.csv_file\", inputs={'path':file_path})"
   ]
  },
  {
   "cell_type": "code",
   "execution_count": 6,
   "metadata": {},
   "outputs": [],
   "source": [
    "table_value = kiara.data_registry.get_value(onboarding_result['table'].value_id)"
   ]
  },
  {
   "cell_type": "code",
   "execution_count": 7,
   "metadata": {},
   "outputs": [],
   "source": [
    "preprocess_col = api.run_job(operation=\"anom_processing.strings_preprocess\", inputs={'table':table_value, 'column_name':\"placesdisplay\"})"
   ]
  },
  {
   "cell_type": "code",
   "execution_count": 8,
   "metadata": {},
   "outputs": [
    {
     "data": {
      "text/html": [
       "<pre style=\"white-space:pre;overflow-x:auto;line-height:normal;font-family:Menlo,'DejaVu Sans Mono',consolas,'Courier New',monospace\">╭──────────────────────────────────────────────────────────────────────────────────────────────────────────────────────────────────────────╮\n",
       "│                                                                                                                                          │\n",
       "│  <span style=\"font-weight: bold\"> field              </span> <span style=\"font-weight: bold\"> value                                                                                                           </span>  │\n",
       "│  ──────────────────────────────────────────────────────────────────────────────────────────────────────────────────────────────────────  │\n",
       "│  <span style=\"font-weight: bold\"> preprocessed_table </span> <span style=\"font-style: italic\">                                                                                                                 </span>  │\n",
       "│  <span style=\"font-weight: bold\">                    </span> <span style=\"font-style: italic\">  </span><span style=\"font-weight: bold; font-style: italic\"> archref </span><span style=\"font-style: italic\"> </span><span style=\"font-weight: bold; font-style: italic\"> name    </span><span style=\"font-style: italic\"> </span><span style=\"font-weight: bold; font-style: italic\"> placesd </span><span style=\"font-style: italic\"> </span><span style=\"font-weight: bold; font-style: italic\"> placesn </span><span style=\"font-style: italic\"> </span><span style=\"font-weight: bold; font-style: italic\"> corp    </span><span style=\"font-style: italic\"> </span><span style=\"font-weight: bold; font-style: italic\"> startda </span><span style=\"font-style: italic\"> </span><span style=\"font-weight: bold; font-style: italic\"> enddate </span><span style=\"font-style: italic\"> </span><span style=\"font-weight: bold; font-style: italic\"> dateran </span><span style=\"font-style: italic\"> </span><span style=\"font-weight: bold; font-style: italic\"> alldate </span><span style=\"font-style: italic\"> </span><span style=\"font-weight: bold; font-style: italic\"> fullLin </span><span style=\"font-style: italic\"> </span><span style=\"font-weight: bold; font-style: italic\"> fullRec </span><span style=\"font-style: italic\">  </span>  │\n",
       "│  <span style=\"font-weight: bold\">                    </span> <span style=\"font-style: italic\">  ─────────────────────────────────────────────────────────────────────────────────────────────────────────────  </span>  │\n",
       "│  <span style=\"font-weight: bold\">                    </span> <span style=\"font-style: italic\">   &lt;a clas   Abadie    'Sainte   ['Saint             1787.0    1787.0    1787-17   1787      /ark:/6   Abadie,   </span>  │\n",
       "│  <span style=\"font-weight: bold\">                    </span> <span style=\"font-style: italic\">   &lt;a clas   Abbadie   'Canada   ['Canad   Régimen   1665.0    1708.0    1665-17   1665, 1   /ark:/6   Abbadie   </span>  │\n",
       "│  <span style=\"font-weight: bold\">                    </span> <span style=\"font-style: italic\">   &lt;a clas   Abeille   'Port-a   ['Port-             1788.0    1789.0    1788-17   1788, 1   /ark:/6   Abeille   </span>  │\n",
       "│  <span style=\"font-weight: bold\">                    </span> <span style=\"font-style: italic\">   &lt;a clas   Abeille   'Pondic   ['Pondi   Conseil   1769.0    1772.0    1769-17   1769, 1   /ark:/6   Abeille   </span>  │\n",
       "│  <span style=\"font-weight: bold\">                    </span> <span style=\"font-style: italic\">   &lt;a clas   Abeille   'Port-a   ['Port-             1774.0    1787.0    1774-17   1774, 1   /ark:/6   Abeille   </span>  │\n",
       "│  <span style=\"font-weight: bold\">                    </span> <span style=\"font-style: italic\">   &lt;a clas   Abel, J   'Guadel   ['Guade             1784.0    1784.0    1784-17   1784      /ark:/6   Abel, J   </span>  │\n",
       "│  <span style=\"font-weight: bold\">                    </span> <span style=\"font-style: italic\">   &lt;a clas   Abel, O   'Canada   ['Canad             1732.0    1749.0    1732-17   1732, 1   /ark:/6   Abel, O   </span>  │\n",
       "│  <span style=\"font-weight: bold\">                    </span> <span style=\"font-style: italic\">   &lt;a clas   Ablé, P                                 1777.0    1777.0    1777-17   1777      /ark:/6   Ablé, P   </span>  │\n",
       "│  <span style=\"font-weight: bold\">                    </span> <span style=\"font-style: italic\">   &lt;a clas   Abon, J                       Régimen   1773.0    1779.0    1773-17   1773, 1   /ark:/6   Abon, J   </span>  │\n",
       "│  <span style=\"font-weight: bold\">                    </span> <span style=\"font-style: italic\">   &lt;a clas   Accaron                                 1735.0    1766.0    1735-17   1735, 1   /ark:/6   Accaron   </span>  │\n",
       "│  <span style=\"font-weight: bold\">                    </span> <span style=\"font-style: italic\">   &lt;a clas   Accolan   'Saint-   ['Saint             1767.0    1770.0    1767-17   1767, 1   /ark:/6   Accolan   </span>  │\n",
       "│  <span style=\"font-weight: bold\">                    </span> <span style=\"font-style: italic\">   &lt;a clas   Achard,   'Pointe   ['Point             1787.0    1787.0    1787-17   1787      /ark:/6   Achard,   </span>  │\n",
       "│  <span style=\"font-weight: bold\">                    </span> <span style=\"font-style: italic\">   &lt;a clas   Achard,   'Basse-   ['Basse             1787.0    1787.0    1787-17   1787      /ark:/6   Achard,   </span>  │\n",
       "│  <span style=\"font-weight: bold\">                    </span> <span style=\"font-style: italic\">   &lt;a clas   Achard    'Cap'     ['Le Ca   Conseil   1769.0    1776.0    1769-17   1769, 1   /ark:/6   Achard    </span>  │\n",
       "│  <span style=\"font-weight: bold\">                    </span> <span style=\"font-style: italic\">   &lt;a clas   Achard    \"Saint-   [\"Saint             1734.0    1779.0    1734-17   1734, 1   /ark:/6   Achard    </span>  │\n",
       "│  <span style=\"font-weight: bold\">                    </span> <span style=\"font-style: italic\">   &lt;a clas   Aché      'Embrun   ['Embru   Régimen   1788.0    1788.0    1788-17   1788      /ark:/6   Aché, c   </span>  │\n",
       "│  <span style=\"font-weight: bold\">                    </span> <span style=\"font-style: italic\">   ...       ...       ...       ...       ...       ...       ...       ...       ...       ...       ...       </span>  │\n",
       "│  <span style=\"font-weight: bold\">                    </span> <span style=\"font-style: italic\">   ...       ...       ...       ...       ...       ...       ...       ...       ...       ...       ...       </span>  │\n",
       "│  <span style=\"font-weight: bold\">                    </span> <span style=\"font-style: italic\">   &lt;a clas   Yvon, G   'Saint-   ['Saint   Régimen   1775.0    1784.0    1775-17   1775, 1   /ark:/6   Yvon, G   </span>  │\n",
       "│  <span style=\"font-weight: bold\">                    </span> <span style=\"font-style: italic\">   &lt;a clas   Yvon, J   'Sainte   ['Saint             1763.0    1763.0    1763-17   1763      /ark:/6   Yvon, J   </span>  │\n",
       "│  <span style=\"font-weight: bold\">                    </span> <span style=\"font-style: italic\">   &lt;a clas   Yvon, L   'île de   ['Franc             1771.0    1790.0    1771-17   1771, 1   /ark:/6   Yvon, L   </span>  │\n",
       "│  <span style=\"font-weight: bold\">                    </span> <span style=\"font-style: italic\">   &lt;a clas   Yvon      'île de   ['Franc             1785.0    1785.0    1785-17   1785      /ark:/6   Yvon, e   </span>  │\n",
       "│  <span style=\"font-weight: bold\">                    </span> <span style=\"font-style: italic\">   &lt;a clas   Yvonnet   'Caen',   ['Caen              1787.0    1792.0    1787-17   1787, 1   /ark:/6   Yvonnet   </span>  │\n",
       "│  <span style=\"font-weight: bold\">                    </span> <span style=\"font-style: italic\">   &lt;a clas   Yzact,    'Pondic   ['Pondi   Conseil   1769.0    1769.0    1769-17   1769      /ark:/6   Yzact,    </span>  │\n",
       "│  <span style=\"font-weight: bold\">                    </span> <span style=\"font-style: italic\">   &lt;a clas   Zachari   'Martin   ['Marti   Capucin   1783.0    1783.0    1783-17   1783      /ark:/6   Zachari   </span>  │\n",
       "│  <span style=\"font-weight: bold\">                    </span> <span style=\"font-style: italic\">   &lt;a clas   Zamor,                        Régimen   1784.0    1784.0    1784-17   1784, 1   /ark:/6   Zamor,    </span>  │\n",
       "│  <span style=\"font-weight: bold\">                    </span> <span style=\"font-style: italic\">   &lt;a clas   Zanico,   'Milan'   ['Milan             1781.0    1781.0    1781-17   1781      /ark:/6   Zanico,   </span>  │\n",
       "│  <span style=\"font-weight: bold\">                    </span> <span style=\"font-style: italic\">   &lt;a clas   Zanthie   'Indes'   ['Inde              1781.0    1781.0    1781-17   1781      /ark:/6   Zanthie   </span>  │\n",
       "│  <span style=\"font-weight: bold\">                    </span> <span style=\"font-style: italic\">   &lt;a clas   Zelman,                       Régimen   1784.0    1784.0    1784-17   1784, 1   /ark:/6   Zelman,   </span>  │\n",
       "│  <span style=\"font-weight: bold\">                    </span> <span style=\"font-style: italic\">   &lt;a clas   Zemard,   'île Ro   ['Royal             1741.0    1741.0    1741-17   1741      /ark:/6   Zemard,   </span>  │\n",
       "│  <span style=\"font-weight: bold\">                    </span> <span style=\"font-style: italic\">   &lt;a clas   Zévallo   'Sainte   ['Saint             1770.0    1770.0    1770-17   1770      /ark:/6   Zévallo   </span>  │\n",
       "│  <span style=\"font-weight: bold\">                    </span> <span style=\"font-style: italic\">   &lt;a clas   Zévallo                       Régimen   1786.0    1791.0    1786-17   1786, 1   /ark:/6   Zévallo   </span>  │\n",
       "│  <span style=\"font-weight: bold\">                    </span> <span style=\"font-style: italic\">   &lt;a clas   Zunberg   'Guyane   ['Guyan             1784.0    1784.0    1784-17   1784      /ark:/6   Zunberg   </span>  │\n",
       "│  <span style=\"font-weight: bold\">                    </span> <span style=\"font-style: italic\">   &lt;a clas   Zweerts   'Tabago   ['Tabag             1782.0    1787.0    1782-17   1782, 1   /ark:/6   Zweerts   </span>  │\n",
       "│  <span style=\"font-weight: bold\">                    </span> <span style=\"font-style: italic\">                                                                                                                 </span>  │\n",
       "│                                                                                                                                          │\n",
       "╰──────────────────────────────────────────────────────────────────────────────────────────────────────────────────────────────────────────╯\n",
       "</pre>\n"
      ],
      "text/plain": [
       "╭──────────────────────────────────────────────────────────────────────────────────────────────────────────────────────────────────────────╮\n",
       "│                                                                                                                                          │\n",
       "│  \u001b[1m \u001b[0m\u001b[1mfield             \u001b[0m\u001b[1m \u001b[0m \u001b[1m \u001b[0m\u001b[1mvalue                                                                                                          \u001b[0m\u001b[1m \u001b[0m  │\n",
       "│  ──────────────────────────────────────────────────────────────────────────────────────────────────────────────────────────────────────  │\n",
       "│  \u001b[1m \u001b[0m\u001b[1mpreprocessed_table\u001b[0m\u001b[1m \u001b[0m \u001b[3m \u001b[0m\u001b[3m                                                                                                               \u001b[0m\u001b[3m \u001b[0m  │\n",
       "│  \u001b[1m                    \u001b[0m \u001b[3m \u001b[0m\u001b[3m \u001b[0m\u001b[1;3m \u001b[0m\u001b[1;3marchref\u001b[0m\u001b[1;3m \u001b[0m\u001b[3m \u001b[0m\u001b[1;3m \u001b[0m\u001b[1;3mname\u001b[0m\u001b[1;3m   \u001b[0m\u001b[1;3m \u001b[0m\u001b[3m \u001b[0m\u001b[1;3m \u001b[0m\u001b[1;3mplacesd\u001b[0m\u001b[1;3m \u001b[0m\u001b[3m \u001b[0m\u001b[1;3m \u001b[0m\u001b[1;3mplacesn\u001b[0m\u001b[1;3m \u001b[0m\u001b[3m \u001b[0m\u001b[1;3m \u001b[0m\u001b[1;3mcorp\u001b[0m\u001b[1;3m   \u001b[0m\u001b[1;3m \u001b[0m\u001b[3m \u001b[0m\u001b[1;3m \u001b[0m\u001b[1;3mstartda\u001b[0m\u001b[1;3m \u001b[0m\u001b[3m \u001b[0m\u001b[1;3m \u001b[0m\u001b[1;3menddate\u001b[0m\u001b[1;3m \u001b[0m\u001b[3m \u001b[0m\u001b[1;3m \u001b[0m\u001b[1;3mdateran\u001b[0m\u001b[1;3m \u001b[0m\u001b[3m \u001b[0m\u001b[1;3m \u001b[0m\u001b[1;3malldate\u001b[0m\u001b[1;3m \u001b[0m\u001b[3m \u001b[0m\u001b[1;3m \u001b[0m\u001b[1;3mfullLin\u001b[0m\u001b[1;3m \u001b[0m\u001b[3m \u001b[0m\u001b[1;3m \u001b[0m\u001b[1;3mfullRec\u001b[0m\u001b[1;3m \u001b[0m\u001b[3m \u001b[0m\u001b[3m \u001b[0m  │\n",
       "│  \u001b[1m                    \u001b[0m \u001b[3m \u001b[0m\u001b[3m ───────────────────────────────────────────────────────────────────────────────────────────────────────────── \u001b[0m\u001b[3m \u001b[0m  │\n",
       "│  \u001b[1m                    \u001b[0m \u001b[3m \u001b[0m\u001b[3m \u001b[0m\u001b[3m \u001b[0m\u001b[3m<a clas\u001b[0m\u001b[3m \u001b[0m\u001b[3m \u001b[0m\u001b[3m \u001b[0m\u001b[3mAbadie\u001b[0m\u001b[3m \u001b[0m\u001b[3m \u001b[0m\u001b[3m \u001b[0m\u001b[3m \u001b[0m\u001b[3m'Sainte\u001b[0m\u001b[3m \u001b[0m\u001b[3m \u001b[0m\u001b[3m \u001b[0m\u001b[3m['Saint\u001b[0m\u001b[3m \u001b[0m\u001b[3m \u001b[0m\u001b[3m \u001b[0m\u001b[3m       \u001b[0m\u001b[3m \u001b[0m\u001b[3m \u001b[0m\u001b[3m \u001b[0m\u001b[3m1787.0\u001b[0m\u001b[3m \u001b[0m\u001b[3m \u001b[0m\u001b[3m \u001b[0m\u001b[3m \u001b[0m\u001b[3m1787.0\u001b[0m\u001b[3m \u001b[0m\u001b[3m \u001b[0m\u001b[3m \u001b[0m\u001b[3m \u001b[0m\u001b[3m1787-17\u001b[0m\u001b[3m \u001b[0m\u001b[3m \u001b[0m\u001b[3m \u001b[0m\u001b[3m1787\u001b[0m\u001b[3m   \u001b[0m\u001b[3m \u001b[0m\u001b[3m \u001b[0m\u001b[3m \u001b[0m\u001b[3m/ark:/6\u001b[0m\u001b[3m \u001b[0m\u001b[3m \u001b[0m\u001b[3m \u001b[0m\u001b[3mAbadie,\u001b[0m\u001b[3m \u001b[0m\u001b[3m \u001b[0m\u001b[3m \u001b[0m  │\n",
       "│  \u001b[1m                    \u001b[0m \u001b[3m \u001b[0m\u001b[3m \u001b[0m\u001b[3m \u001b[0m\u001b[3m<a clas\u001b[0m\u001b[3m \u001b[0m\u001b[3m \u001b[0m\u001b[3m \u001b[0m\u001b[3mAbbadie\u001b[0m\u001b[3m \u001b[0m\u001b[3m \u001b[0m\u001b[3m \u001b[0m\u001b[3m'Canada\u001b[0m\u001b[3m \u001b[0m\u001b[3m \u001b[0m\u001b[3m \u001b[0m\u001b[3m['Canad\u001b[0m\u001b[3m \u001b[0m\u001b[3m \u001b[0m\u001b[3m \u001b[0m\u001b[3mRégimen\u001b[0m\u001b[3m \u001b[0m\u001b[3m \u001b[0m\u001b[3m \u001b[0m\u001b[3m1665.0\u001b[0m\u001b[3m \u001b[0m\u001b[3m \u001b[0m\u001b[3m \u001b[0m\u001b[3m \u001b[0m\u001b[3m1708.0\u001b[0m\u001b[3m \u001b[0m\u001b[3m \u001b[0m\u001b[3m \u001b[0m\u001b[3m \u001b[0m\u001b[3m1665-17\u001b[0m\u001b[3m \u001b[0m\u001b[3m \u001b[0m\u001b[3m \u001b[0m\u001b[3m1665, 1\u001b[0m\u001b[3m \u001b[0m\u001b[3m \u001b[0m\u001b[3m \u001b[0m\u001b[3m/ark:/6\u001b[0m\u001b[3m \u001b[0m\u001b[3m \u001b[0m\u001b[3m \u001b[0m\u001b[3mAbbadie\u001b[0m\u001b[3m \u001b[0m\u001b[3m \u001b[0m\u001b[3m \u001b[0m  │\n",
       "│  \u001b[1m                    \u001b[0m \u001b[3m \u001b[0m\u001b[3m \u001b[0m\u001b[3m \u001b[0m\u001b[3m<a clas\u001b[0m\u001b[3m \u001b[0m\u001b[3m \u001b[0m\u001b[3m \u001b[0m\u001b[3mAbeille\u001b[0m\u001b[3m \u001b[0m\u001b[3m \u001b[0m\u001b[3m \u001b[0m\u001b[3m'Port-a\u001b[0m\u001b[3m \u001b[0m\u001b[3m \u001b[0m\u001b[3m \u001b[0m\u001b[3m['Port-\u001b[0m\u001b[3m \u001b[0m\u001b[3m \u001b[0m\u001b[3m \u001b[0m\u001b[3m       \u001b[0m\u001b[3m \u001b[0m\u001b[3m \u001b[0m\u001b[3m \u001b[0m\u001b[3m1788.0\u001b[0m\u001b[3m \u001b[0m\u001b[3m \u001b[0m\u001b[3m \u001b[0m\u001b[3m \u001b[0m\u001b[3m1789.0\u001b[0m\u001b[3m \u001b[0m\u001b[3m \u001b[0m\u001b[3m \u001b[0m\u001b[3m \u001b[0m\u001b[3m1788-17\u001b[0m\u001b[3m \u001b[0m\u001b[3m \u001b[0m\u001b[3m \u001b[0m\u001b[3m1788, 1\u001b[0m\u001b[3m \u001b[0m\u001b[3m \u001b[0m\u001b[3m \u001b[0m\u001b[3m/ark:/6\u001b[0m\u001b[3m \u001b[0m\u001b[3m \u001b[0m\u001b[3m \u001b[0m\u001b[3mAbeille\u001b[0m\u001b[3m \u001b[0m\u001b[3m \u001b[0m\u001b[3m \u001b[0m  │\n",
       "│  \u001b[1m                    \u001b[0m \u001b[3m \u001b[0m\u001b[3m \u001b[0m\u001b[3m \u001b[0m\u001b[3m<a clas\u001b[0m\u001b[3m \u001b[0m\u001b[3m \u001b[0m\u001b[3m \u001b[0m\u001b[3mAbeille\u001b[0m\u001b[3m \u001b[0m\u001b[3m \u001b[0m\u001b[3m \u001b[0m\u001b[3m'Pondic\u001b[0m\u001b[3m \u001b[0m\u001b[3m \u001b[0m\u001b[3m \u001b[0m\u001b[3m['Pondi\u001b[0m\u001b[3m \u001b[0m\u001b[3m \u001b[0m\u001b[3m \u001b[0m\u001b[3mConseil\u001b[0m\u001b[3m \u001b[0m\u001b[3m \u001b[0m\u001b[3m \u001b[0m\u001b[3m1769.0\u001b[0m\u001b[3m \u001b[0m\u001b[3m \u001b[0m\u001b[3m \u001b[0m\u001b[3m \u001b[0m\u001b[3m1772.0\u001b[0m\u001b[3m \u001b[0m\u001b[3m \u001b[0m\u001b[3m \u001b[0m\u001b[3m \u001b[0m\u001b[3m1769-17\u001b[0m\u001b[3m \u001b[0m\u001b[3m \u001b[0m\u001b[3m \u001b[0m\u001b[3m1769, 1\u001b[0m\u001b[3m \u001b[0m\u001b[3m \u001b[0m\u001b[3m \u001b[0m\u001b[3m/ark:/6\u001b[0m\u001b[3m \u001b[0m\u001b[3m \u001b[0m\u001b[3m \u001b[0m\u001b[3mAbeille\u001b[0m\u001b[3m \u001b[0m\u001b[3m \u001b[0m\u001b[3m \u001b[0m  │\n",
       "│  \u001b[1m                    \u001b[0m \u001b[3m \u001b[0m\u001b[3m \u001b[0m\u001b[3m \u001b[0m\u001b[3m<a clas\u001b[0m\u001b[3m \u001b[0m\u001b[3m \u001b[0m\u001b[3m \u001b[0m\u001b[3mAbeille\u001b[0m\u001b[3m \u001b[0m\u001b[3m \u001b[0m\u001b[3m \u001b[0m\u001b[3m'Port-a\u001b[0m\u001b[3m \u001b[0m\u001b[3m \u001b[0m\u001b[3m \u001b[0m\u001b[3m['Port-\u001b[0m\u001b[3m \u001b[0m\u001b[3m \u001b[0m\u001b[3m \u001b[0m\u001b[3m       \u001b[0m\u001b[3m \u001b[0m\u001b[3m \u001b[0m\u001b[3m \u001b[0m\u001b[3m1774.0\u001b[0m\u001b[3m \u001b[0m\u001b[3m \u001b[0m\u001b[3m \u001b[0m\u001b[3m \u001b[0m\u001b[3m1787.0\u001b[0m\u001b[3m \u001b[0m\u001b[3m \u001b[0m\u001b[3m \u001b[0m\u001b[3m \u001b[0m\u001b[3m1774-17\u001b[0m\u001b[3m \u001b[0m\u001b[3m \u001b[0m\u001b[3m \u001b[0m\u001b[3m1774, 1\u001b[0m\u001b[3m \u001b[0m\u001b[3m \u001b[0m\u001b[3m \u001b[0m\u001b[3m/ark:/6\u001b[0m\u001b[3m \u001b[0m\u001b[3m \u001b[0m\u001b[3m \u001b[0m\u001b[3mAbeille\u001b[0m\u001b[3m \u001b[0m\u001b[3m \u001b[0m\u001b[3m \u001b[0m  │\n",
       "│  \u001b[1m                    \u001b[0m \u001b[3m \u001b[0m\u001b[3m \u001b[0m\u001b[3m \u001b[0m\u001b[3m<a clas\u001b[0m\u001b[3m \u001b[0m\u001b[3m \u001b[0m\u001b[3m \u001b[0m\u001b[3mAbel, J\u001b[0m\u001b[3m \u001b[0m\u001b[3m \u001b[0m\u001b[3m \u001b[0m\u001b[3m'Guadel\u001b[0m\u001b[3m \u001b[0m\u001b[3m \u001b[0m\u001b[3m \u001b[0m\u001b[3m['Guade\u001b[0m\u001b[3m \u001b[0m\u001b[3m \u001b[0m\u001b[3m \u001b[0m\u001b[3m       \u001b[0m\u001b[3m \u001b[0m\u001b[3m \u001b[0m\u001b[3m \u001b[0m\u001b[3m1784.0\u001b[0m\u001b[3m \u001b[0m\u001b[3m \u001b[0m\u001b[3m \u001b[0m\u001b[3m \u001b[0m\u001b[3m1784.0\u001b[0m\u001b[3m \u001b[0m\u001b[3m \u001b[0m\u001b[3m \u001b[0m\u001b[3m \u001b[0m\u001b[3m1784-17\u001b[0m\u001b[3m \u001b[0m\u001b[3m \u001b[0m\u001b[3m \u001b[0m\u001b[3m1784\u001b[0m\u001b[3m   \u001b[0m\u001b[3m \u001b[0m\u001b[3m \u001b[0m\u001b[3m \u001b[0m\u001b[3m/ark:/6\u001b[0m\u001b[3m \u001b[0m\u001b[3m \u001b[0m\u001b[3m \u001b[0m\u001b[3mAbel, J\u001b[0m\u001b[3m \u001b[0m\u001b[3m \u001b[0m\u001b[3m \u001b[0m  │\n",
       "│  \u001b[1m                    \u001b[0m \u001b[3m \u001b[0m\u001b[3m \u001b[0m\u001b[3m \u001b[0m\u001b[3m<a clas\u001b[0m\u001b[3m \u001b[0m\u001b[3m \u001b[0m\u001b[3m \u001b[0m\u001b[3mAbel, O\u001b[0m\u001b[3m \u001b[0m\u001b[3m \u001b[0m\u001b[3m \u001b[0m\u001b[3m'Canada\u001b[0m\u001b[3m \u001b[0m\u001b[3m \u001b[0m\u001b[3m \u001b[0m\u001b[3m['Canad\u001b[0m\u001b[3m \u001b[0m\u001b[3m \u001b[0m\u001b[3m \u001b[0m\u001b[3m       \u001b[0m\u001b[3m \u001b[0m\u001b[3m \u001b[0m\u001b[3m \u001b[0m\u001b[3m1732.0\u001b[0m\u001b[3m \u001b[0m\u001b[3m \u001b[0m\u001b[3m \u001b[0m\u001b[3m \u001b[0m\u001b[3m1749.0\u001b[0m\u001b[3m \u001b[0m\u001b[3m \u001b[0m\u001b[3m \u001b[0m\u001b[3m \u001b[0m\u001b[3m1732-17\u001b[0m\u001b[3m \u001b[0m\u001b[3m \u001b[0m\u001b[3m \u001b[0m\u001b[3m1732, 1\u001b[0m\u001b[3m \u001b[0m\u001b[3m \u001b[0m\u001b[3m \u001b[0m\u001b[3m/ark:/6\u001b[0m\u001b[3m \u001b[0m\u001b[3m \u001b[0m\u001b[3m \u001b[0m\u001b[3mAbel, O\u001b[0m\u001b[3m \u001b[0m\u001b[3m \u001b[0m\u001b[3m \u001b[0m  │\n",
       "│  \u001b[1m                    \u001b[0m \u001b[3m \u001b[0m\u001b[3m \u001b[0m\u001b[3m \u001b[0m\u001b[3m<a clas\u001b[0m\u001b[3m \u001b[0m\u001b[3m \u001b[0m\u001b[3m \u001b[0m\u001b[3mAblé, P\u001b[0m\u001b[3m \u001b[0m\u001b[3m \u001b[0m\u001b[3m \u001b[0m\u001b[3m       \u001b[0m\u001b[3m \u001b[0m\u001b[3m \u001b[0m\u001b[3m \u001b[0m\u001b[3m       \u001b[0m\u001b[3m \u001b[0m\u001b[3m \u001b[0m\u001b[3m \u001b[0m\u001b[3m       \u001b[0m\u001b[3m \u001b[0m\u001b[3m \u001b[0m\u001b[3m \u001b[0m\u001b[3m1777.0\u001b[0m\u001b[3m \u001b[0m\u001b[3m \u001b[0m\u001b[3m \u001b[0m\u001b[3m \u001b[0m\u001b[3m1777.0\u001b[0m\u001b[3m \u001b[0m\u001b[3m \u001b[0m\u001b[3m \u001b[0m\u001b[3m \u001b[0m\u001b[3m1777-17\u001b[0m\u001b[3m \u001b[0m\u001b[3m \u001b[0m\u001b[3m \u001b[0m\u001b[3m1777\u001b[0m\u001b[3m   \u001b[0m\u001b[3m \u001b[0m\u001b[3m \u001b[0m\u001b[3m \u001b[0m\u001b[3m/ark:/6\u001b[0m\u001b[3m \u001b[0m\u001b[3m \u001b[0m\u001b[3m \u001b[0m\u001b[3mAblé, P\u001b[0m\u001b[3m \u001b[0m\u001b[3m \u001b[0m\u001b[3m \u001b[0m  │\n",
       "│  \u001b[1m                    \u001b[0m \u001b[3m \u001b[0m\u001b[3m \u001b[0m\u001b[3m \u001b[0m\u001b[3m<a clas\u001b[0m\u001b[3m \u001b[0m\u001b[3m \u001b[0m\u001b[3m \u001b[0m\u001b[3mAbon, J\u001b[0m\u001b[3m \u001b[0m\u001b[3m \u001b[0m\u001b[3m \u001b[0m\u001b[3m       \u001b[0m\u001b[3m \u001b[0m\u001b[3m \u001b[0m\u001b[3m \u001b[0m\u001b[3m       \u001b[0m\u001b[3m \u001b[0m\u001b[3m \u001b[0m\u001b[3m \u001b[0m\u001b[3mRégimen\u001b[0m\u001b[3m \u001b[0m\u001b[3m \u001b[0m\u001b[3m \u001b[0m\u001b[3m1773.0\u001b[0m\u001b[3m \u001b[0m\u001b[3m \u001b[0m\u001b[3m \u001b[0m\u001b[3m \u001b[0m\u001b[3m1779.0\u001b[0m\u001b[3m \u001b[0m\u001b[3m \u001b[0m\u001b[3m \u001b[0m\u001b[3m \u001b[0m\u001b[3m1773-17\u001b[0m\u001b[3m \u001b[0m\u001b[3m \u001b[0m\u001b[3m \u001b[0m\u001b[3m1773, 1\u001b[0m\u001b[3m \u001b[0m\u001b[3m \u001b[0m\u001b[3m \u001b[0m\u001b[3m/ark:/6\u001b[0m\u001b[3m \u001b[0m\u001b[3m \u001b[0m\u001b[3m \u001b[0m\u001b[3mAbon, J\u001b[0m\u001b[3m \u001b[0m\u001b[3m \u001b[0m\u001b[3m \u001b[0m  │\n",
       "│  \u001b[1m                    \u001b[0m \u001b[3m \u001b[0m\u001b[3m \u001b[0m\u001b[3m \u001b[0m\u001b[3m<a clas\u001b[0m\u001b[3m \u001b[0m\u001b[3m \u001b[0m\u001b[3m \u001b[0m\u001b[3mAccaron\u001b[0m\u001b[3m \u001b[0m\u001b[3m \u001b[0m\u001b[3m \u001b[0m\u001b[3m       \u001b[0m\u001b[3m \u001b[0m\u001b[3m \u001b[0m\u001b[3m \u001b[0m\u001b[3m       \u001b[0m\u001b[3m \u001b[0m\u001b[3m \u001b[0m\u001b[3m \u001b[0m\u001b[3m       \u001b[0m\u001b[3m \u001b[0m\u001b[3m \u001b[0m\u001b[3m \u001b[0m\u001b[3m1735.0\u001b[0m\u001b[3m \u001b[0m\u001b[3m \u001b[0m\u001b[3m \u001b[0m\u001b[3m \u001b[0m\u001b[3m1766.0\u001b[0m\u001b[3m \u001b[0m\u001b[3m \u001b[0m\u001b[3m \u001b[0m\u001b[3m \u001b[0m\u001b[3m1735-17\u001b[0m\u001b[3m \u001b[0m\u001b[3m \u001b[0m\u001b[3m \u001b[0m\u001b[3m1735, 1\u001b[0m\u001b[3m \u001b[0m\u001b[3m \u001b[0m\u001b[3m \u001b[0m\u001b[3m/ark:/6\u001b[0m\u001b[3m \u001b[0m\u001b[3m \u001b[0m\u001b[3m \u001b[0m\u001b[3mAccaron\u001b[0m\u001b[3m \u001b[0m\u001b[3m \u001b[0m\u001b[3m \u001b[0m  │\n",
       "│  \u001b[1m                    \u001b[0m \u001b[3m \u001b[0m\u001b[3m \u001b[0m\u001b[3m \u001b[0m\u001b[3m<a clas\u001b[0m\u001b[3m \u001b[0m\u001b[3m \u001b[0m\u001b[3m \u001b[0m\u001b[3mAccolan\u001b[0m\u001b[3m \u001b[0m\u001b[3m \u001b[0m\u001b[3m \u001b[0m\u001b[3m'Saint-\u001b[0m\u001b[3m \u001b[0m\u001b[3m \u001b[0m\u001b[3m \u001b[0m\u001b[3m['Saint\u001b[0m\u001b[3m \u001b[0m\u001b[3m \u001b[0m\u001b[3m \u001b[0m\u001b[3m       \u001b[0m\u001b[3m \u001b[0m\u001b[3m \u001b[0m\u001b[3m \u001b[0m\u001b[3m1767.0\u001b[0m\u001b[3m \u001b[0m\u001b[3m \u001b[0m\u001b[3m \u001b[0m\u001b[3m \u001b[0m\u001b[3m1770.0\u001b[0m\u001b[3m \u001b[0m\u001b[3m \u001b[0m\u001b[3m \u001b[0m\u001b[3m \u001b[0m\u001b[3m1767-17\u001b[0m\u001b[3m \u001b[0m\u001b[3m \u001b[0m\u001b[3m \u001b[0m\u001b[3m1767, 1\u001b[0m\u001b[3m \u001b[0m\u001b[3m \u001b[0m\u001b[3m \u001b[0m\u001b[3m/ark:/6\u001b[0m\u001b[3m \u001b[0m\u001b[3m \u001b[0m\u001b[3m \u001b[0m\u001b[3mAccolan\u001b[0m\u001b[3m \u001b[0m\u001b[3m \u001b[0m\u001b[3m \u001b[0m  │\n",
       "│  \u001b[1m                    \u001b[0m \u001b[3m \u001b[0m\u001b[3m \u001b[0m\u001b[3m \u001b[0m\u001b[3m<a clas\u001b[0m\u001b[3m \u001b[0m\u001b[3m \u001b[0m\u001b[3m \u001b[0m\u001b[3mAchard,\u001b[0m\u001b[3m \u001b[0m\u001b[3m \u001b[0m\u001b[3m \u001b[0m\u001b[3m'Pointe\u001b[0m\u001b[3m \u001b[0m\u001b[3m \u001b[0m\u001b[3m \u001b[0m\u001b[3m['Point\u001b[0m\u001b[3m \u001b[0m\u001b[3m \u001b[0m\u001b[3m \u001b[0m\u001b[3m       \u001b[0m\u001b[3m \u001b[0m\u001b[3m \u001b[0m\u001b[3m \u001b[0m\u001b[3m1787.0\u001b[0m\u001b[3m \u001b[0m\u001b[3m \u001b[0m\u001b[3m \u001b[0m\u001b[3m \u001b[0m\u001b[3m1787.0\u001b[0m\u001b[3m \u001b[0m\u001b[3m \u001b[0m\u001b[3m \u001b[0m\u001b[3m \u001b[0m\u001b[3m1787-17\u001b[0m\u001b[3m \u001b[0m\u001b[3m \u001b[0m\u001b[3m \u001b[0m\u001b[3m1787\u001b[0m\u001b[3m   \u001b[0m\u001b[3m \u001b[0m\u001b[3m \u001b[0m\u001b[3m \u001b[0m\u001b[3m/ark:/6\u001b[0m\u001b[3m \u001b[0m\u001b[3m \u001b[0m\u001b[3m \u001b[0m\u001b[3mAchard,\u001b[0m\u001b[3m \u001b[0m\u001b[3m \u001b[0m\u001b[3m \u001b[0m  │\n",
       "│  \u001b[1m                    \u001b[0m \u001b[3m \u001b[0m\u001b[3m \u001b[0m\u001b[3m \u001b[0m\u001b[3m<a clas\u001b[0m\u001b[3m \u001b[0m\u001b[3m \u001b[0m\u001b[3m \u001b[0m\u001b[3mAchard,\u001b[0m\u001b[3m \u001b[0m\u001b[3m \u001b[0m\u001b[3m \u001b[0m\u001b[3m'Basse-\u001b[0m\u001b[3m \u001b[0m\u001b[3m \u001b[0m\u001b[3m \u001b[0m\u001b[3m['Basse\u001b[0m\u001b[3m \u001b[0m\u001b[3m \u001b[0m\u001b[3m \u001b[0m\u001b[3m       \u001b[0m\u001b[3m \u001b[0m\u001b[3m \u001b[0m\u001b[3m \u001b[0m\u001b[3m1787.0\u001b[0m\u001b[3m \u001b[0m\u001b[3m \u001b[0m\u001b[3m \u001b[0m\u001b[3m \u001b[0m\u001b[3m1787.0\u001b[0m\u001b[3m \u001b[0m\u001b[3m \u001b[0m\u001b[3m \u001b[0m\u001b[3m \u001b[0m\u001b[3m1787-17\u001b[0m\u001b[3m \u001b[0m\u001b[3m \u001b[0m\u001b[3m \u001b[0m\u001b[3m1787\u001b[0m\u001b[3m   \u001b[0m\u001b[3m \u001b[0m\u001b[3m \u001b[0m\u001b[3m \u001b[0m\u001b[3m/ark:/6\u001b[0m\u001b[3m \u001b[0m\u001b[3m \u001b[0m\u001b[3m \u001b[0m\u001b[3mAchard,\u001b[0m\u001b[3m \u001b[0m\u001b[3m \u001b[0m\u001b[3m \u001b[0m  │\n",
       "│  \u001b[1m                    \u001b[0m \u001b[3m \u001b[0m\u001b[3m \u001b[0m\u001b[3m \u001b[0m\u001b[3m<a clas\u001b[0m\u001b[3m \u001b[0m\u001b[3m \u001b[0m\u001b[3m \u001b[0m\u001b[3mAchard \u001b[0m\u001b[3m \u001b[0m\u001b[3m \u001b[0m\u001b[3m \u001b[0m\u001b[3m'Cap'\u001b[0m\u001b[3m  \u001b[0m\u001b[3m \u001b[0m\u001b[3m \u001b[0m\u001b[3m \u001b[0m\u001b[3m['Le Ca\u001b[0m\u001b[3m \u001b[0m\u001b[3m \u001b[0m\u001b[3m \u001b[0m\u001b[3mConseil\u001b[0m\u001b[3m \u001b[0m\u001b[3m \u001b[0m\u001b[3m \u001b[0m\u001b[3m1769.0\u001b[0m\u001b[3m \u001b[0m\u001b[3m \u001b[0m\u001b[3m \u001b[0m\u001b[3m \u001b[0m\u001b[3m1776.0\u001b[0m\u001b[3m \u001b[0m\u001b[3m \u001b[0m\u001b[3m \u001b[0m\u001b[3m \u001b[0m\u001b[3m1769-17\u001b[0m\u001b[3m \u001b[0m\u001b[3m \u001b[0m\u001b[3m \u001b[0m\u001b[3m1769, 1\u001b[0m\u001b[3m \u001b[0m\u001b[3m \u001b[0m\u001b[3m \u001b[0m\u001b[3m/ark:/6\u001b[0m\u001b[3m \u001b[0m\u001b[3m \u001b[0m\u001b[3m \u001b[0m\u001b[3mAchard \u001b[0m\u001b[3m \u001b[0m\u001b[3m \u001b[0m\u001b[3m \u001b[0m  │\n",
       "│  \u001b[1m                    \u001b[0m \u001b[3m \u001b[0m\u001b[3m \u001b[0m\u001b[3m \u001b[0m\u001b[3m<a clas\u001b[0m\u001b[3m \u001b[0m\u001b[3m \u001b[0m\u001b[3m \u001b[0m\u001b[3mAchard \u001b[0m\u001b[3m \u001b[0m\u001b[3m \u001b[0m\u001b[3m \u001b[0m\u001b[3m\"Saint-\u001b[0m\u001b[3m \u001b[0m\u001b[3m \u001b[0m\u001b[3m \u001b[0m\u001b[3m[\"Saint\u001b[0m\u001b[3m \u001b[0m\u001b[3m \u001b[0m\u001b[3m \u001b[0m\u001b[3m       \u001b[0m\u001b[3m \u001b[0m\u001b[3m \u001b[0m\u001b[3m \u001b[0m\u001b[3m1734.0\u001b[0m\u001b[3m \u001b[0m\u001b[3m \u001b[0m\u001b[3m \u001b[0m\u001b[3m \u001b[0m\u001b[3m1779.0\u001b[0m\u001b[3m \u001b[0m\u001b[3m \u001b[0m\u001b[3m \u001b[0m\u001b[3m \u001b[0m\u001b[3m1734-17\u001b[0m\u001b[3m \u001b[0m\u001b[3m \u001b[0m\u001b[3m \u001b[0m\u001b[3m1734, 1\u001b[0m\u001b[3m \u001b[0m\u001b[3m \u001b[0m\u001b[3m \u001b[0m\u001b[3m/ark:/6\u001b[0m\u001b[3m \u001b[0m\u001b[3m \u001b[0m\u001b[3m \u001b[0m\u001b[3mAchard \u001b[0m\u001b[3m \u001b[0m\u001b[3m \u001b[0m\u001b[3m \u001b[0m  │\n",
       "│  \u001b[1m                    \u001b[0m \u001b[3m \u001b[0m\u001b[3m \u001b[0m\u001b[3m \u001b[0m\u001b[3m<a clas\u001b[0m\u001b[3m \u001b[0m\u001b[3m \u001b[0m\u001b[3m \u001b[0m\u001b[3mAché\u001b[0m\u001b[3m   \u001b[0m\u001b[3m \u001b[0m\u001b[3m \u001b[0m\u001b[3m \u001b[0m\u001b[3m'Embrun\u001b[0m\u001b[3m \u001b[0m\u001b[3m \u001b[0m\u001b[3m \u001b[0m\u001b[3m['Embru\u001b[0m\u001b[3m \u001b[0m\u001b[3m \u001b[0m\u001b[3m \u001b[0m\u001b[3mRégimen\u001b[0m\u001b[3m \u001b[0m\u001b[3m \u001b[0m\u001b[3m \u001b[0m\u001b[3m1788.0\u001b[0m\u001b[3m \u001b[0m\u001b[3m \u001b[0m\u001b[3m \u001b[0m\u001b[3m \u001b[0m\u001b[3m1788.0\u001b[0m\u001b[3m \u001b[0m\u001b[3m \u001b[0m\u001b[3m \u001b[0m\u001b[3m \u001b[0m\u001b[3m1788-17\u001b[0m\u001b[3m \u001b[0m\u001b[3m \u001b[0m\u001b[3m \u001b[0m\u001b[3m1788\u001b[0m\u001b[3m   \u001b[0m\u001b[3m \u001b[0m\u001b[3m \u001b[0m\u001b[3m \u001b[0m\u001b[3m/ark:/6\u001b[0m\u001b[3m \u001b[0m\u001b[3m \u001b[0m\u001b[3m \u001b[0m\u001b[3mAché, c\u001b[0m\u001b[3m \u001b[0m\u001b[3m \u001b[0m\u001b[3m \u001b[0m  │\n",
       "│  \u001b[1m                    \u001b[0m \u001b[3m \u001b[0m\u001b[3m \u001b[0m\u001b[3m \u001b[0m\u001b[3m...\u001b[0m\u001b[3m    \u001b[0m\u001b[3m \u001b[0m\u001b[3m \u001b[0m\u001b[3m \u001b[0m\u001b[3m...\u001b[0m\u001b[3m    \u001b[0m\u001b[3m \u001b[0m\u001b[3m \u001b[0m\u001b[3m \u001b[0m\u001b[3m...\u001b[0m\u001b[3m    \u001b[0m\u001b[3m \u001b[0m\u001b[3m \u001b[0m\u001b[3m \u001b[0m\u001b[3m...\u001b[0m\u001b[3m    \u001b[0m\u001b[3m \u001b[0m\u001b[3m \u001b[0m\u001b[3m \u001b[0m\u001b[3m...\u001b[0m\u001b[3m    \u001b[0m\u001b[3m \u001b[0m\u001b[3m \u001b[0m\u001b[3m \u001b[0m\u001b[3m...\u001b[0m\u001b[3m    \u001b[0m\u001b[3m \u001b[0m\u001b[3m \u001b[0m\u001b[3m \u001b[0m\u001b[3m...\u001b[0m\u001b[3m    \u001b[0m\u001b[3m \u001b[0m\u001b[3m \u001b[0m\u001b[3m \u001b[0m\u001b[3m...\u001b[0m\u001b[3m    \u001b[0m\u001b[3m \u001b[0m\u001b[3m \u001b[0m\u001b[3m \u001b[0m\u001b[3m...\u001b[0m\u001b[3m    \u001b[0m\u001b[3m \u001b[0m\u001b[3m \u001b[0m\u001b[3m \u001b[0m\u001b[3m...\u001b[0m\u001b[3m    \u001b[0m\u001b[3m \u001b[0m\u001b[3m \u001b[0m\u001b[3m \u001b[0m\u001b[3m...\u001b[0m\u001b[3m    \u001b[0m\u001b[3m \u001b[0m\u001b[3m \u001b[0m\u001b[3m \u001b[0m  │\n",
       "│  \u001b[1m                    \u001b[0m \u001b[3m \u001b[0m\u001b[3m \u001b[0m\u001b[3m \u001b[0m\u001b[3m...\u001b[0m\u001b[3m    \u001b[0m\u001b[3m \u001b[0m\u001b[3m \u001b[0m\u001b[3m \u001b[0m\u001b[3m...\u001b[0m\u001b[3m    \u001b[0m\u001b[3m \u001b[0m\u001b[3m \u001b[0m\u001b[3m \u001b[0m\u001b[3m...\u001b[0m\u001b[3m    \u001b[0m\u001b[3m \u001b[0m\u001b[3m \u001b[0m\u001b[3m \u001b[0m\u001b[3m...\u001b[0m\u001b[3m    \u001b[0m\u001b[3m \u001b[0m\u001b[3m \u001b[0m\u001b[3m \u001b[0m\u001b[3m...\u001b[0m\u001b[3m    \u001b[0m\u001b[3m \u001b[0m\u001b[3m \u001b[0m\u001b[3m \u001b[0m\u001b[3m...\u001b[0m\u001b[3m    \u001b[0m\u001b[3m \u001b[0m\u001b[3m \u001b[0m\u001b[3m \u001b[0m\u001b[3m...\u001b[0m\u001b[3m    \u001b[0m\u001b[3m \u001b[0m\u001b[3m \u001b[0m\u001b[3m \u001b[0m\u001b[3m...\u001b[0m\u001b[3m    \u001b[0m\u001b[3m \u001b[0m\u001b[3m \u001b[0m\u001b[3m \u001b[0m\u001b[3m...\u001b[0m\u001b[3m    \u001b[0m\u001b[3m \u001b[0m\u001b[3m \u001b[0m\u001b[3m \u001b[0m\u001b[3m...\u001b[0m\u001b[3m    \u001b[0m\u001b[3m \u001b[0m\u001b[3m \u001b[0m\u001b[3m \u001b[0m\u001b[3m...\u001b[0m\u001b[3m    \u001b[0m\u001b[3m \u001b[0m\u001b[3m \u001b[0m\u001b[3m \u001b[0m  │\n",
       "│  \u001b[1m                    \u001b[0m \u001b[3m \u001b[0m\u001b[3m \u001b[0m\u001b[3m \u001b[0m\u001b[3m<a clas\u001b[0m\u001b[3m \u001b[0m\u001b[3m \u001b[0m\u001b[3m \u001b[0m\u001b[3mYvon, G\u001b[0m\u001b[3m \u001b[0m\u001b[3m \u001b[0m\u001b[3m \u001b[0m\u001b[3m'Saint-\u001b[0m\u001b[3m \u001b[0m\u001b[3m \u001b[0m\u001b[3m \u001b[0m\u001b[3m['Saint\u001b[0m\u001b[3m \u001b[0m\u001b[3m \u001b[0m\u001b[3m \u001b[0m\u001b[3mRégimen\u001b[0m\u001b[3m \u001b[0m\u001b[3m \u001b[0m\u001b[3m \u001b[0m\u001b[3m1775.0\u001b[0m\u001b[3m \u001b[0m\u001b[3m \u001b[0m\u001b[3m \u001b[0m\u001b[3m \u001b[0m\u001b[3m1784.0\u001b[0m\u001b[3m \u001b[0m\u001b[3m \u001b[0m\u001b[3m \u001b[0m\u001b[3m \u001b[0m\u001b[3m1775-17\u001b[0m\u001b[3m \u001b[0m\u001b[3m \u001b[0m\u001b[3m \u001b[0m\u001b[3m1775, 1\u001b[0m\u001b[3m \u001b[0m\u001b[3m \u001b[0m\u001b[3m \u001b[0m\u001b[3m/ark:/6\u001b[0m\u001b[3m \u001b[0m\u001b[3m \u001b[0m\u001b[3m \u001b[0m\u001b[3mYvon, G\u001b[0m\u001b[3m \u001b[0m\u001b[3m \u001b[0m\u001b[3m \u001b[0m  │\n",
       "│  \u001b[1m                    \u001b[0m \u001b[3m \u001b[0m\u001b[3m \u001b[0m\u001b[3m \u001b[0m\u001b[3m<a clas\u001b[0m\u001b[3m \u001b[0m\u001b[3m \u001b[0m\u001b[3m \u001b[0m\u001b[3mYvon, J\u001b[0m\u001b[3m \u001b[0m\u001b[3m \u001b[0m\u001b[3m \u001b[0m\u001b[3m'Sainte\u001b[0m\u001b[3m \u001b[0m\u001b[3m \u001b[0m\u001b[3m \u001b[0m\u001b[3m['Saint\u001b[0m\u001b[3m \u001b[0m\u001b[3m \u001b[0m\u001b[3m \u001b[0m\u001b[3m       \u001b[0m\u001b[3m \u001b[0m\u001b[3m \u001b[0m\u001b[3m \u001b[0m\u001b[3m1763.0\u001b[0m\u001b[3m \u001b[0m\u001b[3m \u001b[0m\u001b[3m \u001b[0m\u001b[3m \u001b[0m\u001b[3m1763.0\u001b[0m\u001b[3m \u001b[0m\u001b[3m \u001b[0m\u001b[3m \u001b[0m\u001b[3m \u001b[0m\u001b[3m1763-17\u001b[0m\u001b[3m \u001b[0m\u001b[3m \u001b[0m\u001b[3m \u001b[0m\u001b[3m1763\u001b[0m\u001b[3m   \u001b[0m\u001b[3m \u001b[0m\u001b[3m \u001b[0m\u001b[3m \u001b[0m\u001b[3m/ark:/6\u001b[0m\u001b[3m \u001b[0m\u001b[3m \u001b[0m\u001b[3m \u001b[0m\u001b[3mYvon, J\u001b[0m\u001b[3m \u001b[0m\u001b[3m \u001b[0m\u001b[3m \u001b[0m  │\n",
       "│  \u001b[1m                    \u001b[0m \u001b[3m \u001b[0m\u001b[3m \u001b[0m\u001b[3m \u001b[0m\u001b[3m<a clas\u001b[0m\u001b[3m \u001b[0m\u001b[3m \u001b[0m\u001b[3m \u001b[0m\u001b[3mYvon, L\u001b[0m\u001b[3m \u001b[0m\u001b[3m \u001b[0m\u001b[3m \u001b[0m\u001b[3m'île de\u001b[0m\u001b[3m \u001b[0m\u001b[3m \u001b[0m\u001b[3m \u001b[0m\u001b[3m['Franc\u001b[0m\u001b[3m \u001b[0m\u001b[3m \u001b[0m\u001b[3m \u001b[0m\u001b[3m       \u001b[0m\u001b[3m \u001b[0m\u001b[3m \u001b[0m\u001b[3m \u001b[0m\u001b[3m1771.0\u001b[0m\u001b[3m \u001b[0m\u001b[3m \u001b[0m\u001b[3m \u001b[0m\u001b[3m \u001b[0m\u001b[3m1790.0\u001b[0m\u001b[3m \u001b[0m\u001b[3m \u001b[0m\u001b[3m \u001b[0m\u001b[3m \u001b[0m\u001b[3m1771-17\u001b[0m\u001b[3m \u001b[0m\u001b[3m \u001b[0m\u001b[3m \u001b[0m\u001b[3m1771, 1\u001b[0m\u001b[3m \u001b[0m\u001b[3m \u001b[0m\u001b[3m \u001b[0m\u001b[3m/ark:/6\u001b[0m\u001b[3m \u001b[0m\u001b[3m \u001b[0m\u001b[3m \u001b[0m\u001b[3mYvon, L\u001b[0m\u001b[3m \u001b[0m\u001b[3m \u001b[0m\u001b[3m \u001b[0m  │\n",
       "│  \u001b[1m                    \u001b[0m \u001b[3m \u001b[0m\u001b[3m \u001b[0m\u001b[3m \u001b[0m\u001b[3m<a clas\u001b[0m\u001b[3m \u001b[0m\u001b[3m \u001b[0m\u001b[3m \u001b[0m\u001b[3mYvon\u001b[0m\u001b[3m   \u001b[0m\u001b[3m \u001b[0m\u001b[3m \u001b[0m\u001b[3m \u001b[0m\u001b[3m'île de\u001b[0m\u001b[3m \u001b[0m\u001b[3m \u001b[0m\u001b[3m \u001b[0m\u001b[3m['Franc\u001b[0m\u001b[3m \u001b[0m\u001b[3m \u001b[0m\u001b[3m \u001b[0m\u001b[3m       \u001b[0m\u001b[3m \u001b[0m\u001b[3m \u001b[0m\u001b[3m \u001b[0m\u001b[3m1785.0\u001b[0m\u001b[3m \u001b[0m\u001b[3m \u001b[0m\u001b[3m \u001b[0m\u001b[3m \u001b[0m\u001b[3m1785.0\u001b[0m\u001b[3m \u001b[0m\u001b[3m \u001b[0m\u001b[3m \u001b[0m\u001b[3m \u001b[0m\u001b[3m1785-17\u001b[0m\u001b[3m \u001b[0m\u001b[3m \u001b[0m\u001b[3m \u001b[0m\u001b[3m1785\u001b[0m\u001b[3m   \u001b[0m\u001b[3m \u001b[0m\u001b[3m \u001b[0m\u001b[3m \u001b[0m\u001b[3m/ark:/6\u001b[0m\u001b[3m \u001b[0m\u001b[3m \u001b[0m\u001b[3m \u001b[0m\u001b[3mYvon, e\u001b[0m\u001b[3m \u001b[0m\u001b[3m \u001b[0m\u001b[3m \u001b[0m  │\n",
       "│  \u001b[1m                    \u001b[0m \u001b[3m \u001b[0m\u001b[3m \u001b[0m\u001b[3m \u001b[0m\u001b[3m<a clas\u001b[0m\u001b[3m \u001b[0m\u001b[3m \u001b[0m\u001b[3m \u001b[0m\u001b[3mYvonnet\u001b[0m\u001b[3m \u001b[0m\u001b[3m \u001b[0m\u001b[3m \u001b[0m\u001b[3m'Caen',\u001b[0m\u001b[3m \u001b[0m\u001b[3m \u001b[0m\u001b[3m \u001b[0m\u001b[3m['Caen \u001b[0m\u001b[3m \u001b[0m\u001b[3m \u001b[0m\u001b[3m \u001b[0m\u001b[3m       \u001b[0m\u001b[3m \u001b[0m\u001b[3m \u001b[0m\u001b[3m \u001b[0m\u001b[3m1787.0\u001b[0m\u001b[3m \u001b[0m\u001b[3m \u001b[0m\u001b[3m \u001b[0m\u001b[3m \u001b[0m\u001b[3m1792.0\u001b[0m\u001b[3m \u001b[0m\u001b[3m \u001b[0m\u001b[3m \u001b[0m\u001b[3m \u001b[0m\u001b[3m1787-17\u001b[0m\u001b[3m \u001b[0m\u001b[3m \u001b[0m\u001b[3m \u001b[0m\u001b[3m1787, 1\u001b[0m\u001b[3m \u001b[0m\u001b[3m \u001b[0m\u001b[3m \u001b[0m\u001b[3m/ark:/6\u001b[0m\u001b[3m \u001b[0m\u001b[3m \u001b[0m\u001b[3m \u001b[0m\u001b[3mYvonnet\u001b[0m\u001b[3m \u001b[0m\u001b[3m \u001b[0m\u001b[3m \u001b[0m  │\n",
       "│  \u001b[1m                    \u001b[0m \u001b[3m \u001b[0m\u001b[3m \u001b[0m\u001b[3m \u001b[0m\u001b[3m<a clas\u001b[0m\u001b[3m \u001b[0m\u001b[3m \u001b[0m\u001b[3m \u001b[0m\u001b[3mYzact, \u001b[0m\u001b[3m \u001b[0m\u001b[3m \u001b[0m\u001b[3m \u001b[0m\u001b[3m'Pondic\u001b[0m\u001b[3m \u001b[0m\u001b[3m \u001b[0m\u001b[3m \u001b[0m\u001b[3m['Pondi\u001b[0m\u001b[3m \u001b[0m\u001b[3m \u001b[0m\u001b[3m \u001b[0m\u001b[3mConseil\u001b[0m\u001b[3m \u001b[0m\u001b[3m \u001b[0m\u001b[3m \u001b[0m\u001b[3m1769.0\u001b[0m\u001b[3m \u001b[0m\u001b[3m \u001b[0m\u001b[3m \u001b[0m\u001b[3m \u001b[0m\u001b[3m1769.0\u001b[0m\u001b[3m \u001b[0m\u001b[3m \u001b[0m\u001b[3m \u001b[0m\u001b[3m \u001b[0m\u001b[3m1769-17\u001b[0m\u001b[3m \u001b[0m\u001b[3m \u001b[0m\u001b[3m \u001b[0m\u001b[3m1769\u001b[0m\u001b[3m   \u001b[0m\u001b[3m \u001b[0m\u001b[3m \u001b[0m\u001b[3m \u001b[0m\u001b[3m/ark:/6\u001b[0m\u001b[3m \u001b[0m\u001b[3m \u001b[0m\u001b[3m \u001b[0m\u001b[3mYzact, \u001b[0m\u001b[3m \u001b[0m\u001b[3m \u001b[0m\u001b[3m \u001b[0m  │\n",
       "│  \u001b[1m                    \u001b[0m \u001b[3m \u001b[0m\u001b[3m \u001b[0m\u001b[3m \u001b[0m\u001b[3m<a clas\u001b[0m\u001b[3m \u001b[0m\u001b[3m \u001b[0m\u001b[3m \u001b[0m\u001b[3mZachari\u001b[0m\u001b[3m \u001b[0m\u001b[3m \u001b[0m\u001b[3m \u001b[0m\u001b[3m'Martin\u001b[0m\u001b[3m \u001b[0m\u001b[3m \u001b[0m\u001b[3m \u001b[0m\u001b[3m['Marti\u001b[0m\u001b[3m \u001b[0m\u001b[3m \u001b[0m\u001b[3m \u001b[0m\u001b[3mCapucin\u001b[0m\u001b[3m \u001b[0m\u001b[3m \u001b[0m\u001b[3m \u001b[0m\u001b[3m1783.0\u001b[0m\u001b[3m \u001b[0m\u001b[3m \u001b[0m\u001b[3m \u001b[0m\u001b[3m \u001b[0m\u001b[3m1783.0\u001b[0m\u001b[3m \u001b[0m\u001b[3m \u001b[0m\u001b[3m \u001b[0m\u001b[3m \u001b[0m\u001b[3m1783-17\u001b[0m\u001b[3m \u001b[0m\u001b[3m \u001b[0m\u001b[3m \u001b[0m\u001b[3m1783\u001b[0m\u001b[3m   \u001b[0m\u001b[3m \u001b[0m\u001b[3m \u001b[0m\u001b[3m \u001b[0m\u001b[3m/ark:/6\u001b[0m\u001b[3m \u001b[0m\u001b[3m \u001b[0m\u001b[3m \u001b[0m\u001b[3mZachari\u001b[0m\u001b[3m \u001b[0m\u001b[3m \u001b[0m\u001b[3m \u001b[0m  │\n",
       "│  \u001b[1m                    \u001b[0m \u001b[3m \u001b[0m\u001b[3m \u001b[0m\u001b[3m \u001b[0m\u001b[3m<a clas\u001b[0m\u001b[3m \u001b[0m\u001b[3m \u001b[0m\u001b[3m \u001b[0m\u001b[3mZamor, \u001b[0m\u001b[3m \u001b[0m\u001b[3m \u001b[0m\u001b[3m \u001b[0m\u001b[3m       \u001b[0m\u001b[3m \u001b[0m\u001b[3m \u001b[0m\u001b[3m \u001b[0m\u001b[3m       \u001b[0m\u001b[3m \u001b[0m\u001b[3m \u001b[0m\u001b[3m \u001b[0m\u001b[3mRégimen\u001b[0m\u001b[3m \u001b[0m\u001b[3m \u001b[0m\u001b[3m \u001b[0m\u001b[3m1784.0\u001b[0m\u001b[3m \u001b[0m\u001b[3m \u001b[0m\u001b[3m \u001b[0m\u001b[3m \u001b[0m\u001b[3m1784.0\u001b[0m\u001b[3m \u001b[0m\u001b[3m \u001b[0m\u001b[3m \u001b[0m\u001b[3m \u001b[0m\u001b[3m1784-17\u001b[0m\u001b[3m \u001b[0m\u001b[3m \u001b[0m\u001b[3m \u001b[0m\u001b[3m1784, 1\u001b[0m\u001b[3m \u001b[0m\u001b[3m \u001b[0m\u001b[3m \u001b[0m\u001b[3m/ark:/6\u001b[0m\u001b[3m \u001b[0m\u001b[3m \u001b[0m\u001b[3m \u001b[0m\u001b[3mZamor, \u001b[0m\u001b[3m \u001b[0m\u001b[3m \u001b[0m\u001b[3m \u001b[0m  │\n",
       "│  \u001b[1m                    \u001b[0m \u001b[3m \u001b[0m\u001b[3m \u001b[0m\u001b[3m \u001b[0m\u001b[3m<a clas\u001b[0m\u001b[3m \u001b[0m\u001b[3m \u001b[0m\u001b[3m \u001b[0m\u001b[3mZanico,\u001b[0m\u001b[3m \u001b[0m\u001b[3m \u001b[0m\u001b[3m \u001b[0m\u001b[3m'Milan'\u001b[0m\u001b[3m \u001b[0m\u001b[3m \u001b[0m\u001b[3m \u001b[0m\u001b[3m['Milan\u001b[0m\u001b[3m \u001b[0m\u001b[3m \u001b[0m\u001b[3m \u001b[0m\u001b[3m       \u001b[0m\u001b[3m \u001b[0m\u001b[3m \u001b[0m\u001b[3m \u001b[0m\u001b[3m1781.0\u001b[0m\u001b[3m \u001b[0m\u001b[3m \u001b[0m\u001b[3m \u001b[0m\u001b[3m \u001b[0m\u001b[3m1781.0\u001b[0m\u001b[3m \u001b[0m\u001b[3m \u001b[0m\u001b[3m \u001b[0m\u001b[3m \u001b[0m\u001b[3m1781-17\u001b[0m\u001b[3m \u001b[0m\u001b[3m \u001b[0m\u001b[3m \u001b[0m\u001b[3m1781\u001b[0m\u001b[3m   \u001b[0m\u001b[3m \u001b[0m\u001b[3m \u001b[0m\u001b[3m \u001b[0m\u001b[3m/ark:/6\u001b[0m\u001b[3m \u001b[0m\u001b[3m \u001b[0m\u001b[3m \u001b[0m\u001b[3mZanico,\u001b[0m\u001b[3m \u001b[0m\u001b[3m \u001b[0m\u001b[3m \u001b[0m  │\n",
       "│  \u001b[1m                    \u001b[0m \u001b[3m \u001b[0m\u001b[3m \u001b[0m\u001b[3m \u001b[0m\u001b[3m<a clas\u001b[0m\u001b[3m \u001b[0m\u001b[3m \u001b[0m\u001b[3m \u001b[0m\u001b[3mZanthie\u001b[0m\u001b[3m \u001b[0m\u001b[3m \u001b[0m\u001b[3m \u001b[0m\u001b[3m'Indes'\u001b[0m\u001b[3m \u001b[0m\u001b[3m \u001b[0m\u001b[3m \u001b[0m\u001b[3m['Inde \u001b[0m\u001b[3m \u001b[0m\u001b[3m \u001b[0m\u001b[3m \u001b[0m\u001b[3m       \u001b[0m\u001b[3m \u001b[0m\u001b[3m \u001b[0m\u001b[3m \u001b[0m\u001b[3m1781.0\u001b[0m\u001b[3m \u001b[0m\u001b[3m \u001b[0m\u001b[3m \u001b[0m\u001b[3m \u001b[0m\u001b[3m1781.0\u001b[0m\u001b[3m \u001b[0m\u001b[3m \u001b[0m\u001b[3m \u001b[0m\u001b[3m \u001b[0m\u001b[3m1781-17\u001b[0m\u001b[3m \u001b[0m\u001b[3m \u001b[0m\u001b[3m \u001b[0m\u001b[3m1781\u001b[0m\u001b[3m   \u001b[0m\u001b[3m \u001b[0m\u001b[3m \u001b[0m\u001b[3m \u001b[0m\u001b[3m/ark:/6\u001b[0m\u001b[3m \u001b[0m\u001b[3m \u001b[0m\u001b[3m \u001b[0m\u001b[3mZanthie\u001b[0m\u001b[3m \u001b[0m\u001b[3m \u001b[0m\u001b[3m \u001b[0m  │\n",
       "│  \u001b[1m                    \u001b[0m \u001b[3m \u001b[0m\u001b[3m \u001b[0m\u001b[3m \u001b[0m\u001b[3m<a clas\u001b[0m\u001b[3m \u001b[0m\u001b[3m \u001b[0m\u001b[3m \u001b[0m\u001b[3mZelman,\u001b[0m\u001b[3m \u001b[0m\u001b[3m \u001b[0m\u001b[3m \u001b[0m\u001b[3m       \u001b[0m\u001b[3m \u001b[0m\u001b[3m \u001b[0m\u001b[3m \u001b[0m\u001b[3m       \u001b[0m\u001b[3m \u001b[0m\u001b[3m \u001b[0m\u001b[3m \u001b[0m\u001b[3mRégimen\u001b[0m\u001b[3m \u001b[0m\u001b[3m \u001b[0m\u001b[3m \u001b[0m\u001b[3m1784.0\u001b[0m\u001b[3m \u001b[0m\u001b[3m \u001b[0m\u001b[3m \u001b[0m\u001b[3m \u001b[0m\u001b[3m1784.0\u001b[0m\u001b[3m \u001b[0m\u001b[3m \u001b[0m\u001b[3m \u001b[0m\u001b[3m \u001b[0m\u001b[3m1784-17\u001b[0m\u001b[3m \u001b[0m\u001b[3m \u001b[0m\u001b[3m \u001b[0m\u001b[3m1784, 1\u001b[0m\u001b[3m \u001b[0m\u001b[3m \u001b[0m\u001b[3m \u001b[0m\u001b[3m/ark:/6\u001b[0m\u001b[3m \u001b[0m\u001b[3m \u001b[0m\u001b[3m \u001b[0m\u001b[3mZelman,\u001b[0m\u001b[3m \u001b[0m\u001b[3m \u001b[0m\u001b[3m \u001b[0m  │\n",
       "│  \u001b[1m                    \u001b[0m \u001b[3m \u001b[0m\u001b[3m \u001b[0m\u001b[3m \u001b[0m\u001b[3m<a clas\u001b[0m\u001b[3m \u001b[0m\u001b[3m \u001b[0m\u001b[3m \u001b[0m\u001b[3mZemard,\u001b[0m\u001b[3m \u001b[0m\u001b[3m \u001b[0m\u001b[3m \u001b[0m\u001b[3m'île Ro\u001b[0m\u001b[3m \u001b[0m\u001b[3m \u001b[0m\u001b[3m \u001b[0m\u001b[3m['Royal\u001b[0m\u001b[3m \u001b[0m\u001b[3m \u001b[0m\u001b[3m \u001b[0m\u001b[3m       \u001b[0m\u001b[3m \u001b[0m\u001b[3m \u001b[0m\u001b[3m \u001b[0m\u001b[3m1741.0\u001b[0m\u001b[3m \u001b[0m\u001b[3m \u001b[0m\u001b[3m \u001b[0m\u001b[3m \u001b[0m\u001b[3m1741.0\u001b[0m\u001b[3m \u001b[0m\u001b[3m \u001b[0m\u001b[3m \u001b[0m\u001b[3m \u001b[0m\u001b[3m1741-17\u001b[0m\u001b[3m \u001b[0m\u001b[3m \u001b[0m\u001b[3m \u001b[0m\u001b[3m1741\u001b[0m\u001b[3m   \u001b[0m\u001b[3m \u001b[0m\u001b[3m \u001b[0m\u001b[3m \u001b[0m\u001b[3m/ark:/6\u001b[0m\u001b[3m \u001b[0m\u001b[3m \u001b[0m\u001b[3m \u001b[0m\u001b[3mZemard,\u001b[0m\u001b[3m \u001b[0m\u001b[3m \u001b[0m\u001b[3m \u001b[0m  │\n",
       "│  \u001b[1m                    \u001b[0m \u001b[3m \u001b[0m\u001b[3m \u001b[0m\u001b[3m \u001b[0m\u001b[3m<a clas\u001b[0m\u001b[3m \u001b[0m\u001b[3m \u001b[0m\u001b[3m \u001b[0m\u001b[3mZévallo\u001b[0m\u001b[3m \u001b[0m\u001b[3m \u001b[0m\u001b[3m \u001b[0m\u001b[3m'Sainte\u001b[0m\u001b[3m \u001b[0m\u001b[3m \u001b[0m\u001b[3m \u001b[0m\u001b[3m['Saint\u001b[0m\u001b[3m \u001b[0m\u001b[3m \u001b[0m\u001b[3m \u001b[0m\u001b[3m       \u001b[0m\u001b[3m \u001b[0m\u001b[3m \u001b[0m\u001b[3m \u001b[0m\u001b[3m1770.0\u001b[0m\u001b[3m \u001b[0m\u001b[3m \u001b[0m\u001b[3m \u001b[0m\u001b[3m \u001b[0m\u001b[3m1770.0\u001b[0m\u001b[3m \u001b[0m\u001b[3m \u001b[0m\u001b[3m \u001b[0m\u001b[3m \u001b[0m\u001b[3m1770-17\u001b[0m\u001b[3m \u001b[0m\u001b[3m \u001b[0m\u001b[3m \u001b[0m\u001b[3m1770\u001b[0m\u001b[3m   \u001b[0m\u001b[3m \u001b[0m\u001b[3m \u001b[0m\u001b[3m \u001b[0m\u001b[3m/ark:/6\u001b[0m\u001b[3m \u001b[0m\u001b[3m \u001b[0m\u001b[3m \u001b[0m\u001b[3mZévallo\u001b[0m\u001b[3m \u001b[0m\u001b[3m \u001b[0m\u001b[3m \u001b[0m  │\n",
       "│  \u001b[1m                    \u001b[0m \u001b[3m \u001b[0m\u001b[3m \u001b[0m\u001b[3m \u001b[0m\u001b[3m<a clas\u001b[0m\u001b[3m \u001b[0m\u001b[3m \u001b[0m\u001b[3m \u001b[0m\u001b[3mZévallo\u001b[0m\u001b[3m \u001b[0m\u001b[3m \u001b[0m\u001b[3m \u001b[0m\u001b[3m       \u001b[0m\u001b[3m \u001b[0m\u001b[3m \u001b[0m\u001b[3m \u001b[0m\u001b[3m       \u001b[0m\u001b[3m \u001b[0m\u001b[3m \u001b[0m\u001b[3m \u001b[0m\u001b[3mRégimen\u001b[0m\u001b[3m \u001b[0m\u001b[3m \u001b[0m\u001b[3m \u001b[0m\u001b[3m1786.0\u001b[0m\u001b[3m \u001b[0m\u001b[3m \u001b[0m\u001b[3m \u001b[0m\u001b[3m \u001b[0m\u001b[3m1791.0\u001b[0m\u001b[3m \u001b[0m\u001b[3m \u001b[0m\u001b[3m \u001b[0m\u001b[3m \u001b[0m\u001b[3m1786-17\u001b[0m\u001b[3m \u001b[0m\u001b[3m \u001b[0m\u001b[3m \u001b[0m\u001b[3m1786, 1\u001b[0m\u001b[3m \u001b[0m\u001b[3m \u001b[0m\u001b[3m \u001b[0m\u001b[3m/ark:/6\u001b[0m\u001b[3m \u001b[0m\u001b[3m \u001b[0m\u001b[3m \u001b[0m\u001b[3mZévallo\u001b[0m\u001b[3m \u001b[0m\u001b[3m \u001b[0m\u001b[3m \u001b[0m  │\n",
       "│  \u001b[1m                    \u001b[0m \u001b[3m \u001b[0m\u001b[3m \u001b[0m\u001b[3m \u001b[0m\u001b[3m<a clas\u001b[0m\u001b[3m \u001b[0m\u001b[3m \u001b[0m\u001b[3m \u001b[0m\u001b[3mZunberg\u001b[0m\u001b[3m \u001b[0m\u001b[3m \u001b[0m\u001b[3m \u001b[0m\u001b[3m'Guyane\u001b[0m\u001b[3m \u001b[0m\u001b[3m \u001b[0m\u001b[3m \u001b[0m\u001b[3m['Guyan\u001b[0m\u001b[3m \u001b[0m\u001b[3m \u001b[0m\u001b[3m \u001b[0m\u001b[3m       \u001b[0m\u001b[3m \u001b[0m\u001b[3m \u001b[0m\u001b[3m \u001b[0m\u001b[3m1784.0\u001b[0m\u001b[3m \u001b[0m\u001b[3m \u001b[0m\u001b[3m \u001b[0m\u001b[3m \u001b[0m\u001b[3m1784.0\u001b[0m\u001b[3m \u001b[0m\u001b[3m \u001b[0m\u001b[3m \u001b[0m\u001b[3m \u001b[0m\u001b[3m1784-17\u001b[0m\u001b[3m \u001b[0m\u001b[3m \u001b[0m\u001b[3m \u001b[0m\u001b[3m1784\u001b[0m\u001b[3m   \u001b[0m\u001b[3m \u001b[0m\u001b[3m \u001b[0m\u001b[3m \u001b[0m\u001b[3m/ark:/6\u001b[0m\u001b[3m \u001b[0m\u001b[3m \u001b[0m\u001b[3m \u001b[0m\u001b[3mZunberg\u001b[0m\u001b[3m \u001b[0m\u001b[3m \u001b[0m\u001b[3m \u001b[0m  │\n",
       "│  \u001b[1m                    \u001b[0m \u001b[3m \u001b[0m\u001b[3m \u001b[0m\u001b[3m \u001b[0m\u001b[3m<a clas\u001b[0m\u001b[3m \u001b[0m\u001b[3m \u001b[0m\u001b[3m \u001b[0m\u001b[3mZweerts\u001b[0m\u001b[3m \u001b[0m\u001b[3m \u001b[0m\u001b[3m \u001b[0m\u001b[3m'Tabago\u001b[0m\u001b[3m \u001b[0m\u001b[3m \u001b[0m\u001b[3m \u001b[0m\u001b[3m['Tabag\u001b[0m\u001b[3m \u001b[0m\u001b[3m \u001b[0m\u001b[3m \u001b[0m\u001b[3m       \u001b[0m\u001b[3m \u001b[0m\u001b[3m \u001b[0m\u001b[3m \u001b[0m\u001b[3m1782.0\u001b[0m\u001b[3m \u001b[0m\u001b[3m \u001b[0m\u001b[3m \u001b[0m\u001b[3m \u001b[0m\u001b[3m1787.0\u001b[0m\u001b[3m \u001b[0m\u001b[3m \u001b[0m\u001b[3m \u001b[0m\u001b[3m \u001b[0m\u001b[3m1782-17\u001b[0m\u001b[3m \u001b[0m\u001b[3m \u001b[0m\u001b[3m \u001b[0m\u001b[3m1782, 1\u001b[0m\u001b[3m \u001b[0m\u001b[3m \u001b[0m\u001b[3m \u001b[0m\u001b[3m/ark:/6\u001b[0m\u001b[3m \u001b[0m\u001b[3m \u001b[0m\u001b[3m \u001b[0m\u001b[3mZweerts\u001b[0m\u001b[3m \u001b[0m\u001b[3m \u001b[0m\u001b[3m \u001b[0m  │\n",
       "│  \u001b[1m                    \u001b[0m \u001b[3m \u001b[0m\u001b[3m                                                                                                               \u001b[0m\u001b[3m \u001b[0m  │\n",
       "│                                                                                                                                          │\n",
       "╰──────────────────────────────────────────────────────────────────────────────────────────────────────────────────────────────────────────╯\n"
      ]
     },
     "execution_count": 8,
     "metadata": {},
     "output_type": "execute_result"
    }
   ],
   "source": [
    "preprocess_col"
   ]
  },
  {
   "cell_type": "code",
   "execution_count": null,
   "metadata": {},
   "outputs": [],
   "source": []
  }
 ],
 "metadata": {
  "kernelspec": {
   "display_name": "Python 3.9.13 ('anom_processing')",
   "language": "python",
   "name": "python3"
  },
  "language_info": {
   "codemirror_mode": {
    "name": "ipython",
    "version": 3
   },
   "file_extension": ".py",
   "mimetype": "text/x-python",
   "name": "python",
   "nbconvert_exporter": "python",
   "pygments_lexer": "ipython3",
   "version": "3.9.13"
  },
  "vscode": {
   "interpreter": {
    "hash": "5d1691f1b6eb6e7b8ca3227085d497c4e2f0122f06e519f331b48c862c0d0a3c"
   }
  }
 },
 "nbformat": 4,
 "nbformat_minor": 2
}
